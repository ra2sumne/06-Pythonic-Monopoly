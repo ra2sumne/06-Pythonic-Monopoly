{
 "cells": [
  {
   "cell_type": "markdown",
   "metadata": {},
   "source": [
    "# San Francisco Housing Rental Analysis\n",
    "\n",
    "In this assignment, you will perform basic analysis for the San Francisco Housing Market to allow potential real estate investors to choose rental investment properties. "
   ]
  },
  {
   "cell_type": "code",
   "execution_count": 57,
   "metadata": {},
   "outputs": [],
   "source": [
    "# initial imports\n",
    "import os\n",
    "import pandas as pd\n",
    "import numpy as np\n",
    "import matplotlib.pyplot as plt\n",
    "import plotly.express as px\n",
    "import hvplot.pandas\n",
    "from pathlib import Path\n",
    "from dotenv import load_dotenv\n",
    "\n",
    "%matplotlib inline"
   ]
  },
  {
   "cell_type": "code",
   "execution_count": 63,
   "metadata": {},
   "outputs": [],
   "source": [
    "# Read the Mapbox API key\n",
    "load_dotenv()\n",
    "mapbox_token = os.getenv(\"MAPBOX_API_KEY\")\n",
    "\n",
    "px.set_mapbox_access_token(mapbox_token)"
   ]
  },
  {
   "cell_type": "markdown",
   "metadata": {},
   "source": [
    "## Load Data"
   ]
  },
  {
   "cell_type": "code",
   "execution_count": 10,
   "metadata": {},
   "outputs": [
    {
     "data": {
      "text/html": [
       "<div>\n",
       "<style scoped>\n",
       "    .dataframe tbody tr th:only-of-type {\n",
       "        vertical-align: middle;\n",
       "    }\n",
       "\n",
       "    .dataframe tbody tr th {\n",
       "        vertical-align: top;\n",
       "    }\n",
       "\n",
       "    .dataframe thead th {\n",
       "        text-align: right;\n",
       "    }\n",
       "</style>\n",
       "<table border=\"1\" class=\"dataframe\">\n",
       "  <thead>\n",
       "    <tr style=\"text-align: right;\">\n",
       "      <th></th>\n",
       "      <th>neighborhood</th>\n",
       "      <th>sale_price_sqr_foot</th>\n",
       "      <th>housing_units</th>\n",
       "      <th>gross_rent</th>\n",
       "    </tr>\n",
       "    <tr>\n",
       "      <th>year</th>\n",
       "      <th></th>\n",
       "      <th></th>\n",
       "      <th></th>\n",
       "      <th></th>\n",
       "    </tr>\n",
       "  </thead>\n",
       "  <tbody>\n",
       "    <tr>\n",
       "      <th>2010</th>\n",
       "      <td>Alamo Square</td>\n",
       "      <td>291.182945</td>\n",
       "      <td>372560</td>\n",
       "      <td>1239</td>\n",
       "    </tr>\n",
       "    <tr>\n",
       "      <th>2010</th>\n",
       "      <td>Anza Vista</td>\n",
       "      <td>267.932583</td>\n",
       "      <td>372560</td>\n",
       "      <td>1239</td>\n",
       "    </tr>\n",
       "    <tr>\n",
       "      <th>2010</th>\n",
       "      <td>Bayview</td>\n",
       "      <td>170.098665</td>\n",
       "      <td>372560</td>\n",
       "      <td>1239</td>\n",
       "    </tr>\n",
       "    <tr>\n",
       "      <th>2010</th>\n",
       "      <td>Buena Vista Park</td>\n",
       "      <td>347.394919</td>\n",
       "      <td>372560</td>\n",
       "      <td>1239</td>\n",
       "    </tr>\n",
       "    <tr>\n",
       "      <th>2010</th>\n",
       "      <td>Central Richmond</td>\n",
       "      <td>319.027623</td>\n",
       "      <td>372560</td>\n",
       "      <td>1239</td>\n",
       "    </tr>\n",
       "  </tbody>\n",
       "</table>\n",
       "</div>"
      ],
      "text/plain": [
       "          neighborhood  sale_price_sqr_foot  housing_units  gross_rent\n",
       "year                                                                  \n",
       "2010      Alamo Square           291.182945         372560        1239\n",
       "2010        Anza Vista           267.932583         372560        1239\n",
       "2010           Bayview           170.098665         372560        1239\n",
       "2010  Buena Vista Park           347.394919         372560        1239\n",
       "2010  Central Richmond           319.027623         372560        1239"
      ]
     },
     "execution_count": 10,
     "metadata": {},
     "output_type": "execute_result"
    }
   ],
   "source": [
    "# Read the census data into a Pandas DataFrame\n",
    "file_path = Path(\"Data/sfo_neighborhoods_census_data.csv\")\n",
    "sfo_data = pd.read_csv(file_path, index_col=\"year\")\n",
    "sfo_data.head()"
   ]
  },
  {
   "cell_type": "markdown",
   "metadata": {},
   "source": [
    "- - - "
   ]
  },
  {
   "cell_type": "markdown",
   "metadata": {},
   "source": [
    "## Housing Units Per Year\n",
    "\n",
    "In this section, you will calculate the number of housing units per year and visualize the results as a bar chart using the Pandas plot function. \n",
    "\n",
    "Hint: Use the Pandas groupby function\n",
    "\n",
    "Optional challenge: Use the min, max, and std to scale the y limits of the chart."
   ]
  },
  {
   "cell_type": "code",
   "execution_count": 11,
   "metadata": {},
   "outputs": [],
   "source": [
    "# Calculate the mean number of housing units per year (hint: use groupby) \n",
    "sfo_avg_year = sfo_data.groupby(\"year\").mean()\n",
    "sfo_housing = sfo_avg_year.drop([\"sale_price_sqr_foot\", \"gross_rent\"], axis=1)\n",
    "sfo_housing_std = sfo_housing.std()\n",
    "sfo_housing_min = sfo_housing.min()"
   ]
  },
  {
   "cell_type": "code",
   "execution_count": 12,
   "metadata": {},
   "outputs": [
    {
     "data": {
      "text/plain": [
       "housing_units    384242\n",
       "dtype: int64"
      ]
     },
     "execution_count": 12,
     "metadata": {},
     "output_type": "execute_result"
    }
   ],
   "source": [
    "sfo_housing_max = sfo_housing.max()\n",
    "sfo_housing_max"
   ]
  },
  {
   "cell_type": "code",
   "execution_count": 13,
   "metadata": {},
   "outputs": [
    {
     "data": {
      "image/png": "[encoded data removed]",
      "text/plain": [
       "<Figure size 432x288 with 1 Axes>"
      ]
     },
     "metadata": {
      "needs_background": "light"
     },
     "output_type": "display_data"
    }
   ],
   "source": [
    "# Use the Pandas plot function to plot the average housing units per year.\n",
    "# Note: You will need to manually adjust the y limit of the chart using the min and max values from above.\n",
    "\n",
    "housing_year = [2010, 2011, 2012, 2013, 2014, 2015, 2016]\n",
    "housing_units = [372560, 374507, 376454, 378401, 380348, 382295, 384242]\n",
    "plt.bar(housing_year, housing_units)\n",
    "plt.xlabel(\"Year\")\n",
    "plt.ylabel(\"Housing Units\")\n",
    "plt.title(\"Housing Units in San Francisco from 2010 to 2016\")\n",
    "plt.show()"
   ]
  },
  {
   "cell_type": "code",
   "execution_count": 14,
   "metadata": {},
   "outputs": [
    {
     "ename": "NameError",
     "evalue": "name 'fig_housing_units' is not defined",
     "output_type": "error",
     "traceback": [
      "\u001b[0;31m---------------------------------------------------------------------------\u001b[0m",
      "\u001b[0;31mNameError\u001b[0m                                 Traceback (most recent call last)",
      "\u001b[0;32m<ipython-input-14-b8e896caff7e>\u001b[0m in \u001b[0;36m<module>\u001b[0;34m\u001b[0m\n\u001b[1;32m      4\u001b[0m \u001b[0;34m\u001b[0m\u001b[0m\n\u001b[1;32m      5\u001b[0m \u001b[0mplt\u001b[0m\u001b[0;34m.\u001b[0m\u001b[0mshow\u001b[0m\u001b[0;34m(\u001b[0m\u001b[0;34m)\u001b[0m\u001b[0;34m\u001b[0m\u001b[0;34m\u001b[0m\u001b[0m\n\u001b[0;32m----> 6\u001b[0;31m \u001b[0mplt\u001b[0m\u001b[0;34m.\u001b[0m\u001b[0mclose\u001b[0m\u001b[0;34m(\u001b[0m\u001b[0mfig_housing_units\u001b[0m\u001b[0;34m)\u001b[0m\u001b[0;34m\u001b[0m\u001b[0;34m\u001b[0m\u001b[0m\n\u001b[0m",
      "\u001b[0;31mNameError\u001b[0m: name 'fig_housing_units' is not defined"
     ]
    }
   ],
   "source": [
    "# Optional Challenge: Use the min, max, and std to scale the y limits of the chart\n",
    "# YOUR CODE HERE!\n",
    "\n",
    "\n",
    "plt.show()\n",
    "plt.close(fig_housing_units)"
   ]
  },
  {
   "cell_type": "markdown",
   "metadata": {},
   "source": [
    "- - - "
   ]
  },
  {
   "cell_type": "markdown",
   "metadata": {},
   "source": [
    "## Average Prices per Square Foot\n",
    "\n",
    "In this section, you will calculate the average gross rent and average sales price for each year. Plot the results as a line chart."
   ]
  },
  {
   "cell_type": "markdown",
   "metadata": {},
   "source": [
    "### Average Gross Rent in San Francisco Per Year"
   ]
  },
  {
   "cell_type": "code",
   "execution_count": 15,
   "metadata": {},
   "outputs": [
    {
     "data": {
      "text/html": [
       "<div>\n",
       "<style scoped>\n",
       "    .dataframe tbody tr th:only-of-type {\n",
       "        vertical-align: middle;\n",
       "    }\n",
       "\n",
       "    .dataframe tbody tr th {\n",
       "        vertical-align: top;\n",
       "    }\n",
       "\n",
       "    .dataframe thead th {\n",
       "        text-align: right;\n",
       "    }\n",
       "</style>\n",
       "<table border=\"1\" class=\"dataframe\">\n",
       "  <thead>\n",
       "    <tr style=\"text-align: right;\">\n",
       "      <th></th>\n",
       "      <th>sale_price_sqr_foot</th>\n",
       "      <th>gross_rent</th>\n",
       "    </tr>\n",
       "    <tr>\n",
       "      <th>year</th>\n",
       "      <th></th>\n",
       "      <th></th>\n",
       "    </tr>\n",
       "  </thead>\n",
       "  <tbody>\n",
       "    <tr>\n",
       "      <th>2010</th>\n",
       "      <td>369.344353</td>\n",
       "      <td>1239</td>\n",
       "    </tr>\n",
       "    <tr>\n",
       "      <th>2011</th>\n",
       "      <td>341.903429</td>\n",
       "      <td>1530</td>\n",
       "    </tr>\n",
       "    <tr>\n",
       "      <th>2012</th>\n",
       "      <td>399.389968</td>\n",
       "      <td>2324</td>\n",
       "    </tr>\n",
       "    <tr>\n",
       "      <th>2013</th>\n",
       "      <td>483.600304</td>\n",
       "      <td>2971</td>\n",
       "    </tr>\n",
       "    <tr>\n",
       "      <th>2014</th>\n",
       "      <td>556.277273</td>\n",
       "      <td>3528</td>\n",
       "    </tr>\n",
       "    <tr>\n",
       "      <th>2015</th>\n",
       "      <td>632.540352</td>\n",
       "      <td>3739</td>\n",
       "    </tr>\n",
       "    <tr>\n",
       "      <th>2016</th>\n",
       "      <td>697.643709</td>\n",
       "      <td>4390</td>\n",
       "    </tr>\n",
       "  </tbody>\n",
       "</table>\n",
       "</div>"
      ],
      "text/plain": [
       "      sale_price_sqr_foot  gross_rent\n",
       "year                                 \n",
       "2010           369.344353        1239\n",
       "2011           341.903429        1530\n",
       "2012           399.389968        2324\n",
       "2013           483.600304        2971\n",
       "2014           556.277273        3528\n",
       "2015           632.540352        3739\n",
       "2016           697.643709        4390"
      ]
     },
     "execution_count": 15,
     "metadata": {},
     "output_type": "execute_result"
    }
   ],
   "source": [
    "# Calculate the average gross rent and average sale price per square foot\n",
    "sfo_sale_rent = sfo_avg_year.drop([\"housing_units\"], axis=1)\n",
    "sfo_sale_rent"
   ]
  },
  {
   "cell_type": "code",
   "execution_count": 16,
   "metadata": {},
   "outputs": [
    {
     "data": {
      "image/png": "[encoded data removed]",
      "text/plain": [
       "<Figure size 432x288 with 1 Axes>"
      ]
     },
     "metadata": {
      "needs_background": "light"
     },
     "output_type": "display_data"
    }
   ],
   "source": [
    "# Plot the Average Gross Rent per Year as a Line Chart \n",
    "\n",
    "plt.plot(sfo_sale_rent[\"gross_rent\"])\n",
    "plt.xlabel(\"Year\")\n",
    "plt.ylabel(\"Gross Rent\")\n",
    "plt.title(\"Average Gross Rent in San Francisco\")\n",
    "plt.show()"
   ]
  },
  {
   "cell_type": "markdown",
   "metadata": {},
   "source": [
    "### Average Sales Price per Year"
   ]
  },
  {
   "cell_type": "code",
   "execution_count": 17,
   "metadata": {},
   "outputs": [
    {
     "data": {
      "image/png": "[encoded data removed]",
      "text/plain": [
       "<Figure size 432x288 with 1 Axes>"
      ]
     },
     "metadata": {
      "needs_background": "light"
     },
     "output_type": "display_data"
    }
   ],
   "source": [
    "# Plot the Average Sales Price per Year as a line chart\n",
    "plt.plot(sfo_sale_rent[\"sale_price_sqr_foot\"])\n",
    "plt.xlabel(\"Year\")\n",
    "plt.ylabel(\"Gross Rent\")\n",
    "plt.title(\"Average Gross Rent in San Francisco\")\n",
    "plt.show()"
   ]
  },
  {
   "cell_type": "markdown",
   "metadata": {},
   "source": [
    "- - - "
   ]
  },
  {
   "cell_type": "markdown",
   "metadata": {},
   "source": [
    "## Average Prices by Neighborhood\n",
    "\n",
    "In this section, you will use hvplot to create an interactive visulization of the Average Prices with a dropdown selector for the neighborhood.\n",
    "\n",
    "Hint: It will be easier to create a new DataFrame from grouping the data and calculating the mean prices for each year and neighborhood"
   ]
  },
  {
   "cell_type": "code",
   "execution_count": 18,
   "metadata": {},
   "outputs": [
    {
     "data": {
      "text/html": [
       "<div>\n",
       "<style scoped>\n",
       "    .dataframe tbody tr th:only-of-type {\n",
       "        vertical-align: middle;\n",
       "    }\n",
       "\n",
       "    .dataframe tbody tr th {\n",
       "        vertical-align: top;\n",
       "    }\n",
       "\n",
       "    .dataframe thead th {\n",
       "        text-align: right;\n",
       "    }\n",
       "</style>\n",
       "<table border=\"1\" class=\"dataframe\">\n",
       "  <thead>\n",
       "    <tr style=\"text-align: right;\">\n",
       "      <th></th>\n",
       "      <th></th>\n",
       "      <th>sale_price_sqr_foot</th>\n",
       "    </tr>\n",
       "    <tr>\n",
       "      <th>neighborhood</th>\n",
       "      <th>year</th>\n",
       "      <th></th>\n",
       "    </tr>\n",
       "  </thead>\n",
       "  <tbody>\n",
       "    <tr>\n",
       "      <th rowspan=\"7\" valign=\"top\">Alamo Square</th>\n",
       "      <th>2010</th>\n",
       "      <td>291.182945</td>\n",
       "    </tr>\n",
       "    <tr>\n",
       "      <th>2011</th>\n",
       "      <td>272.527310</td>\n",
       "    </tr>\n",
       "    <tr>\n",
       "      <th>2012</th>\n",
       "      <td>183.099317</td>\n",
       "    </tr>\n",
       "    <tr>\n",
       "      <th>2013</th>\n",
       "      <td>387.794144</td>\n",
       "    </tr>\n",
       "    <tr>\n",
       "      <th>2014</th>\n",
       "      <td>484.443552</td>\n",
       "    </tr>\n",
       "    <tr>\n",
       "      <th>2015</th>\n",
       "      <td>602.115877</td>\n",
       "    </tr>\n",
       "    <tr>\n",
       "      <th>2016</th>\n",
       "      <td>340.981835</td>\n",
       "    </tr>\n",
       "    <tr>\n",
       "      <th rowspan=\"6\" valign=\"top\">Anza Vista</th>\n",
       "      <th>2010</th>\n",
       "      <td>267.932583</td>\n",
       "    </tr>\n",
       "    <tr>\n",
       "      <th>2012</th>\n",
       "      <td>344.490914</td>\n",
       "    </tr>\n",
       "    <tr>\n",
       "      <th>2013</th>\n",
       "      <td>453.340498</td>\n",
       "    </tr>\n",
       "    <tr>\n",
       "      <th>2014</th>\n",
       "      <td>620.441407</td>\n",
       "    </tr>\n",
       "    <tr>\n",
       "      <th>2015</th>\n",
       "      <td>465.686275</td>\n",
       "    </tr>\n",
       "    <tr>\n",
       "      <th>2016</th>\n",
       "      <td>88.401511</td>\n",
       "    </tr>\n",
       "    <tr>\n",
       "      <th rowspan=\"5\" valign=\"top\">Bayview</th>\n",
       "      <th>2010</th>\n",
       "      <td>170.098665</td>\n",
       "    </tr>\n",
       "    <tr>\n",
       "      <th>2011</th>\n",
       "      <td>172.540562</td>\n",
       "    </tr>\n",
       "    <tr>\n",
       "      <th>2012</th>\n",
       "      <td>165.798062</td>\n",
       "    </tr>\n",
       "    <tr>\n",
       "      <th>2013</th>\n",
       "      <td>259.547163</td>\n",
       "    </tr>\n",
       "    <tr>\n",
       "      <th>2014</th>\n",
       "      <td>254.958662</td>\n",
       "    </tr>\n",
       "    <tr>\n",
       "      <th>Bayview Heights</th>\n",
       "      <th>2015</th>\n",
       "      <td>590.792839</td>\n",
       "    </tr>\n",
       "    <tr>\n",
       "      <th rowspan=\"6\" valign=\"top\">Bernal Heights</th>\n",
       "      <th>2011</th>\n",
       "      <td>471.921732</td>\n",
       "    </tr>\n",
       "    <tr>\n",
       "      <th>2012</th>\n",
       "      <td>368.266561</td>\n",
       "    </tr>\n",
       "    <tr>\n",
       "      <th>2013</th>\n",
       "      <td>630.897303</td>\n",
       "    </tr>\n",
       "    <tr>\n",
       "      <th>2014</th>\n",
       "      <td>544.546929</td>\n",
       "    </tr>\n",
       "    <tr>\n",
       "      <th>2015</th>\n",
       "      <td>458.004299</td>\n",
       "    </tr>\n",
       "    <tr>\n",
       "      <th>2016</th>\n",
       "      <td>986.842105</td>\n",
       "    </tr>\n",
       "    <tr>\n",
       "      <th rowspan=\"5\" valign=\"top\">Buena Vista Park</th>\n",
       "      <th>2010</th>\n",
       "      <td>347.394919</td>\n",
       "    </tr>\n",
       "    <tr>\n",
       "      <th>2011</th>\n",
       "      <td>171.772347</td>\n",
       "    </tr>\n",
       "    <tr>\n",
       "      <th>2012</th>\n",
       "      <td>338.601164</td>\n",
       "    </tr>\n",
       "    <tr>\n",
       "      <th>2013</th>\n",
       "      <td>455.218089</td>\n",
       "    </tr>\n",
       "    <tr>\n",
       "      <th>2015</th>\n",
       "      <td>551.695622</td>\n",
       "    </tr>\n",
       "    <tr>\n",
       "      <th>...</th>\n",
       "      <th>...</th>\n",
       "      <td>...</td>\n",
       "    </tr>\n",
       "    <tr>\n",
       "      <th rowspan=\"6\" valign=\"top\">Van Ness/ Civic Center</th>\n",
       "      <th>2011</th>\n",
       "      <td>384.236802</td>\n",
       "    </tr>\n",
       "    <tr>\n",
       "      <th>2012</th>\n",
       "      <td>345.958040</td>\n",
       "    </tr>\n",
       "    <tr>\n",
       "      <th>2013</th>\n",
       "      <td>285.009506</td>\n",
       "    </tr>\n",
       "    <tr>\n",
       "      <th>2014</th>\n",
       "      <td>475.393187</td>\n",
       "    </tr>\n",
       "    <tr>\n",
       "      <th>2015</th>\n",
       "      <td>677.838232</td>\n",
       "    </tr>\n",
       "    <tr>\n",
       "      <th>2016</th>\n",
       "      <td>552.602567</td>\n",
       "    </tr>\n",
       "    <tr>\n",
       "      <th rowspan=\"4\" valign=\"top\">Visitacion Valley</th>\n",
       "      <th>2013</th>\n",
       "      <td>293.298372</td>\n",
       "    </tr>\n",
       "    <tr>\n",
       "      <th>2014</th>\n",
       "      <td>282.025468</td>\n",
       "    </tr>\n",
       "    <tr>\n",
       "      <th>2015</th>\n",
       "      <td>302.221873</td>\n",
       "    </tr>\n",
       "    <tr>\n",
       "      <th>2016</th>\n",
       "      <td>328.319007</td>\n",
       "    </tr>\n",
       "    <tr>\n",
       "      <th rowspan=\"4\" valign=\"top\">West Portal</th>\n",
       "      <th>2010</th>\n",
       "      <td>392.300764</td>\n",
       "    </tr>\n",
       "    <tr>\n",
       "      <th>2012</th>\n",
       "      <td>325.795415</td>\n",
       "    </tr>\n",
       "    <tr>\n",
       "      <th>2013</th>\n",
       "      <td>588.074797</td>\n",
       "    </tr>\n",
       "    <tr>\n",
       "      <th>2014</th>\n",
       "      <td>687.782963</td>\n",
       "    </tr>\n",
       "    <tr>\n",
       "      <th rowspan=\"6\" valign=\"top\">Western Addition</th>\n",
       "      <th>2010</th>\n",
       "      <td>215.569134</td>\n",
       "    </tr>\n",
       "    <tr>\n",
       "      <th>2011</th>\n",
       "      <td>227.418981</td>\n",
       "    </tr>\n",
       "    <tr>\n",
       "      <th>2012</th>\n",
       "      <td>274.338460</td>\n",
       "    </tr>\n",
       "    <tr>\n",
       "      <th>2013</th>\n",
       "      <td>217.089069</td>\n",
       "    </tr>\n",
       "    <tr>\n",
       "      <th>2014</th>\n",
       "      <td>429.488317</td>\n",
       "    </tr>\n",
       "    <tr>\n",
       "      <th>2015</th>\n",
       "      <td>481.469244</td>\n",
       "    </tr>\n",
       "    <tr>\n",
       "      <th rowspan=\"2\" valign=\"top\">Westwood Highlands</th>\n",
       "      <th>2011</th>\n",
       "      <td>320.074333</td>\n",
       "    </tr>\n",
       "    <tr>\n",
       "      <th>2013</th>\n",
       "      <td>747.333538</td>\n",
       "    </tr>\n",
       "    <tr>\n",
       "      <th rowspan=\"2\" valign=\"top\">Westwood Park</th>\n",
       "      <th>2014</th>\n",
       "      <td>742.979723</td>\n",
       "    </tr>\n",
       "    <tr>\n",
       "      <th>2016</th>\n",
       "      <td>631.195426</td>\n",
       "    </tr>\n",
       "    <tr>\n",
       "      <th rowspan=\"6\" valign=\"top\">Yerba Buena</th>\n",
       "      <th>2010</th>\n",
       "      <td>333.126774</td>\n",
       "    </tr>\n",
       "    <tr>\n",
       "      <th>2011</th>\n",
       "      <td>438.860545</td>\n",
       "    </tr>\n",
       "    <tr>\n",
       "      <th>2012</th>\n",
       "      <td>491.814003</td>\n",
       "    </tr>\n",
       "    <tr>\n",
       "      <th>2013</th>\n",
       "      <td>753.011413</td>\n",
       "    </tr>\n",
       "    <tr>\n",
       "      <th>2014</th>\n",
       "      <td>479.923749</td>\n",
       "    </tr>\n",
       "    <tr>\n",
       "      <th>2015</th>\n",
       "      <td>963.522606</td>\n",
       "    </tr>\n",
       "  </tbody>\n",
       "</table>\n",
       "<p>397 rows × 1 columns</p>\n",
       "</div>"
      ],
      "text/plain": [
       "                             sale_price_sqr_foot\n",
       "neighborhood           year                     \n",
       "Alamo Square           2010           291.182945\n",
       "                       2011           272.527310\n",
       "                       2012           183.099317\n",
       "                       2013           387.794144\n",
       "                       2014           484.443552\n",
       "                       2015           602.115877\n",
       "                       2016           340.981835\n",
       "Anza Vista             2010           267.932583\n",
       "                       2012           344.490914\n",
       "                       2013           453.340498\n",
       "                       2014           620.441407\n",
       "                       2015           465.686275\n",
       "                       2016            88.401511\n",
       "Bayview                2010           170.098665\n",
       "                       2011           172.540562\n",
       "                       2012           165.798062\n",
       "                       2013           259.547163\n",
       "                       2014           254.958662\n",
       "Bayview Heights        2015           590.792839\n",
       "Bernal Heights         2011           471.921732\n",
       "                       2012           368.266561\n",
       "                       2013           630.897303\n",
       "                       2014           544.546929\n",
       "                       2015           458.004299\n",
       "                       2016           986.842105\n",
       "Buena Vista Park       2010           347.394919\n",
       "                       2011           171.772347\n",
       "                       2012           338.601164\n",
       "                       2013           455.218089\n",
       "                       2015           551.695622\n",
       "...                                          ...\n",
       "Van Ness/ Civic Center 2011           384.236802\n",
       "                       2012           345.958040\n",
       "                       2013           285.009506\n",
       "                       2014           475.393187\n",
       "                       2015           677.838232\n",
       "                       2016           552.602567\n",
       "Visitacion Valley      2013           293.298372\n",
       "                       2014           282.025468\n",
       "                       2015           302.221873\n",
       "                       2016           328.319007\n",
       "West Portal            2010           392.300764\n",
       "                       2012           325.795415\n",
       "                       2013           588.074797\n",
       "                       2014           687.782963\n",
       "Western Addition       2010           215.569134\n",
       "                       2011           227.418981\n",
       "                       2012           274.338460\n",
       "                       2013           217.089069\n",
       "                       2014           429.488317\n",
       "                       2015           481.469244\n",
       "Westwood Highlands     2011           320.074333\n",
       "                       2013           747.333538\n",
       "Westwood Park          2014           742.979723\n",
       "                       2016           631.195426\n",
       "Yerba Buena            2010           333.126774\n",
       "                       2011           438.860545\n",
       "                       2012           491.814003\n",
       "                       2013           753.011413\n",
       "                       2014           479.923749\n",
       "                       2015           963.522606\n",
       "\n",
       "[397 rows x 1 columns]"
      ]
     },
     "execution_count": 18,
     "metadata": {},
     "output_type": "execute_result"
    }
   ],
   "source": [
    "# Group by year and neighborhood and then create a new dataframe of the mean values\n",
    "sfo_year_hood = sfo_data.groupby([\"neighborhood\", \"year\"]).mean()\n",
    "sfo_year_hood = sfo_year_hood.drop(columns=[\"gross_rent\", \"housing_units\"], axis=1)\n",
    "sfo_year_hood"
   ]
  },
  {
   "cell_type": "code",
   "execution_count": 19,
   "metadata": {},
   "outputs": [
    {
     "data": {
      "application/vnd.holoviews_exec.v0+json": "",
      "text/html": [
       "<div id='1001'>\n",
       "\n",
       "\n",
       "\n",
       "\n",
       "\n",
       "  <div class=\"bk-root\" id=\"e66a04a8-35dd-45c7-b7cf-419d24733c91\" data-root-id=\"1001\"></div>\n",
       "</div>\n",
       "<script type=\"application/javascript\">(function(root) {\n",
       "  function embed_document(root) {\n",
       "  var docs_json = {\"f00e4e2f-3e2d-4583-a45d-d1e3065a117d\":{\"roots\":{\"references\":[{\"attributes\":{},\"id\":\"1023\",\"type\":\"SaveTool\"},{\"attributes\":{\"js_property_callbacks\":{\"change:value\":[{\"id\":\"1087\"}]},\"margin\":[20,20,20,20],\"min_width\":250,\"options\":[\"Alamo Square\",\"Anza Vista\",\"Bayview\",\"Bayview Heights\",\"Bernal Heights \",\"Buena Vista Park\",\"Central Richmond\",\"Central Sunset\",\"Clarendon Heights\",\"Corona Heights\",\"Cow Hollow\",\"Croker Amazon\",\"Diamond Heights\",\"Downtown \",\"Duboce Triangle\",\"Eureka Valley/Dolores Heights\",\"Excelsior\",\"Financial District North\",\"Financial District South\",\"Forest Knolls\",\"Glen Park\",\"Golden Gate Heights\",\"Haight Ashbury\",\"Hayes Valley\",\"Hunters Point\",\"Ingleside \",\"Ingleside Heights\",\"Inner Mission\",\"Inner Parkside\",\"Inner Richmond\",\"Inner Sunset\",\"Jordan Park/Laurel Heights\",\"Lake --The Presidio\",\"Lone Mountain\",\"Lower Pacific Heights\",\"Marina\",\"Merced Heights\",\"Midtown Terrace\",\"Miraloma Park\",\"Mission Bay\",\"Mission Dolores\",\"Mission Terrace\",\"Nob Hill\",\"Noe Valley\",\"North Beach\",\"North Waterfront\",\"Oceanview\",\"Outer Mission\",\"Outer Parkside\",\"Outer Richmond \",\"Outer Sunset\",\"Pacific Heights\",\"Park North\",\"Parkside\",\"Parnassus/Ashbury Heights\",\"Portola\",\"Potrero Hill\",\"Presidio Heights\",\"Russian Hill\",\"Silver Terrace\",\"South Beach\",\"South of Market\",\"Sunnyside\",\"Telegraph Hill\",\"Twin Peaks\",\"Union Square District\",\"Van Ness/ Civic Center\",\"Visitacion Valley\",\"West Portal\",\"Western Addition\",\"Westwood Highlands\",\"Westwood Park\",\"Yerba Buena\"],\"title\":\"neighborhood\",\"value\":\"Alamo Square\",\"width\":250},\"id\":\"1076\",\"type\":\"Select\"},{\"attributes\":{\"bottom_units\":\"screen\",\"fill_alpha\":0.5,\"fill_color\":\"lightgrey\",\"left_units\":\"screen\",\"level\":\"overlay\",\"line_alpha\":1.0,\"line_color\":\"black\",\"line_dash\":[4,4],\"line_width\":2,\"right_units\":\"screen\",\"top_units\":\"screen\"},\"id\":\"1028\",\"type\":\"BoxAnnotation\"},{\"attributes\":{\"margin\":[5,5,5,5],\"name\":\"HSpacer06514\",\"sizing_mode\":\"stretch_width\"},\"id\":\"1072\",\"type\":\"Spacer\"},{\"attributes\":{\"state\":{\"Alamo Square\":{\"content\":\"{\\\"events\\\": [{\\\"attr\\\": \\\"start\\\", \\\"kind\\\": \\\"ModelChanged\\\", \\\"model\\\": {\\\"id\\\": \\\"1004\\\"}, \\\"new\\\": 141.1976609302527}, {\\\"attr\\\": \\\"reset_start\\\", \\\"kind\\\": \\\"ModelChanged\\\", \\\"model\\\": {\\\"id\\\": \\\"1004\\\"}, \\\"new\\\": 141.1976609302527}, {\\\"attr\\\": \\\"end\\\", \\\"kind\\\": \\\"ModelChanged\\\", \\\"model\\\": {\\\"id\\\": \\\"1004\\\"}, \\\"new\\\": 644.0175329447045}, {\\\"attr\\\": \\\"reset_end\\\", \\\"kind\\\": \\\"ModelChanged\\\", \\\"model\\\": {\\\"id\\\": \\\"1004\\\"}, \\\"new\\\": 644.0175329447045}, {\\\"attr\\\": \\\"text\\\", \\\"kind\\\": \\\"ModelChanged\\\", \\\"model\\\": {\\\"id\\\": \\\"1007\\\"}, \\\"new\\\": \\\"neighborhood: Alamo Square\\\"}, {\\\"cols\\\": null, \\\"column_source\\\": {\\\"id\\\": \\\"1036\\\"}, \\\"kind\\\": \\\"ColumnDataChanged\\\", \\\"new\\\": {\\\"sale_price_sqr_foot\\\": {\\\"__ndarray__\\\": \\\"Dkc7WO0yckCafszcbwhxQIGRs5ot42ZAJzog0LQ8eEAWMinKGEd+QI0V5FDt0IJAVCHcmLVPdUA=\\\", \\\"dtype\\\": \\\"float64\\\", \\\"order\\\": \\\"little\\\", \\\"shape\\\": [7]}, \\\"year\\\": [2010, 2011, 2012, 2013, 2014, 2015, 2016]}}], \\\"references\\\": []}\",\"header\":\"{\\\"msgid\\\": \\\"1468\\\", \\\"msgtype\\\": \\\"PATCH-DOC\\\"}\",\"metadata\":\"{}\"},\"Anza Vista\":{\"content\":\"{\\\"events\\\": [{\\\"attr\\\": \\\"end\\\", \\\"kind\\\": \\\"ModelChanged\\\", \\\"model\\\": {\\\"id\\\": \\\"1003\\\"}, \\\"new\\\": 2016.0}, {\\\"attr\\\": \\\"reset_end\\\", \\\"kind\\\": \\\"ModelChanged\\\", \\\"model\\\": {\\\"id\\\": \\\"1003\\\"}, \\\"new\\\": 2016.0}, {\\\"attr\\\": \\\"start\\\", \\\"kind\\\": \\\"ModelChanged\\\", \\\"model\\\": {\\\"id\\\": \\\"1004\\\"}, \\\"new\\\": 35.19752138501505}, {\\\"attr\\\": \\\"reset_start\\\", \\\"kind\\\": \\\"ModelChanged\\\", \\\"model\\\": {\\\"id\\\": \\\"1004\\\"}, \\\"new\\\": 35.19752138501505}, {\\\"attr\\\": \\\"end\\\", \\\"kind\\\": \\\"ModelChanged\\\", \\\"model\\\": {\\\"id\\\": \\\"1004\\\"}, \\\"new\\\": 673.6453961176034}, {\\\"attr\\\": \\\"reset_end\\\", \\\"kind\\\": \\\"ModelChanged\\\", \\\"model\\\": {\\\"id\\\": \\\"1004\\\"}, \\\"new\\\": 673.6453961176034}, {\\\"attr\\\": \\\"text\\\", \\\"kind\\\": \\\"ModelChanged\\\", \\\"model\\\": {\\\"id\\\": \\\"1007\\\"}, \\\"new\\\": \\\"neighborhood: Anza Vista\\\"}, {\\\"cols\\\": null, \\\"column_source\\\": {\\\"id\\\": \\\"1036\\\"}, \\\"kind\\\": \\\"ColumnDataChanged\\\", \\\"new\\\": {\\\"sale_price_sqr_foot\\\": {\\\"__ndarray__\\\": \\\"G/PQ2+u+cEATzZrI2od1QB4UWK5yVXxAICUpAIhjg0D6+vr6+hp9QDOV91qyGVZA\\\", \\\"dtype\\\": \\\"float64\\\", \\\"order\\\": \\\"little\\\", \\\"shape\\\": [6]}, \\\"year\\\": [2010, 2012, 2013, 2014, 2015, 2016]}}], \\\"references\\\": []}\",\"header\":\"{\\\"msgid\\\": \\\"1463\\\", \\\"msgtype\\\": \\\"PATCH-DOC\\\"}\",\"metadata\":\"{}\"},\"Bayview\":{\"content\":\"{\\\"events\\\": [{\\\"attr\\\": \\\"start\\\", \\\"kind\\\": \\\"ModelChanged\\\", \\\"model\\\": {\\\"id\\\": \\\"1003\\\"}, \\\"new\\\": 2010.0}, {\\\"attr\\\": \\\"reset_start\\\", \\\"kind\\\": \\\"ModelChanged\\\", \\\"model\\\": {\\\"id\\\": \\\"1003\\\"}, \\\"new\\\": 2010.0}, {\\\"attr\\\": \\\"end\\\", \\\"kind\\\": \\\"ModelChanged\\\", \\\"model\\\": {\\\"id\\\": \\\"1003\\\"}, \\\"new\\\": 2014.0}, {\\\"attr\\\": \\\"reset_end\\\", \\\"kind\\\": \\\"ModelChanged\\\", \\\"model\\\": {\\\"id\\\": \\\"1003\\\"}, \\\"new\\\": 2014.0}, {\\\"attr\\\": \\\"start\\\", \\\"kind\\\": \\\"ModelChanged\\\", \\\"model\\\": {\\\"id\\\": \\\"1004\\\"}, \\\"new\\\": 156.42315237151172}, {\\\"attr\\\": \\\"reset_start\\\", \\\"kind\\\": \\\"ModelChanged\\\", \\\"model\\\": {\\\"id\\\": \\\"1004\\\"}, \\\"new\\\": 156.42315237151172}, {\\\"attr\\\": \\\"end\\\", \\\"kind\\\": \\\"ModelChanged\\\", \\\"model\\\": {\\\"id\\\": \\\"1004\\\"}, \\\"new\\\": 268.92207261322307}, {\\\"attr\\\": \\\"reset_end\\\", \\\"kind\\\": \\\"ModelChanged\\\", \\\"model\\\": {\\\"id\\\": \\\"1004\\\"}, \\\"new\\\": 268.92207261322307}, {\\\"attr\\\": \\\"text\\\", \\\"kind\\\": \\\"ModelChanged\\\", \\\"model\\\": {\\\"id\\\": \\\"1007\\\"}, \\\"new\\\": \\\"neighborhood: Bayview\\\"}, {\\\"cols\\\": null, \\\"column_source\\\": {\\\"id\\\": \\\"1036\\\"}, \\\"kind\\\": \\\"ColumnDataChanged\\\", \\\"new\\\": {\\\"sale_price_sqr_foot\\\": {\\\"__ndarray__\\\": \\\"PPRDRChDZUAQP5VJTJFlQFUKJLqJuWRAAC6QLcE4cEBWESlbrd5vQA==\\\", \\\"dtype\\\": \\\"float64\\\", \\\"order\\\": \\\"little\\\", \\\"shape\\\": [5]}, \\\"year\\\": [2010, 2011, 2012, 2013, 2014]}}], \\\"references\\\": []}\",\"header\":\"{\\\"msgid\\\": \\\"1458\\\", \\\"msgtype\\\": \\\"PATCH-DOC\\\"}\",\"metadata\":\"{}\"},\"Bayview Heights\":{\"content\":\"{\\\"events\\\": [{\\\"attr\\\": \\\"start\\\", \\\"kind\\\": \\\"ModelChanged\\\", \\\"model\\\": {\\\"id\\\": \\\"1003\\\"}, \\\"new\\\": 2014.0}, {\\\"attr\\\": \\\"reset_start\\\", \\\"kind\\\": \\\"ModelChanged\\\", \\\"model\\\": {\\\"id\\\": \\\"1003\\\"}, \\\"new\\\": 2014.0}, {\\\"attr\\\": \\\"start\\\", \\\"kind\\\": \\\"ModelChanged\\\", \\\"model\\\": {\\\"id\\\": \\\"1004\\\"}, \\\"new\\\": 589.5928388746802}, {\\\"attr\\\": \\\"reset_start\\\", \\\"kind\\\": \\\"ModelChanged\\\", \\\"model\\\": {\\\"id\\\": \\\"1004\\\"}, \\\"new\\\": 589.5928388746802}, {\\\"attr\\\": \\\"end\\\", \\\"kind\\\": \\\"ModelChanged\\\", \\\"model\\\": {\\\"id\\\": \\\"1004\\\"}, \\\"new\\\": 591.9928388746803}, {\\\"attr\\\": \\\"reset_end\\\", \\\"kind\\\": \\\"ModelChanged\\\", \\\"model\\\": {\\\"id\\\": \\\"1004\\\"}, \\\"new\\\": 591.9928388746803}, {\\\"attr\\\": \\\"text\\\", \\\"kind\\\": \\\"ModelChanged\\\", \\\"model\\\": {\\\"id\\\": \\\"1007\\\"}, \\\"new\\\": \\\"neighborhood: Bayview Heights\\\"}, {\\\"cols\\\": null, \\\"column_source\\\": {\\\"id\\\": \\\"1036\\\"}, \\\"kind\\\": \\\"ColumnDataChanged\\\", \\\"new\\\": {\\\"sale_price_sqr_foot\\\": {\\\"__ndarray__\\\": \\\"/m3ou1d2gkA=\\\", \\\"dtype\\\": \\\"float64\\\", \\\"order\\\": \\\"little\\\", \\\"shape\\\": [1]}, \\\"year\\\": [2015]}}], \\\"references\\\": []}\",\"header\":\"{\\\"msgid\\\": \\\"1453\\\", \\\"msgtype\\\": \\\"PATCH-DOC\\\"}\",\"metadata\":\"{}\"},\"Bernal Heights \":{\"content\":\"{\\\"events\\\": [{\\\"attr\\\": \\\"start\\\", \\\"kind\\\": \\\"ModelChanged\\\", \\\"model\\\": {\\\"id\\\": \\\"1003\\\"}, \\\"new\\\": 2011.0}, {\\\"attr\\\": \\\"reset_start\\\", \\\"kind\\\": \\\"ModelChanged\\\", \\\"model\\\": {\\\"id\\\": \\\"1003\\\"}, \\\"new\\\": 2011.0}, {\\\"attr\\\": \\\"start\\\", \\\"kind\\\": \\\"ModelChanged\\\", \\\"model\\\": {\\\"id\\\": \\\"1004\\\"}, \\\"new\\\": 306.40900634090787}, {\\\"attr\\\": \\\"reset_start\\\", \\\"kind\\\": \\\"ModelChanged\\\", \\\"model\\\": {\\\"id\\\": \\\"1004\\\"}, \\\"new\\\": 306.40900634090787}, {\\\"attr\\\": \\\"end\\\", \\\"kind\\\": \\\"ModelChanged\\\", \\\"model\\\": {\\\"id\\\": \\\"1004\\\"}, \\\"new\\\": 1048.6996597106352}, {\\\"attr\\\": \\\"reset_end\\\", \\\"kind\\\": \\\"ModelChanged\\\", \\\"model\\\": {\\\"id\\\": \\\"1004\\\"}, \\\"new\\\": 1048.6996597106352}, {\\\"attr\\\": \\\"text\\\", \\\"kind\\\": \\\"ModelChanged\\\", \\\"model\\\": {\\\"id\\\": \\\"1007\\\"}, \\\"new\\\": \\\"neighborhood: Bernal Heights\\\"}, {\\\"cols\\\": null, \\\"column_source\\\": {\\\"id\\\": \\\"1036\\\"}, \\\"kind\\\": \\\"ColumnDataChanged\\\", \\\"new\\\": {\\\"sale_price_sqr_foot\\\": {\\\"__ndarray__\\\": \\\"HjEmar9+fUAqyD7VQwR3QCfG9awtt4NAqiUgHGAEgUB/Ui+cEaB8QGwor6G81o5A\\\", \\\"dtype\\\": \\\"float64\\\", \\\"order\\\": \\\"little\\\", \\\"shape\\\": [6]}, \\\"year\\\": [2011, 2012, 2013, 2014, 2015, 2016]}}], \\\"references\\\": []}\",\"header\":\"{\\\"msgid\\\": \\\"1448\\\", \\\"msgtype\\\": \\\"PATCH-DOC\\\"}\",\"metadata\":\"{}\"},\"Buena Vista Park\":{\"content\":\"{\\\"events\\\": [{\\\"attr\\\": \\\"start\\\", \\\"kind\\\": \\\"ModelChanged\\\", \\\"model\\\": {\\\"id\\\": \\\"1004\\\"}, \\\"new\\\": 103.80944082033817}, {\\\"attr\\\": \\\"reset_start\\\", \\\"kind\\\": \\\"ModelChanged\\\", \\\"model\\\": {\\\"id\\\": \\\"1004\\\"}, \\\"new\\\": 103.80944082033817}, {\\\"attr\\\": \\\"end\\\", \\\"kind\\\": \\\"ModelChanged\\\", \\\"model\\\": {\\\"id\\\": \\\"1004\\\"}, \\\"new\\\": 919.3643112155331}, {\\\"attr\\\": \\\"reset_end\\\", \\\"kind\\\": \\\"ModelChanged\\\", \\\"model\\\": {\\\"id\\\": \\\"1004\\\"}, \\\"new\\\": 919.3643112155331}, {\\\"attr\\\": \\\"text\\\", \\\"kind\\\": \\\"ModelChanged\\\", \\\"model\\\": {\\\"id\\\": \\\"1007\\\"}, \\\"new\\\": \\\"neighborhood: Buena Vista Park\\\"}, {\\\"cols\\\": null, \\\"column_source\\\": {\\\"id\\\": \\\"1036\\\"}, \\\"kind\\\": \\\"ColumnDataChanged\\\", \\\"new\\\": {\\\"sale_price_sqr_foot\\\": {\\\"__ndarray__\\\": \\\"8TcCl1G2dUB6BGYQt3hlQNMPoV2eKXVAK46qSn1zfEA6NDCikD2BQFP8ARQ2m4pA\\\", \\\"dtype\\\": \\\"float64\\\", \\\"order\\\": \\\"little\\\", \\\"shape\\\": [6]}, \\\"year\\\": [2010, 2011, 2012, 2013, 2015, 2016]}}], \\\"references\\\": []}\",\"header\":\"{\\\"msgid\\\": \\\"1443\\\", \\\"msgtype\\\": \\\"PATCH-DOC\\\"}\",\"metadata\":\"{}\"},\"Central Richmond\":{\"content\":\"{\\\"events\\\": [{\\\"attr\\\": \\\"start\\\", \\\"kind\\\": \\\"ModelChanged\\\", \\\"model\\\": {\\\"id\\\": \\\"1004\\\"}, \\\"new\\\": 221.72373779878612}, {\\\"attr\\\": \\\"reset_start\\\", \\\"kind\\\": \\\"ModelChanged\\\", \\\"model\\\": {\\\"id\\\": \\\"1004\\\"}, \\\"new\\\": 221.72373779878612}, {\\\"attr\\\": \\\"end\\\", \\\"kind\\\": \\\"ModelChanged\\\", \\\"model\\\": {\\\"id\\\": \\\"1004\\\"}, \\\"new\\\": 701.004488313174}, {\\\"attr\\\": \\\"reset_end\\\", \\\"kind\\\": \\\"ModelChanged\\\", \\\"model\\\": {\\\"id\\\": \\\"1004\\\"}, \\\"new\\\": 701.004488313174}, {\\\"attr\\\": \\\"text\\\", \\\"kind\\\": \\\"ModelChanged\\\", \\\"model\\\": {\\\"id\\\": \\\"1007\\\"}, \\\"new\\\": \\\"neighborhood: Central Richmond\\\"}, {\\\"cols\\\": null, \\\"column_source\\\": {\\\"id\\\": \\\"1036\\\"}, \\\"kind\\\": \\\"ColumnDataChanged\\\", \\\"new\\\": {\\\"sale_price_sqr_foot\\\": {\\\"__ndarray__\\\": \\\"/qBYJHHwc0B9ZxvtnlpwQB+s/3N7cHFAjxvCQN5wdUCCLplePn96QG3yb/yekn1A84Oo8YOohEA=\\\", \\\"dtype\\\": \\\"float64\\\", \\\"order\\\": \\\"little\\\", \\\"shape\\\": [7]}, \\\"year\\\": [2010, 2011, 2012, 2013, 2014, 2015, 2016]}}], \\\"references\\\": []}\",\"header\":\"{\\\"msgid\\\": \\\"1438\\\", \\\"msgtype\\\": \\\"PATCH-DOC\\\"}\",\"metadata\":\"{}\"},\"Central Sunset\":{\"content\":\"{\\\"events\\\": [{\\\"attr\\\": \\\"start\\\", \\\"kind\\\": \\\"ModelChanged\\\", \\\"model\\\": {\\\"id\\\": \\\"1003\\\"}, \\\"new\\\": 2010.0}, {\\\"attr\\\": \\\"reset_start\\\", \\\"kind\\\": \\\"ModelChanged\\\", \\\"model\\\": {\\\"id\\\": \\\"1003\\\"}, \\\"new\\\": 2010.0}, {\\\"attr\\\": \\\"end\\\", \\\"kind\\\": \\\"ModelChanged\\\", \\\"model\\\": {\\\"id\\\": \\\"1003\\\"}, \\\"new\\\": 2016.0}, {\\\"attr\\\": \\\"reset_end\\\", \\\"kind\\\": \\\"ModelChanged\\\", \\\"model\\\": {\\\"id\\\": \\\"1003\\\"}, \\\"new\\\": 2016.0}, {\\\"attr\\\": \\\"start\\\", \\\"kind\\\": \\\"ModelChanged\\\", \\\"model\\\": {\\\"id\\\": \\\"1004\\\"}, \\\"new\\\": 305.6729866138623}, {\\\"attr\\\": \\\"reset_start\\\", \\\"kind\\\": \\\"ModelChanged\\\", \\\"model\\\": {\\\"id\\\": \\\"1004\\\"}, \\\"new\\\": 305.6729866138623}, {\\\"attr\\\": \\\"end\\\", \\\"kind\\\": \\\"ModelChanged\\\", \\\"model\\\": {\\\"id\\\": \\\"1004\\\"}, \\\"new\\\": 606.4343194777864}, {\\\"attr\\\": \\\"reset_end\\\", \\\"kind\\\": \\\"ModelChanged\\\", \\\"model\\\": {\\\"id\\\": \\\"1004\\\"}, \\\"new\\\": 606.4343194777864}, {\\\"attr\\\": \\\"text\\\", \\\"kind\\\": \\\"ModelChanged\\\", \\\"model\\\": {\\\"id\\\": \\\"1007\\\"}, \\\"new\\\": \\\"neighborhood: Central Sunset\\\"}, {\\\"cols\\\": null, \\\"column_source\\\": {\\\"id\\\": \\\"1036\\\"}, \\\"kind\\\": \\\"ColumnDataChanged\\\", \\\"new\\\": {\\\"sale_price_sqr_foot\\\": {\\\"__ndarray__\\\": \\\"Bv22h8IiekAzufO80nZ4QOlValPO53RA2XLka8irdEAWLPo234N8QKwFse0RVnxA65hZjfcqgkA=\\\", \\\"dtype\\\": \\\"float64\\\", \\\"order\\\": \\\"little\\\", \\\"shape\\\": [7]}, \\\"year\\\": [2010, 2011, 2012, 2013, 2014, 2015, 2016]}}], \\\"references\\\": []}\",\"header\":\"{\\\"msgid\\\": \\\"1433\\\", \\\"msgtype\\\": \\\"PATCH-DOC\\\"}\",\"metadata\":\"{}\"},\"Clarendon Heights\":{\"content\":\"{\\\"events\\\": [{\\\"attr\\\": \\\"start\\\", \\\"kind\\\": \\\"ModelChanged\\\", \\\"model\\\": {\\\"id\\\": \\\"1003\\\"}, \\\"new\\\": 2011.0}, {\\\"attr\\\": \\\"reset_start\\\", \\\"kind\\\": \\\"ModelChanged\\\", \\\"model\\\": {\\\"id\\\": \\\"1003\\\"}, \\\"new\\\": 2011.0}, {\\\"attr\\\": \\\"end\\\", \\\"kind\\\": \\\"ModelChanged\\\", \\\"model\\\": {\\\"id\\\": \\\"1003\\\"}, \\\"new\\\": 2013.0}, {\\\"attr\\\": \\\"reset_end\\\", \\\"kind\\\": \\\"ModelChanged\\\", \\\"model\\\": {\\\"id\\\": \\\"1003\\\"}, \\\"new\\\": 2013.0}, {\\\"attr\\\": \\\"start\\\", \\\"kind\\\": \\\"ModelChanged\\\", \\\"model\\\": {\\\"id\\\": \\\"1004\\\"}, \\\"new\\\": 447.076948221115}, {\\\"attr\\\": \\\"reset_start\\\", \\\"kind\\\": \\\"ModelChanged\\\", \\\"model\\\": {\\\"id\\\": \\\"1004\\\"}, \\\"new\\\": 447.076948221115}, {\\\"attr\\\": \\\"end\\\", \\\"kind\\\": \\\"ModelChanged\\\", \\\"model\\\": {\\\"id\\\": \\\"1004\\\"}, \\\"new\\\": 527.4128238314}, {\\\"attr\\\": \\\"reset_end\\\", \\\"kind\\\": \\\"ModelChanged\\\", \\\"model\\\": {\\\"id\\\": \\\"1004\\\"}, \\\"new\\\": 527.4128238314}, {\\\"attr\\\": \\\"text\\\", \\\"kind\\\": \\\"ModelChanged\\\", \\\"model\\\": {\\\"id\\\": \\\"1007\\\"}, \\\"new\\\": \\\"neighborhood: Clarendon Heights\\\"}, {\\\"cols\\\": null, \\\"column_source\\\": {\\\"id\\\": \\\"1036\\\"}, \\\"kind\\\": \\\"ColumnDataChanged\\\", \\\"new\\\": {\\\"sale_price_sqr_foot\\\": {\\\"__ndarray__\\\": \\\"2UWezr5FgEAOtft9WFx8QA==\\\", \\\"dtype\\\": \\\"float64\\\", \\\"order\\\": \\\"little\\\", \\\"shape\\\": [2]}, \\\"year\\\": [2011, 2013]}}], \\\"references\\\": []}\",\"header\":\"{\\\"msgid\\\": \\\"1428\\\", \\\"msgtype\\\": \\\"PATCH-DOC\\\"}\",\"metadata\":\"{}\"},\"Corona Heights\":{\"content\":\"{\\\"events\\\": [{\\\"attr\\\": \\\"end\\\", \\\"kind\\\": \\\"ModelChanged\\\", \\\"model\\\": {\\\"id\\\": \\\"1003\\\"}, \\\"new\\\": 2015.0}, {\\\"attr\\\": \\\"reset_end\\\", \\\"kind\\\": \\\"ModelChanged\\\", \\\"model\\\": {\\\"id\\\": \\\"1003\\\"}, \\\"new\\\": 2015.0}, {\\\"attr\\\": \\\"start\\\", \\\"kind\\\": \\\"ModelChanged\\\", \\\"model\\\": {\\\"id\\\": \\\"1004\\\"}, \\\"new\\\": 134.74551348542053}, {\\\"attr\\\": \\\"reset_start\\\", \\\"kind\\\": \\\"ModelChanged\\\", \\\"model\\\": {\\\"id\\\": \\\"1004\\\"}, \\\"new\\\": 134.74551348542053}, {\\\"attr\\\": \\\"end\\\", \\\"kind\\\": \\\"ModelChanged\\\", \\\"model\\\": {\\\"id\\\": \\\"1004\\\"}, \\\"new\\\": 1188.6135282327261}, {\\\"attr\\\": \\\"reset_end\\\", \\\"kind\\\": \\\"ModelChanged\\\", \\\"model\\\": {\\\"id\\\": \\\"1004\\\"}, \\\"new\\\": 1188.6135282327261}, {\\\"attr\\\": \\\"text\\\", \\\"kind\\\": \\\"ModelChanged\\\", \\\"model\\\": {\\\"id\\\": \\\"1007\\\"}, \\\"new\\\": \\\"neighborhood: Corona Heights\\\"}, {\\\"cols\\\": null, \\\"column_source\\\": {\\\"id\\\": \\\"1036\\\"}, \\\"kind\\\": \\\"ColumnDataChanged\\\", \\\"new\\\": {\\\"sale_price_sqr_foot\\\": {\\\"__ndarray__\\\": \\\"of802b8Vd0B1PqvPK9JrQGuzdI63THZAEx6pB3XBi0CNbawuKjORQA==\\\", \\\"dtype\\\": \\\"float64\\\", \\\"order\\\": \\\"little\\\", \\\"shape\\\": [5]}, \\\"year\\\": [2010, 2011, 2012, 2014, 2015]}}], \\\"references\\\": []}\",\"header\":\"{\\\"msgid\\\": \\\"1423\\\", \\\"msgtype\\\": \\\"PATCH-DOC\\\"}\",\"metadata\":\"{}\"},\"Cow Hollow\":{\"content\":\"{\\\"events\\\": [{\\\"attr\\\": \\\"start\\\", \\\"kind\\\": \\\"ModelChanged\\\", \\\"model\\\": {\\\"id\\\": \\\"1004\\\"}, \\\"new\\\": 323.7486581763337}, {\\\"attr\\\": \\\"reset_start\\\", \\\"kind\\\": \\\"ModelChanged\\\", \\\"model\\\": {\\\"id\\\": \\\"1004\\\"}, \\\"new\\\": 323.7486581763337}, {\\\"attr\\\": \\\"end\\\", \\\"kind\\\": \\\"ModelChanged\\\", \\\"model\\\": {\\\"id\\\": \\\"1004\\\"}, \\\"new\\\": 1125.9125964013463}, {\\\"attr\\\": \\\"reset_end\\\", \\\"kind\\\": \\\"ModelChanged\\\", \\\"model\\\": {\\\"id\\\": \\\"1004\\\"}, \\\"new\\\": 1125.9125964013463}, {\\\"attr\\\": \\\"text\\\", \\\"kind\\\": \\\"ModelChanged\\\", \\\"model\\\": {\\\"id\\\": \\\"1007\\\"}, \\\"new\\\": \\\"neighborhood: Cow Hollow\\\"}, {\\\"cols\\\": null, \\\"column_source\\\": {\\\"id\\\": \\\"1036\\\"}, \\\"kind\\\": \\\"ColumnDataChanged\\\", \\\"new\\\": {\\\"sale_price_sqr_foot\\\": {\\\"__ndarray__\\\": \\\"LMKfLArLgUAbTXjLh2l4QAnYXuSLJoRAMODd8zgbhkCYJdtc7J6FQJ+1dd72tIJAlnINLUOMkEA=\\\", \\\"dtype\\\": \\\"float64\\\", \\\"order\\\": \\\"little\\\", \\\"shape\\\": [7]}, \\\"year\\\": [2010, 2011, 2012, 2013, 2014, 2015, 2016]}}], \\\"references\\\": []}\",\"header\":\"{\\\"msgid\\\": \\\"1418\\\", \\\"msgtype\\\": \\\"PATCH-DOC\\\"}\",\"metadata\":\"{}\"},\"Croker Amazon\":{\"content\":\"{\\\"events\\\": [{\\\"attr\\\": \\\"end\\\", \\\"kind\\\": \\\"ModelChanged\\\", \\\"model\\\": {\\\"id\\\": \\\"1003\\\"}, \\\"new\\\": 2016.0}, {\\\"attr\\\": \\\"reset_end\\\", \\\"kind\\\": \\\"ModelChanged\\\", \\\"model\\\": {\\\"id\\\": \\\"1003\\\"}, \\\"new\\\": 2016.0}, {\\\"attr\\\": \\\"start\\\", \\\"kind\\\": \\\"ModelChanged\\\", \\\"model\\\": {\\\"id\\\": \\\"1004\\\"}, \\\"new\\\": 103.76860070011341}, {\\\"attr\\\": \\\"reset_start\\\", \\\"kind\\\": \\\"ModelChanged\\\", \\\"model\\\": {\\\"id\\\": \\\"1004\\\"}, \\\"new\\\": 103.76860070011341}, {\\\"attr\\\": \\\"end\\\", \\\"kind\\\": \\\"ModelChanged\\\", \\\"model\\\": {\\\"id\\\": \\\"1004\\\"}, \\\"new\\\": 608.7859556100437}, {\\\"attr\\\": \\\"reset_end\\\", \\\"kind\\\": \\\"ModelChanged\\\", \\\"model\\\": {\\\"id\\\": \\\"1004\\\"}, \\\"new\\\": 608.7859556100437}, {\\\"attr\\\": \\\"text\\\", \\\"kind\\\": \\\"ModelChanged\\\", \\\"model\\\": {\\\"id\\\": \\\"1007\\\"}, \\\"new\\\": \\\"neighborhood: Croker Amazon\\\"}, {\\\"cols\\\": null, \\\"column_source\\\": {\\\"id\\\": \\\"1036\\\"}, \\\"kind\\\": \\\"ColumnDataChanged\\\", \\\"new\\\": {\\\"sale_price_sqr_foot\\\": {\\\"__ndarray__\\\": \\\"4fEY0qm0ZED4BifkTjtiQGWBeAhy8XlAM4U057Tja0B+YXb65dlyQJU9LgKctYFA\\\", \\\"dtype\\\": \\\"float64\\\", \\\"order\\\": \\\"little\\\", \\\"shape\\\": [6]}, \\\"year\\\": [2010, 2011, 2012, 2013, 2015, 2016]}}], \\\"references\\\": []}\",\"header\":\"{\\\"msgid\\\": \\\"1413\\\", \\\"msgtype\\\": \\\"PATCH-DOC\\\"}\",\"metadata\":\"{}\"},\"Diamond Heights\":{\"content\":\"{\\\"events\\\": [{\\\"attr\\\": \\\"end\\\", \\\"kind\\\": \\\"ModelChanged\\\", \\\"model\\\": {\\\"id\\\": \\\"1003\\\"}, \\\"new\\\": 2013.0}, {\\\"attr\\\": \\\"reset_end\\\", \\\"kind\\\": \\\"ModelChanged\\\", \\\"model\\\": {\\\"id\\\": \\\"1003\\\"}, \\\"new\\\": 2013.0}, {\\\"attr\\\": \\\"start\\\", \\\"kind\\\": \\\"ModelChanged\\\", \\\"model\\\": {\\\"id\\\": \\\"1004\\\"}, \\\"new\\\": 350.32612556163474}, {\\\"attr\\\": \\\"reset_start\\\", \\\"kind\\\": \\\"ModelChanged\\\", \\\"model\\\": {\\\"id\\\": \\\"1004\\\"}, \\\"new\\\": 350.32612556163474}, {\\\"attr\\\": \\\"end\\\", \\\"kind\\\": \\\"ModelChanged\\\", \\\"model\\\": {\\\"id\\\": \\\"1004\\\"}, \\\"new\\\": 550.3577489572901}, {\\\"attr\\\": \\\"reset_end\\\", \\\"kind\\\": \\\"ModelChanged\\\", \\\"model\\\": {\\\"id\\\": \\\"1004\\\"}, \\\"new\\\": 550.3577489572901}, {\\\"attr\\\": \\\"text\\\", \\\"kind\\\": \\\"ModelChanged\\\", \\\"model\\\": {\\\"id\\\": \\\"1007\\\"}, \\\"new\\\": \\\"neighborhood: Diamond Heights\\\"}, {\\\"cols\\\": null, \\\"column_source\\\": {\\\"id\\\": \\\"1036\\\"}, \\\"kind\\\": \\\"ColumnDataChanged\\\", \\\"new\\\": {\\\"sale_price_sqr_foot\\\": {\\\"__ndarray__\\\": \\\"CCbRpeSOfECTXH/couV3QEfnZUXt73ZAKTeB8IGtgEA=\\\", \\\"dtype\\\": \\\"float64\\\", \\\"order\\\": \\\"little\\\", \\\"shape\\\": [4]}, \\\"year\\\": [2010, 2011, 2012, 2013]}}], \\\"references\\\": []}\",\"header\":\"{\\\"msgid\\\": \\\"1408\\\", \\\"msgtype\\\": \\\"PATCH-DOC\\\"}\",\"metadata\":\"{}\"},\"Downtown \":{\"content\":\"{\\\"events\\\": [{\\\"attr\\\": \\\"start\\\", \\\"kind\\\": \\\"ModelChanged\\\", \\\"model\\\": {\\\"id\\\": \\\"1003\\\"}, \\\"new\\\": 2010.0}, {\\\"attr\\\": \\\"reset_start\\\", \\\"kind\\\": \\\"ModelChanged\\\", \\\"model\\\": {\\\"id\\\": \\\"1003\\\"}, \\\"new\\\": 2010.0}, {\\\"attr\\\": \\\"end\\\", \\\"kind\\\": \\\"ModelChanged\\\", \\\"model\\\": {\\\"id\\\": \\\"1003\\\"}, \\\"new\\\": 2016.0}, {\\\"attr\\\": \\\"reset_end\\\", \\\"kind\\\": \\\"ModelChanged\\\", \\\"model\\\": {\\\"id\\\": \\\"1003\\\"}, \\\"new\\\": 2016.0}, {\\\"attr\\\": \\\"start\\\", \\\"kind\\\": \\\"ModelChanged\\\", \\\"model\\\": {\\\"id\\\": \\\"1004\\\"}, \\\"new\\\": 185.8321028868664}, {\\\"attr\\\": \\\"reset_start\\\", \\\"kind\\\": \\\"ModelChanged\\\", \\\"model\\\": {\\\"id\\\": \\\"1004\\\"}, \\\"new\\\": 185.8321028868664}, {\\\"attr\\\": \\\"end\\\", \\\"kind\\\": \\\"ModelChanged\\\", \\\"model\\\": {\\\"id\\\": \\\"1004\\\"}, \\\"new\\\": 767.2263503687225}, {\\\"attr\\\": \\\"reset_end\\\", \\\"kind\\\": \\\"ModelChanged\\\", \\\"model\\\": {\\\"id\\\": \\\"1004\\\"}, \\\"new\\\": 767.2263503687225}, {\\\"attr\\\": \\\"text\\\", \\\"kind\\\": \\\"ModelChanged\\\", \\\"model\\\": {\\\"id\\\": \\\"1007\\\"}, \\\"new\\\": \\\"neighborhood: Downtown\\\"}, {\\\"cols\\\": null, \\\"column_source\\\": {\\\"id\\\": \\\"1036\\\"}, \\\"kind\\\": \\\"ColumnDataChanged\\\", \\\"new\\\": {\\\"sale_price_sqr_foot\\\": {\\\"__ndarray__\\\": \\\"6c744745bkA52E4PA0ltQGAISaHA0XBArpUZa0aXdkCJO7vgn8t6QBz07a4wXn5AvXKD8jZ2hkA=\\\", \\\"dtype\\\": \\\"float64\\\", \\\"order\\\": \\\"little\\\", \\\"shape\\\": [7]}, \\\"year\\\": [2010, 2011, 2012, 2013, 2014, 2015, 2016]}}], \\\"references\\\": []}\",\"header\":\"{\\\"msgid\\\": \\\"1403\\\", \\\"msgtype\\\": \\\"PATCH-DOC\\\"}\",\"metadata\":\"{}\"},\"Duboce Triangle\":{\"content\":\"{\\\"events\\\": [{\\\"attr\\\": \\\"start\\\", \\\"kind\\\": \\\"ModelChanged\\\", \\\"model\\\": {\\\"id\\\": \\\"1003\\\"}, \\\"new\\\": 2011.0}, {\\\"attr\\\": \\\"reset_start\\\", \\\"kind\\\": \\\"ModelChanged\\\", \\\"model\\\": {\\\"id\\\": \\\"1003\\\"}, \\\"new\\\": 2011.0}, {\\\"attr\\\": \\\"end\\\", \\\"kind\\\": \\\"ModelChanged\\\", \\\"model\\\": {\\\"id\\\": \\\"1003\\\"}, \\\"new\\\": 2015.0}, {\\\"attr\\\": \\\"reset_end\\\", \\\"kind\\\": \\\"ModelChanged\\\", \\\"model\\\": {\\\"id\\\": \\\"1003\\\"}, \\\"new\\\": 2015.0}, {\\\"attr\\\": \\\"start\\\", \\\"kind\\\": \\\"ModelChanged\\\", \\\"model\\\": {\\\"id\\\": \\\"1004\\\"}, \\\"new\\\": 262.1927474193487}, {\\\"attr\\\": \\\"reset_start\\\", \\\"kind\\\": \\\"ModelChanged\\\", \\\"model\\\": {\\\"id\\\": \\\"1004\\\"}, \\\"new\\\": 262.1927474193487}, {\\\"attr\\\": \\\"end\\\", \\\"kind\\\": \\\"ModelChanged\\\", \\\"model\\\": {\\\"id\\\": \\\"1004\\\"}, \\\"new\\\": 665.2323171378882}, {\\\"attr\\\": \\\"reset_end\\\", \\\"kind\\\": \\\"ModelChanged\\\", \\\"model\\\": {\\\"id\\\": \\\"1004\\\"}, \\\"new\\\": 665.2323171378882}, {\\\"attr\\\": \\\"text\\\", \\\"kind\\\": \\\"ModelChanged\\\", \\\"model\\\": {\\\"id\\\": \\\"1007\\\"}, \\\"new\\\": \\\"neighborhood: Duboce Triangle\\\"}, {\\\"cols\\\": null, \\\"column_source\\\": {\\\"id\\\": \\\"1036\\\"}, \\\"kind\\\": \\\"ColumnDataChanged\\\", \\\"new\\\": {\\\"sale_price_sqr_foot\\\": {\\\"__ndarray__\\\": \\\"6FtOVXh8ckCp7K1zj0p8QIjRLwZ+soNAN/KXXSq9g0A=\\\", \\\"dtype\\\": \\\"float64\\\", \\\"order\\\": \\\"little\\\", \\\"shape\\\": [4]}, \\\"year\\\": [2011, 2012, 2014, 2015]}}], \\\"references\\\": []}\",\"header\":\"{\\\"msgid\\\": \\\"1398\\\", \\\"msgtype\\\": \\\"PATCH-DOC\\\"}\",\"metadata\":\"{}\"},\"Eureka Valley/Dolores Heights\":{\"content\":\"{\\\"events\\\": [{\\\"attr\\\": \\\"start\\\", \\\"kind\\\": \\\"ModelChanged\\\", \\\"model\\\": {\\\"id\\\": \\\"1004\\\"}, \\\"new\\\": 340.7510331616334}, {\\\"attr\\\": \\\"reset_start\\\", \\\"kind\\\": \\\"ModelChanged\\\", \\\"model\\\": {\\\"id\\\": \\\"1004\\\"}, \\\"new\\\": 340.7510331616334}, {\\\"attr\\\": \\\"end\\\", \\\"kind\\\": \\\"ModelChanged\\\", \\\"model\\\": {\\\"id\\\": \\\"1004\\\"}, \\\"new\\\": 1089.1583870112154}, {\\\"attr\\\": \\\"reset_end\\\", \\\"kind\\\": \\\"ModelChanged\\\", \\\"model\\\": {\\\"id\\\": \\\"1004\\\"}, \\\"new\\\": 1089.1583870112154}, {\\\"attr\\\": \\\"text\\\", \\\"kind\\\": \\\"ModelChanged\\\", \\\"model\\\": {\\\"id\\\": \\\"1007\\\"}, \\\"new\\\": \\\"neighborhood: Eureka Valley/Dolores Heights\\\"}, {\\\"cols\\\": null, \\\"column_source\\\": {\\\"id\\\": \\\"1036\\\"}, \\\"kind\\\": \\\"ColumnDataChanged\\\", \\\"new\\\": {\\\"sale_price_sqr_foot\\\": {\\\"__ndarray__\\\": \\\"TunNm+QxeUDoLWfYmtJ5QBwUV+GBZoBAWlX6So8Fg0CqdEN11seGQNdjWGVxsYhAgjgXGCoLkEA=\\\", \\\"dtype\\\": \\\"float64\\\", \\\"order\\\": \\\"little\\\", \\\"shape\\\": [7]}, \\\"year\\\": [2010, 2011, 2012, 2013, 2014, 2015, 2016]}}], \\\"references\\\": []}\",\"header\":\"{\\\"msgid\\\": \\\"1393\\\", \\\"msgtype\\\": \\\"PATCH-DOC\\\"}\",\"metadata\":\"{}\"},\"Excelsior\":{\"content\":\"{\\\"events\\\": [{\\\"attr\\\": \\\"start\\\", \\\"kind\\\": \\\"ModelChanged\\\", \\\"model\\\": {\\\"id\\\": \\\"1004\\\"}, \\\"new\\\": 265.30200726644756}, {\\\"attr\\\": \\\"reset_start\\\", \\\"kind\\\": \\\"ModelChanged\\\", \\\"model\\\": {\\\"id\\\": \\\"1004\\\"}, \\\"new\\\": 265.30200726644756}, {\\\"attr\\\": \\\"end\\\", \\\"kind\\\": \\\"ModelChanged\\\", \\\"model\\\": {\\\"id\\\": \\\"1004\\\"}, \\\"new\\\": 558.673908570333}, {\\\"attr\\\": \\\"reset_end\\\", \\\"kind\\\": \\\"ModelChanged\\\", \\\"model\\\": {\\\"id\\\": \\\"1004\\\"}, \\\"new\\\": 558.673908570333}, {\\\"attr\\\": \\\"text\\\", \\\"kind\\\": \\\"ModelChanged\\\", \\\"model\\\": {\\\"id\\\": \\\"1007\\\"}, \\\"new\\\": \\\"neighborhood: Excelsior\\\"}, {\\\"cols\\\": null, \\\"column_source\\\": {\\\"id\\\": \\\"1036\\\"}, \\\"kind\\\": \\\"ColumnDataChanged\\\", \\\"new\\\": {\\\"sale_price_sqr_foot\\\": {\\\"__ndarray__\\\": \\\"rTyLdtrOdkBN5gLDezB3QMhKeKH+G3JAVqH/QeJkdkAIVY6WseV5QJMvOlzPsYBA\\\", \\\"dtype\\\": \\\"float64\\\", \\\"order\\\": \\\"little\\\", \\\"shape\\\": [6]}, \\\"year\\\": [2010, 2012, 2013, 2014, 2015, 2016]}}], \\\"references\\\": []}\",\"header\":\"{\\\"msgid\\\": \\\"1388\\\", \\\"msgtype\\\": \\\"PATCH-DOC\\\"}\",\"metadata\":\"{}\"},\"Financial District North\":{\"content\":\"{\\\"events\\\": [{\\\"attr\\\": \\\"end\\\", \\\"kind\\\": \\\"ModelChanged\\\", \\\"model\\\": {\\\"id\\\": \\\"1003\\\"}, \\\"new\\\": 2016.0}, {\\\"attr\\\": \\\"reset_end\\\", \\\"kind\\\": \\\"ModelChanged\\\", \\\"model\\\": {\\\"id\\\": \\\"1003\\\"}, \\\"new\\\": 2016.0}, {\\\"attr\\\": \\\"start\\\", \\\"kind\\\": \\\"ModelChanged\\\", \\\"model\\\": {\\\"id\\\": \\\"1004\\\"}, \\\"new\\\": 232.46788133008937}, {\\\"attr\\\": \\\"reset_start\\\", \\\"kind\\\": \\\"ModelChanged\\\", \\\"model\\\": {\\\"id\\\": \\\"1004\\\"}, \\\"new\\\": 232.46788133008937}, {\\\"attr\\\": \\\"end\\\", \\\"kind\\\": \\\"ModelChanged\\\", \\\"model\\\": {\\\"id\\\": \\\"1004\\\"}, \\\"new\\\": 736.3486289558214}, {\\\"attr\\\": \\\"reset_end\\\", \\\"kind\\\": \\\"ModelChanged\\\", \\\"model\\\": {\\\"id\\\": \\\"1004\\\"}, \\\"new\\\": 736.3486289558214}, {\\\"attr\\\": \\\"text\\\", \\\"kind\\\": \\\"ModelChanged\\\", \\\"model\\\": {\\\"id\\\": \\\"1007\\\"}, \\\"new\\\": \\\"neighborhood: Financial District North\\\"}, {\\\"cols\\\": null, \\\"column_source\\\": {\\\"id\\\": \\\"1036\\\"}, \\\"kind\\\": \\\"ColumnDataChanged\\\", \\\"new\\\": {\\\"sale_price_sqr_foot\\\": {\\\"__ndarray__\\\": \\\"7AP43P8beUDn1P+nAZVxQHHD8reh5XFAr72zvFMncUAogOryGZ95QNWXMVjesoVAAAAAAAAA+H8=\\\", \\\"dtype\\\": \\\"float64\\\", \\\"order\\\": \\\"little\\\", \\\"shape\\\": [7]}, \\\"year\\\": [2010, 2011, 2012, 2013, 2014, 2015, 2016]}}], \\\"references\\\": []}\",\"header\":\"{\\\"msgid\\\": \\\"1383\\\", \\\"msgtype\\\": \\\"PATCH-DOC\\\"}\",\"metadata\":\"{}\"},\"Financial District South\":{\"content\":\"{\\\"events\\\": [{\\\"attr\\\": \\\"end\\\", \\\"kind\\\": \\\"ModelChanged\\\", \\\"model\\\": {\\\"id\\\": \\\"1003\\\"}, \\\"new\\\": 2015.0}, {\\\"attr\\\": \\\"reset_end\\\", \\\"kind\\\": \\\"ModelChanged\\\", \\\"model\\\": {\\\"id\\\": \\\"1003\\\"}, \\\"new\\\": 2015.0}, {\\\"attr\\\": \\\"start\\\", \\\"kind\\\": \\\"ModelChanged\\\", \\\"model\\\": {\\\"id\\\": \\\"1004\\\"}, \\\"new\\\": 109.66151643902155}, {\\\"attr\\\": \\\"reset_start\\\", \\\"kind\\\": \\\"ModelChanged\\\", \\\"model\\\": {\\\"id\\\": \\\"1004\\\"}, \\\"new\\\": 109.66151643902155}, {\\\"attr\\\": \\\"end\\\", \\\"kind\\\": \\\"ModelChanged\\\", \\\"model\\\": {\\\"id\\\": \\\"1004\\\"}, \\\"new\\\": 747.5778397434452}, {\\\"attr\\\": \\\"reset_end\\\", \\\"kind\\\": \\\"ModelChanged\\\", \\\"model\\\": {\\\"id\\\": \\\"1004\\\"}, \\\"new\\\": 747.5778397434452}, {\\\"attr\\\": \\\"text\\\", \\\"kind\\\": \\\"ModelChanged\\\", \\\"model\\\": {\\\"id\\\": \\\"1007\\\"}, \\\"new\\\": \\\"neighborhood: Financial District South\\\"}, {\\\"cols\\\": null, \\\"column_source\\\": {\\\"id\\\": \\\"1036\\\"}, \\\"kind\\\": \\\"ColumnDataChanged\\\", \\\"new\\\": {\\\"sale_price_sqr_foot\\\": {\\\"__ndarray__\\\": \\\"0ENLWkdaZECjdAggpip2QCLvSpm+LoNAXi0AXVizhUDRgqbm7VZ8QA==\\\", \\\"dtype\\\": \\\"float64\\\", \\\"order\\\": \\\"little\\\", \\\"shape\\\": [5]}, \\\"year\\\": [2010, 2011, 2012, 2014, 2015]}}], \\\"references\\\": []}\",\"header\":\"{\\\"msgid\\\": \\\"1378\\\", \\\"msgtype\\\": \\\"PATCH-DOC\\\"}\",\"metadata\":\"{}\"},\"Forest Knolls\":{\"content\":\"{\\\"events\\\": [{\\\"attr\\\": \\\"end\\\", \\\"kind\\\": \\\"ModelChanged\\\", \\\"model\\\": {\\\"id\\\": \\\"1003\\\"}, \\\"new\\\": 2012.0}, {\\\"attr\\\": \\\"reset_end\\\", \\\"kind\\\": \\\"ModelChanged\\\", \\\"model\\\": {\\\"id\\\": \\\"1003\\\"}, \\\"new\\\": 2012.0}, {\\\"attr\\\": \\\"start\\\", \\\"kind\\\": \\\"ModelChanged\\\", \\\"model\\\": {\\\"id\\\": \\\"1004\\\"}, \\\"new\\\": 186.4910246468359}, {\\\"attr\\\": \\\"reset_start\\\", \\\"kind\\\": \\\"ModelChanged\\\", \\\"model\\\": {\\\"id\\\": \\\"1004\\\"}, \\\"new\\\": 186.4910246468359}, {\\\"attr\\\": \\\"end\\\", \\\"kind\\\": \\\"ModelChanged\\\", \\\"model\\\": {\\\"id\\\": \\\"1004\\\"}, \\\"new\\\": 457.1906485011388}, {\\\"attr\\\": \\\"reset_end\\\", \\\"kind\\\": \\\"ModelChanged\\\", \\\"model\\\": {\\\"id\\\": \\\"1004\\\"}, \\\"new\\\": 457.1906485011388}, {\\\"attr\\\": \\\"text\\\", \\\"kind\\\": \\\"ModelChanged\\\", \\\"model\\\": {\\\"id\\\": \\\"1007\\\"}, \\\"new\\\": \\\"neighborhood: Forest Knolls\\\"}, {\\\"cols\\\": null, \\\"column_source\\\": {\\\"id\\\": \\\"1036\\\"}, \\\"kind\\\": \\\"ColumnDataChanged\\\", \\\"new\\\": {\\\"sale_price_sqr_foot\\\": {\\\"__ndarray__\\\": \\\"tVpzFZQhakB0pGAXHip7QA==\\\", \\\"dtype\\\": \\\"float64\\\", \\\"order\\\": \\\"little\\\", \\\"shape\\\": [2]}, \\\"year\\\": [2010, 2012]}}], \\\"references\\\": []}\",\"header\":\"{\\\"msgid\\\": \\\"1373\\\", \\\"msgtype\\\": \\\"PATCH-DOC\\\"}\",\"metadata\":\"{}\"},\"Glen Park\":{\"content\":\"{\\\"events\\\": [{\\\"attr\\\": \\\"end\\\", \\\"kind\\\": \\\"ModelChanged\\\", \\\"model\\\": {\\\"id\\\": \\\"1003\\\"}, \\\"new\\\": 2016.0}, {\\\"attr\\\": \\\"reset_end\\\", \\\"kind\\\": \\\"ModelChanged\\\", \\\"model\\\": {\\\"id\\\": \\\"1003\\\"}, \\\"new\\\": 2016.0}, {\\\"attr\\\": \\\"start\\\", \\\"kind\\\": \\\"ModelChanged\\\", \\\"model\\\": {\\\"id\\\": \\\"1004\\\"}, \\\"new\\\": 408.5986224810824}, {\\\"attr\\\": \\\"reset_start\\\", \\\"kind\\\": \\\"ModelChanged\\\", \\\"model\\\": {\\\"id\\\": \\\"1004\\\"}, \\\"new\\\": 408.5986224810824}, {\\\"attr\\\": \\\"end\\\", \\\"kind\\\": \\\"ModelChanged\\\", \\\"model\\\": {\\\"id\\\": \\\"1004\\\"}, \\\"new\\\": 994.3817642795972}, {\\\"attr\\\": \\\"reset_end\\\", \\\"kind\\\": \\\"ModelChanged\\\", \\\"model\\\": {\\\"id\\\": \\\"1004\\\"}, \\\"new\\\": 994.3817642795972}, {\\\"attr\\\": \\\"text\\\", \\\"kind\\\": \\\"ModelChanged\\\", \\\"model\\\": {\\\"id\\\": \\\"1007\\\"}, \\\"new\\\": \\\"neighborhood: Glen Park\\\"}, {\\\"cols\\\": null, \\\"column_source\\\": {\\\"id\\\": \\\"1036\\\"}, \\\"kind\\\": \\\"ColumnDataChanged\\\", \\\"new\\\": {\\\"sale_price_sqr_foot\\\": {\\\"__ndarray__\\\": \\\"aB91BrFchkAOKiRFn5Z8QED5MZOKq3xA/rlAhIBMgUBFlH1o2SCDQF9/cTKIjI1A\\\", \\\"dtype\\\": \\\"float64\\\", \\\"order\\\": \\\"little\\\", \\\"shape\\\": [6]}, \\\"year\\\": [2010, 2011, 2013, 2014, 2015, 2016]}}], \\\"references\\\": []}\",\"header\":\"{\\\"msgid\\\": \\\"1368\\\", \\\"msgtype\\\": \\\"PATCH-DOC\\\"}\",\"metadata\":\"{}\"},\"Golden Gate Heights\":{\"content\":\"{\\\"events\\\": [{\\\"attr\\\": \\\"end\\\", \\\"kind\\\": \\\"ModelChanged\\\", \\\"model\\\": {\\\"id\\\": \\\"1003\\\"}, \\\"new\\\": 2015.0}, {\\\"attr\\\": \\\"reset_end\\\", \\\"kind\\\": \\\"ModelChanged\\\", \\\"model\\\": {\\\"id\\\": \\\"1003\\\"}, \\\"new\\\": 2015.0}, {\\\"attr\\\": \\\"start\\\", \\\"kind\\\": \\\"ModelChanged\\\", \\\"model\\\": {\\\"id\\\": \\\"1004\\\"}, \\\"new\\\": 288.20425785366285}, {\\\"attr\\\": \\\"reset_start\\\", \\\"kind\\\": \\\"ModelChanged\\\", \\\"model\\\": {\\\"id\\\": \\\"1004\\\"}, \\\"new\\\": 288.20425785366285}, {\\\"attr\\\": \\\"end\\\", \\\"kind\\\": \\\"ModelChanged\\\", \\\"model\\\": {\\\"id\\\": \\\"1004\\\"}, \\\"new\\\": 1016.9095641046997}, {\\\"attr\\\": \\\"reset_end\\\", \\\"kind\\\": \\\"ModelChanged\\\", \\\"model\\\": {\\\"id\\\": \\\"1004\\\"}, \\\"new\\\": 1016.9095641046997}, {\\\"attr\\\": \\\"text\\\", \\\"kind\\\": \\\"ModelChanged\\\", \\\"model\\\": {\\\"id\\\": \\\"1007\\\"}, \\\"new\\\": \\\"neighborhood: Golden Gate Heights\\\"}, {\\\"cols\\\": null, \\\"column_source\\\": {\\\"id\\\": \\\"1036\\\"}, \\\"kind\\\": \\\"ColumnDataChanged\\\", \\\"new\\\": {\\\"sale_price_sqr_foot\\\": {\\\"__ndarray__\\\": \\\"XVj8sGg+gUAWhCYN4M51QNRj6RR54Y1AX0BnV7i6gUB+N3fjsyWIQA==\\\", \\\"dtype\\\": \\\"float64\\\", \\\"order\\\": \\\"little\\\", \\\"shape\\\": [5]}, \\\"year\\\": [2010, 2011, 2013, 2014, 2015]}}], \\\"references\\\": []}\",\"header\":\"{\\\"msgid\\\": \\\"1363\\\", \\\"msgtype\\\": \\\"PATCH-DOC\\\"}\",\"metadata\":\"{}\"},\"Haight Ashbury\":{\"content\":\"{\\\"events\\\": [{\\\"attr\\\": \\\"start\\\", \\\"kind\\\": \\\"ModelChanged\\\", \\\"model\\\": {\\\"id\\\": \\\"1004\\\"}, \\\"new\\\": 222.49375140602962}, {\\\"attr\\\": \\\"reset_start\\\", \\\"kind\\\": \\\"ModelChanged\\\", \\\"model\\\": {\\\"id\\\": \\\"1004\\\"}, \\\"new\\\": 222.49375140602962}, {\\\"attr\\\": \\\"end\\\", \\\"kind\\\": \\\"ModelChanged\\\", \\\"model\\\": {\\\"id\\\": \\\"1004\\\"}, \\\"new\\\": 606.2540842699716}, {\\\"attr\\\": \\\"reset_end\\\", \\\"kind\\\": \\\"ModelChanged\\\", \\\"model\\\": {\\\"id\\\": \\\"1004\\\"}, \\\"new\\\": 606.2540842699716}, {\\\"attr\\\": \\\"text\\\", \\\"kind\\\": \\\"ModelChanged\\\", \\\"model\\\": {\\\"id\\\": \\\"1007\\\"}, \\\"new\\\": \\\"neighborhood: Haight Ashbury\\\"}, {\\\"cols\\\": null, \\\"column_source\\\": {\\\"id\\\": \\\"1036\\\"}, \\\"kind\\\": \\\"ColumnDataChanged\\\", \\\"new\\\": {\\\"sale_price_sqr_foot\\\": {\\\"__ndarray__\\\": \\\"QH/hMinPb0DRLjW8p4V4QDXT1jtJLXpAbHydIO7nfUB2raXm0Ah/QNj5jEQx8oFAzf5gJa6egEA=\\\", \\\"dtype\\\": \\\"float64\\\", \\\"order\\\": \\\"little\\\", \\\"shape\\\": [7]}, \\\"year\\\": [2010, 2011, 2012, 2013, 2014, 2015, 2016]}}], \\\"references\\\": []}\",\"header\":\"{\\\"msgid\\\": \\\"1358\\\", \\\"msgtype\\\": \\\"PATCH-DOC\\\"}\",\"metadata\":\"{}\"},\"Hayes Valley\":{\"content\":\"{\\\"events\\\": [{\\\"attr\\\": \\\"end\\\", \\\"kind\\\": \\\"ModelChanged\\\", \\\"model\\\": {\\\"id\\\": \\\"1003\\\"}, \\\"new\\\": 2016.0}, {\\\"attr\\\": \\\"reset_end\\\", \\\"kind\\\": \\\"ModelChanged\\\", \\\"model\\\": {\\\"id\\\": \\\"1003\\\"}, \\\"new\\\": 2016.0}, {\\\"attr\\\": \\\"start\\\", \\\"kind\\\": \\\"ModelChanged\\\", \\\"model\\\": {\\\"id\\\": \\\"1004\\\"}, \\\"new\\\": 138.91696592838744}, {\\\"attr\\\": \\\"reset_start\\\", \\\"kind\\\": \\\"ModelChanged\\\", \\\"model\\\": {\\\"id\\\": \\\"1004\\\"}, \\\"new\\\": 138.91696592838744}, {\\\"attr\\\": \\\"end\\\", \\\"kind\\\": \\\"ModelChanged\\\", \\\"model\\\": {\\\"id\\\": \\\"1004\\\"}, \\\"new\\\": 572.7062051432274}, {\\\"attr\\\": \\\"reset_end\\\", \\\"kind\\\": \\\"ModelChanged\\\", \\\"model\\\": {\\\"id\\\": \\\"1004\\\"}, \\\"new\\\": 572.7062051432274}, {\\\"attr\\\": \\\"text\\\", \\\"kind\\\": \\\"ModelChanged\\\", \\\"model\\\": {\\\"id\\\": \\\"1007\\\"}, \\\"new\\\": \\\"neighborhood: Hayes Valley\\\"}, {\\\"cols\\\": null, \\\"column_source\\\": {\\\"id\\\": \\\"1036\\\"}, \\\"kind\\\": \\\"ColumnDataChanged\\\", \\\"new\\\": {\\\"sale_price_sqr_foot\\\": {\\\"__ndarray__\\\": \\\"jyy7Ro8EcUDtvFOssItxQN/Eix0MJnNA6LhSnW25fkAXEdXax856QHX40/F0xIBA8aolPR3iZUA=\\\", \\\"dtype\\\": \\\"float64\\\", \\\"order\\\": \\\"little\\\", \\\"shape\\\": [7]}, \\\"year\\\": [2010, 2011, 2012, 2013, 2014, 2015, 2016]}}], \\\"references\\\": []}\",\"header\":\"{\\\"msgid\\\": \\\"1353\\\", \\\"msgtype\\\": \\\"PATCH-DOC\\\"}\",\"metadata\":\"{}\"},\"Hunters Point\":{\"content\":\"{\\\"events\\\": [{\\\"attr\\\": \\\"start\\\", \\\"kind\\\": \\\"ModelChanged\\\", \\\"model\\\": {\\\"id\\\": \\\"1004\\\"}, \\\"new\\\": 169.42491987132686}, {\\\"attr\\\": \\\"reset_start\\\", \\\"kind\\\": \\\"ModelChanged\\\", \\\"model\\\": {\\\"id\\\": \\\"1004\\\"}, \\\"new\\\": 169.42491987132686}, {\\\"attr\\\": \\\"end\\\", \\\"kind\\\": \\\"ModelChanged\\\", \\\"model\\\": {\\\"id\\\": \\\"1004\\\"}, \\\"new\\\": 171.82491987132684}, {\\\"attr\\\": \\\"reset_end\\\", \\\"kind\\\": \\\"ModelChanged\\\", \\\"model\\\": {\\\"id\\\": \\\"1004\\\"}, \\\"new\\\": 171.82491987132684}, {\\\"attr\\\": \\\"text\\\", \\\"kind\\\": \\\"ModelChanged\\\", \\\"model\\\": {\\\"id\\\": \\\"1007\\\"}, \\\"new\\\": \\\"neighborhood: Hunters Point\\\"}, {\\\"cols\\\": null, \\\"column_source\\\": {\\\"id\\\": \\\"1036\\\"}, \\\"kind\\\": \\\"ColumnDataChanged\\\", \\\"new\\\": {\\\"sale_price_sqr_foot\\\": {\\\"__ndarray__\\\": \\\"BT/1V/9TZUAAAAAAAAD4fw==\\\", \\\"dtype\\\": \\\"float64\\\", \\\"order\\\": \\\"little\\\", \\\"shape\\\": [2]}, \\\"year\\\": [2010, 2015]}}], \\\"references\\\": []}\",\"header\":\"{\\\"msgid\\\": \\\"1348\\\", \\\"msgtype\\\": \\\"PATCH-DOC\\\"}\",\"metadata\":\"{}\"},\"Ingleside \":{\"content\":\"{\\\"events\\\": [{\\\"attr\\\": \\\"start\\\", \\\"kind\\\": \\\"ModelChanged\\\", \\\"model\\\": {\\\"id\\\": \\\"1003\\\"}, \\\"new\\\": 2010.0}, {\\\"attr\\\": \\\"reset_start\\\", \\\"kind\\\": \\\"ModelChanged\\\", \\\"model\\\": {\\\"id\\\": \\\"1003\\\"}, \\\"new\\\": 2010.0}, {\\\"attr\\\": \\\"end\\\", \\\"kind\\\": \\\"ModelChanged\\\", \\\"model\\\": {\\\"id\\\": \\\"1003\\\"}, \\\"new\\\": 2015.0}, {\\\"attr\\\": \\\"reset_end\\\", \\\"kind\\\": \\\"ModelChanged\\\", \\\"model\\\": {\\\"id\\\": \\\"1003\\\"}, \\\"new\\\": 2015.0}, {\\\"attr\\\": \\\"start\\\", \\\"kind\\\": \\\"ModelChanged\\\", \\\"model\\\": {\\\"id\\\": \\\"1004\\\"}, \\\"new\\\": 146.6168096057632}, {\\\"attr\\\": \\\"reset_start\\\", \\\"kind\\\": \\\"ModelChanged\\\", \\\"model\\\": {\\\"id\\\": \\\"1004\\\"}, \\\"new\\\": 146.6168096057632}, {\\\"attr\\\": \\\"end\\\", \\\"kind\\\": \\\"ModelChanged\\\", \\\"model\\\": {\\\"id\\\": \\\"1004\\\"}, \\\"new\\\": 693.198071989533}, {\\\"attr\\\": \\\"reset_end\\\", \\\"kind\\\": \\\"ModelChanged\\\", \\\"model\\\": {\\\"id\\\": \\\"1004\\\"}, \\\"new\\\": 693.198071989533}, {\\\"attr\\\": \\\"text\\\", \\\"kind\\\": \\\"ModelChanged\\\", \\\"model\\\": {\\\"id\\\": \\\"1007\\\"}, \\\"new\\\": \\\"neighborhood: Ingleside\\\"}, {\\\"cols\\\": null, \\\"column_source\\\": {\\\"id\\\": \\\"1036\\\"}, \\\"kind\\\": \\\"ColumnDataChanged\\\", \\\"new\\\": {\\\"sale_price_sqr_foot\\\": {\\\"__ndarray__\\\": \\\"a4srL+gwcUBltPYZWEt2QJi0BnMyPYRAvGp2tkkFaEA=\\\", \\\"dtype\\\": \\\"float64\\\", \\\"order\\\": \\\"little\\\", \\\"shape\\\": [4]}, \\\"year\\\": [2010, 2011, 2014, 2015]}}], \\\"references\\\": []}\",\"header\":\"{\\\"msgid\\\": \\\"1343\\\", \\\"msgtype\\\": \\\"PATCH-DOC\\\"}\",\"metadata\":\"{}\"},\"Ingleside Heights\":{\"content\":\"{\\\"events\\\": [{\\\"attr\\\": \\\"start\\\", \\\"kind\\\": \\\"ModelChanged\\\", \\\"model\\\": {\\\"id\\\": \\\"1003\\\"}, \\\"new\\\": 2011.0}, {\\\"attr\\\": \\\"reset_start\\\", \\\"kind\\\": \\\"ModelChanged\\\", \\\"model\\\": {\\\"id\\\": \\\"1003\\\"}, \\\"new\\\": 2011.0}, {\\\"attr\\\": \\\"start\\\", \\\"kind\\\": \\\"ModelChanged\\\", \\\"model\\\": {\\\"id\\\": \\\"1004\\\"}, \\\"new\\\": 160.65946188250336}, {\\\"attr\\\": \\\"reset_start\\\", \\\"kind\\\": \\\"ModelChanged\\\", \\\"model\\\": {\\\"id\\\": \\\"1004\\\"}, \\\"new\\\": 160.65946188250336}, {\\\"attr\\\": \\\"end\\\", \\\"kind\\\": \\\"ModelChanged\\\", \\\"model\\\": {\\\"id\\\": \\\"1004\\\"}, \\\"new\\\": 608.9363943867062}, {\\\"attr\\\": \\\"reset_end\\\", \\\"kind\\\": \\\"ModelChanged\\\", \\\"model\\\": {\\\"id\\\": \\\"1004\\\"}, \\\"new\\\": 608.9363943867062}, {\\\"attr\\\": \\\"text\\\", \\\"kind\\\": \\\"ModelChanged\\\", \\\"model\\\": {\\\"id\\\": \\\"1007\\\"}, \\\"new\\\": \\\"neighborhood: Ingleside Heights\\\"}, {\\\"cols\\\": null, \\\"column_source\\\": {\\\"id\\\": \\\"1036\\\"}, \\\"kind\\\": \\\"ColumnDataChanged\\\", \\\"new\\\": {\\\"sale_price_sqr_foot\\\": {\\\"__ndarray__\\\": \\\"m3bvB4LAaEBSzU7Oo9yBQA==\\\", \\\"dtype\\\": \\\"float64\\\", \\\"order\\\": \\\"little\\\", \\\"shape\\\": [2]}, \\\"year\\\": [2011, 2016]}}], \\\"references\\\": []}\",\"header\":\"{\\\"msgid\\\": \\\"1338\\\", \\\"msgtype\\\": \\\"PATCH-DOC\\\"}\",\"metadata\":\"{}\"},\"Inner Mission\":{\"content\":\"{\\\"events\\\": [{\\\"attr\\\": \\\"start\\\", \\\"kind\\\": \\\"ModelChanged\\\", \\\"model\\\": {\\\"id\\\": \\\"1004\\\"}, \\\"new\\\": 197.40797772905137}, {\\\"attr\\\": \\\"reset_start\\\", \\\"kind\\\": \\\"ModelChanged\\\", \\\"model\\\": {\\\"id\\\": \\\"1004\\\"}, \\\"new\\\": 197.40797772905137}, {\\\"attr\\\": \\\"end\\\", \\\"kind\\\": \\\"ModelChanged\\\", \\\"model\\\": {\\\"id\\\": \\\"1004\\\"}, \\\"new\\\": 688.7124898617598}, {\\\"attr\\\": \\\"reset_end\\\", \\\"kind\\\": \\\"ModelChanged\\\", \\\"model\\\": {\\\"id\\\": \\\"1004\\\"}, \\\"new\\\": 688.7124898617598}, {\\\"attr\\\": \\\"text\\\", \\\"kind\\\": \\\"ModelChanged\\\", \\\"model\\\": {\\\"id\\\": \\\"1007\\\"}, \\\"new\\\": \\\"neighborhood: Inner Mission\\\"}, {\\\"cols\\\": null, \\\"column_source\\\": {\\\"id\\\": \\\"1036\\\"}, \\\"kind\\\": \\\"ColumnDataChanged\\\", \\\"new\\\": {\\\"sale_price_sqr_foot\\\": {\\\"__ndarray__\\\": \\\"SQH/XTPLbUAmcCOZzLJxQMpoihc3DXVAuDqzykmYd0BQk3hB0AJ9QEOIcpNpPntAxpU24Ck+hEA=\\\", \\\"dtype\\\": \\\"float64\\\", \\\"order\\\": \\\"little\\\", \\\"shape\\\": [7]}, \\\"year\\\": [2010, 2011, 2012, 2013, 2014, 2015, 2016]}}], \\\"references\\\": []}\",\"header\":\"{\\\"msgid\\\": \\\"1333\\\", \\\"msgtype\\\": \\\"PATCH-DOC\\\"}\",\"metadata\":\"{}\"},\"Inner Parkside\":{\"content\":\"{\\\"events\\\": [{\\\"attr\\\": \\\"start\\\", \\\"kind\\\": \\\"ModelChanged\\\", \\\"model\\\": {\\\"id\\\": \\\"1004\\\"}, \\\"new\\\": 143.41948084887224}, {\\\"attr\\\": \\\"reset_start\\\", \\\"kind\\\": \\\"ModelChanged\\\", \\\"model\\\": {\\\"id\\\": \\\"1004\\\"}, \\\"new\\\": 143.41948084887224}, {\\\"attr\\\": \\\"end\\\", \\\"kind\\\": \\\"ModelChanged\\\", \\\"model\\\": {\\\"id\\\": \\\"1004\\\"}, \\\"new\\\": 818.8097560487954}, {\\\"attr\\\": \\\"reset_end\\\", \\\"kind\\\": \\\"ModelChanged\\\", \\\"model\\\": {\\\"id\\\": \\\"1004\\\"}, \\\"new\\\": 818.8097560487954}, {\\\"attr\\\": \\\"text\\\", \\\"kind\\\": \\\"ModelChanged\\\", \\\"model\\\": {\\\"id\\\": \\\"1007\\\"}, \\\"new\\\": \\\"neighborhood: Inner Parkside\\\"}, {\\\"cols\\\": null, \\\"column_source\\\": {\\\"id\\\": \\\"1036\\\"}, \\\"kind\\\": \\\"ColumnDataChanged\\\", \\\"new\\\": {\\\"sale_price_sqr_foot\\\": {\\\"__ndarray__\\\": \\\"18ai0Hb2aEDC7XKumqmCQHHi/sU31IdAw4xJteYwgEA=\\\", \\\"dtype\\\": \\\"float64\\\", \\\"order\\\": \\\"little\\\", \\\"shape\\\": [4]}, \\\"year\\\": [2010, 2014, 2015, 2016]}}], \\\"references\\\": []}\",\"header\":\"{\\\"msgid\\\": \\\"1328\\\", \\\"msgtype\\\": \\\"PATCH-DOC\\\"}\",\"metadata\":\"{}\"},\"Inner Richmond\":{\"content\":\"{\\\"events\\\": [{\\\"attr\\\": \\\"start\\\", \\\"kind\\\": \\\"ModelChanged\\\", \\\"model\\\": {\\\"id\\\": \\\"1004\\\"}, \\\"new\\\": 265.043038574214}, {\\\"attr\\\": \\\"reset_start\\\", \\\"kind\\\": \\\"ModelChanged\\\", \\\"model\\\": {\\\"id\\\": \\\"1004\\\"}, \\\"new\\\": 265.043038574214}, {\\\"attr\\\": \\\"end\\\", \\\"kind\\\": \\\"ModelChanged\\\", \\\"model\\\": {\\\"id\\\": \\\"1004\\\"}, \\\"new\\\": 514.3948775478381}, {\\\"attr\\\": \\\"reset_end\\\", \\\"kind\\\": \\\"ModelChanged\\\", \\\"model\\\": {\\\"id\\\": \\\"1004\\\"}, \\\"new\\\": 514.3948775478381}, {\\\"attr\\\": \\\"text\\\", \\\"kind\\\": \\\"ModelChanged\\\", \\\"model\\\": {\\\"id\\\": \\\"1007\\\"}, \\\"new\\\": \\\"neighborhood: Inner Richmond\\\"}, {\\\"cols\\\": null, \\\"column_source\\\": {\\\"id\\\": \\\"1036\\\"}, \\\"kind\\\": \\\"ColumnDataChanged\\\", \\\"new\\\": {\\\"sale_price_sqr_foot\\\": {\\\"__ndarray__\\\": \\\"rudfYSjdcUC/5PKqmIB2QOH8A0Z4V3dAg75VYHrvckDbABfACO96QP4B9lLZ2X5AcgrFZfo0eUA=\\\", \\\"dtype\\\": \\\"float64\\\", \\\"order\\\": \\\"little\\\", \\\"shape\\\": [7]}, \\\"year\\\": [2010, 2011, 2012, 2013, 2014, 2015, 2016]}}], \\\"references\\\": []}\",\"header\":\"{\\\"msgid\\\": \\\"1323\\\", \\\"msgtype\\\": \\\"PATCH-DOC\\\"}\",\"metadata\":\"{}\"},\"Inner Sunset\":{\"content\":\"{\\\"events\\\": [{\\\"attr\\\": \\\"start\\\", \\\"kind\\\": \\\"ModelChanged\\\", \\\"model\\\": {\\\"id\\\": \\\"1004\\\"}, \\\"new\\\": 239.43205814512743}, {\\\"attr\\\": \\\"reset_start\\\", \\\"kind\\\": \\\"ModelChanged\\\", \\\"model\\\": {\\\"id\\\": \\\"1004\\\"}, \\\"new\\\": 239.43205814512743}, {\\\"attr\\\": \\\"end\\\", \\\"kind\\\": \\\"ModelChanged\\\", \\\"model\\\": {\\\"id\\\": \\\"1004\\\"}, \\\"new\\\": 675.4841152989234}, {\\\"attr\\\": \\\"reset_end\\\", \\\"kind\\\": \\\"ModelChanged\\\", \\\"model\\\": {\\\"id\\\": \\\"1004\\\"}, \\\"new\\\": 675.4841152989234}, {\\\"attr\\\": \\\"text\\\", \\\"kind\\\": \\\"ModelChanged\\\", \\\"model\\\": {\\\"id\\\": \\\"1007\\\"}, \\\"new\\\": \\\"neighborhood: Inner Sunset\\\"}, {\\\"cols\\\": null, \\\"column_source\\\": {\\\"id\\\": \\\"1036\\\"}, \\\"kind\\\": \\\"ColumnDataChanged\\\", \\\"new\\\": {\\\"sale_price_sqr_foot\\\": {\\\"__ndarray__\\\": \\\"dFv1z1A8cUAZrCL9q+lyQMlvDkJDXXRAh0YXDbs4e0A5E+8OqG19QJJvw+or+YNAR50mAMjee0A=\\\", \\\"dtype\\\": \\\"float64\\\", \\\"order\\\": \\\"little\\\", \\\"shape\\\": [7]}, \\\"year\\\": [2010, 2011, 2012, 2013, 2014, 2015, 2016]}}], \\\"references\\\": []}\",\"header\":\"{\\\"msgid\\\": \\\"1318\\\", \\\"msgtype\\\": \\\"PATCH-DOC\\\"}\",\"metadata\":\"{}\"},\"Jordan Park/Laurel Heights\":{\"content\":\"{\\\"events\\\": [{\\\"attr\\\": \\\"end\\\", \\\"kind\\\": \\\"ModelChanged\\\", \\\"model\\\": {\\\"id\\\": \\\"1003\\\"}, \\\"new\\\": 2016.0}, {\\\"attr\\\": \\\"reset_end\\\", \\\"kind\\\": \\\"ModelChanged\\\", \\\"model\\\": {\\\"id\\\": \\\"1003\\\"}, \\\"new\\\": 2016.0}, {\\\"attr\\\": \\\"start\\\", \\\"kind\\\": \\\"ModelChanged\\\", \\\"model\\\": {\\\"id\\\": \\\"1004\\\"}, \\\"new\\\": 351.00879381032536}, {\\\"attr\\\": \\\"reset_start\\\", \\\"kind\\\": \\\"ModelChanged\\\", \\\"model\\\": {\\\"id\\\": \\\"1004\\\"}, \\\"new\\\": 351.00879381032536}, {\\\"attr\\\": \\\"end\\\", \\\"kind\\\": \\\"ModelChanged\\\", \\\"model\\\": {\\\"id\\\": \\\"1004\\\"}, \\\"new\\\": 736.7080212635753}, {\\\"attr\\\": \\\"reset_end\\\", \\\"kind\\\": \\\"ModelChanged\\\", \\\"model\\\": {\\\"id\\\": \\\"1004\\\"}, \\\"new\\\": 736.7080212635753}, {\\\"attr\\\": \\\"text\\\", \\\"kind\\\": \\\"ModelChanged\\\", \\\"model\\\": {\\\"id\\\": \\\"1007\\\"}, \\\"new\\\": \\\"neighborhood: Jordan Park/Laurel Heights\\\"}, {\\\"cols\\\": null, \\\"column_source\\\": {\\\"id\\\": \\\"1036\\\"}, \\\"kind\\\": \\\"ColumnDataChanged\\\", \\\"new\\\": {\\\"sale_price_sqr_foot\\\": {\\\"__ndarray__\\\": \\\"uuY5ejQ+ekAnLEsgIhaDQE4svQVo8ndAEAzB95ZAgkAi628Elax6QPxXbMypA4JAUAesBogEhkA=\\\", \\\"dtype\\\": \\\"float64\\\", \\\"order\\\": \\\"little\\\", \\\"shape\\\": [7]}, \\\"year\\\": [2010, 2011, 2012, 2013, 2014, 2015, 2016]}}], \\\"references\\\": []}\",\"header\":\"{\\\"msgid\\\": \\\"1313\\\", \\\"msgtype\\\": \\\"PATCH-DOC\\\"}\",\"metadata\":\"{}\"},\"Lake --The Presidio\":{\"content\":\"{\\\"events\\\": [{\\\"attr\\\": \\\"start\\\", \\\"kind\\\": \\\"ModelChanged\\\", \\\"model\\\": {\\\"id\\\": \\\"1004\\\"}, \\\"new\\\": 296.0114866651718}, {\\\"attr\\\": \\\"reset_start\\\", \\\"kind\\\": \\\"ModelChanged\\\", \\\"model\\\": {\\\"id\\\": \\\"1004\\\"}, \\\"new\\\": 296.0114866651718}, {\\\"attr\\\": \\\"end\\\", \\\"kind\\\": \\\"ModelChanged\\\", \\\"model\\\": {\\\"id\\\": \\\"1004\\\"}, \\\"new\\\": 593.4365725876658}, {\\\"attr\\\": \\\"reset_end\\\", \\\"kind\\\": \\\"ModelChanged\\\", \\\"model\\\": {\\\"id\\\": \\\"1004\\\"}, \\\"new\\\": 593.4365725876658}, {\\\"attr\\\": \\\"text\\\", \\\"kind\\\": \\\"ModelChanged\\\", \\\"model\\\": {\\\"id\\\": \\\"1007\\\"}, \\\"new\\\": \\\"neighborhood: Lake --The Presidio\\\"}, {\\\"cols\\\": null, \\\"column_source\\\": {\\\"id\\\": \\\"1036\\\"}, \\\"kind\\\": \\\"ColumnDataChanged\\\", \\\"new\\\": {\\\"sale_price_sqr_foot\\\": {\\\"__ndarray__\\\": \\\"2VI3JcAMdECVIgEIvqF0QHq77f9XyHdAb0N7jTXFgUAxyTRQZw97QKwhg5D1qnpA\\\", \\\"dtype\\\": \\\"float64\\\", \\\"order\\\": \\\"little\\\", \\\"shape\\\": [6]}, \\\"year\\\": [2010, 2011, 2012, 2013, 2014, 2015]}}], \\\"references\\\": []}\",\"header\":\"{\\\"msgid\\\": \\\"1308\\\", \\\"msgtype\\\": \\\"PATCH-DOC\\\"}\",\"metadata\":\"{}\"},\"Lone Mountain\":{\"content\":\"{\\\"events\\\": [{\\\"attr\\\": \\\"end\\\", \\\"kind\\\": \\\"ModelChanged\\\", \\\"model\\\": {\\\"id\\\": \\\"1003\\\"}, \\\"new\\\": 2015.0}, {\\\"attr\\\": \\\"reset_end\\\", \\\"kind\\\": \\\"ModelChanged\\\", \\\"model\\\": {\\\"id\\\": \\\"1003\\\"}, \\\"new\\\": 2015.0}, {\\\"attr\\\": \\\"start\\\", \\\"kind\\\": \\\"ModelChanged\\\", \\\"model\\\": {\\\"id\\\": \\\"1004\\\"}, \\\"new\\\": 252.84347723354495}, {\\\"attr\\\": \\\"reset_start\\\", \\\"kind\\\": \\\"ModelChanged\\\", \\\"model\\\": {\\\"id\\\": \\\"1004\\\"}, \\\"new\\\": 252.84347723354495}, {\\\"attr\\\": \\\"end\\\", \\\"kind\\\": \\\"ModelChanged\\\", \\\"model\\\": {\\\"id\\\": \\\"1004\\\"}, \\\"new\\\": 978.7832492011727}, {\\\"attr\\\": \\\"reset_end\\\", \\\"kind\\\": \\\"ModelChanged\\\", \\\"model\\\": {\\\"id\\\": \\\"1004\\\"}, \\\"new\\\": 978.7832492011727}, {\\\"attr\\\": \\\"text\\\", \\\"kind\\\": \\\"ModelChanged\\\", \\\"model\\\": {\\\"id\\\": \\\"1007\\\"}, \\\"new\\\": \\\"neighborhood: Lone Mountain\\\"}, {\\\"cols\\\": null, \\\"column_source\\\": {\\\"id\\\": \\\"1036\\\"}, \\\"kind\\\": \\\"ColumnDataChanged\\\", \\\"new\\\": {\\\"sale_price_sqr_foot\\\": {\\\"__ndarray__\\\": \\\"wz1ajlfneEDRiC1TapVzQAfvLHLXD4FAeCzjalaBd0BPfmP7jNNzQM1gj19OsoxA\\\", \\\"dtype\\\": \\\"float64\\\", \\\"order\\\": \\\"little\\\", \\\"shape\\\": [6]}, \\\"year\\\": [2010, 2011, 2012, 2013, 2014, 2015]}}], \\\"references\\\": []}\",\"header\":\"{\\\"msgid\\\": \\\"1303\\\", \\\"msgtype\\\": \\\"PATCH-DOC\\\"}\",\"metadata\":\"{}\"},\"Lower Pacific Heights\":{\"content\":\"{\\\"events\\\": [{\\\"attr\\\": \\\"start\\\", \\\"kind\\\": \\\"ModelChanged\\\", \\\"model\\\": {\\\"id\\\": \\\"1004\\\"}, \\\"new\\\": 253.89473318005733}, {\\\"attr\\\": \\\"reset_start\\\", \\\"kind\\\": \\\"ModelChanged\\\", \\\"model\\\": {\\\"id\\\": \\\"1004\\\"}, \\\"new\\\": 253.89473318005733}, {\\\"attr\\\": \\\"end\\\", \\\"kind\\\": \\\"ModelChanged\\\", \\\"model\\\": {\\\"id\\\": \\\"1004\\\"}, \\\"new\\\": 849.6883316136466}, {\\\"attr\\\": \\\"reset_end\\\", \\\"kind\\\": \\\"ModelChanged\\\", \\\"model\\\": {\\\"id\\\": \\\"1004\\\"}, \\\"new\\\": 849.6883316136466}, {\\\"attr\\\": \\\"text\\\", \\\"kind\\\": \\\"ModelChanged\\\", \\\"model\\\": {\\\"id\\\": \\\"1007\\\"}, \\\"new\\\": \\\"neighborhood: Lower Pacific Heights\\\"}, {\\\"cols\\\": null, \\\"column_source\\\": {\\\"id\\\": \\\"1036\\\"}, \\\"kind\\\": \\\"ColumnDataChanged\\\", \\\"new\\\": {\\\"sale_price_sqr_foot\\\": {\\\"__ndarray__\\\": \\\"76u8E+xgd0Bx+MIKtfhyQPfeWOC8wnhAyw2Bnl8ggUA7DXIXA2OGQApnfphPAIlAVYW5N3Ljg0A=\\\", \\\"dtype\\\": \\\"float64\\\", \\\"order\\\": \\\"little\\\", \\\"shape\\\": [7]}, \\\"year\\\": [2010, 2011, 2012, 2013, 2014, 2015, 2016]}}], \\\"references\\\": []}\",\"header\":\"{\\\"msgid\\\": \\\"1298\\\", \\\"msgtype\\\": \\\"PATCH-DOC\\\"}\",\"metadata\":\"{}\"},\"Marina\":{\"content\":\"{\\\"events\\\": [{\\\"attr\\\": \\\"start\\\", \\\"kind\\\": \\\"ModelChanged\\\", \\\"model\\\": {\\\"id\\\": \\\"1003\\\"}, \\\"new\\\": 2010.0}, {\\\"attr\\\": \\\"reset_start\\\", \\\"kind\\\": \\\"ModelChanged\\\", \\\"model\\\": {\\\"id\\\": \\\"1003\\\"}, \\\"new\\\": 2010.0}, {\\\"attr\\\": \\\"start\\\", \\\"kind\\\": \\\"ModelChanged\\\", \\\"model\\\": {\\\"id\\\": \\\"1004\\\"}, \\\"new\\\": 312.84838736906875}, {\\\"attr\\\": \\\"reset_start\\\", \\\"kind\\\": \\\"ModelChanged\\\", \\\"model\\\": {\\\"id\\\": \\\"1004\\\"}, \\\"new\\\": 312.84838736906875}, {\\\"attr\\\": \\\"end\\\", \\\"kind\\\": \\\"ModelChanged\\\", \\\"model\\\": {\\\"id\\\": \\\"1004\\\"}, \\\"new\\\": 1207.3818126633078}, {\\\"attr\\\": \\\"reset_end\\\", \\\"kind\\\": \\\"ModelChanged\\\", \\\"model\\\": {\\\"id\\\": \\\"1004\\\"}, \\\"new\\\": 1207.3818126633078}, {\\\"attr\\\": \\\"text\\\", \\\"kind\\\": \\\"ModelChanged\\\", \\\"model\\\": {\\\"id\\\": \\\"1007\\\"}, \\\"new\\\": \\\"neighborhood: Marina\\\"}, {\\\"cols\\\": null, \\\"column_source\\\": {\\\"id\\\": \\\"1036\\\"}, \\\"kind\\\": \\\"ColumnDataChanged\\\", \\\"new\\\": {\\\"sale_price_sqr_foot\\\": {\\\"__ndarray__\\\": \\\"Ux8MEkk2eECye+dyGG14QJQFBghx03tArN/UlpV5hEDmyxE0tRaEQI2iC3VZs5FA5fACFx3/ekA=\\\", \\\"dtype\\\": \\\"float64\\\", \\\"order\\\": \\\"little\\\", \\\"shape\\\": [7]}, \\\"year\\\": [2010, 2011, 2012, 2013, 2014, 2015, 2016]}}], \\\"references\\\": []}\",\"header\":\"{\\\"msgid\\\": \\\"1293\\\", \\\"msgtype\\\": \\\"PATCH-DOC\\\"}\",\"metadata\":\"{}\"},\"Merced Heights\":{\"content\":\"{\\\"events\\\": [{\\\"attr\\\": \\\"end\\\", \\\"kind\\\": \\\"ModelChanged\\\", \\\"model\\\": {\\\"id\\\": \\\"1003\\\"}, \\\"new\\\": 2016.0}, {\\\"attr\\\": \\\"reset_end\\\", \\\"kind\\\": \\\"ModelChanged\\\", \\\"model\\\": {\\\"id\\\": \\\"1003\\\"}, \\\"new\\\": 2016.0}, {\\\"attr\\\": \\\"start\\\", \\\"kind\\\": \\\"ModelChanged\\\", \\\"model\\\": {\\\"id\\\": \\\"1004\\\"}, \\\"new\\\": 321.5887025101436}, {\\\"attr\\\": \\\"reset_start\\\", \\\"kind\\\": \\\"ModelChanged\\\", \\\"model\\\": {\\\"id\\\": \\\"1004\\\"}, \\\"new\\\": 321.5887025101436}, {\\\"attr\\\": \\\"end\\\", \\\"kind\\\": \\\"ModelChanged\\\", \\\"model\\\": {\\\"id\\\": \\\"1004\\\"}, \\\"new\\\": 1516.2192088627146}, {\\\"attr\\\": \\\"reset_end\\\", \\\"kind\\\": \\\"ModelChanged\\\", \\\"model\\\": {\\\"id\\\": \\\"1004\\\"}, \\\"new\\\": 1516.2192088627146}, {\\\"attr\\\": \\\"text\\\", \\\"kind\\\": \\\"ModelChanged\\\", \\\"model\\\": {\\\"id\\\": \\\"1007\\\"}, \\\"new\\\": \\\"neighborhood: Merced Heights\\\"}, {\\\"cols\\\": null, \\\"column_source\\\": {\\\"id\\\": \\\"1036\\\"}, \\\"kind\\\": \\\"ColumnDataChanged\\\", \\\"new\\\": {\\\"sale_price_sqr_foot\\\": {\\\"__ndarray__\\\": \\\"MB3PiUJSekCKg+70z4WAQKyqqqqqIpZA\\\", \\\"dtype\\\": \\\"float64\\\", \\\"order\\\": \\\"little\\\", \\\"shape\\\": [3]}, \\\"year\\\": [2012, 2014, 2016]}}], \\\"references\\\": []}\",\"header\":\"{\\\"msgid\\\": \\\"1288\\\", \\\"msgtype\\\": \\\"PATCH-DOC\\\"}\",\"metadata\":\"{}\"},\"Midtown Terrace\":{\"content\":\"{\\\"events\\\": [{\\\"attr\\\": \\\"start\\\", \\\"kind\\\": \\\"ModelChanged\\\", \\\"model\\\": {\\\"id\\\": \\\"1003\\\"}, \\\"new\\\": 2012.0}, {\\\"attr\\\": \\\"reset_start\\\", \\\"kind\\\": \\\"ModelChanged\\\", \\\"model\\\": {\\\"id\\\": \\\"1003\\\"}, \\\"new\\\": 2012.0}, {\\\"attr\\\": \\\"end\\\", \\\"kind\\\": \\\"ModelChanged\\\", \\\"model\\\": {\\\"id\\\": \\\"1003\\\"}, \\\"new\\\": 2013.0}, {\\\"attr\\\": \\\"reset_end\\\", \\\"kind\\\": \\\"ModelChanged\\\", \\\"model\\\": {\\\"id\\\": \\\"1003\\\"}, \\\"new\\\": 2013.0}, {\\\"attr\\\": \\\"start\\\", \\\"kind\\\": \\\"ModelChanged\\\", \\\"model\\\": {\\\"id\\\": \\\"1004\\\"}, \\\"new\\\": 367.4248850164196}, {\\\"attr\\\": \\\"reset_start\\\", \\\"kind\\\": \\\"ModelChanged\\\", \\\"model\\\": {\\\"id\\\": \\\"1004\\\"}, \\\"new\\\": 367.4248850164196}, {\\\"attr\\\": \\\"end\\\", \\\"kind\\\": \\\"ModelChanged\\\", \\\"model\\\": {\\\"id\\\": \\\"1004\\\"}, \\\"new\\\": 733.5958115670106}, {\\\"attr\\\": \\\"reset_end\\\", \\\"kind\\\": \\\"ModelChanged\\\", \\\"model\\\": {\\\"id\\\": \\\"1004\\\"}, \\\"new\\\": 733.5958115670106}, {\\\"attr\\\": \\\"text\\\", \\\"kind\\\": \\\"ModelChanged\\\", \\\"model\\\": {\\\"id\\\": \\\"1007\\\"}, \\\"new\\\": \\\"neighborhood: Midtown Terrace\\\"}, {\\\"cols\\\": null, \\\"column_source\\\": {\\\"id\\\": \\\"1036\\\"}, \\\"kind\\\": \\\"ColumnDataChanged\\\", \\\"new\\\": {\\\"sale_price_sqr_foot\\\": {\\\"__ndarray__\\\": \\\"u1cFrAbfeEDpu/UMp/iFQA==\\\", \\\"dtype\\\": \\\"float64\\\", \\\"order\\\": \\\"little\\\", \\\"shape\\\": [2]}, \\\"year\\\": [2012, 2013]}}], \\\"references\\\": []}\",\"header\":\"{\\\"msgid\\\": \\\"1283\\\", \\\"msgtype\\\": \\\"PATCH-DOC\\\"}\",\"metadata\":\"{}\"},\"Miraloma Park\":{\"content\":\"{\\\"events\\\": [{\\\"attr\\\": \\\"end\\\", \\\"kind\\\": \\\"ModelChanged\\\", \\\"model\\\": {\\\"id\\\": \\\"1003\\\"}, \\\"new\\\": 2014.0}, {\\\"attr\\\": \\\"reset_end\\\", \\\"kind\\\": \\\"ModelChanged\\\", \\\"model\\\": {\\\"id\\\": \\\"1003\\\"}, \\\"new\\\": 2014.0}, {\\\"attr\\\": \\\"start\\\", \\\"kind\\\": \\\"ModelChanged\\\", \\\"model\\\": {\\\"id\\\": \\\"1004\\\"}, \\\"new\\\": 329.36705099035305}, {\\\"attr\\\": \\\"reset_start\\\", \\\"kind\\\": \\\"ModelChanged\\\", \\\"model\\\": {\\\"id\\\": \\\"1004\\\"}, \\\"new\\\": 329.36705099035305}, {\\\"attr\\\": \\\"end\\\", \\\"kind\\\": \\\"ModelChanged\\\", \\\"model\\\": {\\\"id\\\": \\\"1004\\\"}, \\\"new\\\": 1353.0752164185672}, {\\\"attr\\\": \\\"reset_end\\\", \\\"kind\\\": \\\"ModelChanged\\\", \\\"model\\\": {\\\"id\\\": \\\"1004\\\"}, \\\"new\\\": 1353.0752164185672}, {\\\"attr\\\": \\\"text\\\", \\\"kind\\\": \\\"ModelChanged\\\", \\\"model\\\": {\\\"id\\\": \\\"1007\\\"}, \\\"new\\\": \\\"neighborhood: Miraloma Park\\\"}, {\\\"cols\\\": null, \\\"column_source\\\": {\\\"id\\\": \\\"1036\\\"}, \\\"kind\\\": \\\"ColumnDataChanged\\\", \\\"new\\\": {\\\"sale_price_sqr_foot\\\": {\\\"__ndarray__\\\": \\\"nv5hrd5EhUDxcEwp0ep5QKIzmfqJoYdAXElslxDPk0A=\\\", \\\"dtype\\\": \\\"float64\\\", \\\"order\\\": \\\"little\\\", \\\"shape\\\": [4]}, \\\"year\\\": [2010, 2011, 2012, 2014]}}], \\\"references\\\": []}\",\"header\":\"{\\\"msgid\\\": \\\"1278\\\", \\\"msgtype\\\": \\\"PATCH-DOC\\\"}\",\"metadata\":\"{}\"},\"Mission Bay\":{\"content\":\"{\\\"events\\\": [{\\\"attr\\\": \\\"end\\\", \\\"kind\\\": \\\"ModelChanged\\\", \\\"model\\\": {\\\"id\\\": \\\"1003\\\"}, \\\"new\\\": 2016.0}, {\\\"attr\\\": \\\"reset_end\\\", \\\"kind\\\": \\\"ModelChanged\\\", \\\"model\\\": {\\\"id\\\": \\\"1003\\\"}, \\\"new\\\": 2016.0}, {\\\"attr\\\": \\\"start\\\", \\\"kind\\\": \\\"ModelChanged\\\", \\\"model\\\": {\\\"id\\\": \\\"1004\\\"}, \\\"new\\\": 149.6652843206233}, {\\\"attr\\\": \\\"reset_start\\\", \\\"kind\\\": \\\"ModelChanged\\\", \\\"model\\\": {\\\"id\\\": \\\"1004\\\"}, \\\"new\\\": 149.6652843206233}, {\\\"attr\\\": \\\"end\\\", \\\"kind\\\": \\\"ModelChanged\\\", \\\"model\\\": {\\\"id\\\": \\\"1004\\\"}, \\\"new\\\": 995.0149187736765}, {\\\"attr\\\": \\\"reset_end\\\", \\\"kind\\\": \\\"ModelChanged\\\", \\\"model\\\": {\\\"id\\\": \\\"1004\\\"}, \\\"new\\\": 995.0149187736765}, {\\\"attr\\\": \\\"text\\\", \\\"kind\\\": \\\"ModelChanged\\\", \\\"model\\\": {\\\"id\\\": \\\"1007\\\"}, \\\"new\\\": \\\"neighborhood: Mission Bay\\\"}, {\\\"cols\\\": null, \\\"column_source\\\": {\\\"id\\\": \\\"1036\\\"}, \\\"kind\\\": \\\"ColumnDataChanged\\\", \\\"new\\\": {\\\"sale_price_sqr_foot\\\": {\\\"__ndarray__\\\": \\\"YJ/P0+KcfkA4flQbPK9/QDDJZL4vjIVAAAAAAAAA+H/q7LkGjoNrQAVqo4yN5IxA\\\", \\\"dtype\\\": \\\"float64\\\", \\\"order\\\": \\\"little\\\", \\\"shape\\\": [6]}, \\\"year\\\": [2010, 2011, 2012, 2013, 2014, 2016]}}], \\\"references\\\": []}\",\"header\":\"{\\\"msgid\\\": \\\"1273\\\", \\\"msgtype\\\": \\\"PATCH-DOC\\\"}\",\"metadata\":\"{}\"},\"Mission Dolores\":{\"content\":\"{\\\"events\\\": [{\\\"attr\\\": \\\"end\\\", \\\"kind\\\": \\\"ModelChanged\\\", \\\"model\\\": {\\\"id\\\": \\\"1003\\\"}, \\\"new\\\": 2015.0}, {\\\"attr\\\": \\\"reset_end\\\", \\\"kind\\\": \\\"ModelChanged\\\", \\\"model\\\": {\\\"id\\\": \\\"1003\\\"}, \\\"new\\\": 2015.0}, {\\\"attr\\\": \\\"start\\\", \\\"kind\\\": \\\"ModelChanged\\\", \\\"model\\\": {\\\"id\\\": \\\"1004\\\"}, \\\"new\\\": 219.56483924332616}, {\\\"attr\\\": \\\"reset_start\\\", \\\"kind\\\": \\\"ModelChanged\\\", \\\"model\\\": {\\\"id\\\": \\\"1004\\\"}, \\\"new\\\": 219.56483924332616}, {\\\"attr\\\": \\\"end\\\", \\\"kind\\\": \\\"ModelChanged\\\", \\\"model\\\": {\\\"id\\\": \\\"1004\\\"}, \\\"new\\\": 680.6427519434955}, {\\\"attr\\\": \\\"reset_end\\\", \\\"kind\\\": \\\"ModelChanged\\\", \\\"model\\\": {\\\"id\\\": \\\"1004\\\"}, \\\"new\\\": 680.6427519434955}, {\\\"attr\\\": \\\"text\\\", \\\"kind\\\": \\\"ModelChanged\\\", \\\"model\\\": {\\\"id\\\": \\\"1007\\\"}, \\\"new\\\": \\\"neighborhood: Mission Dolores\\\"}, {\\\"cols\\\": null, \\\"column_source\\\": {\\\"id\\\": \\\"1036\\\"}, \\\"kind\\\": \\\"ColumnDataChanged\\\", \\\"new\\\": {\\\"sale_price_sqr_foot\\\": {\\\"__ndarray__\\\": \\\"jx2o184fcEDnKsbKd1ZyQHi6P9hbD3RAu5WvBqmyekDqY725wRGEQPso77AL3oFA\\\", \\\"dtype\\\": \\\"float64\\\", \\\"order\\\": \\\"little\\\", \\\"shape\\\": [6]}, \\\"year\\\": [2010, 2011, 2012, 2013, 2014, 2015]}}], \\\"references\\\": []}\",\"header\":\"{\\\"msgid\\\": \\\"1268\\\", \\\"msgtype\\\": \\\"PATCH-DOC\\\"}\",\"metadata\":\"{}\"},\"Mission Terrace\":{\"content\":\"{\\\"events\\\": [{\\\"attr\\\": \\\"start\\\", \\\"kind\\\": \\\"ModelChanged\\\", \\\"model\\\": {\\\"id\\\": \\\"1004\\\"}, \\\"new\\\": 201.26192688136928}, {\\\"attr\\\": \\\"reset_start\\\", \\\"kind\\\": \\\"ModelChanged\\\", \\\"model\\\": {\\\"id\\\": \\\"1004\\\"}, \\\"new\\\": 201.26192688136928}, {\\\"attr\\\": \\\"end\\\", \\\"kind\\\": \\\"ModelChanged\\\", \\\"model\\\": {\\\"id\\\": \\\"1004\\\"}, \\\"new\\\": 940.6311119917092}, {\\\"attr\\\": \\\"reset_end\\\", \\\"kind\\\": \\\"ModelChanged\\\", \\\"model\\\": {\\\"id\\\": \\\"1004\\\"}, \\\"new\\\": 940.6311119917092}, {\\\"attr\\\": \\\"text\\\", \\\"kind\\\": \\\"ModelChanged\\\", \\\"model\\\": {\\\"id\\\": \\\"1007\\\"}, \\\"new\\\": \\\"neighborhood: Mission Terrace\\\"}, {\\\"cols\\\": null, \\\"column_source\\\": {\\\"id\\\": \\\"1036\\\"}, \\\"kind\\\": \\\"ColumnDataChanged\\\", \\\"new\\\": {\\\"sale_price_sqr_foot\\\": {\\\"__ndarray__\\\": \\\"5Up2MwRucEDCIHpXN3uCQAn27jf/wnJA7NvKAco+gkD7adXXIniLQA==\\\", \\\"dtype\\\": \\\"float64\\\", \\\"order\\\": \\\"little\\\", \\\"shape\\\": [5]}, \\\"year\\\": [2010, 2013, 2014, 2015, 2016]}}], \\\"references\\\": []}\",\"header\":\"{\\\"msgid\\\": \\\"1263\\\", \\\"msgtype\\\": \\\"PATCH-DOC\\\"}\",\"metadata\":\"{}\"},\"Nob Hill\":{\"content\":\"{\\\"events\\\": [{\\\"attr\\\": \\\"start\\\", \\\"kind\\\": \\\"ModelChanged\\\", \\\"model\\\": {\\\"id\\\": \\\"1004\\\"}, \\\"new\\\": 260.7443929653207}, {\\\"attr\\\": \\\"reset_start\\\", \\\"kind\\\": \\\"ModelChanged\\\", \\\"model\\\": {\\\"id\\\": \\\"1004\\\"}, \\\"new\\\": 260.7443929653207}, {\\\"attr\\\": \\\"end\\\", \\\"kind\\\": \\\"ModelChanged\\\", \\\"model\\\": {\\\"id\\\": \\\"1004\\\"}, \\\"new\\\": 823.9413983128123}, {\\\"attr\\\": \\\"reset_end\\\", \\\"kind\\\": \\\"ModelChanged\\\", \\\"model\\\": {\\\"id\\\": \\\"1004\\\"}, \\\"new\\\": 823.9413983128123}, {\\\"attr\\\": \\\"text\\\", \\\"kind\\\": \\\"ModelChanged\\\", \\\"model\\\": {\\\"id\\\": \\\"1007\\\"}, \\\"new\\\": \\\"neighborhood: Nob Hill\\\"}, {\\\"cols\\\": null, \\\"column_source\\\": {\\\"id\\\": \\\"1036\\\"}, \\\"kind\\\": \\\"ColumnDataChanged\\\", \\\"new\\\": {\\\"sale_price_sqr_foot\\\": {\\\"__ndarray__\\\": \\\"nsfa8dY6c0Dw6sQTSEp1QNOp9qKHPHNANu2GfmwgfUCD5gH4F+d9QN20QE/HjoBA5tc1BxFIiEA=\\\", \\\"dtype\\\": \\\"float64\\\", \\\"order\\\": \\\"little\\\", \\\"shape\\\": [7]}, \\\"year\\\": [2010, 2011, 2012, 2013, 2014, 2015, 2016]}}], \\\"references\\\": []}\",\"header\":\"{\\\"msgid\\\": \\\"1258\\\", \\\"msgtype\\\": \\\"PATCH-DOC\\\"}\",\"metadata\":\"{}\"},\"Noe Valley\":{\"content\":\"{\\\"events\\\": [{\\\"attr\\\": \\\"start\\\", \\\"kind\\\": \\\"ModelChanged\\\", \\\"model\\\": {\\\"id\\\": \\\"1003\\\"}, \\\"new\\\": 2010.0}, {\\\"attr\\\": \\\"reset_start\\\", \\\"kind\\\": \\\"ModelChanged\\\", \\\"model\\\": {\\\"id\\\": \\\"1003\\\"}, \\\"new\\\": 2010.0}, {\\\"attr\\\": \\\"start\\\", \\\"kind\\\": \\\"ModelChanged\\\", \\\"model\\\": {\\\"id\\\": \\\"1004\\\"}, \\\"new\\\": 331.4269906464192}, {\\\"attr\\\": \\\"reset_start\\\", \\\"kind\\\": \\\"ModelChanged\\\", \\\"model\\\": {\\\"id\\\": \\\"1004\\\"}, \\\"new\\\": 331.4269906464192}, {\\\"attr\\\": \\\"end\\\", \\\"kind\\\": \\\"ModelChanged\\\", \\\"model\\\": {\\\"id\\\": \\\"1004\\\"}, \\\"new\\\": 842.0473477000174}, {\\\"attr\\\": \\\"reset_end\\\", \\\"kind\\\": \\\"ModelChanged\\\", \\\"model\\\": {\\\"id\\\": \\\"1004\\\"}, \\\"new\\\": 842.0473477000174}, {\\\"attr\\\": \\\"text\\\", \\\"kind\\\": \\\"ModelChanged\\\", \\\"model\\\": {\\\"id\\\": \\\"1007\\\"}, \\\"new\\\": \\\"neighborhood: Noe Valley\\\"}, {\\\"cols\\\": null, \\\"column_source\\\": {\\\"id\\\": \\\"1036\\\"}, \\\"kind\\\": \\\"ColumnDataChanged\\\", \\\"new\\\": {\\\"sale_price_sqr_foot\\\": {\\\"__ndarray__\\\": \\\"GS5CEjfSd0B9QsWzqF93QIDKIsFZwHpAI9iT7YI4g0DciMZ4aXaEQKBBKlfNBIFAOogEGPf7iEA=\\\", \\\"dtype\\\": \\\"float64\\\", \\\"order\\\": \\\"little\\\", \\\"shape\\\": [7]}, \\\"year\\\": [2010, 2011, 2012, 2013, 2014, 2015, 2016]}}], \\\"references\\\": []}\",\"header\":\"{\\\"msgid\\\": \\\"1253\\\", \\\"msgtype\\\": \\\"PATCH-DOC\\\"}\",\"metadata\":\"{}\"},\"North Beach\":{\"content\":\"{\\\"events\\\": [{\\\"attr\\\": \\\"end\\\", \\\"kind\\\": \\\"ModelChanged\\\", \\\"model\\\": {\\\"id\\\": \\\"1003\\\"}, \\\"new\\\": 2016.0}, {\\\"attr\\\": \\\"reset_end\\\", \\\"kind\\\": \\\"ModelChanged\\\", \\\"model\\\": {\\\"id\\\": \\\"1003\\\"}, \\\"new\\\": 2016.0}, {\\\"attr\\\": \\\"start\\\", \\\"kind\\\": \\\"ModelChanged\\\", \\\"model\\\": {\\\"id\\\": \\\"1004\\\"}, \\\"new\\\": 268.2957866693006}, {\\\"attr\\\": \\\"reset_start\\\", \\\"kind\\\": \\\"ModelChanged\\\", \\\"model\\\": {\\\"id\\\": \\\"1004\\\"}, \\\"new\\\": 268.2957866693006}, {\\\"attr\\\": \\\"end\\\", \\\"kind\\\": \\\"ModelChanged\\\", \\\"model\\\": {\\\"id\\\": \\\"1004\\\"}, \\\"new\\\": 539.7987391572228}, {\\\"attr\\\": \\\"reset_end\\\", \\\"kind\\\": \\\"ModelChanged\\\", \\\"model\\\": {\\\"id\\\": \\\"1004\\\"}, \\\"new\\\": 539.7987391572228}, {\\\"attr\\\": \\\"text\\\", \\\"kind\\\": \\\"ModelChanged\\\", \\\"model\\\": {\\\"id\\\": \\\"1007\\\"}, \\\"new\\\": \\\"neighborhood: North Beach\\\"}, {\\\"cols\\\": null, \\\"column_source\\\": {\\\"id\\\": \\\"1036\\\"}, \\\"kind\\\": \\\"ColumnDataChanged\\\", \\\"new\\\": {\\\"sale_price_sqr_foot\\\": {\\\"__ndarray__\\\": \\\"P33LjLwuckC+7VtQYymAQEOToDR6m3hA0knGOugNfEByKLVn2nh5QA==\\\", \\\"dtype\\\": \\\"float64\\\", \\\"order\\\": \\\"little\\\", \\\"shape\\\": [5]}, \\\"year\\\": [2011, 2012, 2013, 2015, 2016]}}], \\\"references\\\": []}\",\"header\":\"{\\\"msgid\\\": \\\"1248\\\", \\\"msgtype\\\": \\\"PATCH-DOC\\\"}\",\"metadata\":\"{}\"},\"North Waterfront\":{\"content\":\"{\\\"events\\\": [{\\\"attr\\\": \\\"start\\\", \\\"kind\\\": \\\"ModelChanged\\\", \\\"model\\\": {\\\"id\\\": \\\"1003\\\"}, \\\"new\\\": 2011.0}, {\\\"attr\\\": \\\"reset_start\\\", \\\"kind\\\": \\\"ModelChanged\\\", \\\"model\\\": {\\\"id\\\": \\\"1003\\\"}, \\\"new\\\": 2011.0}, {\\\"attr\\\": \\\"start\\\", \\\"kind\\\": \\\"ModelChanged\\\", \\\"model\\\": {\\\"id\\\": \\\"1004\\\"}, \\\"new\\\": 292.566316699521}, {\\\"attr\\\": \\\"reset_start\\\", \\\"kind\\\": \\\"ModelChanged\\\", \\\"model\\\": {\\\"id\\\": \\\"1004\\\"}, \\\"new\\\": 292.566316699521}, {\\\"attr\\\": \\\"end\\\", \\\"kind\\\": \\\"ModelChanged\\\", \\\"model\\\": {\\\"id\\\": \\\"1004\\\"}, \\\"new\\\": 945.3044364924947}, {\\\"attr\\\": \\\"reset_end\\\", \\\"kind\\\": \\\"ModelChanged\\\", \\\"model\\\": {\\\"id\\\": \\\"1004\\\"}, \\\"new\\\": 945.3044364924947}, {\\\"attr\\\": \\\"text\\\", \\\"kind\\\": \\\"ModelChanged\\\", \\\"model\\\": {\\\"id\\\": \\\"1007\\\"}, \\\"new\\\": \\\"neighborhood: North Waterfront\\\"}, {\\\"cols\\\": null, \\\"column_source\\\": {\\\"id\\\": \\\"1036\\\"}, \\\"kind\\\": \\\"ColumnDataChanged\\\", \\\"new\\\": {\\\"sale_price_sqr_foot\\\": {\\\"__ndarray__\\\": \\\"vxNT6WCvdUByVgFHJGZ4QBwxImuzMn5A+QsZSM6+d0DjisnYRteLQA==\\\", \\\"dtype\\\": \\\"float64\\\", \\\"order\\\": \\\"little\\\", \\\"shape\\\": [5]}, \\\"year\\\": [2011, 2012, 2013, 2014, 2015]}}], \\\"references\\\": []}\",\"header\":\"{\\\"msgid\\\": \\\"1243\\\", \\\"msgtype\\\": \\\"PATCH-DOC\\\"}\",\"metadata\":\"{}\"},\"Oceanview\":{\"content\":\"{\\\"events\\\": [{\\\"attr\\\": \\\"start\\\", \\\"kind\\\": \\\"ModelChanged\\\", \\\"model\\\": {\\\"id\\\": \\\"1003\\\"}, \\\"new\\\": 2010.0}, {\\\"attr\\\": \\\"reset_start\\\", \\\"kind\\\": \\\"ModelChanged\\\", \\\"model\\\": {\\\"id\\\": \\\"1003\\\"}, \\\"new\\\": 2010.0}, {\\\"attr\\\": \\\"end\\\", \\\"kind\\\": \\\"ModelChanged\\\", \\\"model\\\": {\\\"id\\\": \\\"1003\\\"}, \\\"new\\\": 2015.0}, {\\\"attr\\\": \\\"reset_end\\\", \\\"kind\\\": \\\"ModelChanged\\\", \\\"model\\\": {\\\"id\\\": \\\"1003\\\"}, \\\"new\\\": 2015.0}, {\\\"attr\\\": \\\"start\\\", \\\"kind\\\": \\\"ModelChanged\\\", \\\"model\\\": {\\\"id\\\": \\\"1004\\\"}, \\\"new\\\": 248.2985434574814}, {\\\"attr\\\": \\\"reset_start\\\", \\\"kind\\\": \\\"ModelChanged\\\", \\\"model\\\": {\\\"id\\\": \\\"1004\\\"}, \\\"new\\\": 248.2985434574814}, {\\\"attr\\\": \\\"end\\\", \\\"kind\\\": \\\"ModelChanged\\\", \\\"model\\\": {\\\"id\\\": \\\"1004\\\"}, \\\"new\\\": 459.8739400069461}, {\\\"attr\\\": \\\"reset_end\\\", \\\"kind\\\": \\\"ModelChanged\\\", \\\"model\\\": {\\\"id\\\": \\\"1004\\\"}, \\\"new\\\": 459.8739400069461}, {\\\"attr\\\": \\\"text\\\", \\\"kind\\\": \\\"ModelChanged\\\", \\\"model\\\": {\\\"id\\\": \\\"1007\\\"}, \\\"new\\\": \\\"neighborhood: Oceanview\\\"}, {\\\"cols\\\": null, \\\"column_source\\\": {\\\"id\\\": \\\"1036\\\"}, \\\"kind\\\": \\\"ColumnDataChanged\\\", \\\"new\\\": {\\\"sale_price_sqr_foot\\\": {\\\"__ndarray__\\\": \\\"jJidK+qhcUAVBUTs4aN7QP1nwZHgnnBA\\\", \\\"dtype\\\": \\\"float64\\\", \\\"order\\\": \\\"little\\\", \\\"shape\\\": [3]}, \\\"year\\\": [2010, 2012, 2015]}}], \\\"references\\\": []}\",\"header\":\"{\\\"msgid\\\": \\\"1238\\\", \\\"msgtype\\\": \\\"PATCH-DOC\\\"}\",\"metadata\":\"{}\"},\"Outer Mission\":{\"content\":\"{\\\"events\\\": [{\\\"attr\\\": \\\"start\\\", \\\"kind\\\": \\\"ModelChanged\\\", \\\"model\\\": {\\\"id\\\": \\\"1003\\\"}, \\\"new\\\": 2011.0}, {\\\"attr\\\": \\\"reset_start\\\", \\\"kind\\\": \\\"ModelChanged\\\", \\\"model\\\": {\\\"id\\\": \\\"1003\\\"}, \\\"new\\\": 2011.0}, {\\\"attr\\\": \\\"start\\\", \\\"kind\\\": \\\"ModelChanged\\\", \\\"model\\\": {\\\"id\\\": \\\"1004\\\"}, \\\"new\\\": -11.618859759594542}, {\\\"attr\\\": \\\"reset_start\\\", \\\"kind\\\": \\\"ModelChanged\\\", \\\"model\\\": {\\\"id\\\": \\\"1004\\\"}, \\\"new\\\": -11.618859759594542}, {\\\"attr\\\": \\\"end\\\", \\\"kind\\\": \\\"ModelChanged\\\", \\\"model\\\": {\\\"id\\\": \\\"1004\\\"}, \\\"new\\\": 617.0789615776667}, {\\\"attr\\\": \\\"reset_end\\\", \\\"kind\\\": \\\"ModelChanged\\\", \\\"model\\\": {\\\"id\\\": \\\"1004\\\"}, \\\"new\\\": 617.0789615776667}, {\\\"attr\\\": \\\"text\\\", \\\"kind\\\": \\\"ModelChanged\\\", \\\"model\\\": {\\\"id\\\": \\\"1007\\\"}, \\\"new\\\": \\\"neighborhood: Outer Mission\\\"}, {\\\"cols\\\": null, \\\"column_source\\\": {\\\"id\\\": \\\"1036\\\"}, \\\"kind\\\": \\\"ColumnDataChanged\\\", \\\"new\\\": {\\\"sale_price_sqr_foot\\\": {\\\"__ndarray__\\\": \\\"VAHB6Y/EYUDRheJJMrxrQMNZqfN/pYFAch01Y+ViREA=\\\", \\\"dtype\\\": \\\"float64\\\", \\\"order\\\": \\\"little\\\", \\\"shape\\\": [4]}, \\\"year\\\": [2011, 2012, 2015, 2016]}}], \\\"references\\\": []}\",\"header\":\"{\\\"msgid\\\": \\\"1233\\\", \\\"msgtype\\\": \\\"PATCH-DOC\\\"}\",\"metadata\":\"{}\"},\"Outer Parkside\":{\"content\":\"{\\\"events\\\": [{\\\"attr\\\": \\\"start\\\", \\\"kind\\\": \\\"ModelChanged\\\", \\\"model\\\": {\\\"id\\\": \\\"1004\\\"}, \\\"new\\\": 192.8681537267593}, {\\\"attr\\\": \\\"reset_start\\\", \\\"kind\\\": \\\"ModelChanged\\\", \\\"model\\\": {\\\"id\\\": \\\"1004\\\"}, \\\"new\\\": 192.8681537267593}, {\\\"attr\\\": \\\"end\\\", \\\"kind\\\": \\\"ModelChanged\\\", \\\"model\\\": {\\\"id\\\": \\\"1004\\\"}, \\\"new\\\": 781.7981869074372}, {\\\"attr\\\": \\\"reset_end\\\", \\\"kind\\\": \\\"ModelChanged\\\", \\\"model\\\": {\\\"id\\\": \\\"1004\\\"}, \\\"new\\\": 781.7981869074372}, {\\\"attr\\\": \\\"text\\\", \\\"kind\\\": \\\"ModelChanged\\\", \\\"model\\\": {\\\"id\\\": \\\"1007\\\"}, \\\"new\\\": \\\"neighborhood: Outer Parkside\\\"}, {\\\"cols\\\": null, \\\"column_source\\\": {\\\"id\\\": \\\"1036\\\"}, \\\"kind\\\": \\\"ColumnDataChanged\\\", \\\"new\\\": {\\\"sale_price_sqr_foot\\\": {\\\"__ndarray__\\\": \\\"nUKf6h8De0AqM2fRQj5uQH6d/P9XjXNAQqfjLN9Dd0DfE9xHtVeEQIwwtcJNYoRAKzIM9sPlhkA=\\\", \\\"dtype\\\": \\\"float64\\\", \\\"order\\\": \\\"little\\\", \\\"shape\\\": [7]}, \\\"year\\\": [2010, 2011, 2012, 2013, 2014, 2015, 2016]}}], \\\"references\\\": []}\",\"header\":\"{\\\"msgid\\\": \\\"1228\\\", \\\"msgtype\\\": \\\"PATCH-DOC\\\"}\",\"metadata\":\"{}\"},\"Outer Richmond \":{\"content\":\"{\\\"events\\\": [{\\\"attr\\\": \\\"start\\\", \\\"kind\\\": \\\"ModelChanged\\\", \\\"model\\\": {\\\"id\\\": \\\"1004\\\"}, \\\"new\\\": 178.53460983386742}, {\\\"attr\\\": \\\"reset_start\\\", \\\"kind\\\": \\\"ModelChanged\\\", \\\"model\\\": {\\\"id\\\": \\\"1004\\\"}, \\\"new\\\": 178.53460983386742}, {\\\"attr\\\": \\\"end\\\", \\\"kind\\\": \\\"ModelChanged\\\", \\\"model\\\": {\\\"id\\\": \\\"1004\\\"}, \\\"new\\\": 1289.2009666593892}, {\\\"attr\\\": \\\"reset_end\\\", \\\"kind\\\": \\\"ModelChanged\\\", \\\"model\\\": {\\\"id\\\": \\\"1004\\\"}, \\\"new\\\": 1289.2009666593892}, {\\\"attr\\\": \\\"text\\\", \\\"kind\\\": \\\"ModelChanged\\\", \\\"model\\\": {\\\"id\\\": \\\"1007\\\"}, \\\"new\\\": \\\"neighborhood: Outer Richmond\\\"}, {\\\"cols\\\": null, \\\"column_source\\\": {\\\"id\\\": \\\"1036\\\"}, \\\"kind\\\": \\\"ColumnDataChanged\\\", \\\"new\\\": {\\\"sale_price_sqr_foot\\\": {\\\"__ndarray__\\\": \\\"B35J6gQidUBmZTA2cfFwQKF06NAgKnVARYFoaYbGdECvXdvZ9R55QL5PqQ58Z3tAoL9q7ZSykkA=\\\", \\\"dtype\\\": \\\"float64\\\", \\\"order\\\": \\\"little\\\", \\\"shape\\\": [7]}, \\\"year\\\": [2010, 2011, 2012, 2013, 2014, 2015, 2016]}}], \\\"references\\\": []}\",\"header\":\"{\\\"msgid\\\": \\\"1223\\\", \\\"msgtype\\\": \\\"PATCH-DOC\\\"}\",\"metadata\":\"{}\"},\"Outer Sunset\":{\"content\":\"{\\\"events\\\": [{\\\"attr\\\": \\\"start\\\", \\\"kind\\\": \\\"ModelChanged\\\", \\\"model\\\": {\\\"id\\\": \\\"1004\\\"}, \\\"new\\\": 275.9124229091034}, {\\\"attr\\\": \\\"reset_start\\\", \\\"kind\\\": \\\"ModelChanged\\\", \\\"model\\\": {\\\"id\\\": \\\"1004\\\"}, \\\"new\\\": 275.9124229091034}, {\\\"attr\\\": \\\"end\\\", \\\"kind\\\": \\\"ModelChanged\\\", \\\"model\\\": {\\\"id\\\": \\\"1004\\\"}, \\\"new\\\": 531.9100421512223}, {\\\"attr\\\": \\\"reset_end\\\", \\\"kind\\\": \\\"ModelChanged\\\", \\\"model\\\": {\\\"id\\\": \\\"1004\\\"}, \\\"new\\\": 531.9100421512223}, {\\\"attr\\\": \\\"text\\\", \\\"kind\\\": \\\"ModelChanged\\\", \\\"model\\\": {\\\"id\\\": \\\"1007\\\"}, \\\"new\\\": \\\"neighborhood: Outer Sunset\\\"}, {\\\"cols\\\": null, \\\"column_source\\\": {\\\"id\\\": \\\"1036\\\"}, \\\"kind\\\": \\\"ColumnDataChanged\\\", \\\"new\\\": {\\\"sale_price_sqr_foot\\\": {\\\"__ndarray__\\\": \\\"vsH9HfwEd0DfWRDO7ZNyQGMEtIPw0HlAduAUwFAhdECKxEQ80aV+QFgk0ahQXnZAWykPAzvpf0A=\\\", \\\"dtype\\\": \\\"float64\\\", \\\"order\\\": \\\"little\\\", \\\"shape\\\": [7]}, \\\"year\\\": [2010, 2011, 2012, 2013, 2014, 2015, 2016]}}], \\\"references\\\": []}\",\"header\":\"{\\\"msgid\\\": \\\"1218\\\", \\\"msgtype\\\": \\\"PATCH-DOC\\\"}\",\"metadata\":\"{}\"},\"Pacific Heights\":{\"content\":\"{\\\"events\\\": [{\\\"attr\\\": \\\"start\\\", \\\"kind\\\": \\\"ModelChanged\\\", \\\"model\\\": {\\\"id\\\": \\\"1004\\\"}, \\\"new\\\": 446.52867920530446}, {\\\"attr\\\": \\\"reset_start\\\", \\\"kind\\\": \\\"ModelChanged\\\", \\\"model\\\": {\\\"id\\\": \\\"1004\\\"}, \\\"new\\\": 446.52867920530446}, {\\\"attr\\\": \\\"end\\\", \\\"kind\\\": \\\"ModelChanged\\\", \\\"model\\\": {\\\"id\\\": \\\"1004\\\"}, \\\"new\\\": 1046.3766985050486}, {\\\"attr\\\": \\\"reset_end\\\", \\\"kind\\\": \\\"ModelChanged\\\", \\\"model\\\": {\\\"id\\\": \\\"1004\\\"}, \\\"new\\\": 1046.3766985050486}, {\\\"attr\\\": \\\"text\\\", \\\"kind\\\": \\\"ModelChanged\\\", \\\"model\\\": {\\\"id\\\": \\\"1007\\\"}, \\\"new\\\": \\\"neighborhood: Pacific Heights\\\"}, {\\\"cols\\\": null, \\\"column_source\\\": {\\\"id\\\": \\\"1036\\\"}, \\\"kind\\\": \\\"ColumnDataChanged\\\", \\\"new\\\": {\\\"sale_price_sqr_foot\\\": {\\\"__ndarray__\\\": \\\"xNYMmEEIf0BGT3H7V9B/QLX7Z+e+UYJANTLZX2N+f0DaISsBRcWJQFibs2OAcYxAktikah0jj0A=\\\", \\\"dtype\\\": \\\"float64\\\", \\\"order\\\": \\\"little\\\", \\\"shape\\\": [7]}, \\\"year\\\": [2010, 2011, 2012, 2013, 2014, 2015, 2016]}}], \\\"references\\\": []}\",\"header\":\"{\\\"msgid\\\": \\\"1213\\\", \\\"msgtype\\\": \\\"PATCH-DOC\\\"}\",\"metadata\":\"{}\"},\"Park North\":{\"content\":\"{\\\"events\\\": [{\\\"attr\\\": \\\"end\\\", \\\"kind\\\": \\\"ModelChanged\\\", \\\"model\\\": {\\\"id\\\": \\\"1003\\\"}, \\\"new\\\": 2016.0}, {\\\"attr\\\": \\\"reset_end\\\", \\\"kind\\\": \\\"ModelChanged\\\", \\\"model\\\": {\\\"id\\\": \\\"1003\\\"}, \\\"new\\\": 2016.0}, {\\\"attr\\\": \\\"start\\\", \\\"kind\\\": \\\"ModelChanged\\\", \\\"model\\\": {\\\"id\\\": \\\"1004\\\"}, \\\"new\\\": 170.7742680143736}, {\\\"attr\\\": \\\"reset_start\\\", \\\"kind\\\": \\\"ModelChanged\\\", \\\"model\\\": {\\\"id\\\": \\\"1004\\\"}, \\\"new\\\": 170.7742680143736}, {\\\"attr\\\": \\\"end\\\", \\\"kind\\\": \\\"ModelChanged\\\", \\\"model\\\": {\\\"id\\\": \\\"1004\\\"}, \\\"new\\\": 657.0994901626783}, {\\\"attr\\\": \\\"reset_end\\\", \\\"kind\\\": \\\"ModelChanged\\\", \\\"model\\\": {\\\"id\\\": \\\"1004\\\"}, \\\"new\\\": 657.0994901626783}, {\\\"attr\\\": \\\"text\\\", \\\"kind\\\": \\\"ModelChanged\\\", \\\"model\\\": {\\\"id\\\": \\\"1007\\\"}, \\\"new\\\": \\\"neighborhood: Park North\\\"}, {\\\"cols\\\": null, \\\"column_source\\\": {\\\"id\\\": \\\"1036\\\"}, \\\"kind\\\": \\\"ColumnDataChanged\\\", \\\"new\\\": {\\\"sale_price_sqr_foot\\\": {\\\"__ndarray__\\\": \\\"PTKCP0ZgdECglLmJsBlyQAQj45xBAXJAHcH4twsFgEB6Pk21yT53QIxwU0CURINAbp9n0qRpakA=\\\", \\\"dtype\\\": \\\"float64\\\", \\\"order\\\": \\\"little\\\", \\\"shape\\\": [7]}, \\\"year\\\": [2010, 2011, 2012, 2013, 2014, 2015, 2016]}}], \\\"references\\\": []}\",\"header\":\"{\\\"msgid\\\": \\\"1208\\\", \\\"msgtype\\\": \\\"PATCH-DOC\\\"}\",\"metadata\":\"{}\"},\"Parkside\":{\"content\":\"{\\\"events\\\": [{\\\"attr\\\": \\\"end\\\", \\\"kind\\\": \\\"ModelChanged\\\", \\\"model\\\": {\\\"id\\\": \\\"1003\\\"}, \\\"new\\\": 2015.0}, {\\\"attr\\\": \\\"reset_end\\\", \\\"kind\\\": \\\"ModelChanged\\\", \\\"model\\\": {\\\"id\\\": \\\"1003\\\"}, \\\"new\\\": 2015.0}, {\\\"attr\\\": \\\"start\\\", \\\"kind\\\": \\\"ModelChanged\\\", \\\"model\\\": {\\\"id\\\": \\\"1004\\\"}, \\\"new\\\": 194.69074100076128}, {\\\"attr\\\": \\\"reset_start\\\", \\\"kind\\\": \\\"ModelChanged\\\", \\\"model\\\": {\\\"id\\\": \\\"1004\\\"}, \\\"new\\\": 194.69074100076128}, {\\\"attr\\\": \\\"end\\\", \\\"kind\\\": \\\"ModelChanged\\\", \\\"model\\\": {\\\"id\\\": \\\"1004\\\"}, \\\"new\\\": 469.1072911349746}, {\\\"attr\\\": \\\"reset_end\\\", \\\"kind\\\": \\\"ModelChanged\\\", \\\"model\\\": {\\\"id\\\": \\\"1004\\\"}, \\\"new\\\": 469.1072911349746}, {\\\"attr\\\": \\\"text\\\", \\\"kind\\\": \\\"ModelChanged\\\", \\\"model\\\": {\\\"id\\\": \\\"1007\\\"}, \\\"new\\\": \\\"neighborhood: Parkside\\\"}, {\\\"cols\\\": null, \\\"column_source\\\": {\\\"id\\\": \\\"1036\\\"}, \\\"kind\\\": \\\"ColumnDataChanged\\\", \\\"new\\\": {\\\"sale_price_sqr_foot\\\": {\\\"__ndarray__\\\": \\\"jNs5+aoicUATPfOU4TFrQAWYW85hpHdAiGIrlP7JdkC/o97y0+N7QAAAAAAAAPh/\\\", \\\"dtype\\\": \\\"float64\\\", \\\"order\\\": \\\"little\\\", \\\"shape\\\": [6]}, \\\"year\\\": [2010, 2011, 2012, 2013, 2014, 2015]}}], \\\"references\\\": []}\",\"header\":\"{\\\"msgid\\\": \\\"1203\\\", \\\"msgtype\\\": \\\"PATCH-DOC\\\"}\",\"metadata\":\"{}\"},\"Parnassus/Ashbury Heights\":{\"content\":\"{\\\"events\\\": [{\\\"attr\\\": \\\"end\\\", \\\"kind\\\": \\\"ModelChanged\\\", \\\"model\\\": {\\\"id\\\": \\\"1003\\\"}, \\\"new\\\": 2016.0}, {\\\"attr\\\": \\\"reset_end\\\", \\\"kind\\\": \\\"ModelChanged\\\", \\\"model\\\": {\\\"id\\\": \\\"1003\\\"}, \\\"new\\\": 2016.0}, {\\\"attr\\\": \\\"start\\\", \\\"kind\\\": \\\"ModelChanged\\\", \\\"model\\\": {\\\"id\\\": \\\"1004\\\"}, \\\"new\\\": 347.4067323930735}, {\\\"attr\\\": \\\"reset_start\\\", \\\"kind\\\": \\\"ModelChanged\\\", \\\"model\\\": {\\\"id\\\": \\\"1004\\\"}, \\\"new\\\": 347.4067323930735}, {\\\"attr\\\": \\\"end\\\", \\\"kind\\\": \\\"ModelChanged\\\", \\\"model\\\": {\\\"id\\\": \\\"1004\\\"}, \\\"new\\\": 1286.233007645905}, {\\\"attr\\\": \\\"reset_end\\\", \\\"kind\\\": \\\"ModelChanged\\\", \\\"model\\\": {\\\"id\\\": \\\"1004\\\"}, \\\"new\\\": 1286.233007645905}, {\\\"attr\\\": \\\"text\\\", \\\"kind\\\": \\\"ModelChanged\\\", \\\"model\\\": {\\\"id\\\": \\\"1007\\\"}, \\\"new\\\": \\\"neighborhood: Parnassus/Ashbury Heights\\\"}, {\\\"cols\\\": null, \\\"column_source\\\": {\\\"id\\\": \\\"1036\\\"}, \\\"kind\\\": \\\"ColumnDataChanged\\\", \\\"new\\\": {\\\"sale_price_sqr_foot\\\": {\\\"__ndarray__\\\": \\\"g4gEfxQke0DyEqbo4il9QIwLoVteH4BAIpiGrUaaekD6hZfDPyuIQI7cJCG/6oJAYp+hbP3fkkA=\\\", \\\"dtype\\\": \\\"float64\\\", \\\"order\\\": \\\"little\\\", \\\"shape\\\": [7]}, \\\"year\\\": [2010, 2011, 2012, 2013, 2014, 2015, 2016]}}], \\\"references\\\": []}\",\"header\":\"{\\\"msgid\\\": \\\"1198\\\", \\\"msgtype\\\": \\\"PATCH-DOC\\\"}\",\"metadata\":\"{}\"},\"Portola\":{\"content\":\"{\\\"events\\\": [{\\\"attr\\\": \\\"end\\\", \\\"kind\\\": \\\"ModelChanged\\\", \\\"model\\\": {\\\"id\\\": \\\"1003\\\"}, \\\"new\\\": 2014.0}, {\\\"attr\\\": \\\"reset_end\\\", \\\"kind\\\": \\\"ModelChanged\\\", \\\"model\\\": {\\\"id\\\": \\\"1003\\\"}, \\\"new\\\": 2014.0}, {\\\"attr\\\": \\\"start\\\", \\\"kind\\\": \\\"ModelChanged\\\", \\\"model\\\": {\\\"id\\\": \\\"1004\\\"}, \\\"new\\\": 175.16432656549597}, {\\\"attr\\\": \\\"reset_start\\\", \\\"kind\\\": \\\"ModelChanged\\\", \\\"model\\\": {\\\"id\\\": \\\"1004\\\"}, \\\"new\\\": 175.16432656549597}, {\\\"attr\\\": \\\"end\\\", \\\"kind\\\": \\\"ModelChanged\\\", \\\"model\\\": {\\\"id\\\": \\\"1004\\\"}, \\\"new\\\": 571.2083687601738}, {\\\"attr\\\": \\\"reset_end\\\", \\\"kind\\\": \\\"ModelChanged\\\", \\\"model\\\": {\\\"id\\\": \\\"1004\\\"}, \\\"new\\\": 571.2083687601738}, {\\\"attr\\\": \\\"text\\\", \\\"kind\\\": \\\"ModelChanged\\\", \\\"model\\\": {\\\"id\\\": \\\"1007\\\"}, \\\"new\\\": \\\"neighborhood: Portola\\\"}, {\\\"cols\\\": null, \\\"column_source\\\": {\\\"id\\\": \\\"1036\\\"}, \\\"kind\\\": \\\"ColumnDataChanged\\\", \\\"new\\\": {\\\"sale_price_sqr_foot\\\": {\\\"__ndarray__\\\": \\\"SE2NcH/ickDYhLc6YAVqQMhgbA2x8HVArI0kR+x/bUDI9wE5o9GAQA==\\\", \\\"dtype\\\": \\\"float64\\\", \\\"order\\\": \\\"little\\\", \\\"shape\\\": [5]}, \\\"year\\\": [2010, 2011, 2012, 2013, 2014]}}], \\\"references\\\": []}\",\"header\":\"{\\\"msgid\\\": \\\"1193\\\", \\\"msgtype\\\": \\\"PATCH-DOC\\\"}\",\"metadata\":\"{}\"},\"Potrero Hill\":{\"content\":\"{\\\"events\\\": [{\\\"attr\\\": \\\"start\\\", \\\"kind\\\": \\\"ModelChanged\\\", \\\"model\\\": {\\\"id\\\": \\\"1004\\\"}, \\\"new\\\": 408.7924696461623}, {\\\"attr\\\": \\\"reset_start\\\", \\\"kind\\\": \\\"ModelChanged\\\", \\\"model\\\": {\\\"id\\\": \\\"1004\\\"}, \\\"new\\\": 408.7924696461623}, {\\\"attr\\\": \\\"end\\\", \\\"kind\\\": \\\"ModelChanged\\\", \\\"model\\\": {\\\"id\\\": \\\"1004\\\"}, \\\"new\\\": 1103.056916492821}, {\\\"attr\\\": \\\"reset_end\\\", \\\"kind\\\": \\\"ModelChanged\\\", \\\"model\\\": {\\\"id\\\": \\\"1004\\\"}, \\\"new\\\": 1103.056916492821}, {\\\"attr\\\": \\\"text\\\", \\\"kind\\\": \\\"ModelChanged\\\", \\\"model\\\": {\\\"id\\\": \\\"1007\\\"}, \\\"new\\\": \\\"neighborhood: Potrero Hill\\\"}, {\\\"cols\\\": null, \\\"column_source\\\": {\\\"id\\\": \\\"1036\\\"}, \\\"kind\\\": \\\"ColumnDataChanged\\\", \\\"new\\\": {\\\"sale_price_sqr_foot\\\": {\\\"__ndarray__\\\": \\\"h38+NzO3fkC1zY5QN3J/QFj9s41dKn1AlMC7a6O1gkAa4w1izlSQQF3nsW1oqolAxoQBfzYdhkA=\\\", \\\"dtype\\\": \\\"float64\\\", \\\"order\\\": \\\"little\\\", \\\"shape\\\": [7]}, \\\"year\\\": [2010, 2011, 2012, 2013, 2014, 2015, 2016]}}], \\\"references\\\": []}\",\"header\":\"{\\\"msgid\\\": \\\"1188\\\", \\\"msgtype\\\": \\\"PATCH-DOC\\\"}\",\"metadata\":\"{}\"},\"Presidio Heights\":{\"content\":\"{\\\"events\\\": [{\\\"attr\\\": \\\"start\\\", \\\"kind\\\": \\\"ModelChanged\\\", \\\"model\\\": {\\\"id\\\": \\\"1004\\\"}, \\\"new\\\": 322.67259264014115}, {\\\"attr\\\": \\\"reset_start\\\", \\\"kind\\\": \\\"ModelChanged\\\", \\\"model\\\": {\\\"id\\\": \\\"1004\\\"}, \\\"new\\\": 322.67259264014115}, {\\\"attr\\\": \\\"end\\\", \\\"kind\\\": \\\"ModelChanged\\\", \\\"model\\\": {\\\"id\\\": \\\"1004\\\"}, \\\"new\\\": 1569.9045858190066}, {\\\"attr\\\": \\\"reset_end\\\", \\\"kind\\\": \\\"ModelChanged\\\", \\\"model\\\": {\\\"id\\\": \\\"1004\\\"}, \\\"new\\\": 1569.9045858190066}, {\\\"attr\\\": \\\"text\\\", \\\"kind\\\": \\\"ModelChanged\\\", \\\"model\\\": {\\\"id\\\": \\\"1007\\\"}, \\\"new\\\": \\\"neighborhood: Presidio Heights\\\"}, {\\\"cols\\\": null, \\\"column_source\\\": {\\\"id\\\": \\\"1036\\\"}, \\\"kind\\\": \\\"ColumnDataChanged\\\", \\\"new\\\": {\\\"sale_price_sqr_foot\\\": {\\\"__ndarray__\\\": \\\"1qRW7FcrgUCiXLTmCd1+QNBJCsu8qXpA+gIs1LgGgECnjECkm9uCQAAAAAAAAPh/hyUc1d/nlkA=\\\", \\\"dtype\\\": \\\"float64\\\", \\\"order\\\": \\\"little\\\", \\\"shape\\\": [7]}, \\\"year\\\": [2010, 2011, 2012, 2013, 2014, 2015, 2016]}}], \\\"references\\\": []}\",\"header\":\"{\\\"msgid\\\": \\\"1183\\\", \\\"msgtype\\\": \\\"PATCH-DOC\\\"}\",\"metadata\":\"{}\"},\"Russian Hill\":{\"content\":\"{\\\"events\\\": [{\\\"attr\\\": \\\"start\\\", \\\"kind\\\": \\\"ModelChanged\\\", \\\"model\\\": {\\\"id\\\": \\\"1003\\\"}, \\\"new\\\": 2010.0}, {\\\"attr\\\": \\\"reset_start\\\", \\\"kind\\\": \\\"ModelChanged\\\", \\\"model\\\": {\\\"id\\\": \\\"1003\\\"}, \\\"new\\\": 2010.0}, {\\\"attr\\\": \\\"end\\\", \\\"kind\\\": \\\"ModelChanged\\\", \\\"model\\\": {\\\"id\\\": \\\"1003\\\"}, \\\"new\\\": 2016.0}, {\\\"attr\\\": \\\"reset_end\\\", \\\"kind\\\": \\\"ModelChanged\\\", \\\"model\\\": {\\\"id\\\": \\\"1003\\\"}, \\\"new\\\": 2016.0}, {\\\"attr\\\": \\\"start\\\", \\\"kind\\\": \\\"ModelChanged\\\", \\\"model\\\": {\\\"id\\\": \\\"1004\\\"}, \\\"new\\\": 296.14905859078186}, {\\\"attr\\\": \\\"reset_start\\\", \\\"kind\\\": \\\"ModelChanged\\\", \\\"model\\\": {\\\"id\\\": \\\"1004\\\"}, \\\"new\\\": 296.14905859078186}, {\\\"attr\\\": \\\"end\\\", \\\"kind\\\": \\\"ModelChanged\\\", \\\"model\\\": {\\\"id\\\": \\\"1004\\\"}, \\\"new\\\": 1090.5390424588552}, {\\\"attr\\\": \\\"reset_end\\\", \\\"kind\\\": \\\"ModelChanged\\\", \\\"model\\\": {\\\"id\\\": \\\"1004\\\"}, \\\"new\\\": 1090.5390424588552}, {\\\"attr\\\": \\\"text\\\", \\\"kind\\\": \\\"ModelChanged\\\", \\\"model\\\": {\\\"id\\\": \\\"1007\\\"}, \\\"new\\\": \\\"neighborhood: Russian Hill\\\"}, {\\\"cols\\\": null, \\\"column_source\\\": {\\\"id\\\": \\\"1036\\\"}, \\\"kind\\\": \\\"ColumnDataChanged\\\", \\\"new\\\": {\\\"sale_price_sqr_foot\\\": {\\\"__ndarray__\\\": \\\"qeg8U5KldkCz55glHwV8QBozkYia4nlAYr9O7qOjf0BeOprOxlGGQE8CCI8YyohA+YfACFwBkEA=\\\", \\\"dtype\\\": \\\"float64\\\", \\\"order\\\": \\\"little\\\", \\\"shape\\\": [7]}, \\\"year\\\": [2010, 2011, 2012, 2013, 2014, 2015, 2016]}}], \\\"references\\\": []}\",\"header\":\"{\\\"msgid\\\": \\\"1178\\\", \\\"msgtype\\\": \\\"PATCH-DOC\\\"}\",\"metadata\":\"{}\"},\"Silver Terrace\":{\"content\":\"{\\\"events\\\": [{\\\"attr\\\": \\\"start\\\", \\\"kind\\\": \\\"ModelChanged\\\", \\\"model\\\": {\\\"id\\\": \\\"1003\\\"}, \\\"new\\\": 2013.0}, {\\\"attr\\\": \\\"reset_start\\\", \\\"kind\\\": \\\"ModelChanged\\\", \\\"model\\\": {\\\"id\\\": \\\"1003\\\"}, \\\"new\\\": 2013.0}, {\\\"attr\\\": \\\"end\\\", \\\"kind\\\": \\\"ModelChanged\\\", \\\"model\\\": {\\\"id\\\": \\\"1003\\\"}, \\\"new\\\": 2015.0}, {\\\"attr\\\": \\\"reset_end\\\", \\\"kind\\\": \\\"ModelChanged\\\", \\\"model\\\": {\\\"id\\\": \\\"1003\\\"}, \\\"new\\\": 2015.0}, {\\\"attr\\\": \\\"start\\\", \\\"kind\\\": \\\"ModelChanged\\\", \\\"model\\\": {\\\"id\\\": \\\"1004\\\"}, \\\"new\\\": 169.09254851520691}, {\\\"attr\\\": \\\"reset_start\\\", \\\"kind\\\": \\\"ModelChanged\\\", \\\"model\\\": {\\\"id\\\": \\\"1004\\\"}, \\\"new\\\": 169.09254851520691}, {\\\"attr\\\": \\\"end\\\", \\\"kind\\\": \\\"ModelChanged\\\", \\\"model\\\": {\\\"id\\\": \\\"1004\\\"}, \\\"new\\\": 171.4925485152069}, {\\\"attr\\\": \\\"reset_end\\\", \\\"kind\\\": \\\"ModelChanged\\\", \\\"model\\\": {\\\"id\\\": \\\"1004\\\"}, \\\"new\\\": 171.4925485152069}, {\\\"attr\\\": \\\"text\\\", \\\"kind\\\": \\\"ModelChanged\\\", \\\"model\\\": {\\\"id\\\": \\\"1007\\\"}, \\\"new\\\": \\\"neighborhood: Silver Terrace\\\"}, {\\\"cols\\\": null, \\\"column_source\\\": {\\\"id\\\": \\\"1036\\\"}, \\\"kind\\\": \\\"ColumnDataChanged\\\", \\\"new\\\": {\\\"sale_price_sqr_foot\\\": {\\\"__ndarray__\\\": \\\"0ym0jlxJZUA=\\\", \\\"dtype\\\": \\\"float64\\\", \\\"order\\\": \\\"little\\\", \\\"shape\\\": [1]}, \\\"year\\\": [2014]}}], \\\"references\\\": []}\",\"header\":\"{\\\"msgid\\\": \\\"1173\\\", \\\"msgtype\\\": \\\"PATCH-DOC\\\"}\",\"metadata\":\"{}\"},\"South Beach\":{\"content\":\"{\\\"events\\\": [{\\\"attr\\\": \\\"end\\\", \\\"kind\\\": \\\"ModelChanged\\\", \\\"model\\\": {\\\"id\\\": \\\"1003\\\"}, \\\"new\\\": 2014.0}, {\\\"attr\\\": \\\"reset_end\\\", \\\"kind\\\": \\\"ModelChanged\\\", \\\"model\\\": {\\\"id\\\": \\\"1003\\\"}, \\\"new\\\": 2014.0}, {\\\"attr\\\": \\\"start\\\", \\\"kind\\\": \\\"ModelChanged\\\", \\\"model\\\": {\\\"id\\\": \\\"1004\\\"}, \\\"new\\\": 323.79879159351344}, {\\\"attr\\\": \\\"reset_start\\\", \\\"kind\\\": \\\"ModelChanged\\\", \\\"model\\\": {\\\"id\\\": \\\"1004\\\"}, \\\"new\\\": 323.79879159351344}, {\\\"attr\\\": \\\"end\\\", \\\"kind\\\": \\\"ModelChanged\\\", \\\"model\\\": {\\\"id\\\": \\\"1004\\\"}, \\\"new\\\": 1101.9453338498147}, {\\\"attr\\\": \\\"reset_end\\\", \\\"kind\\\": \\\"ModelChanged\\\", \\\"model\\\": {\\\"id\\\": \\\"1004\\\"}, \\\"new\\\": 1101.9453338498147}, {\\\"attr\\\": \\\"text\\\", \\\"kind\\\": \\\"ModelChanged\\\", \\\"model\\\": {\\\"id\\\": \\\"1007\\\"}, \\\"new\\\": \\\"neighborhood: South Beach\\\"}, {\\\"cols\\\": null, \\\"column_source\\\": {\\\"id\\\": \\\"1036\\\"}, \\\"kind\\\": \\\"ColumnDataChanged\\\", \\\"new\\\": {\\\"sale_price_sqr_foot\\\": {\\\"__ndarray__\\\": \\\"l7v/LmY0kEAWxRU0T0p4QKOvzdQIZYBA\\\", \\\"dtype\\\": \\\"float64\\\", \\\"order\\\": \\\"little\\\", \\\"shape\\\": [3]}, \\\"year\\\": [2010, 2011, 2014]}}], \\\"references\\\": []}\",\"header\":\"{\\\"msgid\\\": \\\"1168\\\", \\\"msgtype\\\": \\\"PATCH-DOC\\\"}\",\"metadata\":\"{}\"},\"South of Market\":{\"content\":\"{\\\"events\\\": [{\\\"attr\\\": \\\"start\\\", \\\"kind\\\": \\\"ModelChanged\\\", \\\"model\\\": {\\\"id\\\": \\\"1004\\\"}, \\\"new\\\": 259.7216603765349}, {\\\"attr\\\": \\\"reset_start\\\", \\\"kind\\\": \\\"ModelChanged\\\", \\\"model\\\": {\\\"id\\\": \\\"1004\\\"}, \\\"new\\\": 259.7216603765349}, {\\\"attr\\\": \\\"end\\\", \\\"kind\\\": \\\"ModelChanged\\\", \\\"model\\\": {\\\"id\\\": \\\"1004\\\"}, \\\"new\\\": 1198.031351581918}, {\\\"attr\\\": \\\"reset_end\\\", \\\"kind\\\": \\\"ModelChanged\\\", \\\"model\\\": {\\\"id\\\": \\\"1004\\\"}, \\\"new\\\": 1198.031351581918}, {\\\"attr\\\": \\\"text\\\", \\\"kind\\\": \\\"ModelChanged\\\", \\\"model\\\": {\\\"id\\\": \\\"1007\\\"}, \\\"new\\\": \\\"neighborhood: South of Market\\\"}, {\\\"cols\\\": null, \\\"column_source\\\": {\\\"id\\\": \\\"1036\\\"}, \\\"kind\\\": \\\"ColumnDataChanged\\\", \\\"new\\\": {\\\"sale_price_sqr_foot\\\": {\\\"__ndarray__\\\": \\\"NvbXUbwUeUDj6aVLoB51QFu0jVj1/HxAwhgJqydNekC8oacCW3+RQCGjXgupaIZAeO0bSxeZgEA=\\\", \\\"dtype\\\": \\\"float64\\\", \\\"order\\\": \\\"little\\\", \\\"shape\\\": [7]}, \\\"year\\\": [2010, 2011, 2012, 2013, 2014, 2015, 2016]}}], \\\"references\\\": []}\",\"header\":\"{\\\"msgid\\\": \\\"1163\\\", \\\"msgtype\\\": \\\"PATCH-DOC\\\"}\",\"metadata\":\"{}\"},\"Sunnyside\":{\"content\":\"{\\\"events\\\": [{\\\"attr\\\": \\\"start\\\", \\\"kind\\\": \\\"ModelChanged\\\", \\\"model\\\": {\\\"id\\\": \\\"1004\\\"}, \\\"new\\\": 405.76335854915556}, {\\\"attr\\\": \\\"reset_start\\\", \\\"kind\\\": \\\"ModelChanged\\\", \\\"model\\\": {\\\"id\\\": \\\"1004\\\"}, \\\"new\\\": 405.76335854915556}, {\\\"attr\\\": \\\"end\\\", \\\"kind\\\": \\\"ModelChanged\\\", \\\"model\\\": {\\\"id\\\": \\\"1004\\\"}, \\\"new\\\": 782.5746498630087}, {\\\"attr\\\": \\\"reset_end\\\", \\\"kind\\\": \\\"ModelChanged\\\", \\\"model\\\": {\\\"id\\\": \\\"1004\\\"}, \\\"new\\\": 782.5746498630087}, {\\\"attr\\\": \\\"text\\\", \\\"kind\\\": \\\"ModelChanged\\\", \\\"model\\\": {\\\"id\\\": \\\"1007\\\"}, \\\"new\\\": \\\"neighborhood: Sunnyside\\\"}, {\\\"cols\\\": null, \\\"column_source\\\": {\\\"id\\\": \\\"1036\\\"}, \\\"kind\\\": \\\"ColumnDataChanged\\\", \\\"new\\\": {\\\"sale_price_sqr_foot\\\": {\\\"__ndarray__\\\": \\\"f6R84kD0gECgDIH4oFJ7QPXbPGNbnX9AnvFbKErXfkARQeSF/3t7QNaZgMFjeYdA\\\", \\\"dtype\\\": \\\"float64\\\", \\\"order\\\": \\\"little\\\", \\\"shape\\\": [6]}, \\\"year\\\": [2010, 2011, 2013, 2014, 2015, 2016]}}], \\\"references\\\": []}\",\"header\":\"{\\\"msgid\\\": \\\"1158\\\", \\\"msgtype\\\": \\\"PATCH-DOC\\\"}\",\"metadata\":\"{}\"},\"Telegraph Hill\":{\"content\":\"{\\\"events\\\": [{\\\"attr\\\": \\\"start\\\", \\\"kind\\\": \\\"ModelChanged\\\", \\\"model\\\": {\\\"id\\\": \\\"1004\\\"}, \\\"new\\\": 412.68331174636455}, {\\\"attr\\\": \\\"reset_start\\\", \\\"kind\\\": \\\"ModelChanged\\\", \\\"model\\\": {\\\"id\\\": \\\"1004\\\"}, \\\"new\\\": 412.68331174636455}, {\\\"attr\\\": \\\"end\\\", \\\"kind\\\": \\\"ModelChanged\\\", \\\"model\\\": {\\\"id\\\": \\\"1004\\\"}, \\\"new\\\": 1050.1090303712745}, {\\\"attr\\\": \\\"reset_end\\\", \\\"kind\\\": \\\"ModelChanged\\\", \\\"model\\\": {\\\"id\\\": \\\"1004\\\"}, \\\"new\\\": 1050.1090303712745}, {\\\"attr\\\": \\\"text\\\", \\\"kind\\\": \\\"ModelChanged\\\", \\\"model\\\": {\\\"id\\\": \\\"1007\\\"}, \\\"new\\\": \\\"neighborhood: Telegraph Hill\\\"}, {\\\"cols\\\": null, \\\"column_source\\\": {\\\"id\\\": \\\"1036\\\"}, \\\"kind\\\": \\\"ColumnDataChanged\\\", \\\"new\\\": {\\\"sale_price_sqr_foot\\\": {\\\"__ndarray__\\\": \\\"COpLG1lmgEAS2VILfjZ+QB7+fX3VHH1AM0HkMH5qhECxLjJUiyGGQPfUt/jrJ49AqrAg7mU4jEA=\\\", \\\"dtype\\\": \\\"float64\\\", \\\"order\\\": \\\"little\\\", \\\"shape\\\": [7]}, \\\"year\\\": [2010, 2011, 2012, 2013, 2014, 2015, 2016]}}], \\\"references\\\": []}\",\"header\":\"{\\\"msgid\\\": \\\"1153\\\", \\\"msgtype\\\": \\\"PATCH-DOC\\\"}\",\"metadata\":\"{}\"},\"Twin Peaks\":{\"content\":\"{\\\"events\\\": [{\\\"attr\\\": \\\"end\\\", \\\"kind\\\": \\\"ModelChanged\\\", \\\"model\\\": {\\\"id\\\": \\\"1003\\\"}, \\\"new\\\": 2016.0}, {\\\"attr\\\": \\\"reset_end\\\", \\\"kind\\\": \\\"ModelChanged\\\", \\\"model\\\": {\\\"id\\\": \\\"1003\\\"}, \\\"new\\\": 2016.0}, {\\\"attr\\\": \\\"start\\\", \\\"kind\\\": \\\"ModelChanged\\\", \\\"model\\\": {\\\"id\\\": \\\"1004\\\"}, \\\"new\\\": 216.0151160609511}, {\\\"attr\\\": \\\"reset_start\\\", \\\"kind\\\": \\\"ModelChanged\\\", \\\"model\\\": {\\\"id\\\": \\\"1004\\\"}, \\\"new\\\": 216.0151160609511}, {\\\"attr\\\": \\\"end\\\", \\\"kind\\\": \\\"ModelChanged\\\", \\\"model\\\": {\\\"id\\\": \\\"1004\\\"}, \\\"new\\\": 1038.6373204513354}, {\\\"attr\\\": \\\"reset_end\\\", \\\"kind\\\": \\\"ModelChanged\\\", \\\"model\\\": {\\\"id\\\": \\\"1004\\\"}, \\\"new\\\": 1038.6373204513354}, {\\\"attr\\\": \\\"text\\\", \\\"kind\\\": \\\"ModelChanged\\\", \\\"model\\\": {\\\"id\\\": \\\"1007\\\"}, \\\"new\\\": \\\"neighborhood: Twin Peaks\\\"}, {\\\"cols\\\": null, \\\"column_source\\\": {\\\"id\\\": \\\"1036\\\"}, \\\"kind\\\": \\\"ColumnDataChanged\\\", \\\"new\\\": {\\\"sale_price_sqr_foot\\\": {\\\"__ndarray__\\\": \\\"WOE2XOW4dEC1UWNLEslxQAmC4vRkDnNA+JW2mPjmeUDKE/I0SpeBQBwTSrZdFXpACq/wCq9QjkA=\\\", \\\"dtype\\\": \\\"float64\\\", \\\"order\\\": \\\"little\\\", \\\"shape\\\": [7]}, \\\"year\\\": [2010, 2011, 2012, 2013, 2014, 2015, 2016]}}], \\\"references\\\": []}\",\"header\":\"{\\\"msgid\\\": \\\"1148\\\", \\\"msgtype\\\": \\\"PATCH-DOC\\\"}\",\"metadata\":\"{}\"},\"Union Square District\":{\"content\":\"{\\\"events\\\": [{\\\"attr\\\": \\\"end\\\", \\\"kind\\\": \\\"ModelChanged\\\", \\\"model\\\": {\\\"id\\\": \\\"1003\\\"}, \\\"new\\\": 2015.0}, {\\\"attr\\\": \\\"reset_end\\\", \\\"kind\\\": \\\"ModelChanged\\\", \\\"model\\\": {\\\"id\\\": \\\"1003\\\"}, \\\"new\\\": 2015.0}, {\\\"attr\\\": \\\"start\\\", \\\"kind\\\": \\\"ModelChanged\\\", \\\"model\\\": {\\\"id\\\": \\\"1004\\\"}, \\\"new\\\": 106.46529489082496}, {\\\"attr\\\": \\\"reset_start\\\", \\\"kind\\\": \\\"ModelChanged\\\", \\\"model\\\": {\\\"id\\\": \\\"1004\\\"}, \\\"new\\\": 106.46529489082496}, {\\\"attr\\\": \\\"end\\\", \\\"kind\\\": \\\"ModelChanged\\\", \\\"model\\\": {\\\"id\\\": \\\"1004\\\"}, \\\"new\\\": 2454.3607899172216}, {\\\"attr\\\": \\\"reset_end\\\", \\\"kind\\\": \\\"ModelChanged\\\", \\\"model\\\": {\\\"id\\\": \\\"1004\\\"}, \\\"new\\\": 2454.3607899172216}, {\\\"attr\\\": \\\"text\\\", \\\"kind\\\": \\\"ModelChanged\\\", \\\"model\\\": {\\\"id\\\": \\\"1007\\\"}, \\\"new\\\": \\\"neighborhood: Union Square District\\\"}, {\\\"cols\\\": null, \\\"column_source\\\": {\\\"id\\\": \\\"1036\\\"}, \\\"kind\\\": \\\"ColumnDataChanged\\\", \\\"new\\\": {\\\"sale_price_sqr_foot\\\": {\\\"__ndarray__\\\": \\\"4Ic3LozJgUA7LPDX+OFyQDQwzQom03tAML7sb+MplEBCsqZAK3KBQAl/mNlnpaFA\\\", \\\"dtype\\\": \\\"float64\\\", \\\"order\\\": \\\"little\\\", \\\"shape\\\": [6]}, \\\"year\\\": [2010, 2011, 2012, 2013, 2014, 2015]}}], \\\"references\\\": []}\",\"header\":\"{\\\"msgid\\\": \\\"1143\\\", \\\"msgtype\\\": \\\"PATCH-DOC\\\"}\",\"metadata\":\"{}\"},\"Van Ness/ Civic Center\":{\"content\":\"{\\\"events\\\": [{\\\"attr\\\": \\\"start\\\", \\\"kind\\\": \\\"ModelChanged\\\", \\\"model\\\": {\\\"id\\\": \\\"1003\\\"}, \\\"new\\\": 2010.0}, {\\\"attr\\\": \\\"reset_start\\\", \\\"kind\\\": \\\"ModelChanged\\\", \\\"model\\\": {\\\"id\\\": \\\"1003\\\"}, \\\"new\\\": 2010.0}, {\\\"attr\\\": \\\"start\\\", \\\"kind\\\": \\\"ModelChanged\\\", \\\"model\\\": {\\\"id\\\": \\\"1004\\\"}, \\\"new\\\": 51.03039638133734}, {\\\"attr\\\": \\\"reset_start\\\", \\\"kind\\\": \\\"ModelChanged\\\", \\\"model\\\": {\\\"id\\\": \\\"1004\\\"}, \\\"new\\\": 51.03039638133734}, {\\\"attr\\\": \\\"end\\\", \\\"kind\\\": \\\"ModelChanged\\\", \\\"model\\\": {\\\"id\\\": \\\"1004\\\"}, \\\"new\\\": 734.8207623233469}, {\\\"attr\\\": \\\"reset_end\\\", \\\"kind\\\": \\\"ModelChanged\\\", \\\"model\\\": {\\\"id\\\": \\\"1004\\\"}, \\\"new\\\": 734.8207623233469}, {\\\"attr\\\": \\\"text\\\", \\\"kind\\\": \\\"ModelChanged\\\", \\\"model\\\": {\\\"id\\\": \\\"1007\\\"}, \\\"new\\\": \\\"neighborhood: Van Ness/ Civic Center\\\"}, {\\\"cols\\\": null, \\\"column_source\\\": {\\\"id\\\": \\\"1036\\\"}, \\\"kind\\\": \\\"ColumnDataChanged\\\", \\\"new\\\": {\\\"sale_price_sqr_foot\\\": {\\\"__ndarray__\\\": \\\"9/Q/y9MAW0C4de7wyQN4QCWBKCJUn3VAuVvU7ybQcUD2TkF+SrZ9QPqD47K0LoVAmVO3DtJEgUA=\\\", \\\"dtype\\\": \\\"float64\\\", \\\"order\\\": \\\"little\\\", \\\"shape\\\": [7]}, \\\"year\\\": [2010, 2011, 2012, 2013, 2014, 2015, 2016]}}], \\\"references\\\": []}\",\"header\":\"{\\\"msgid\\\": \\\"1138\\\", \\\"msgtype\\\": \\\"PATCH-DOC\\\"}\",\"metadata\":\"{}\"},\"Visitacion Valley\":{\"content\":\"{\\\"events\\\": [{\\\"attr\\\": \\\"start\\\", \\\"kind\\\": \\\"ModelChanged\\\", \\\"model\\\": {\\\"id\\\": \\\"1003\\\"}, \\\"new\\\": 2013.0}, {\\\"attr\\\": \\\"reset_start\\\", \\\"kind\\\": \\\"ModelChanged\\\", \\\"model\\\": {\\\"id\\\": \\\"1003\\\"}, \\\"new\\\": 2013.0}, {\\\"attr\\\": \\\"end\\\", \\\"kind\\\": \\\"ModelChanged\\\", \\\"model\\\": {\\\"id\\\": \\\"1003\\\"}, \\\"new\\\": 2016.0}, {\\\"attr\\\": \\\"reset_end\\\", \\\"kind\\\": \\\"ModelChanged\\\", \\\"model\\\": {\\\"id\\\": \\\"1003\\\"}, \\\"new\\\": 2016.0}, {\\\"attr\\\": \\\"start\\\", \\\"kind\\\": \\\"ModelChanged\\\", \\\"model\\\": {\\\"id\\\": \\\"1004\\\"}, \\\"new\\\": 277.39611446160455}, {\\\"attr\\\": \\\"reset_start\\\", \\\"kind\\\": \\\"ModelChanged\\\", \\\"model\\\": {\\\"id\\\": \\\"1004\\\"}, \\\"new\\\": 277.39611446160455}, {\\\"attr\\\": \\\"end\\\", \\\"kind\\\": \\\"ModelChanged\\\", \\\"model\\\": {\\\"id\\\": \\\"1004\\\"}, \\\"new\\\": 332.94836052432925}, {\\\"attr\\\": \\\"reset_end\\\", \\\"kind\\\": \\\"ModelChanged\\\", \\\"model\\\": {\\\"id\\\": \\\"1004\\\"}, \\\"new\\\": 332.94836052432925}, {\\\"attr\\\": \\\"text\\\", \\\"kind\\\": \\\"ModelChanged\\\", \\\"model\\\": {\\\"id\\\": \\\"1007\\\"}, \\\"new\\\": \\\"neighborhood: Visitacion Valley\\\"}, {\\\"cols\\\": null, \\\"column_source\\\": {\\\"id\\\": \\\"1036\\\"}, \\\"kind\\\": \\\"ColumnDataChanged\\\", \\\"new\\\": {\\\"sale_price_sqr_foot\\\": {\\\"__ndarray__\\\": \\\"bh3vIcZUckCxxHJRaKBxQA8XZcqM43JAUinBphqFdEA=\\\", \\\"dtype\\\": \\\"float64\\\", \\\"order\\\": \\\"little\\\", \\\"shape\\\": [4]}, \\\"year\\\": [2013, 2014, 2015, 2016]}}], \\\"references\\\": []}\",\"header\":\"{\\\"msgid\\\": \\\"1133\\\", \\\"msgtype\\\": \\\"PATCH-DOC\\\"}\",\"metadata\":\"{}\"},\"West Portal\":{\"content\":\"{\\\"events\\\": [{\\\"attr\\\": \\\"end\\\", \\\"kind\\\": \\\"ModelChanged\\\", \\\"model\\\": {\\\"id\\\": \\\"1003\\\"}, \\\"new\\\": 2014.0}, {\\\"attr\\\": \\\"reset_end\\\", \\\"kind\\\": \\\"ModelChanged\\\", \\\"model\\\": {\\\"id\\\": \\\"1003\\\"}, \\\"new\\\": 2014.0}, {\\\"attr\\\": \\\"start\\\", \\\"kind\\\": \\\"ModelChanged\\\", \\\"model\\\": {\\\"id\\\": \\\"1004\\\"}, \\\"new\\\": 289.5966602407253}, {\\\"attr\\\": \\\"reset_start\\\", \\\"kind\\\": \\\"ModelChanged\\\", \\\"model\\\": {\\\"id\\\": \\\"1004\\\"}, \\\"new\\\": 289.5966602407253}, {\\\"attr\\\": \\\"end\\\", \\\"kind\\\": \\\"ModelChanged\\\", \\\"model\\\": {\\\"id\\\": \\\"1004\\\"}, \\\"new\\\": 723.981718124067}, {\\\"attr\\\": \\\"reset_end\\\", \\\"kind\\\": \\\"ModelChanged\\\", \\\"model\\\": {\\\"id\\\": \\\"1004\\\"}, \\\"new\\\": 723.981718124067}, {\\\"attr\\\": \\\"text\\\", \\\"kind\\\": \\\"ModelChanged\\\", \\\"model\\\": {\\\"id\\\": \\\"1007\\\"}, \\\"new\\\": \\\"neighborhood: West Portal\\\"}, {\\\"cols\\\": null, \\\"column_source\\\": {\\\"id\\\": \\\"1036\\\"}, \\\"kind\\\": \\\"ColumnDataChanged\\\", \\\"new\\\": {\\\"sale_price_sqr_foot\\\": {\\\"__ndarray__\\\": \\\"X0cX7s+EeEAugSUFulx0QOs5Di+ZYIJAY0tDgkN+hUA=\\\", \\\"dtype\\\": \\\"float64\\\", \\\"order\\\": \\\"little\\\", \\\"shape\\\": [4]}, \\\"year\\\": [2010, 2012, 2013, 2014]}}], \\\"references\\\": []}\",\"header\":\"{\\\"msgid\\\": \\\"1128\\\", \\\"msgtype\\\": \\\"PATCH-DOC\\\"}\",\"metadata\":\"{}\"},\"Western Addition\":{\"content\":\"{\\\"events\\\": [{\\\"attr\\\": \\\"start\\\", \\\"kind\\\": \\\"ModelChanged\\\", \\\"model\\\": {\\\"id\\\": \\\"1003\\\"}, \\\"new\\\": 2010.0}, {\\\"attr\\\": \\\"reset_start\\\", \\\"kind\\\": \\\"ModelChanged\\\", \\\"model\\\": {\\\"id\\\": \\\"1003\\\"}, \\\"new\\\": 2010.0}, {\\\"attr\\\": \\\"end\\\", \\\"kind\\\": \\\"ModelChanged\\\", \\\"model\\\": {\\\"id\\\": \\\"1003\\\"}, \\\"new\\\": 2015.0}, {\\\"attr\\\": \\\"reset_end\\\", \\\"kind\\\": \\\"ModelChanged\\\", \\\"model\\\": {\\\"id\\\": \\\"1003\\\"}, \\\"new\\\": 2015.0}, {\\\"attr\\\": \\\"start\\\", \\\"kind\\\": \\\"ModelChanged\\\", \\\"model\\\": {\\\"id\\\": \\\"1004\\\"}, \\\"new\\\": 188.97912331896887}, {\\\"attr\\\": \\\"reset_start\\\", \\\"kind\\\": \\\"ModelChanged\\\", \\\"model\\\": {\\\"id\\\": \\\"1004\\\"}, \\\"new\\\": 188.97912331896887}, {\\\"attr\\\": \\\"end\\\", \\\"kind\\\": \\\"ModelChanged\\\", \\\"model\\\": {\\\"id\\\": \\\"1004\\\"}, \\\"new\\\": 508.059255269849}, {\\\"attr\\\": \\\"reset_end\\\", \\\"kind\\\": \\\"ModelChanged\\\", \\\"model\\\": {\\\"id\\\": \\\"1004\\\"}, \\\"new\\\": 508.059255269849}, {\\\"attr\\\": \\\"text\\\", \\\"kind\\\": \\\"ModelChanged\\\", \\\"model\\\": {\\\"id\\\": \\\"1007\\\"}, \\\"new\\\": \\\"neighborhood: Western Addition\\\"}, {\\\"cols\\\": null, \\\"column_source\\\": {\\\"id\\\": \\\"1036\\\"}, \\\"kind\\\": \\\"ColumnDataChanged\\\", \\\"new\\\": {\\\"sale_price_sqr_foot\\\": {\\\"__ndarray__\\\": \\\"gK0qWTbyakDIEo9KaG1sQCp/FVVqJXFAdZUip9kia0B6M+4l0Nd6QK+mSAaCF35A\\\", \\\"dtype\\\": \\\"float64\\\", \\\"order\\\": \\\"little\\\", \\\"shape\\\": [6]}, \\\"year\\\": [2010, 2011, 2012, 2013, 2014, 2015]}}], \\\"references\\\": []}\",\"header\":\"{\\\"msgid\\\": \\\"1123\\\", \\\"msgtype\\\": \\\"PATCH-DOC\\\"}\",\"metadata\":\"{}\"},\"Westwood Highlands\":{\"content\":\"{\\\"events\\\": [{\\\"attr\\\": \\\"start\\\", \\\"kind\\\": \\\"ModelChanged\\\", \\\"model\\\": {\\\"id\\\": \\\"1003\\\"}, \\\"new\\\": 2011.0}, {\\\"attr\\\": \\\"reset_start\\\", \\\"kind\\\": \\\"ModelChanged\\\", \\\"model\\\": {\\\"id\\\": \\\"1003\\\"}, \\\"new\\\": 2011.0}, {\\\"attr\\\": \\\"end\\\", \\\"kind\\\": \\\"ModelChanged\\\", \\\"model\\\": {\\\"id\\\": \\\"1003\\\"}, \\\"new\\\": 2013.0}, {\\\"attr\\\": \\\"reset_end\\\", \\\"kind\\\": \\\"ModelChanged\\\", \\\"model\\\": {\\\"id\\\": \\\"1003\\\"}, \\\"new\\\": 2013.0}, {\\\"attr\\\": \\\"start\\\", \\\"kind\\\": \\\"ModelChanged\\\", \\\"model\\\": {\\\"id\\\": \\\"1004\\\"}, \\\"new\\\": 277.34841257850235}, {\\\"attr\\\": \\\"reset_start\\\", \\\"kind\\\": \\\"ModelChanged\\\", \\\"model\\\": {\\\"id\\\": \\\"1004\\\"}, \\\"new\\\": 277.34841257850235}, {\\\"attr\\\": \\\"end\\\", \\\"kind\\\": \\\"ModelChanged\\\", \\\"model\\\": {\\\"id\\\": \\\"1004\\\"}, \\\"new\\\": 790.0594582934003}, {\\\"attr\\\": \\\"reset_end\\\", \\\"kind\\\": \\\"ModelChanged\\\", \\\"model\\\": {\\\"id\\\": \\\"1004\\\"}, \\\"new\\\": 790.0594582934003}, {\\\"attr\\\": \\\"text\\\", \\\"kind\\\": \\\"ModelChanged\\\", \\\"model\\\": {\\\"id\\\": \\\"1007\\\"}, \\\"new\\\": \\\"neighborhood: Westwood Highlands\\\"}, {\\\"cols\\\": null, \\\"column_source\\\": {\\\"id\\\": \\\"1036\\\"}, \\\"kind\\\": \\\"ColumnDataChanged\\\", \\\"new\\\": {\\\"sale_price_sqr_foot\\\": {\\\"__ndarray__\\\": \\\"MHLbdzABdEBpBeAVq1qHQA==\\\", \\\"dtype\\\": \\\"float64\\\", \\\"order\\\": \\\"little\\\", \\\"shape\\\": [2]}, \\\"year\\\": [2011, 2013]}}], \\\"references\\\": []}\",\"header\":\"{\\\"msgid\\\": \\\"1118\\\", \\\"msgtype\\\": \\\"PATCH-DOC\\\"}\",\"metadata\":\"{}\"},\"Westwood Park\":{\"content\":\"{\\\"events\\\": [{\\\"attr\\\": \\\"start\\\", \\\"kind\\\": \\\"ModelChanged\\\", \\\"model\\\": {\\\"id\\\": \\\"1003\\\"}, \\\"new\\\": 2014.0}, {\\\"attr\\\": \\\"reset_start\\\", \\\"kind\\\": \\\"ModelChanged\\\", \\\"model\\\": {\\\"id\\\": \\\"1003\\\"}, \\\"new\\\": 2014.0}, {\\\"attr\\\": \\\"end\\\", \\\"kind\\\": \\\"ModelChanged\\\", \\\"model\\\": {\\\"id\\\": \\\"1003\\\"}, \\\"new\\\": 2016.0}, {\\\"attr\\\": \\\"reset_end\\\", \\\"kind\\\": \\\"ModelChanged\\\", \\\"model\\\": {\\\"id\\\": \\\"1003\\\"}, \\\"new\\\": 2016.0}, {\\\"attr\\\": \\\"start\\\", \\\"kind\\\": \\\"ModelChanged\\\", \\\"model\\\": {\\\"id\\\": \\\"1004\\\"}, \\\"new\\\": 620.0169961433245}, {\\\"attr\\\": \\\"reset_start\\\", \\\"kind\\\": \\\"ModelChanged\\\", \\\"model\\\": {\\\"id\\\": \\\"1004\\\"}, \\\"new\\\": 620.0169961433245}, {\\\"attr\\\": \\\"end\\\", \\\"kind\\\": \\\"ModelChanged\\\", \\\"model\\\": {\\\"id\\\": \\\"1004\\\"}, \\\"new\\\": 754.15815289234}, {\\\"attr\\\": \\\"reset_end\\\", \\\"kind\\\": \\\"ModelChanged\\\", \\\"model\\\": {\\\"id\\\": \\\"1004\\\"}, \\\"new\\\": 754.15815289234}, {\\\"attr\\\": \\\"text\\\", \\\"kind\\\": \\\"ModelChanged\\\", \\\"model\\\": {\\\"id\\\": \\\"1007\\\"}, \\\"new\\\": \\\"neighborhood: Westwood Park\\\"}, {\\\"cols\\\": null, \\\"column_source\\\": {\\\"id\\\": \\\"1036\\\"}, \\\"kind\\\": \\\"ColumnDataChanged\\\", \\\"new\\\": {\\\"sale_price_sqr_foot\\\": {\\\"__ndarray__\\\": \\\"hgoZedY3h0BRlnA7kLmDQA==\\\", \\\"dtype\\\": \\\"float64\\\", \\\"order\\\": \\\"little\\\", \\\"shape\\\": [2]}, \\\"year\\\": [2014, 2016]}}], \\\"references\\\": []}\",\"header\":\"{\\\"msgid\\\": \\\"1113\\\", \\\"msgtype\\\": \\\"PATCH-DOC\\\"}\",\"metadata\":\"{}\"},\"Yerba Buena\":{\"content\":\"{\\\"events\\\": [{\\\"attr\\\": \\\"end\\\", \\\"kind\\\": \\\"ModelChanged\\\", \\\"model\\\": {\\\"id\\\": \\\"1003\\\"}, \\\"new\\\": 2015.0}, {\\\"attr\\\": \\\"reset_end\\\", \\\"kind\\\": \\\"ModelChanged\\\", \\\"model\\\": {\\\"id\\\": \\\"1003\\\"}, \\\"new\\\": 2015.0}, {\\\"attr\\\": \\\"start\\\", \\\"kind\\\": \\\"ModelChanged\\\", \\\"model\\\": {\\\"id\\\": \\\"1004\\\"}, \\\"new\\\": 270.08719060972004}, {\\\"attr\\\": \\\"reset_start\\\", \\\"kind\\\": \\\"ModelChanged\\\", \\\"model\\\": {\\\"id\\\": \\\"1004\\\"}, \\\"new\\\": 270.08719060972004}, {\\\"attr\\\": \\\"end\\\", \\\"kind\\\": \\\"ModelChanged\\\", \\\"model\\\": {\\\"id\\\": \\\"1004\\\"}, \\\"new\\\": 1026.5621893963462}, {\\\"attr\\\": \\\"reset_end\\\", \\\"kind\\\": \\\"ModelChanged\\\", \\\"model\\\": {\\\"id\\\": \\\"1004\\\"}, \\\"new\\\": 1026.5621893963462}, {\\\"attr\\\": \\\"text\\\", \\\"kind\\\": \\\"ModelChanged\\\", \\\"model\\\": {\\\"id\\\": \\\"1007\\\"}, \\\"new\\\": \\\"neighborhood: Yerba Buena\\\"}, {\\\"cols\\\": null, \\\"column_source\\\": {\\\"id\\\": \\\"1036\\\"}, \\\"kind\\\": \\\"ColumnDataChanged\\\", \\\"new\\\": {\\\"sale_price_sqr_foot\\\": {\\\"__ndarray__\\\": \\\"2hECRAfSdEB3bevKxG17QBDwDygGvX5AZqvdXxeIh0Ae7tWsx/59QOv8I0wuHI5A\\\", \\\"dtype\\\": \\\"float64\\\", \\\"order\\\": \\\"little\\\", \\\"shape\\\": [6]}, \\\"year\\\": [2010, 2011, 2012, 2013, 2014, 2015]}}], \\\"references\\\": []}\",\"header\":\"{\\\"msgid\\\": \\\"1108\\\", \\\"msgtype\\\": \\\"PATCH-DOC\\\"}\",\"metadata\":\"{}\"}},\"values\":[\"Alamo Square\"],\"widgets\":{\"1076\":0}},\"id\":\"1086\",\"type\":\"panel.models.state.State\"},{\"attributes\":{},\"id\":\"1037\",\"type\":\"Selection\"},{\"attributes\":{},\"id\":\"1062\",\"type\":\"UnionRenderers\"},{\"attributes\":{\"data_source\":{\"id\":\"1036\"},\"glyph\":{\"id\":\"1039\"},\"hover_glyph\":null,\"muted_glyph\":{\"id\":\"1041\"},\"nonselection_glyph\":{\"id\":\"1040\"},\"selection_glyph\":null,\"view\":{\"id\":\"1043\"}},\"id\":\"1042\",\"type\":\"GlyphRenderer\"},{\"attributes\":{\"margin\":[5,5,5,5],\"name\":\"VSpacer06511\",\"sizing_mode\":\"stretch_height\"},\"id\":\"1077\",\"type\":\"Spacer\"},{\"attributes\":{\"children\":[{\"id\":\"1002\"},{\"id\":\"1006\"},{\"id\":\"1072\"},{\"id\":\"1073\"}],\"margin\":[0,0,0,0],\"name\":\"Row06502\",\"tags\":[\"embedded\"]},\"id\":\"1001\",\"type\":\"Row\"},{\"attributes\":{\"line_color\":\"#1f77b3\",\"line_width\":2,\"x\":{\"field\":\"year\"},\"y\":{\"field\":\"sale_price_sqr_foot\"}},\"id\":\"1039\",\"type\":\"Line\"},{\"attributes\":{\"end\":2016.0,\"reset_end\":2016.0,\"reset_start\":2010.0,\"start\":2010.0,\"tags\":[[[\"year\",\"year\",null]]]},\"id\":\"1003\",\"type\":\"Range1d\"},{\"attributes\":{\"overlay\":{\"id\":\"1028\"}},\"id\":\"1026\",\"type\":\"BoxZoomTool\"},{\"attributes\":{},\"id\":\"1020\",\"type\":\"BasicTicker\"},{\"attributes\":{},\"id\":\"1045\",\"type\":\"BasicTickFormatter\"},{\"attributes\":{},\"id\":\"1025\",\"type\":\"WheelZoomTool\"},{\"attributes\":{\"active_drag\":\"auto\",\"active_inspect\":\"auto\",\"active_multi\":null,\"active_scroll\":\"auto\",\"active_tap\":\"auto\",\"tools\":[{\"id\":\"1005\"},{\"id\":\"1023\"},{\"id\":\"1024\"},{\"id\":\"1025\"},{\"id\":\"1026\"},{\"id\":\"1027\"}]},\"id\":\"1029\",\"type\":\"Toolbar\"},{\"attributes\":{\"line_alpha\":0.2,\"line_color\":\"#1f77b3\",\"line_width\":2,\"x\":{\"field\":\"year\"},\"y\":{\"field\":\"sale_price_sqr_foot\"}},\"id\":\"1041\",\"type\":\"Line\"},{\"attributes\":{\"below\":[{\"id\":\"1015\"}],\"center\":[{\"id\":\"1018\"},{\"id\":\"1022\"}],\"left\":[{\"id\":\"1019\"}],\"margin\":null,\"min_border_bottom\":10,\"min_border_left\":10,\"min_border_right\":10,\"min_border_top\":10,\"plot_height\":300,\"plot_width\":500,\"renderers\":[{\"id\":\"1042\"}],\"sizing_mode\":\"fixed\",\"title\":{\"id\":\"1007\"},\"toolbar\":{\"id\":\"1029\"},\"x_range\":{\"id\":\"1003\"},\"x_scale\":{\"id\":\"1011\"},\"y_range\":{\"id\":\"1004\"},\"y_scale\":{\"id\":\"1013\"}},\"id\":\"1006\",\"subtype\":\"Figure\",\"type\":\"Plot\"},{\"attributes\":{\"text\":\"neighborhood: Alamo Square\",\"text_color\":{\"value\":\"black\"},\"text_font_size\":{\"value\":\"12pt\"}},\"id\":\"1007\",\"type\":\"Title\"},{\"attributes\":{},\"id\":\"1024\",\"type\":\"PanTool\"},{\"attributes\":{\"axis_label\":\"sale_price_sqr_foot\",\"bounds\":\"auto\",\"formatter\":{\"id\":\"1047\"},\"major_label_orientation\":\"horizontal\",\"ticker\":{\"id\":\"1020\"}},\"id\":\"1019\",\"type\":\"LinearAxis\"},{\"attributes\":{},\"id\":\"1027\",\"type\":\"ResetTool\"},{\"attributes\":{\"children\":[{\"id\":\"1076\"}],\"css_classes\":[\"panel-widget-box\"],\"margin\":[5,5,5,5],\"name\":\"WidgetBox06503\"},\"id\":\"1075\",\"type\":\"Column\"},{\"attributes\":{},\"id\":\"1016\",\"type\":\"BasicTicker\"},{\"attributes\":{\"code\":\"\\nvar state = null\\nfor (var root of cb_obj.document.roots()) {\\n  if (root.id == '1086') {\\n    state = root;\\n    break;\\n  }\\n}\\nif (!state) { return; }\\nstate.set_state(cb_obj, cb_obj.value)\\n\"},\"id\":\"1087\",\"type\":\"CustomJS\"},{\"attributes\":{\"end\":644.0175329447045,\"reset_end\":644.0175329447045,\"reset_start\":141.1976609302527,\"start\":141.1976609302527,\"tags\":[[[\"sale_price_sqr_foot\",\"sale_price_sqr_foot\",null]]]},\"id\":\"1004\",\"type\":\"Range1d\"},{\"attributes\":{\"callback\":null,\"renderers\":[{\"id\":\"1042\"}],\"tags\":[\"hv_created\"],\"tooltips\":[[\"year\",\"@{year}\"],[\"sale_price_sqr_foot\",\"@{sale_price_sqr_foot}\"]]},\"id\":\"1005\",\"type\":\"HoverTool\"},{\"attributes\":{},\"id\":\"1011\",\"type\":\"LinearScale\"},{\"attributes\":{\"children\":[{\"id\":\"1074\"},{\"id\":\"1075\"},{\"id\":\"1077\"}],\"margin\":[0,0,0,0],\"name\":\"Column06512\"},\"id\":\"1073\",\"type\":\"Column\"},{\"attributes\":{\"margin\":[5,5,5,5],\"name\":\"HSpacer06513\",\"sizing_mode\":\"stretch_width\"},\"id\":\"1002\",\"type\":\"Spacer\"},{\"attributes\":{\"source\":{\"id\":\"1036\"}},\"id\":\"1043\",\"type\":\"CDSView\"},{\"attributes\":{\"line_alpha\":0.1,\"line_color\":\"#1f77b3\",\"line_width\":2,\"x\":{\"field\":\"year\"},\"y\":{\"field\":\"sale_price_sqr_foot\"}},\"id\":\"1040\",\"type\":\"Line\"},{\"attributes\":{\"axis_label\":\"year\",\"bounds\":\"auto\",\"formatter\":{\"id\":\"1045\"},\"major_label_orientation\":\"horizontal\",\"ticker\":{\"id\":\"1016\"}},\"id\":\"1015\",\"type\":\"LinearAxis\"},{\"attributes\":{\"axis\":{\"id\":\"1015\"},\"grid_line_color\":null,\"ticker\":null},\"id\":\"1018\",\"type\":\"Grid\"},{\"attributes\":{\"data\":{\"sale_price_sqr_foot\":{\"__ndarray__\":\"Dkc7WO0yckCafszcbwhxQIGRs5ot42ZAJzog0LQ8eEAWMinKGEd+QI0V5FDt0IJAVCHcmLVPdUA=\",\"dtype\":\"float64\",\"order\":\"little\",\"shape\":[7]},\"year\":[2010,2011,2012,2013,2014,2015,2016]},\"selected\":{\"id\":\"1037\"},\"selection_policy\":{\"id\":\"1062\"}},\"id\":\"1036\",\"type\":\"ColumnDataSource\"},{\"attributes\":{\"axis\":{\"id\":\"1019\"},\"dimension\":1,\"grid_line_color\":null,\"ticker\":null},\"id\":\"1022\",\"type\":\"Grid\"},{\"attributes\":{},\"id\":\"1047\",\"type\":\"BasicTickFormatter\"},{\"attributes\":{\"margin\":[5,5,5,5],\"name\":\"VSpacer06510\",\"sizing_mode\":\"stretch_height\"},\"id\":\"1074\",\"type\":\"Spacer\"},{\"attributes\":{},\"id\":\"1013\",\"type\":\"LinearScale\"}],\"root_ids\":[\"1001\",\"1086\"]},\"title\":\"Bokeh Application\",\"version\":\"2.2.3\"}};\n",
       "  var render_items = [{\"docid\":\"f00e4e2f-3e2d-4583-a45d-d1e3065a117d\",\"root_ids\":[\"1001\"],\"roots\":{\"1001\":\"e66a04a8-35dd-45c7-b7cf-419d24733c91\"}}];\n",
       "  root.Bokeh.embed.embed_items_notebook(docs_json, render_items);\n",
       "  }\n",
       "if (root.Bokeh !== undefined) {\n",
       "    embed_document(root);\n",
       "  } else {\n",
       "    var attempts = 0;\n",
       "    var timer = setInterval(function(root) {\n",
       "      if (root.Bokeh !== undefined) {\n",
       "        clearInterval(timer);\n",
       "        embed_document(root);\n",
       "      } else if (document.readyState == \"complete\") {\n",
       "        attempts++;\n",
       "        if (attempts > 100) {\n",
       "          clearInterval(timer);\n",
       "          console.log(\"Bokeh: ERROR: Unable to run BokehJS code because BokehJS library is missing\");\n",
       "        }\n",
       "      }\n",
       "    }, 10, root)\n",
       "  }\n",
       "})(window);</script>"
      ],
      "text/plain": [
       ":HoloMap   [neighborhood]\n",
       "   :Curve   [year]   (sale_price_sqr_foot)"
      ]
     },
     "execution_count": 19,
     "metadata": {
      "application/vnd.holoviews_exec.v0+json": {
       "id": "1001"
      }
     },
     "output_type": "execute_result"
    }
   ],
   "source": [
    "# Use hvplot to create an interactive line chart of the average price per sq ft.\n",
    "# The plot should have a dropdown selector for the neighborhood\n",
    "sfo_by_hood = sfo_year_hood.hvplot('year', groupby='neighborhood', width=500, dynamic=False)\n",
    "sfo_by_hood"
   ]
  },
  {
   "cell_type": "markdown",
   "metadata": {},
   "source": [
    "- - - "
   ]
  },
  {
   "cell_type": "markdown",
   "metadata": {},
   "source": [
    "## The Top 10 Most Expensive Neighborhoods\n",
    "\n",
    "In this section, you will need to calculate the mean sale price for each neighborhood and then sort the values to obtain the top 10 most expensive neighborhoods on average. Plot the results as a bar chart."
   ]
  },
  {
   "cell_type": "code",
   "execution_count": 20,
   "metadata": {},
   "outputs": [
    {
     "data": {
      "text/html": [
       "<div>\n",
       "<style scoped>\n",
       "    .dataframe tbody tr th:only-of-type {\n",
       "        vertical-align: middle;\n",
       "    }\n",
       "\n",
       "    .dataframe tbody tr th {\n",
       "        vertical-align: top;\n",
       "    }\n",
       "\n",
       "    .dataframe thead th {\n",
       "        text-align: right;\n",
       "    }\n",
       "</style>\n",
       "<table border=\"1\" class=\"dataframe\">\n",
       "  <thead>\n",
       "    <tr style=\"text-align: right;\">\n",
       "      <th></th>\n",
       "      <th>sale_price_sqr_foot</th>\n",
       "    </tr>\n",
       "    <tr>\n",
       "      <th>neighborhood</th>\n",
       "      <th></th>\n",
       "    </tr>\n",
       "  </thead>\n",
       "  <tbody>\n",
       "    <tr>\n",
       "      <th>Union Square District</th>\n",
       "      <td>903.993258</td>\n",
       "    </tr>\n",
       "    <tr>\n",
       "      <th>Merced Heights</th>\n",
       "      <td>788.844818</td>\n",
       "    </tr>\n",
       "    <tr>\n",
       "      <th>Miraloma Park</th>\n",
       "      <td>779.810842</td>\n",
       "    </tr>\n",
       "    <tr>\n",
       "      <th>Pacific Heights</th>\n",
       "      <td>689.555817</td>\n",
       "    </tr>\n",
       "    <tr>\n",
       "      <th>Westwood Park</th>\n",
       "      <td>687.087575</td>\n",
       "    </tr>\n",
       "    <tr>\n",
       "      <th>Telegraph Hill</th>\n",
       "      <td>676.506578</td>\n",
       "    </tr>\n",
       "    <tr>\n",
       "      <th>Presidio Heights</th>\n",
       "      <td>675.350212</td>\n",
       "    </tr>\n",
       "    <tr>\n",
       "      <th>Cow Hollow</th>\n",
       "      <td>665.964042</td>\n",
       "    </tr>\n",
       "    <tr>\n",
       "      <th>Potrero Hill</th>\n",
       "      <td>662.013613</td>\n",
       "    </tr>\n",
       "    <tr>\n",
       "      <th>South Beach</th>\n",
       "      <td>650.124479</td>\n",
       "    </tr>\n",
       "  </tbody>\n",
       "</table>\n",
       "</div>"
      ],
      "text/plain": [
       "                       sale_price_sqr_foot\n",
       "neighborhood                              \n",
       "Union Square District           903.993258\n",
       "Merced Heights                  788.844818\n",
       "Miraloma Park                   779.810842\n",
       "Pacific Heights                 689.555817\n",
       "Westwood Park                   687.087575\n",
       "Telegraph Hill                  676.506578\n",
       "Presidio Heights                675.350212\n",
       "Cow Hollow                      665.964042\n",
       "Potrero Hill                    662.013613\n",
       "South Beach                     650.124479"
      ]
     },
     "execution_count": 20,
     "metadata": {},
     "output_type": "execute_result"
    }
   ],
   "source": [
    "# Getting the data from the top 10 expensive neighborhoods\n",
    "sfo_exp = sfo_data.reset_index().set_index(\"neighborhood\")\n",
    "\n",
    "sfo_exp_avg = sfo_data.groupby(\"neighborhood\").mean()\n",
    "sfo_most_exp = sfo_exp_avg.sort_values(\"sale_price_sqr_foot\", ascending=False).head(10)\n",
    "sfo_most_exp = sfo_most_exp.drop(columns=[\"housing_units\", \"gross_rent\"], axis=1)\n",
    "sfo_most_exp"
   ]
  },
  {
   "cell_type": "code",
   "execution_count": 21,
   "metadata": {},
   "outputs": [
    {
     "data": {
      "application/vnd.holoviews_exec.v0+json": "",
      "text/html": [
       "<div id='1493'>\n",
       "\n",
       "\n",
       "\n",
       "\n",
       "\n",
       "  <div class=\"bk-root\" id=\"b594c938-390c-4167-81d0-99a2554d45e4\" data-root-id=\"1493\"></div>\n",
       "</div>\n",
       "<script type=\"application/javascript\">(function(root) {\n",
       "  function embed_document(root) {\n",
       "  var docs_json = {\"a9ecb116-7df8-4fac-a826-06687fa71e13\":{\"roots\":{\"references\":[{\"attributes\":{\"data\":{\"neighborhood\":[\"Union Square District\",\"Merced Heights\",\"Miraloma Park\",\"Pacific Heights\",\"Westwood Park\",\"Telegraph Hill\",\"Presidio Heights\",\"Cow Hollow\",\"Potrero Hill\",\"South Beach\"],\"sale_price_sqr_foot\":{\"__ndarray__\":\"JRAUMfI/jEB9IrkvwqaIQFx/3pp8XohAFpsVUHKMhUBs0ERas3iFQL0KhXgNJIVAy835O80ahUANV25bts+EQJrMCuEbsIRAya3y7v5QhEA=\",\"dtype\":\"float64\",\"order\":\"little\",\"shape\":[10]}},\"selected\":{\"id\":\"1528\"},\"selection_policy\":{\"id\":\"1545\"}},\"id\":\"1527\",\"type\":\"ColumnDataSource\"},{\"attributes\":{},\"id\":\"1545\",\"type\":\"UnionRenderers\"},{\"attributes\":{},\"id\":\"1514\",\"type\":\"SaveTool\"},{\"attributes\":{\"text\":\"Top 10 Expensive Neighborhoods in SFO\",\"text_color\":{\"value\":\"black\"},\"text_font_size\":{\"value\":\"12pt\"}},\"id\":\"1499\",\"type\":\"Title\"},{\"attributes\":{\"callback\":null,\"renderers\":[{\"id\":\"1533\"}],\"tags\":[\"hv_created\"],\"tooltips\":[[\"neighborhood\",\"@{neighborhood}\"],[\"sale_price_sqr_foot\",\"@{sale_price_sqr_foot}\"]]},\"id\":\"1497\",\"type\":\"HoverTool\"},{\"attributes\":{},\"id\":\"1536\",\"type\":\"CategoricalTickFormatter\"},{\"attributes\":{},\"id\":\"1515\",\"type\":\"PanTool\"},{\"attributes\":{\"margin\":[5,5,5,5],\"name\":\"HSpacer10589\",\"sizing_mode\":\"stretch_width\"},\"id\":\"1555\",\"type\":\"Spacer\"},{\"attributes\":{\"axis_label\":\"Neighborhood\",\"bounds\":\"auto\",\"formatter\":{\"id\":\"1536\"},\"major_label_orientation\":1.5707963267948966,\"ticker\":{\"id\":\"1508\"}},\"id\":\"1507\",\"type\":\"CategoricalAxis\"},{\"attributes\":{},\"id\":\"1516\",\"type\":\"WheelZoomTool\"},{\"attributes\":{\"fill_alpha\":{\"value\":0.2},\"fill_color\":{\"value\":\"#1f77b3\"},\"line_alpha\":{\"value\":0.2},\"top\":{\"field\":\"sale_price_sqr_foot\"},\"width\":{\"value\":0.8},\"x\":{\"field\":\"neighborhood\"}},\"id\":\"1532\",\"type\":\"VBar\"},{\"attributes\":{\"overlay\":{\"id\":\"1519\"}},\"id\":\"1517\",\"type\":\"BoxZoomTool\"},{\"attributes\":{\"axis\":{\"id\":\"1510\"},\"dimension\":1,\"grid_line_color\":null,\"ticker\":null},\"id\":\"1513\",\"type\":\"Grid\"},{\"attributes\":{},\"id\":\"1528\",\"type\":\"Selection\"},{\"attributes\":{},\"id\":\"1518\",\"type\":\"ResetTool\"},{\"attributes\":{},\"id\":\"1503\",\"type\":\"CategoricalScale\"},{\"attributes\":{\"margin\":[5,5,5,5],\"name\":\"HSpacer10588\",\"sizing_mode\":\"stretch_width\"},\"id\":\"1494\",\"type\":\"Spacer\"},{\"attributes\":{\"fill_alpha\":{\"value\":0.1},\"fill_color\":{\"value\":\"#1f77b3\"},\"line_alpha\":{\"value\":0.1},\"top\":{\"field\":\"sale_price_sqr_foot\"},\"width\":{\"value\":0.8},\"x\":{\"field\":\"neighborhood\"}},\"id\":\"1531\",\"type\":\"VBar\"},{\"attributes\":{},\"id\":\"1505\",\"type\":\"LinearScale\"},{\"attributes\":{\"fill_color\":{\"value\":\"#1f77b3\"},\"top\":{\"field\":\"sale_price_sqr_foot\"},\"width\":{\"value\":0.8},\"x\":{\"field\":\"neighborhood\"}},\"id\":\"1530\",\"type\":\"VBar\"},{\"attributes\":{\"bottom_units\":\"screen\",\"fill_alpha\":0.5,\"fill_color\":\"lightgrey\",\"left_units\":\"screen\",\"level\":\"overlay\",\"line_alpha\":1.0,\"line_color\":\"black\",\"line_dash\":[4,4],\"line_width\":2,\"right_units\":\"screen\",\"top_units\":\"screen\"},\"id\":\"1519\",\"type\":\"BoxAnnotation\"},{\"attributes\":{\"data_source\":{\"id\":\"1527\"},\"glyph\":{\"id\":\"1530\"},\"hover_glyph\":null,\"muted_glyph\":{\"id\":\"1532\"},\"nonselection_glyph\":{\"id\":\"1531\"},\"selection_glyph\":null,\"view\":{\"id\":\"1534\"}},\"id\":\"1533\",\"type\":\"GlyphRenderer\"},{\"attributes\":{\"active_drag\":\"auto\",\"active_inspect\":\"auto\",\"active_multi\":null,\"active_scroll\":\"auto\",\"active_tap\":\"auto\",\"tools\":[{\"id\":\"1497\"},{\"id\":\"1514\"},{\"id\":\"1515\"},{\"id\":\"1516\"},{\"id\":\"1517\"},{\"id\":\"1518\"}]},\"id\":\"1520\",\"type\":\"Toolbar\"},{\"attributes\":{},\"id\":\"1508\",\"type\":\"CategoricalTicker\"},{\"attributes\":{\"factors\":[\"Union Square District\",\"Merced Heights\",\"Miraloma Park\",\"Pacific Heights\",\"Westwood Park\",\"Telegraph Hill\",\"Presidio Heights\",\"Cow Hollow\",\"Potrero Hill\",\"South Beach\"],\"tags\":[[[\"neighborhood\",\"neighborhood\",null]]]},\"id\":\"1495\",\"type\":\"FactorRange\"},{\"attributes\":{\"below\":[{\"id\":\"1507\"}],\"center\":[{\"id\":\"1509\"},{\"id\":\"1513\"}],\"left\":[{\"id\":\"1510\"}],\"margin\":null,\"min_border_bottom\":10,\"min_border_left\":10,\"min_border_right\":10,\"min_border_top\":10,\"plot_height\":500,\"plot_width\":700,\"renderers\":[{\"id\":\"1533\"}],\"sizing_mode\":\"fixed\",\"title\":{\"id\":\"1499\"},\"toolbar\":{\"id\":\"1520\"},\"x_range\":{\"id\":\"1495\"},\"x_scale\":{\"id\":\"1503\"},\"y_range\":{\"id\":\"1496\"},\"y_scale\":{\"id\":\"1505\"}},\"id\":\"1498\",\"subtype\":\"Figure\",\"type\":\"Plot\"},{\"attributes\":{\"axis\":{\"id\":\"1507\"},\"grid_line_color\":null,\"ticker\":null},\"id\":\"1509\",\"type\":\"Grid\"},{\"attributes\":{\"source\":{\"id\":\"1527\"}},\"id\":\"1534\",\"type\":\"CDSView\"},{\"attributes\":{},\"id\":\"1511\",\"type\":\"BasicTicker\"},{\"attributes\":{\"end\":929.3801355198136,\"reset_end\":929.3801355198136,\"reset_start\":0.0,\"tags\":[[[\"sale_price_sqr_foot\",\"sale_price_sqr_foot\",null]]]},\"id\":\"1496\",\"type\":\"Range1d\"},{\"attributes\":{\"axis_label\":\"Avg. Sale Price per Square Foot\",\"bounds\":\"auto\",\"formatter\":{\"id\":\"1538\"},\"major_label_orientation\":\"horizontal\",\"ticker\":{\"id\":\"1511\"}},\"id\":\"1510\",\"type\":\"LinearAxis\"},{\"attributes\":{\"children\":[{\"id\":\"1494\"},{\"id\":\"1498\"},{\"id\":\"1555\"}],\"margin\":[0,0,0,0],\"name\":\"Row10584\",\"tags\":[\"embedded\"]},\"id\":\"1493\",\"type\":\"Row\"},{\"attributes\":{},\"id\":\"1538\",\"type\":\"BasicTickFormatter\"}],\"root_ids\":[\"1493\"]},\"title\":\"Bokeh Application\",\"version\":\"2.2.3\"}};\n",
       "  var render_items = [{\"docid\":\"a9ecb116-7df8-4fac-a826-06687fa71e13\",\"root_ids\":[\"1493\"],\"roots\":{\"1493\":\"b594c938-390c-4167-81d0-99a2554d45e4\"}}];\n",
       "  root.Bokeh.embed.embed_items_notebook(docs_json, render_items);\n",
       "  }\n",
       "if (root.Bokeh !== undefined) {\n",
       "    embed_document(root);\n",
       "  } else {\n",
       "    var attempts = 0;\n",
       "    var timer = setInterval(function(root) {\n",
       "      if (root.Bokeh !== undefined) {\n",
       "        clearInterval(timer);\n",
       "        embed_document(root);\n",
       "      } else if (document.readyState == \"complete\") {\n",
       "        attempts++;\n",
       "        if (attempts > 100) {\n",
       "          clearInterval(timer);\n",
       "          console.log(\"Bokeh: ERROR: Unable to run BokehJS code because BokehJS library is missing\");\n",
       "        }\n",
       "      }\n",
       "    }, 10, root)\n",
       "  }\n",
       "})(window);</script>"
      ],
      "text/plain": [
       ":Bars   [neighborhood]   (sale_price_sqr_foot)"
      ]
     },
     "execution_count": 21,
     "metadata": {
      "application/vnd.holoviews_exec.v0+json": {
       "id": "1493"
      }
     },
     "output_type": "execute_result"
    }
   ],
   "source": [
    "# Plotting the data from the top 10 expensive neighborhoods\n",
    "sfo_most_exp.hvplot(x=\"neighborhood\", xlabel=\"Neighborhood\", y=\"sale_price_sqr_foot\", ylabel=\"Avg. Sale Price per Square Foot\", title=\"Top 10 Expensive Neighborhoods in SFO\", kind=\"bar\", rot=90, width=700, height=500)\n",
    "                   \n",
    "                    "
   ]
  },
  {
   "cell_type": "markdown",
   "metadata": {},
   "source": [
    "- - - "
   ]
  },
  {
   "cell_type": "markdown",
   "metadata": {},
   "source": [
    "## Parallel Coordinates and Parallel Categories Analysis\n",
    "\n",
    "In this section, you will use plotly express to create parallel coordinates and parallel categories visualizations so that investors can interactively filter and explore various factors related to the sales price of the neighborhoods. \n",
    "\n",
    "Using the DataFrame of Average values per neighborhood (calculated above), create the following visualizations:\n",
    "1. Create a Parallel Coordinates Plot\n",
    "2. Create a Parallel Categories Plot"
   ]
  },
  {
   "cell_type": "code",
   "execution_count": 28,
   "metadata": {},
   "outputs": [],
   "source": [
    "sfo_exp_avg.reset_index(inplace=True)"
   ]
  },
  {
   "cell_type": "code",
   "execution_count": 38,
   "metadata": {},
   "outputs": [],
   "source": [
    "sfo_exp_avg_sale = sfo_exp_avg.sort_values(\"sale_price_sqr_foot\", ascending=False).head(10)\n",
    "sfo_exp_avg_sale.set_index(\"sale_price_sqr_foot\", inplace=True)\n",
    "sfo_exp_avg_sale.reset_index(inplace=True)"
   ]
  },
  {
   "cell_type": "code",
   "execution_count": 39,
   "metadata": {},
   "outputs": [
    {
     "data": {
      "application/vnd.plotly.v1+json": {
       "config": {
        "plotlyServerURL": "https://plot.ly"
       },
       "data": [
        {
         "dimensions": [
          {
           "label": "sale_price_sqr_foot",
           "values": [
            903.9932576720645,
            788.8448175872469,
            779.810842264425,
            689.5558168113664,
            687.0875745178323,
            676.5065775293257,
            675.3502120510033,
            665.964041578323,
            662.0136128276529,
            650.1244791945729
           ]
          },
          {
           "label": "housing_units",
           "values": [
            377427.5,
            380348,
            375967.25,
            378401,
            382295,
            378401,
            378401,
            378401,
            378401,
            375805
           ]
          },
          {
           "label": "gross_rent",
           "values": [
            2555.1666666666665,
            3414,
            2155.25,
            2817.285714285714,
            3959,
            2817.285714285714,
            2817.285714285714,
            2817.285714285714,
            2817.285714285714,
            2099
           ]
          }
         ],
         "domain": {
          "x": [
           0,
           1
          ],
          "y": [
           0,
           1
          ]
         },
         "line": {
          "color": [
           903.9932576720645,
           788.8448175872469,
           779.810842264425,
           689.5558168113664,
           687.0875745178323,
           676.5065775293257,
           675.3502120510033,
           665.964041578323,
           662.0136128276529,
           650.1244791945729
          ],
          "coloraxis": "coloraxis"
         },
         "name": "",
         "type": "parcoords"
        }
       ],
       "layout": {
        "coloraxis": {
         "colorbar": {
          "title": {
           "text": "sale_price_sqr_foot"
          }
         },
         "colorscale": [
          [
           0,
           "#0d0887"
          ],
          [
           0.1111111111111111,
           "#46039f"
          ],
          [
           0.2222222222222222,
           "#7201a8"
          ],
          [
           0.3333333333333333,
           "#9c179e"
          ],
          [
           0.4444444444444444,
           "#bd3786"
          ],
          [
           0.5555555555555556,
           "#d8576b"
          ],
          [
           0.6666666666666666,
           "#ed7953"
          ],
          [
           0.7777777777777778,
           "#fb9f3a"
          ],
          [
           0.8888888888888888,
           "#fdca26"
          ],
          [
           1,
           "#f0f921"
          ]
         ]
        },
        "legend": {
         "tracegroupgap": 0
        },
        "margin": {
         "t": 60
        },
        "template": {
         "data": {
          "bar": [
           {
            "error_x": {
             "color": "#2a3f5f"
            },
            "error_y": {
             "color": "#2a3f5f"
            },
            "marker": {
             "line": {
              "color": "#E5ECF6",
              "width": 0.5
             }
            },
            "type": "bar"
           }
          ],
          "barpolar": [
           {
            "marker": {
             "line": {
              "color": "#E5ECF6",
              "width": 0.5
             }
            },
            "type": "barpolar"
           }
          ],
          "carpet": [
           {
            "aaxis": {
             "endlinecolor": "#2a3f5f",
             "gridcolor": "white",
             "linecolor": "white",
             "minorgridcolor": "white",
             "startlinecolor": "#2a3f5f"
            },
            "baxis": {
             "endlinecolor": "#2a3f5f",
             "gridcolor": "white",
             "linecolor": "white",
             "minorgridcolor": "white",
             "startlinecolor": "#2a3f5f"
            },
            "type": "carpet"
           }
          ],
          "choropleth": [
           {
            "colorbar": {
             "outlinewidth": 0,
             "ticks": ""
            },
            "type": "choropleth"
           }
          ],
          "contour": [
           {
            "colorbar": {
             "outlinewidth": 0,
             "ticks": ""
            },
            "colorscale": [
             [
              0,
              "#0d0887"
             ],
             [
              0.1111111111111111,
              "#46039f"
             ],
             [
              0.2222222222222222,
              "#7201a8"
             ],
             [
              0.3333333333333333,
              "#9c179e"
             ],
             [
              0.4444444444444444,
              "#bd3786"
             ],
             [
              0.5555555555555556,
              "#d8576b"
             ],
             [
              0.6666666666666666,
              "#ed7953"
             ],
             [
              0.7777777777777778,
              "#fb9f3a"
             ],
             [
              0.8888888888888888,
              "#fdca26"
             ],
             [
              1,
              "#f0f921"
             ]
            ],
            "type": "contour"
           }
          ],
          "contourcarpet": [
           {
            "colorbar": {
             "outlinewidth": 0,
             "ticks": ""
            },
            "type": "contourcarpet"
           }
          ],
          "heatmap": [
           {
            "colorbar": {
             "outlinewidth": 0,
             "ticks": ""
            },
            "colorscale": [
             [
              0,
              "#0d0887"
             ],
             [
              0.1111111111111111,
              "#46039f"
             ],
             [
              0.2222222222222222,
              "#7201a8"
             ],
             [
              0.3333333333333333,
              "#9c179e"
             ],
             [
              0.4444444444444444,
              "#bd3786"
             ],
             [
              0.5555555555555556,
              "#d8576b"
             ],
             [
              0.6666666666666666,
              "#ed7953"
             ],
             [
              0.7777777777777778,
              "#fb9f3a"
             ],
             [
              0.8888888888888888,
              "#fdca26"
             ],
             [
              1,
              "#f0f921"
             ]
            ],
            "type": "heatmap"
           }
          ],
          "heatmapgl": [
           {
            "colorbar": {
             "outlinewidth": 0,
             "ticks": ""
            },
            "colorscale": [
             [
              0,
              "#0d0887"
             ],
             [
              0.1111111111111111,
              "#46039f"
             ],
             [
              0.2222222222222222,
              "#7201a8"
             ],
             [
              0.3333333333333333,
              "#9c179e"
             ],
             [
              0.4444444444444444,
              "#bd3786"
             ],
             [
              0.5555555555555556,
              "#d8576b"
             ],
             [
              0.6666666666666666,
              "#ed7953"
             ],
             [
              0.7777777777777778,
              "#fb9f3a"
             ],
             [
              0.8888888888888888,
              "#fdca26"
             ],
             [
              1,
              "#f0f921"
             ]
            ],
            "type": "heatmapgl"
           }
          ],
          "histogram": [
           {
            "marker": {
             "colorbar": {
              "outlinewidth": 0,
              "ticks": ""
             }
            },
            "type": "histogram"
           }
          ],
          "histogram2d": [
           {
            "colorbar": {
             "outlinewidth": 0,
             "ticks": ""
            },
            "colorscale": [
             [
              0,
              "#0d0887"
             ],
             [
              0.1111111111111111,
              "#46039f"
             ],
             [
              0.2222222222222222,
              "#7201a8"
             ],
             [
              0.3333333333333333,
              "#9c179e"
             ],
             [
              0.4444444444444444,
              "#bd3786"
             ],
             [
              0.5555555555555556,
              "#d8576b"
             ],
             [
              0.6666666666666666,
              "#ed7953"
             ],
             [
              0.7777777777777778,
              "#fb9f3a"
             ],
             [
              0.8888888888888888,
              "#fdca26"
             ],
             [
              1,
              "#f0f921"
             ]
            ],
            "type": "histogram2d"
           }
          ],
          "histogram2dcontour": [
           {
            "colorbar": {
             "outlinewidth": 0,
             "ticks": ""
            },
            "colorscale": [
             [
              0,
              "#0d0887"
             ],
             [
              0.1111111111111111,
              "#46039f"
             ],
             [
              0.2222222222222222,
              "#7201a8"
             ],
             [
              0.3333333333333333,
              "#9c179e"
             ],
             [
              0.4444444444444444,
              "#bd3786"
             ],
             [
              0.5555555555555556,
              "#d8576b"
             ],
             [
              0.6666666666666666,
              "#ed7953"
             ],
             [
              0.7777777777777778,
              "#fb9f3a"
             ],
             [
              0.8888888888888888,
              "#fdca26"
             ],
             [
              1,
              "#f0f921"
             ]
            ],
            "type": "histogram2dcontour"
           }
          ],
          "mesh3d": [
           {
            "colorbar": {
             "outlinewidth": 0,
             "ticks": ""
            },
            "type": "mesh3d"
           }
          ],
          "parcoords": [
           {
            "line": {
             "colorbar": {
              "outlinewidth": 0,
              "ticks": ""
             }
            },
            "type": "parcoords"
           }
          ],
          "pie": [
           {
            "automargin": true,
            "type": "pie"
           }
          ],
          "scatter": [
           {
            "marker": {
             "colorbar": {
              "outlinewidth": 0,
              "ticks": ""
             }
            },
            "type": "scatter"
           }
          ],
          "scatter3d": [
           {
            "line": {
             "colorbar": {
              "outlinewidth": 0,
              "ticks": ""
             }
            },
            "marker": {
             "colorbar": {
              "outlinewidth": 0,
              "ticks": ""
             }
            },
            "type": "scatter3d"
           }
          ],
          "scattercarpet": [
           {
            "marker": {
             "colorbar": {
              "outlinewidth": 0,
              "ticks": ""
             }
            },
            "type": "scattercarpet"
           }
          ],
          "scattergeo": [
           {
            "marker": {
             "colorbar": {
              "outlinewidth": 0,
              "ticks": ""
             }
            },
            "type": "scattergeo"
           }
          ],
          "scattergl": [
           {
            "marker": {
             "colorbar": {
              "outlinewidth": 0,
              "ticks": ""
             }
            },
            "type": "scattergl"
           }
          ],
          "scattermapbox": [
           {
            "marker": {
             "colorbar": {
              "outlinewidth": 0,
              "ticks": ""
             }
            },
            "type": "scattermapbox"
           }
          ],
          "scatterpolar": [
           {
            "marker": {
             "colorbar": {
              "outlinewidth": 0,
              "ticks": ""
             }
            },
            "type": "scatterpolar"
           }
          ],
          "scatterpolargl": [
           {
            "marker": {
             "colorbar": {
              "outlinewidth": 0,
              "ticks": ""
             }
            },
            "type": "scatterpolargl"
           }
          ],
          "scatterternary": [
           {
            "marker": {
             "colorbar": {
              "outlinewidth": 0,
              "ticks": ""
             }
            },
            "type": "scatterternary"
           }
          ],
          "surface": [
           {
            "colorbar": {
             "outlinewidth": 0,
             "ticks": ""
            },
            "colorscale": [
             [
              0,
              "#0d0887"
             ],
             [
              0.1111111111111111,
              "#46039f"
             ],
             [
              0.2222222222222222,
              "#7201a8"
             ],
             [
              0.3333333333333333,
              "#9c179e"
             ],
             [
              0.4444444444444444,
              "#bd3786"
             ],
             [
              0.5555555555555556,
              "#d8576b"
             ],
             [
              0.6666666666666666,
              "#ed7953"
             ],
             [
              0.7777777777777778,
              "#fb9f3a"
             ],
             [
              0.8888888888888888,
              "#fdca26"
             ],
             [
              1,
              "#f0f921"
             ]
            ],
            "type": "surface"
           }
          ],
          "table": [
           {
            "cells": {
             "fill": {
              "color": "#EBF0F8"
             },
             "line": {
              "color": "white"
             }
            },
            "header": {
             "fill": {
              "color": "#C8D4E3"
             },
             "line": {
              "color": "white"
             }
            },
            "type": "table"
           }
          ]
         },
         "layout": {
          "annotationdefaults": {
           "arrowcolor": "#2a3f5f",
           "arrowhead": 0,
           "arrowwidth": 1
          },
          "coloraxis": {
           "colorbar": {
            "outlinewidth": 0,
            "ticks": ""
           }
          },
          "colorscale": {
           "diverging": [
            [
             0,
             "#8e0152"
            ],
            [
             0.1,
             "#c51b7d"
            ],
            [
             0.2,
             "#de77ae"
            ],
            [
             0.3,
             "#f1b6da"
            ],
            [
             0.4,
             "#fde0ef"
            ],
            [
             0.5,
             "#f7f7f7"
            ],
            [
             0.6,
             "#e6f5d0"
            ],
            [
             0.7,
             "#b8e186"
            ],
            [
             0.8,
             "#7fbc41"
            ],
            [
             0.9,
             "#4d9221"
            ],
            [
             1,
             "#276419"
            ]
           ],
           "sequential": [
            [
             0,
             "#0d0887"
            ],
            [
             0.1111111111111111,
             "#46039f"
            ],
            [
             0.2222222222222222,
             "#7201a8"
            ],
            [
             0.3333333333333333,
             "#9c179e"
            ],
            [
             0.4444444444444444,
             "#bd3786"
            ],
            [
             0.5555555555555556,
             "#d8576b"
            ],
            [
             0.6666666666666666,
             "#ed7953"
            ],
            [
             0.7777777777777778,
             "#fb9f3a"
            ],
            [
             0.8888888888888888,
             "#fdca26"
            ],
            [
             1,
             "#f0f921"
            ]
           ],
           "sequentialminus": [
            [
             0,
             "#0d0887"
            ],
            [
             0.1111111111111111,
             "#46039f"
            ],
            [
             0.2222222222222222,
             "#7201a8"
            ],
            [
             0.3333333333333333,
             "#9c179e"
            ],
            [
             0.4444444444444444,
             "#bd3786"
            ],
            [
             0.5555555555555556,
             "#d8576b"
            ],
            [
             0.6666666666666666,
             "#ed7953"
            ],
            [
             0.7777777777777778,
             "#fb9f3a"
            ],
            [
             0.8888888888888888,
             "#fdca26"
            ],
            [
             1,
             "#f0f921"
            ]
           ]
          },
          "colorway": [
           "#636efa",
           "#EF553B",
           "#00cc96",
           "#ab63fa",
           "#FFA15A",
           "#19d3f3",
           "#FF6692",
           "#B6E880",
           "#FF97FF",
           "#FECB52"
          ],
          "font": {
           "color": "#2a3f5f"
          },
          "geo": {
           "bgcolor": "white",
           "lakecolor": "white",
           "landcolor": "#E5ECF6",
           "showlakes": true,
           "showland": true,
           "subunitcolor": "white"
          },
          "hoverlabel": {
           "align": "left"
          },
          "hovermode": "closest",
          "mapbox": {
           "style": "light"
          },
          "paper_bgcolor": "white",
          "plot_bgcolor": "#E5ECF6",
          "polar": {
           "angularaxis": {
            "gridcolor": "white",
            "linecolor": "white",
            "ticks": ""
           },
           "bgcolor": "#E5ECF6",
           "radialaxis": {
            "gridcolor": "white",
            "linecolor": "white",
            "ticks": ""
           }
          },
          "scene": {
           "xaxis": {
            "backgroundcolor": "#E5ECF6",
            "gridcolor": "white",
            "gridwidth": 2,
            "linecolor": "white",
            "showbackground": true,
            "ticks": "",
            "zerolinecolor": "white"
           },
           "yaxis": {
            "backgroundcolor": "#E5ECF6",
            "gridcolor": "white",
            "gridwidth": 2,
            "linecolor": "white",
            "showbackground": true,
            "ticks": "",
            "zerolinecolor": "white"
           },
           "zaxis": {
            "backgroundcolor": "#E5ECF6",
            "gridcolor": "white",
            "gridwidth": 2,
            "linecolor": "white",
            "showbackground": true,
            "ticks": "",
            "zerolinecolor": "white"
           }
          },
          "shapedefaults": {
           "line": {
            "color": "#2a3f5f"
           }
          },
          "ternary": {
           "aaxis": {
            "gridcolor": "white",
            "linecolor": "white",
            "ticks": ""
           },
           "baxis": {
            "gridcolor": "white",
            "linecolor": "white",
            "ticks": ""
           },
           "bgcolor": "#E5ECF6",
           "caxis": {
            "gridcolor": "white",
            "linecolor": "white",
            "ticks": ""
           }
          },
          "title": {
           "x": 0.05
          },
          "xaxis": {
           "automargin": true,
           "gridcolor": "white",
           "linecolor": "white",
           "ticks": "",
           "title": {
            "standoff": 15
           },
           "zerolinecolor": "white",
           "zerolinewidth": 2
          },
          "yaxis": {
           "automargin": true,
           "gridcolor": "white",
           "linecolor": "white",
           "ticks": "",
           "title": {
            "standoff": 15
           },
           "zerolinecolor": "white",
           "zerolinewidth": 2
          }
         }
        }
       }
      },
      "text/html": [
       "<div>                            <div id=\"d27210ce-42e0-48ac-b2d3-9707d1002bcf\" class=\"plotly-graph-div\" style=\"height:525px; width:100%;\"></div>            <script type=\"text/javascript\">                require([\"plotly\"], function(Plotly) {                    window.PLOTLYENV=window.PLOTLYENV || {};                                    if (document.getElementById(\"d27210ce-42e0-48ac-b2d3-9707d1002bcf\")) {                    Plotly.newPlot(                        \"d27210ce-42e0-48ac-b2d3-9707d1002bcf\",                        [{\"dimensions\": [{\"label\": \"sale_price_sqr_foot\", \"values\": [903.9932576720645, 788.8448175872469, 779.810842264425, 689.5558168113664, 687.0875745178323, 676.5065775293257, 675.3502120510033, 665.964041578323, 662.0136128276529, 650.1244791945729]}, {\"label\": \"housing_units\", \"values\": [377427.5, 380348.0, 375967.25, 378401.0, 382295.0, 378401.0, 378401.0, 378401.0, 378401.0, 375805.0]}, {\"label\": \"gross_rent\", \"values\": [2555.1666666666665, 3414.0, 2155.25, 2817.285714285714, 3959.0, 2817.285714285714, 2817.285714285714, 2817.285714285714, 2817.285714285714, 2099.0]}], \"domain\": {\"x\": [0.0, 1.0], \"y\": [0.0, 1.0]}, \"line\": {\"color\": [903.9932576720645, 788.8448175872469, 779.810842264425, 689.5558168113664, 687.0875745178323, 676.5065775293257, 675.3502120510033, 665.964041578323, 662.0136128276529, 650.1244791945729], \"coloraxis\": \"coloraxis\"}, \"name\": \"\", \"type\": \"parcoords\"}],                        {\"coloraxis\": {\"colorbar\": {\"title\": {\"text\": \"sale_price_sqr_foot\"}}, \"colorscale\": [[0.0, \"#0d0887\"], [0.1111111111111111, \"#46039f\"], [0.2222222222222222, \"#7201a8\"], [0.3333333333333333, \"#9c179e\"], [0.4444444444444444, \"#bd3786\"], [0.5555555555555556, \"#d8576b\"], [0.6666666666666666, \"#ed7953\"], [0.7777777777777778, \"#fb9f3a\"], [0.8888888888888888, \"#fdca26\"], [1.0, \"#f0f921\"]]}, \"legend\": {\"tracegroupgap\": 0}, \"margin\": {\"t\": 60}, \"template\": {\"data\": {\"bar\": [{\"error_x\": {\"color\": \"#2a3f5f\"}, \"error_y\": {\"color\": \"#2a3f5f\"}, \"marker\": {\"line\": {\"color\": \"#E5ECF6\", \"width\": 0.5}}, \"type\": \"bar\"}], \"barpolar\": [{\"marker\": {\"line\": {\"color\": \"#E5ECF6\", \"width\": 0.5}}, \"type\": \"barpolar\"}], \"carpet\": [{\"aaxis\": {\"endlinecolor\": \"#2a3f5f\", \"gridcolor\": \"white\", \"linecolor\": \"white\", \"minorgridcolor\": \"white\", \"startlinecolor\": \"#2a3f5f\"}, \"baxis\": {\"endlinecolor\": \"#2a3f5f\", \"gridcolor\": \"white\", \"linecolor\": \"white\", \"minorgridcolor\": \"white\", \"startlinecolor\": \"#2a3f5f\"}, \"type\": \"carpet\"}], \"choropleth\": [{\"colorbar\": {\"outlinewidth\": 0, \"ticks\": \"\"}, \"type\": \"choropleth\"}], \"contour\": [{\"colorbar\": {\"outlinewidth\": 0, \"ticks\": \"\"}, \"colorscale\": [[0.0, \"#0d0887\"], [0.1111111111111111, \"#46039f\"], [0.2222222222222222, \"#7201a8\"], [0.3333333333333333, \"#9c179e\"], [0.4444444444444444, \"#bd3786\"], [0.5555555555555556, \"#d8576b\"], [0.6666666666666666, \"#ed7953\"], [0.7777777777777778, \"#fb9f3a\"], [0.8888888888888888, \"#fdca26\"], [1.0, \"#f0f921\"]], \"type\": \"contour\"}], \"contourcarpet\": [{\"colorbar\": {\"outlinewidth\": 0, \"ticks\": \"\"}, \"type\": \"contourcarpet\"}], \"heatmap\": [{\"colorbar\": {\"outlinewidth\": 0, \"ticks\": \"\"}, \"colorscale\": [[0.0, \"#0d0887\"], [0.1111111111111111, \"#46039f\"], [0.2222222222222222, \"#7201a8\"], [0.3333333333333333, \"#9c179e\"], [0.4444444444444444, \"#bd3786\"], [0.5555555555555556, \"#d8576b\"], [0.6666666666666666, \"#ed7953\"], [0.7777777777777778, \"#fb9f3a\"], [0.8888888888888888, \"#fdca26\"], [1.0, \"#f0f921\"]], \"type\": \"heatmap\"}], \"heatmapgl\": [{\"colorbar\": {\"outlinewidth\": 0, \"ticks\": \"\"}, \"colorscale\": [[0.0, \"#0d0887\"], [0.1111111111111111, \"#46039f\"], [0.2222222222222222, \"#7201a8\"], [0.3333333333333333, \"#9c179e\"], [0.4444444444444444, \"#bd3786\"], [0.5555555555555556, \"#d8576b\"], [0.6666666666666666, \"#ed7953\"], [0.7777777777777778, \"#fb9f3a\"], [0.8888888888888888, \"#fdca26\"], [1.0, \"#f0f921\"]], \"type\": \"heatmapgl\"}], \"histogram\": [{\"marker\": {\"colorbar\": {\"outlinewidth\": 0, \"ticks\": \"\"}}, \"type\": \"histogram\"}], \"histogram2d\": [{\"colorbar\": {\"outlinewidth\": 0, \"ticks\": \"\"}, \"colorscale\": [[0.0, \"#0d0887\"], [0.1111111111111111, \"#46039f\"], [0.2222222222222222, \"#7201a8\"], [0.3333333333333333, \"#9c179e\"], [0.4444444444444444, \"#bd3786\"], [0.5555555555555556, \"#d8576b\"], [0.6666666666666666, \"#ed7953\"], [0.7777777777777778, \"#fb9f3a\"], [0.8888888888888888, \"#fdca26\"], [1.0, \"#f0f921\"]], \"type\": \"histogram2d\"}], \"histogram2dcontour\": [{\"colorbar\": {\"outlinewidth\": 0, \"ticks\": \"\"}, \"colorscale\": [[0.0, \"#0d0887\"], [0.1111111111111111, \"#46039f\"], [0.2222222222222222, \"#7201a8\"], [0.3333333333333333, \"#9c179e\"], [0.4444444444444444, \"#bd3786\"], [0.5555555555555556, \"#d8576b\"], [0.6666666666666666, \"#ed7953\"], [0.7777777777777778, \"#fb9f3a\"], [0.8888888888888888, \"#fdca26\"], [1.0, \"#f0f921\"]], \"type\": \"histogram2dcontour\"}], \"mesh3d\": [{\"colorbar\": {\"outlinewidth\": 0, \"ticks\": \"\"}, \"type\": \"mesh3d\"}], \"parcoords\": [{\"line\": {\"colorbar\": {\"outlinewidth\": 0, \"ticks\": \"\"}}, \"type\": \"parcoords\"}], \"pie\": [{\"automargin\": true, \"type\": \"pie\"}], \"scatter\": [{\"marker\": {\"colorbar\": {\"outlinewidth\": 0, \"ticks\": \"\"}}, \"type\": \"scatter\"}], \"scatter3d\": [{\"line\": {\"colorbar\": {\"outlinewidth\": 0, \"ticks\": \"\"}}, \"marker\": {\"colorbar\": {\"outlinewidth\": 0, \"ticks\": \"\"}}, \"type\": \"scatter3d\"}], \"scattercarpet\": [{\"marker\": {\"colorbar\": {\"outlinewidth\": 0, \"ticks\": \"\"}}, \"type\": \"scattercarpet\"}], \"scattergeo\": [{\"marker\": {\"colorbar\": {\"outlinewidth\": 0, \"ticks\": \"\"}}, \"type\": \"scattergeo\"}], \"scattergl\": [{\"marker\": {\"colorbar\": {\"outlinewidth\": 0, \"ticks\": \"\"}}, \"type\": \"scattergl\"}], \"scattermapbox\": [{\"marker\": {\"colorbar\": {\"outlinewidth\": 0, \"ticks\": \"\"}}, \"type\": \"scattermapbox\"}], \"scatterpolar\": [{\"marker\": {\"colorbar\": {\"outlinewidth\": 0, \"ticks\": \"\"}}, \"type\": \"scatterpolar\"}], \"scatterpolargl\": [{\"marker\": {\"colorbar\": {\"outlinewidth\": 0, \"ticks\": \"\"}}, \"type\": \"scatterpolargl\"}], \"scatterternary\": [{\"marker\": {\"colorbar\": {\"outlinewidth\": 0, \"ticks\": \"\"}}, \"type\": \"scatterternary\"}], \"surface\": [{\"colorbar\": {\"outlinewidth\": 0, \"ticks\": \"\"}, \"colorscale\": [[0.0, \"#0d0887\"], [0.1111111111111111, \"#46039f\"], [0.2222222222222222, \"#7201a8\"], [0.3333333333333333, \"#9c179e\"], [0.4444444444444444, \"#bd3786\"], [0.5555555555555556, \"#d8576b\"], [0.6666666666666666, \"#ed7953\"], [0.7777777777777778, \"#fb9f3a\"], [0.8888888888888888, \"#fdca26\"], [1.0, \"#f0f921\"]], \"type\": \"surface\"}], \"table\": [{\"cells\": {\"fill\": {\"color\": \"#EBF0F8\"}, \"line\": {\"color\": \"white\"}}, \"header\": {\"fill\": {\"color\": \"#C8D4E3\"}, \"line\": {\"color\": \"white\"}}, \"type\": \"table\"}]}, \"layout\": {\"annotationdefaults\": {\"arrowcolor\": \"#2a3f5f\", \"arrowhead\": 0, \"arrowwidth\": 1}, \"coloraxis\": {\"colorbar\": {\"outlinewidth\": 0, \"ticks\": \"\"}}, \"colorscale\": {\"diverging\": [[0, \"#8e0152\"], [0.1, \"#c51b7d\"], [0.2, \"#de77ae\"], [0.3, \"#f1b6da\"], [0.4, \"#fde0ef\"], [0.5, \"#f7f7f7\"], [0.6, \"#e6f5d0\"], [0.7, \"#b8e186\"], [0.8, \"#7fbc41\"], [0.9, \"#4d9221\"], [1, \"#276419\"]], \"sequential\": [[0.0, \"#0d0887\"], [0.1111111111111111, \"#46039f\"], [0.2222222222222222, \"#7201a8\"], [0.3333333333333333, \"#9c179e\"], [0.4444444444444444, \"#bd3786\"], [0.5555555555555556, \"#d8576b\"], [0.6666666666666666, \"#ed7953\"], [0.7777777777777778, \"#fb9f3a\"], [0.8888888888888888, \"#fdca26\"], [1.0, \"#f0f921\"]], \"sequentialminus\": [[0.0, \"#0d0887\"], [0.1111111111111111, \"#46039f\"], [0.2222222222222222, \"#7201a8\"], [0.3333333333333333, \"#9c179e\"], [0.4444444444444444, \"#bd3786\"], [0.5555555555555556, \"#d8576b\"], [0.6666666666666666, \"#ed7953\"], [0.7777777777777778, \"#fb9f3a\"], [0.8888888888888888, \"#fdca26\"], [1.0, \"#f0f921\"]]}, \"colorway\": [\"#636efa\", \"#EF553B\", \"#00cc96\", \"#ab63fa\", \"#FFA15A\", \"#19d3f3\", \"#FF6692\", \"#B6E880\", \"#FF97FF\", \"#FECB52\"], \"font\": {\"color\": \"#2a3f5f\"}, \"geo\": {\"bgcolor\": \"white\", \"lakecolor\": \"white\", \"landcolor\": \"#E5ECF6\", \"showlakes\": true, \"showland\": true, \"subunitcolor\": \"white\"}, \"hoverlabel\": {\"align\": \"left\"}, \"hovermode\": \"closest\", \"mapbox\": {\"style\": \"light\"}, \"paper_bgcolor\": \"white\", \"plot_bgcolor\": \"#E5ECF6\", \"polar\": {\"angularaxis\": {\"gridcolor\": \"white\", \"linecolor\": \"white\", \"ticks\": \"\"}, \"bgcolor\": \"#E5ECF6\", \"radialaxis\": {\"gridcolor\": \"white\", \"linecolor\": \"white\", \"ticks\": \"\"}}, \"scene\": {\"xaxis\": {\"backgroundcolor\": \"#E5ECF6\", \"gridcolor\": \"white\", \"gridwidth\": 2, \"linecolor\": \"white\", \"showbackground\": true, \"ticks\": \"\", \"zerolinecolor\": \"white\"}, \"yaxis\": {\"backgroundcolor\": \"#E5ECF6\", \"gridcolor\": \"white\", \"gridwidth\": 2, \"linecolor\": \"white\", \"showbackground\": true, \"ticks\": \"\", \"zerolinecolor\": \"white\"}, \"zaxis\": {\"backgroundcolor\": \"#E5ECF6\", \"gridcolor\": \"white\", \"gridwidth\": 2, \"linecolor\": \"white\", \"showbackground\": true, \"ticks\": \"\", \"zerolinecolor\": \"white\"}}, \"shapedefaults\": {\"line\": {\"color\": \"#2a3f5f\"}}, \"ternary\": {\"aaxis\": {\"gridcolor\": \"white\", \"linecolor\": \"white\", \"ticks\": \"\"}, \"baxis\": {\"gridcolor\": \"white\", \"linecolor\": \"white\", \"ticks\": \"\"}, \"bgcolor\": \"#E5ECF6\", \"caxis\": {\"gridcolor\": \"white\", \"linecolor\": \"white\", \"ticks\": \"\"}}, \"title\": {\"x\": 0.05}, \"xaxis\": {\"automargin\": true, \"gridcolor\": \"white\", \"linecolor\": \"white\", \"ticks\": \"\", \"title\": {\"standoff\": 15}, \"zerolinecolor\": \"white\", \"zerolinewidth\": 2}, \"yaxis\": {\"automargin\": true, \"gridcolor\": \"white\", \"linecolor\": \"white\", \"ticks\": \"\", \"title\": {\"standoff\": 15}, \"zerolinecolor\": \"white\", \"zerolinewidth\": 2}}}},                        {\"responsive\": true}                    ).then(function(){\n",
       "                            \n",
       "var gd = document.getElementById('d27210ce-42e0-48ac-b2d3-9707d1002bcf');\n",
       "var x = new MutationObserver(function (mutations, observer) {{\n",
       "        var display = window.getComputedStyle(gd).display;\n",
       "        if (!display || display === 'none') {{\n",
       "            console.log([gd, 'removed!']);\n",
       "            Plotly.purge(gd);\n",
       "            observer.disconnect();\n",
       "        }}\n",
       "}});\n",
       "\n",
       "// Listen for the removal of the full notebook cells\n",
       "var notebookContainer = gd.closest('#notebook-container');\n",
       "if (notebookContainer) {{\n",
       "    x.observe(notebookContainer, {childList: true});\n",
       "}}\n",
       "\n",
       "// Listen for the clearing of the current output cell\n",
       "var outputEl = gd.closest('.output');\n",
       "if (outputEl) {{\n",
       "    x.observe(outputEl, {childList: true});\n",
       "}}\n",
       "\n",
       "                        })                };                });            </script>        </div>"
      ]
     },
     "metadata": {},
     "output_type": "display_data"
    }
   ],
   "source": [
    "# Parallel Coordinates Plot\n",
    "\n",
    "px.parallel_coordinates(sfo_exp_avg_sale, color = 'sale_price_sqr_foot')"
   ]
  },
  {
   "cell_type": "code",
   "execution_count": 40,
   "metadata": {},
   "outputs": [
    {
     "data": {
      "application/vnd.plotly.v1+json": {
       "config": {
        "plotlyServerURL": "https://plot.ly"
       },
       "data": [
        {
         "dimensions": [
          {
           "label": "Neighborhood",
           "values": [
            "Union Square District",
            "Merced Heights",
            "Miraloma Park",
            "Pacific Heights",
            "Westwood Park",
            "Telegraph Hill",
            "Presidio Heights",
            "Cow Hollow",
            "Potrero Hill",
            "South Beach"
           ]
          },
          {
           "label": "Avg Sale Price per Square Foot",
           "values": [
            903.9932576720645,
            788.8448175872469,
            779.810842264425,
            689.5558168113664,
            687.0875745178323,
            676.5065775293257,
            675.3502120510033,
            665.964041578323,
            662.0136128276529,
            650.1244791945729
           ]
          },
          {
           "label": "Number of Housing Units",
           "values": [
            377427.5,
            380348,
            375967.25,
            378401,
            382295,
            378401,
            378401,
            378401,
            378401,
            375805
           ]
          },
          {
           "label": "Gross Price",
           "values": [
            2555.1666666666665,
            3414,
            2155.25,
            2817.285714285714,
            3959,
            2817.285714285714,
            2817.285714285714,
            2817.285714285714,
            2817.285714285714,
            2099
           ]
          }
         ],
         "domain": {
          "x": [
           0,
           1
          ],
          "y": [
           0,
           1
          ]
         },
         "line": {
          "color": [
           903.9932576720645,
           788.8448175872469,
           779.810842264425,
           689.5558168113664,
           687.0875745178323,
           676.5065775293257,
           675.3502120510033,
           665.964041578323,
           662.0136128276529,
           650.1244791945729
          ],
          "coloraxis": "coloraxis"
         },
         "name": "",
         "type": "parcats"
        }
       ],
       "layout": {
        "coloraxis": {
         "colorbar": {
          "title": {
           "text": "Avg Sale Price per Square Foot"
          }
         },
         "colorscale": [
          [
           0,
           "#000004"
          ],
          [
           0.1111111111111111,
           "#1b0c41"
          ],
          [
           0.2222222222222222,
           "#4a0c6b"
          ],
          [
           0.3333333333333333,
           "#781c6d"
          ],
          [
           0.4444444444444444,
           "#a52c60"
          ],
          [
           0.5555555555555556,
           "#cf4446"
          ],
          [
           0.6666666666666666,
           "#ed6925"
          ],
          [
           0.7777777777777778,
           "#fb9b06"
          ],
          [
           0.8888888888888888,
           "#f7d13d"
          ],
          [
           1,
           "#fcffa4"
          ]
         ]
        },
        "legend": {
         "tracegroupgap": 0
        },
        "margin": {
         "t": 60
        },
        "template": {
         "data": {
          "bar": [
           {
            "error_x": {
             "color": "#2a3f5f"
            },
            "error_y": {
             "color": "#2a3f5f"
            },
            "marker": {
             "line": {
              "color": "#E5ECF6",
              "width": 0.5
             }
            },
            "type": "bar"
           }
          ],
          "barpolar": [
           {
            "marker": {
             "line": {
              "color": "#E5ECF6",
              "width": 0.5
             }
            },
            "type": "barpolar"
           }
          ],
          "carpet": [
           {
            "aaxis": {
             "endlinecolor": "#2a3f5f",
             "gridcolor": "white",
             "linecolor": "white",
             "minorgridcolor": "white",
             "startlinecolor": "#2a3f5f"
            },
            "baxis": {
             "endlinecolor": "#2a3f5f",
             "gridcolor": "white",
             "linecolor": "white",
             "minorgridcolor": "white",
             "startlinecolor": "#2a3f5f"
            },
            "type": "carpet"
           }
          ],
          "choropleth": [
           {
            "colorbar": {
             "outlinewidth": 0,
             "ticks": ""
            },
            "type": "choropleth"
           }
          ],
          "contour": [
           {
            "colorbar": {
             "outlinewidth": 0,
             "ticks": ""
            },
            "colorscale": [
             [
              0,
              "#0d0887"
             ],
             [
              0.1111111111111111,
              "#46039f"
             ],
             [
              0.2222222222222222,
              "#7201a8"
             ],
             [
              0.3333333333333333,
              "#9c179e"
             ],
             [
              0.4444444444444444,
              "#bd3786"
             ],
             [
              0.5555555555555556,
              "#d8576b"
             ],
             [
              0.6666666666666666,
              "#ed7953"
             ],
             [
              0.7777777777777778,
              "#fb9f3a"
             ],
             [
              0.8888888888888888,
              "#fdca26"
             ],
             [
              1,
              "#f0f921"
             ]
            ],
            "type": "contour"
           }
          ],
          "contourcarpet": [
           {
            "colorbar": {
             "outlinewidth": 0,
             "ticks": ""
            },
            "type": "contourcarpet"
           }
          ],
          "heatmap": [
           {
            "colorbar": {
             "outlinewidth": 0,
             "ticks": ""
            },
            "colorscale": [
             [
              0,
              "#0d0887"
             ],
             [
              0.1111111111111111,
              "#46039f"
             ],
             [
              0.2222222222222222,
              "#7201a8"
             ],
             [
              0.3333333333333333,
              "#9c179e"
             ],
             [
              0.4444444444444444,
              "#bd3786"
             ],
             [
              0.5555555555555556,
              "#d8576b"
             ],
             [
              0.6666666666666666,
              "#ed7953"
             ],
             [
              0.7777777777777778,
              "#fb9f3a"
             ],
             [
              0.8888888888888888,
              "#fdca26"
             ],
             [
              1,
              "#f0f921"
             ]
            ],
            "type": "heatmap"
           }
          ],
          "heatmapgl": [
           {
            "colorbar": {
             "outlinewidth": 0,
             "ticks": ""
            },
            "colorscale": [
             [
              0,
              "#0d0887"
             ],
             [
              0.1111111111111111,
              "#46039f"
             ],
             [
              0.2222222222222222,
              "#7201a8"
             ],
             [
              0.3333333333333333,
              "#9c179e"
             ],
             [
              0.4444444444444444,
              "#bd3786"
             ],
             [
              0.5555555555555556,
              "#d8576b"
             ],
             [
              0.6666666666666666,
              "#ed7953"
             ],
             [
              0.7777777777777778,
              "#fb9f3a"
             ],
             [
              0.8888888888888888,
              "#fdca26"
             ],
             [
              1,
              "#f0f921"
             ]
            ],
            "type": "heatmapgl"
           }
          ],
          "histogram": [
           {
            "marker": {
             "colorbar": {
              "outlinewidth": 0,
              "ticks": ""
             }
            },
            "type": "histogram"
           }
          ],
          "histogram2d": [
           {
            "colorbar": {
             "outlinewidth": 0,
             "ticks": ""
            },
            "colorscale": [
             [
              0,
              "#0d0887"
             ],
             [
              0.1111111111111111,
              "#46039f"
             ],
             [
              0.2222222222222222,
              "#7201a8"
             ],
             [
              0.3333333333333333,
              "#9c179e"
             ],
             [
              0.4444444444444444,
              "#bd3786"
             ],
             [
              0.5555555555555556,
              "#d8576b"
             ],
             [
              0.6666666666666666,
              "#ed7953"
             ],
             [
              0.7777777777777778,
              "#fb9f3a"
             ],
             [
              0.8888888888888888,
              "#fdca26"
             ],
             [
              1,
              "#f0f921"
             ]
            ],
            "type": "histogram2d"
           }
          ],
          "histogram2dcontour": [
           {
            "colorbar": {
             "outlinewidth": 0,
             "ticks": ""
            },
            "colorscale": [
             [
              0,
              "#0d0887"
             ],
             [
              0.1111111111111111,
              "#46039f"
             ],
             [
              0.2222222222222222,
              "#7201a8"
             ],
             [
              0.3333333333333333,
              "#9c179e"
             ],
             [
              0.4444444444444444,
              "#bd3786"
             ],
             [
              0.5555555555555556,
              "#d8576b"
             ],
             [
              0.6666666666666666,
              "#ed7953"
             ],
             [
              0.7777777777777778,
              "#fb9f3a"
             ],
             [
              0.8888888888888888,
              "#fdca26"
             ],
             [
              1,
              "#f0f921"
             ]
            ],
            "type": "histogram2dcontour"
           }
          ],
          "mesh3d": [
           {
            "colorbar": {
             "outlinewidth": 0,
             "ticks": ""
            },
            "type": "mesh3d"
           }
          ],
          "parcoords": [
           {
            "line": {
             "colorbar": {
              "outlinewidth": 0,
              "ticks": ""
             }
            },
            "type": "parcoords"
           }
          ],
          "pie": [
           {
            "automargin": true,
            "type": "pie"
           }
          ],
          "scatter": [
           {
            "marker": {
             "colorbar": {
              "outlinewidth": 0,
              "ticks": ""
             }
            },
            "type": "scatter"
           }
          ],
          "scatter3d": [
           {
            "line": {
             "colorbar": {
              "outlinewidth": 0,
              "ticks": ""
             }
            },
            "marker": {
             "colorbar": {
              "outlinewidth": 0,
              "ticks": ""
             }
            },
            "type": "scatter3d"
           }
          ],
          "scattercarpet": [
           {
            "marker": {
             "colorbar": {
              "outlinewidth": 0,
              "ticks": ""
             }
            },
            "type": "scattercarpet"
           }
          ],
          "scattergeo": [
           {
            "marker": {
             "colorbar": {
              "outlinewidth": 0,
              "ticks": ""
             }
            },
            "type": "scattergeo"
           }
          ],
          "scattergl": [
           {
            "marker": {
             "colorbar": {
              "outlinewidth": 0,
              "ticks": ""
             }
            },
            "type": "scattergl"
           }
          ],
          "scattermapbox": [
           {
            "marker": {
             "colorbar": {
              "outlinewidth": 0,
              "ticks": ""
             }
            },
            "type": "scattermapbox"
           }
          ],
          "scatterpolar": [
           {
            "marker": {
             "colorbar": {
              "outlinewidth": 0,
              "ticks": ""
             }
            },
            "type": "scatterpolar"
           }
          ],
          "scatterpolargl": [
           {
            "marker": {
             "colorbar": {
              "outlinewidth": 0,
              "ticks": ""
             }
            },
            "type": "scatterpolargl"
           }
          ],
          "scatterternary": [
           {
            "marker": {
             "colorbar": {
              "outlinewidth": 0,
              "ticks": ""
             }
            },
            "type": "scatterternary"
           }
          ],
          "surface": [
           {
            "colorbar": {
             "outlinewidth": 0,
             "ticks": ""
            },
            "colorscale": [
             [
              0,
              "#0d0887"
             ],
             [
              0.1111111111111111,
              "#46039f"
             ],
             [
              0.2222222222222222,
              "#7201a8"
             ],
             [
              0.3333333333333333,
              "#9c179e"
             ],
             [
              0.4444444444444444,
              "#bd3786"
             ],
             [
              0.5555555555555556,
              "#d8576b"
             ],
             [
              0.6666666666666666,
              "#ed7953"
             ],
             [
              0.7777777777777778,
              "#fb9f3a"
             ],
             [
              0.8888888888888888,
              "#fdca26"
             ],
             [
              1,
              "#f0f921"
             ]
            ],
            "type": "surface"
           }
          ],
          "table": [
           {
            "cells": {
             "fill": {
              "color": "#EBF0F8"
             },
             "line": {
              "color": "white"
             }
            },
            "header": {
             "fill": {
              "color": "#C8D4E3"
             },
             "line": {
              "color": "white"
             }
            },
            "type": "table"
           }
          ]
         },
         "layout": {
          "annotationdefaults": {
           "arrowcolor": "#2a3f5f",
           "arrowhead": 0,
           "arrowwidth": 1
          },
          "coloraxis": {
           "colorbar": {
            "outlinewidth": 0,
            "ticks": ""
           }
          },
          "colorscale": {
           "diverging": [
            [
             0,
             "#8e0152"
            ],
            [
             0.1,
             "#c51b7d"
            ],
            [
             0.2,
             "#de77ae"
            ],
            [
             0.3,
             "#f1b6da"
            ],
            [
             0.4,
             "#fde0ef"
            ],
            [
             0.5,
             "#f7f7f7"
            ],
            [
             0.6,
             "#e6f5d0"
            ],
            [
             0.7,
             "#b8e186"
            ],
            [
             0.8,
             "#7fbc41"
            ],
            [
             0.9,
             "#4d9221"
            ],
            [
             1,
             "#276419"
            ]
           ],
           "sequential": [
            [
             0,
             "#0d0887"
            ],
            [
             0.1111111111111111,
             "#46039f"
            ],
            [
             0.2222222222222222,
             "#7201a8"
            ],
            [
             0.3333333333333333,
             "#9c179e"
            ],
            [
             0.4444444444444444,
             "#bd3786"
            ],
            [
             0.5555555555555556,
             "#d8576b"
            ],
            [
             0.6666666666666666,
             "#ed7953"
            ],
            [
             0.7777777777777778,
             "#fb9f3a"
            ],
            [
             0.8888888888888888,
             "#fdca26"
            ],
            [
             1,
             "#f0f921"
            ]
           ],
           "sequentialminus": [
            [
             0,
             "#0d0887"
            ],
            [
             0.1111111111111111,
             "#46039f"
            ],
            [
             0.2222222222222222,
             "#7201a8"
            ],
            [
             0.3333333333333333,
             "#9c179e"
            ],
            [
             0.4444444444444444,
             "#bd3786"
            ],
            [
             0.5555555555555556,
             "#d8576b"
            ],
            [
             0.6666666666666666,
             "#ed7953"
            ],
            [
             0.7777777777777778,
             "#fb9f3a"
            ],
            [
             0.8888888888888888,
             "#fdca26"
            ],
            [
             1,
             "#f0f921"
            ]
           ]
          },
          "colorway": [
           "#636efa",
           "#EF553B",
           "#00cc96",
           "#ab63fa",
           "#FFA15A",
           "#19d3f3",
           "#FF6692",
           "#B6E880",
           "#FF97FF",
           "#FECB52"
          ],
          "font": {
           "color": "#2a3f5f"
          },
          "geo": {
           "bgcolor": "white",
           "lakecolor": "white",
           "landcolor": "#E5ECF6",
           "showlakes": true,
           "showland": true,
           "subunitcolor": "white"
          },
          "hoverlabel": {
           "align": "left"
          },
          "hovermode": "closest",
          "mapbox": {
           "style": "light"
          },
          "paper_bgcolor": "white",
          "plot_bgcolor": "#E5ECF6",
          "polar": {
           "angularaxis": {
            "gridcolor": "white",
            "linecolor": "white",
            "ticks": ""
           },
           "bgcolor": "#E5ECF6",
           "radialaxis": {
            "gridcolor": "white",
            "linecolor": "white",
            "ticks": ""
           }
          },
          "scene": {
           "xaxis": {
            "backgroundcolor": "#E5ECF6",
            "gridcolor": "white",
            "gridwidth": 2,
            "linecolor": "white",
            "showbackground": true,
            "ticks": "",
            "zerolinecolor": "white"
           },
           "yaxis": {
            "backgroundcolor": "#E5ECF6",
            "gridcolor": "white",
            "gridwidth": 2,
            "linecolor": "white",
            "showbackground": true,
            "ticks": "",
            "zerolinecolor": "white"
           },
           "zaxis": {
            "backgroundcolor": "#E5ECF6",
            "gridcolor": "white",
            "gridwidth": 2,
            "linecolor": "white",
            "showbackground": true,
            "ticks": "",
            "zerolinecolor": "white"
           }
          },
          "shapedefaults": {
           "line": {
            "color": "#2a3f5f"
           }
          },
          "ternary": {
           "aaxis": {
            "gridcolor": "white",
            "linecolor": "white",
            "ticks": ""
           },
           "baxis": {
            "gridcolor": "white",
            "linecolor": "white",
            "ticks": ""
           },
           "bgcolor": "#E5ECF6",
           "caxis": {
            "gridcolor": "white",
            "linecolor": "white",
            "ticks": ""
           }
          },
          "title": {
           "x": 0.05
          },
          "xaxis": {
           "automargin": true,
           "gridcolor": "white",
           "linecolor": "white",
           "ticks": "",
           "title": {
            "standoff": 15
           },
           "zerolinecolor": "white",
           "zerolinewidth": 2
          },
          "yaxis": {
           "automargin": true,
           "gridcolor": "white",
           "linecolor": "white",
           "ticks": "",
           "title": {
            "standoff": 15
           },
           "zerolinecolor": "white",
           "zerolinewidth": 2
          }
         }
        }
       }
      },
      "text/html": [
       "<div>                            <div id=\"737b5c93-b1fe-4629-9251-e803b8fb9185\" class=\"plotly-graph-div\" style=\"height:525px; width:100%;\"></div>            <script type=\"text/javascript\">                require([\"plotly\"], function(Plotly) {                    window.PLOTLYENV=window.PLOTLYENV || {};                                    if (document.getElementById(\"737b5c93-b1fe-4629-9251-e803b8fb9185\")) {                    Plotly.newPlot(                        \"737b5c93-b1fe-4629-9251-e803b8fb9185\",                        [{\"dimensions\": [{\"label\": \"Neighborhood\", \"values\": [\"Union Square District\", \"Merced Heights\", \"Miraloma Park\", \"Pacific Heights\", \"Westwood Park\", \"Telegraph Hill\", \"Presidio Heights\", \"Cow Hollow\", \"Potrero Hill\", \"South Beach\"]}, {\"label\": \"Avg Sale Price per Square Foot\", \"values\": [903.9932576720645, 788.8448175872469, 779.810842264425, 689.5558168113664, 687.0875745178323, 676.5065775293257, 675.3502120510033, 665.964041578323, 662.0136128276529, 650.1244791945729]}, {\"label\": \"Number of Housing Units\", \"values\": [377427.5, 380348.0, 375967.25, 378401.0, 382295.0, 378401.0, 378401.0, 378401.0, 378401.0, 375805.0]}, {\"label\": \"Gross Price\", \"values\": [2555.1666666666665, 3414.0, 2155.25, 2817.285714285714, 3959.0, 2817.285714285714, 2817.285714285714, 2817.285714285714, 2817.285714285714, 2099.0]}], \"domain\": {\"x\": [0.0, 1.0], \"y\": [0.0, 1.0]}, \"line\": {\"color\": [903.9932576720645, 788.8448175872469, 779.810842264425, 689.5558168113664, 687.0875745178323, 676.5065775293257, 675.3502120510033, 665.964041578323, 662.0136128276529, 650.1244791945729], \"coloraxis\": \"coloraxis\"}, \"name\": \"\", \"type\": \"parcats\"}],                        {\"coloraxis\": {\"colorbar\": {\"title\": {\"text\": \"Avg Sale Price per Square Foot\"}}, \"colorscale\": [[0.0, \"#000004\"], [0.1111111111111111, \"#1b0c41\"], [0.2222222222222222, \"#4a0c6b\"], [0.3333333333333333, \"#781c6d\"], [0.4444444444444444, \"#a52c60\"], [0.5555555555555556, \"#cf4446\"], [0.6666666666666666, \"#ed6925\"], [0.7777777777777778, \"#fb9b06\"], [0.8888888888888888, \"#f7d13d\"], [1.0, \"#fcffa4\"]]}, \"legend\": {\"tracegroupgap\": 0}, \"margin\": {\"t\": 60}, \"template\": {\"data\": {\"bar\": [{\"error_x\": {\"color\": \"#2a3f5f\"}, \"error_y\": {\"color\": \"#2a3f5f\"}, \"marker\": {\"line\": {\"color\": \"#E5ECF6\", \"width\": 0.5}}, \"type\": \"bar\"}], \"barpolar\": [{\"marker\": {\"line\": {\"color\": \"#E5ECF6\", \"width\": 0.5}}, \"type\": \"barpolar\"}], \"carpet\": [{\"aaxis\": {\"endlinecolor\": \"#2a3f5f\", \"gridcolor\": \"white\", \"linecolor\": \"white\", \"minorgridcolor\": \"white\", \"startlinecolor\": \"#2a3f5f\"}, \"baxis\": {\"endlinecolor\": \"#2a3f5f\", \"gridcolor\": \"white\", \"linecolor\": \"white\", \"minorgridcolor\": \"white\", \"startlinecolor\": \"#2a3f5f\"}, \"type\": \"carpet\"}], \"choropleth\": [{\"colorbar\": {\"outlinewidth\": 0, \"ticks\": \"\"}, \"type\": \"choropleth\"}], \"contour\": [{\"colorbar\": {\"outlinewidth\": 0, \"ticks\": \"\"}, \"colorscale\": [[0.0, \"#0d0887\"], [0.1111111111111111, \"#46039f\"], [0.2222222222222222, \"#7201a8\"], [0.3333333333333333, \"#9c179e\"], [0.4444444444444444, \"#bd3786\"], [0.5555555555555556, \"#d8576b\"], [0.6666666666666666, \"#ed7953\"], [0.7777777777777778, \"#fb9f3a\"], [0.8888888888888888, \"#fdca26\"], [1.0, \"#f0f921\"]], \"type\": \"contour\"}], \"contourcarpet\": [{\"colorbar\": {\"outlinewidth\": 0, \"ticks\": \"\"}, \"type\": \"contourcarpet\"}], \"heatmap\": [{\"colorbar\": {\"outlinewidth\": 0, \"ticks\": \"\"}, \"colorscale\": [[0.0, \"#0d0887\"], [0.1111111111111111, \"#46039f\"], [0.2222222222222222, \"#7201a8\"], [0.3333333333333333, \"#9c179e\"], [0.4444444444444444, \"#bd3786\"], [0.5555555555555556, \"#d8576b\"], [0.6666666666666666, \"#ed7953\"], [0.7777777777777778, \"#fb9f3a\"], [0.8888888888888888, \"#fdca26\"], [1.0, \"#f0f921\"]], \"type\": \"heatmap\"}], \"heatmapgl\": [{\"colorbar\": {\"outlinewidth\": 0, \"ticks\": \"\"}, \"colorscale\": [[0.0, \"#0d0887\"], [0.1111111111111111, \"#46039f\"], [0.2222222222222222, \"#7201a8\"], [0.3333333333333333, \"#9c179e\"], [0.4444444444444444, \"#bd3786\"], [0.5555555555555556, \"#d8576b\"], [0.6666666666666666, \"#ed7953\"], [0.7777777777777778, \"#fb9f3a\"], [0.8888888888888888, \"#fdca26\"], [1.0, \"#f0f921\"]], \"type\": \"heatmapgl\"}], \"histogram\": [{\"marker\": {\"colorbar\": {\"outlinewidth\": 0, \"ticks\": \"\"}}, \"type\": \"histogram\"}], \"histogram2d\": [{\"colorbar\": {\"outlinewidth\": 0, \"ticks\": \"\"}, \"colorscale\": [[0.0, \"#0d0887\"], [0.1111111111111111, \"#46039f\"], [0.2222222222222222, \"#7201a8\"], [0.3333333333333333, \"#9c179e\"], [0.4444444444444444, \"#bd3786\"], [0.5555555555555556, \"#d8576b\"], [0.6666666666666666, \"#ed7953\"], [0.7777777777777778, \"#fb9f3a\"], [0.8888888888888888, \"#fdca26\"], [1.0, \"#f0f921\"]], \"type\": \"histogram2d\"}], \"histogram2dcontour\": [{\"colorbar\": {\"outlinewidth\": 0, \"ticks\": \"\"}, \"colorscale\": [[0.0, \"#0d0887\"], [0.1111111111111111, \"#46039f\"], [0.2222222222222222, \"#7201a8\"], [0.3333333333333333, \"#9c179e\"], [0.4444444444444444, \"#bd3786\"], [0.5555555555555556, \"#d8576b\"], [0.6666666666666666, \"#ed7953\"], [0.7777777777777778, \"#fb9f3a\"], [0.8888888888888888, \"#fdca26\"], [1.0, \"#f0f921\"]], \"type\": \"histogram2dcontour\"}], \"mesh3d\": [{\"colorbar\": {\"outlinewidth\": 0, \"ticks\": \"\"}, \"type\": \"mesh3d\"}], \"parcoords\": [{\"line\": {\"colorbar\": {\"outlinewidth\": 0, \"ticks\": \"\"}}, \"type\": \"parcoords\"}], \"pie\": [{\"automargin\": true, \"type\": \"pie\"}], \"scatter\": [{\"marker\": {\"colorbar\": {\"outlinewidth\": 0, \"ticks\": \"\"}}, \"type\": \"scatter\"}], \"scatter3d\": [{\"line\": {\"colorbar\": {\"outlinewidth\": 0, \"ticks\": \"\"}}, \"marker\": {\"colorbar\": {\"outlinewidth\": 0, \"ticks\": \"\"}}, \"type\": \"scatter3d\"}], \"scattercarpet\": [{\"marker\": {\"colorbar\": {\"outlinewidth\": 0, \"ticks\": \"\"}}, \"type\": \"scattercarpet\"}], \"scattergeo\": [{\"marker\": {\"colorbar\": {\"outlinewidth\": 0, \"ticks\": \"\"}}, \"type\": \"scattergeo\"}], \"scattergl\": [{\"marker\": {\"colorbar\": {\"outlinewidth\": 0, \"ticks\": \"\"}}, \"type\": \"scattergl\"}], \"scattermapbox\": [{\"marker\": {\"colorbar\": {\"outlinewidth\": 0, \"ticks\": \"\"}}, \"type\": \"scattermapbox\"}], \"scatterpolar\": [{\"marker\": {\"colorbar\": {\"outlinewidth\": 0, \"ticks\": \"\"}}, \"type\": \"scatterpolar\"}], \"scatterpolargl\": [{\"marker\": {\"colorbar\": {\"outlinewidth\": 0, \"ticks\": \"\"}}, \"type\": \"scatterpolargl\"}], \"scatterternary\": [{\"marker\": {\"colorbar\": {\"outlinewidth\": 0, \"ticks\": \"\"}}, \"type\": \"scatterternary\"}], \"surface\": [{\"colorbar\": {\"outlinewidth\": 0, \"ticks\": \"\"}, \"colorscale\": [[0.0, \"#0d0887\"], [0.1111111111111111, \"#46039f\"], [0.2222222222222222, \"#7201a8\"], [0.3333333333333333, \"#9c179e\"], [0.4444444444444444, \"#bd3786\"], [0.5555555555555556, \"#d8576b\"], [0.6666666666666666, \"#ed7953\"], [0.7777777777777778, \"#fb9f3a\"], [0.8888888888888888, \"#fdca26\"], [1.0, \"#f0f921\"]], \"type\": \"surface\"}], \"table\": [{\"cells\": {\"fill\": {\"color\": \"#EBF0F8\"}, \"line\": {\"color\": \"white\"}}, \"header\": {\"fill\": {\"color\": \"#C8D4E3\"}, \"line\": {\"color\": \"white\"}}, \"type\": \"table\"}]}, \"layout\": {\"annotationdefaults\": {\"arrowcolor\": \"#2a3f5f\", \"arrowhead\": 0, \"arrowwidth\": 1}, \"coloraxis\": {\"colorbar\": {\"outlinewidth\": 0, \"ticks\": \"\"}}, \"colorscale\": {\"diverging\": [[0, \"#8e0152\"], [0.1, \"#c51b7d\"], [0.2, \"#de77ae\"], [0.3, \"#f1b6da\"], [0.4, \"#fde0ef\"], [0.5, \"#f7f7f7\"], [0.6, \"#e6f5d0\"], [0.7, \"#b8e186\"], [0.8, \"#7fbc41\"], [0.9, \"#4d9221\"], [1, \"#276419\"]], \"sequential\": [[0.0, \"#0d0887\"], [0.1111111111111111, \"#46039f\"], [0.2222222222222222, \"#7201a8\"], [0.3333333333333333, \"#9c179e\"], [0.4444444444444444, \"#bd3786\"], [0.5555555555555556, \"#d8576b\"], [0.6666666666666666, \"#ed7953\"], [0.7777777777777778, \"#fb9f3a\"], [0.8888888888888888, \"#fdca26\"], [1.0, \"#f0f921\"]], \"sequentialminus\": [[0.0, \"#0d0887\"], [0.1111111111111111, \"#46039f\"], [0.2222222222222222, \"#7201a8\"], [0.3333333333333333, \"#9c179e\"], [0.4444444444444444, \"#bd3786\"], [0.5555555555555556, \"#d8576b\"], [0.6666666666666666, \"#ed7953\"], [0.7777777777777778, \"#fb9f3a\"], [0.8888888888888888, \"#fdca26\"], [1.0, \"#f0f921\"]]}, \"colorway\": [\"#636efa\", \"#EF553B\", \"#00cc96\", \"#ab63fa\", \"#FFA15A\", \"#19d3f3\", \"#FF6692\", \"#B6E880\", \"#FF97FF\", \"#FECB52\"], \"font\": {\"color\": \"#2a3f5f\"}, \"geo\": {\"bgcolor\": \"white\", \"lakecolor\": \"white\", \"landcolor\": \"#E5ECF6\", \"showlakes\": true, \"showland\": true, \"subunitcolor\": \"white\"}, \"hoverlabel\": {\"align\": \"left\"}, \"hovermode\": \"closest\", \"mapbox\": {\"style\": \"light\"}, \"paper_bgcolor\": \"white\", \"plot_bgcolor\": \"#E5ECF6\", \"polar\": {\"angularaxis\": {\"gridcolor\": \"white\", \"linecolor\": \"white\", \"ticks\": \"\"}, \"bgcolor\": \"#E5ECF6\", \"radialaxis\": {\"gridcolor\": \"white\", \"linecolor\": \"white\", \"ticks\": \"\"}}, \"scene\": {\"xaxis\": {\"backgroundcolor\": \"#E5ECF6\", \"gridcolor\": \"white\", \"gridwidth\": 2, \"linecolor\": \"white\", \"showbackground\": true, \"ticks\": \"\", \"zerolinecolor\": \"white\"}, \"yaxis\": {\"backgroundcolor\": \"#E5ECF6\", \"gridcolor\": \"white\", \"gridwidth\": 2, \"linecolor\": \"white\", \"showbackground\": true, \"ticks\": \"\", \"zerolinecolor\": \"white\"}, \"zaxis\": {\"backgroundcolor\": \"#E5ECF6\", \"gridcolor\": \"white\", \"gridwidth\": 2, \"linecolor\": \"white\", \"showbackground\": true, \"ticks\": \"\", \"zerolinecolor\": \"white\"}}, \"shapedefaults\": {\"line\": {\"color\": \"#2a3f5f\"}}, \"ternary\": {\"aaxis\": {\"gridcolor\": \"white\", \"linecolor\": \"white\", \"ticks\": \"\"}, \"baxis\": {\"gridcolor\": \"white\", \"linecolor\": \"white\", \"ticks\": \"\"}, \"bgcolor\": \"#E5ECF6\", \"caxis\": {\"gridcolor\": \"white\", \"linecolor\": \"white\", \"ticks\": \"\"}}, \"title\": {\"x\": 0.05}, \"xaxis\": {\"automargin\": true, \"gridcolor\": \"white\", \"linecolor\": \"white\", \"ticks\": \"\", \"title\": {\"standoff\": 15}, \"zerolinecolor\": \"white\", \"zerolinewidth\": 2}, \"yaxis\": {\"automargin\": true, \"gridcolor\": \"white\", \"linecolor\": \"white\", \"ticks\": \"\", \"title\": {\"standoff\": 15}, \"zerolinecolor\": \"white\", \"zerolinewidth\": 2}}}},                        {\"responsive\": true}                    ).then(function(){\n",
       "                            \n",
       "var gd = document.getElementById('737b5c93-b1fe-4629-9251-e803b8fb9185');\n",
       "var x = new MutationObserver(function (mutations, observer) {{\n",
       "        var display = window.getComputedStyle(gd).display;\n",
       "        if (!display || display === 'none') {{\n",
       "            console.log([gd, 'removed!']);\n",
       "            Plotly.purge(gd);\n",
       "            observer.disconnect();\n",
       "        }}\n",
       "}});\n",
       "\n",
       "// Listen for the removal of the full notebook cells\n",
       "var notebookContainer = gd.closest('#notebook-container');\n",
       "if (notebookContainer) {{\n",
       "    x.observe(notebookContainer, {childList: true});\n",
       "}}\n",
       "\n",
       "// Listen for the clearing of the current output cell\n",
       "var outputEl = gd.closest('.output');\n",
       "if (outputEl) {{\n",
       "    x.observe(outputEl, {childList: true});\n",
       "}}\n",
       "\n",
       "                        })                };                });            </script>        </div>"
      ]
     },
     "metadata": {},
     "output_type": "display_data"
    }
   ],
   "source": [
    "# Parallel Categories Plot\n",
    "px.parallel_categories(\n",
    "    sfo_exp_avg_sale,\n",
    "    dimensions=[\"neighborhood\", \"sale_price_sqr_foot\", \"housing_units\", \"gross_rent\"],\n",
    "    color=\"sale_price_sqr_foot\",\n",
    "    color_continuous_scale=px.colors.sequential.Inferno,\n",
    "    labels={\n",
    "        \"neighborhood\": \"Neighborhood\",\n",
    "        \"sale_price_sqr_foot\": \"Avg Sale Price per Square Foot\",\n",
    "        \"housing_units\": \"Number of Housing Units\",\n",
    "        \"gross_rent\": \"Gross Price\",\n",
    "    },\n",
    ")"
   ]
  },
  {
   "cell_type": "markdown",
   "metadata": {},
   "source": [
    "- - - "
   ]
  },
  {
   "cell_type": "markdown",
   "metadata": {},
   "source": [
    "## Neighborhood Map\n",
    "\n",
    "In this section, you will read in neighboor location data and build an interactive map with the average prices per neighborhood. Use a scatter_mapbox from plotly express to create the visualization. Remember, you will need your mapbox api key for this."
   ]
  },
  {
   "cell_type": "markdown",
   "metadata": {},
   "source": [
    "### Load Location Data"
   ]
  },
  {
   "cell_type": "code",
   "execution_count": 74,
   "metadata": {},
   "outputs": [
    {
     "data": {
      "text/html": [
       "<div>\n",
       "<style scoped>\n",
       "    .dataframe tbody tr th:only-of-type {\n",
       "        vertical-align: middle;\n",
       "    }\n",
       "\n",
       "    .dataframe tbody tr th {\n",
       "        vertical-align: top;\n",
       "    }\n",
       "\n",
       "    .dataframe thead th {\n",
       "        text-align: right;\n",
       "    }\n",
       "</style>\n",
       "<table border=\"1\" class=\"dataframe\">\n",
       "  <thead>\n",
       "    <tr style=\"text-align: right;\">\n",
       "      <th></th>\n",
       "      <th>Neighborhood</th>\n",
       "      <th>Lat</th>\n",
       "      <th>Lon</th>\n",
       "    </tr>\n",
       "  </thead>\n",
       "  <tbody>\n",
       "    <tr>\n",
       "      <th>0</th>\n",
       "      <td>Alamo Square</td>\n",
       "      <td>37.791012</td>\n",
       "      <td>-122.402100</td>\n",
       "    </tr>\n",
       "    <tr>\n",
       "      <th>1</th>\n",
       "      <td>Anza Vista</td>\n",
       "      <td>37.779598</td>\n",
       "      <td>-122.443451</td>\n",
       "    </tr>\n",
       "    <tr>\n",
       "      <th>2</th>\n",
       "      <td>Bayview</td>\n",
       "      <td>37.734670</td>\n",
       "      <td>-122.401060</td>\n",
       "    </tr>\n",
       "    <tr>\n",
       "      <th>3</th>\n",
       "      <td>Bayview Heights</td>\n",
       "      <td>37.728740</td>\n",
       "      <td>-122.410980</td>\n",
       "    </tr>\n",
       "    <tr>\n",
       "      <th>4</th>\n",
       "      <td>Bernal Heights</td>\n",
       "      <td>37.728630</td>\n",
       "      <td>-122.443050</td>\n",
       "    </tr>\n",
       "    <tr>\n",
       "      <th>5</th>\n",
       "      <td>Buena Vista Park</td>\n",
       "      <td>37.768160</td>\n",
       "      <td>-122.439330</td>\n",
       "    </tr>\n",
       "    <tr>\n",
       "      <th>6</th>\n",
       "      <td>Central Richmond</td>\n",
       "      <td>37.777890</td>\n",
       "      <td>-122.445170</td>\n",
       "    </tr>\n",
       "    <tr>\n",
       "      <th>7</th>\n",
       "      <td>Central Sunset</td>\n",
       "      <td>37.749610</td>\n",
       "      <td>-122.489990</td>\n",
       "    </tr>\n",
       "    <tr>\n",
       "      <th>8</th>\n",
       "      <td>Clarendon Heights</td>\n",
       "      <td>37.753310</td>\n",
       "      <td>-122.447030</td>\n",
       "    </tr>\n",
       "    <tr>\n",
       "      <th>9</th>\n",
       "      <td>Corona Heights</td>\n",
       "      <td>37.785530</td>\n",
       "      <td>-122.456000</td>\n",
       "    </tr>\n",
       "    <tr>\n",
       "      <th>10</th>\n",
       "      <td>Cow Hollow</td>\n",
       "      <td>37.792980</td>\n",
       "      <td>-122.435790</td>\n",
       "    </tr>\n",
       "    <tr>\n",
       "      <th>11</th>\n",
       "      <td>Croker Amazon</td>\n",
       "      <td>37.722800</td>\n",
       "      <td>-122.438690</td>\n",
       "    </tr>\n",
       "    <tr>\n",
       "      <th>12</th>\n",
       "      <td>Diamond Heights</td>\n",
       "      <td>37.728630</td>\n",
       "      <td>-122.443050</td>\n",
       "    </tr>\n",
       "    <tr>\n",
       "      <th>13</th>\n",
       "      <td>Downtown</td>\n",
       "      <td>37.791010</td>\n",
       "      <td>-122.402100</td>\n",
       "    </tr>\n",
       "    <tr>\n",
       "      <th>14</th>\n",
       "      <td>Duboce Triangle</td>\n",
       "      <td>37.769640</td>\n",
       "      <td>-122.426110</td>\n",
       "    </tr>\n",
       "    <tr>\n",
       "      <th>15</th>\n",
       "      <td>Eureka Valley/Dolores Heights</td>\n",
       "      <td>37.755540</td>\n",
       "      <td>-122.437790</td>\n",
       "    </tr>\n",
       "    <tr>\n",
       "      <th>16</th>\n",
       "      <td>Excelsior</td>\n",
       "      <td>37.728740</td>\n",
       "      <td>-122.410980</td>\n",
       "    </tr>\n",
       "    <tr>\n",
       "      <th>17</th>\n",
       "      <td>Financial District North</td>\n",
       "      <td>37.791010</td>\n",
       "      <td>-122.402100</td>\n",
       "    </tr>\n",
       "    <tr>\n",
       "      <th>18</th>\n",
       "      <td>Financial District South</td>\n",
       "      <td>37.791010</td>\n",
       "      <td>-122.402100</td>\n",
       "    </tr>\n",
       "    <tr>\n",
       "      <th>19</th>\n",
       "      <td>Forest Knolls</td>\n",
       "      <td>37.757060</td>\n",
       "      <td>-122.455090</td>\n",
       "    </tr>\n",
       "    <tr>\n",
       "      <th>20</th>\n",
       "      <td>Glen Park</td>\n",
       "      <td>37.728630</td>\n",
       "      <td>-122.443050</td>\n",
       "    </tr>\n",
       "    <tr>\n",
       "      <th>21</th>\n",
       "      <td>Golden Gate Heights</td>\n",
       "      <td>37.757912</td>\n",
       "      <td>-122.464020</td>\n",
       "    </tr>\n",
       "    <tr>\n",
       "      <th>22</th>\n",
       "      <td>Haight Ashbury</td>\n",
       "      <td>37.765250</td>\n",
       "      <td>-122.435960</td>\n",
       "    </tr>\n",
       "    <tr>\n",
       "      <th>23</th>\n",
       "      <td>Hayes Valley</td>\n",
       "      <td>37.765250</td>\n",
       "      <td>-122.435960</td>\n",
       "    </tr>\n",
       "    <tr>\n",
       "      <th>24</th>\n",
       "      <td>Hunters Point</td>\n",
       "      <td>37.725510</td>\n",
       "      <td>-122.371780</td>\n",
       "    </tr>\n",
       "    <tr>\n",
       "      <th>25</th>\n",
       "      <td>Ingleside</td>\n",
       "      <td>37.721161</td>\n",
       "      <td>-122.487068</td>\n",
       "    </tr>\n",
       "    <tr>\n",
       "      <th>26</th>\n",
       "      <td>Ingleside Heights</td>\n",
       "      <td>37.721160</td>\n",
       "      <td>-122.487070</td>\n",
       "    </tr>\n",
       "    <tr>\n",
       "      <th>27</th>\n",
       "      <td>Inner Mission</td>\n",
       "      <td>37.754160</td>\n",
       "      <td>-122.419470</td>\n",
       "    </tr>\n",
       "    <tr>\n",
       "      <th>28</th>\n",
       "      <td>Inner Parkside</td>\n",
       "      <td>37.749610</td>\n",
       "      <td>-122.489990</td>\n",
       "    </tr>\n",
       "    <tr>\n",
       "      <th>29</th>\n",
       "      <td>Inner Richmond</td>\n",
       "      <td>37.769112</td>\n",
       "      <td>-122.483566</td>\n",
       "    </tr>\n",
       "    <tr>\n",
       "      <th>...</th>\n",
       "      <td>...</td>\n",
       "      <td>...</td>\n",
       "      <td>...</td>\n",
       "    </tr>\n",
       "    <tr>\n",
       "      <th>43</th>\n",
       "      <td>Noe Valley</td>\n",
       "      <td>37.753310</td>\n",
       "      <td>-122.447030</td>\n",
       "    </tr>\n",
       "    <tr>\n",
       "      <th>44</th>\n",
       "      <td>North Beach</td>\n",
       "      <td>37.800550</td>\n",
       "      <td>-122.404330</td>\n",
       "    </tr>\n",
       "    <tr>\n",
       "      <th>45</th>\n",
       "      <td>North Waterfront</td>\n",
       "      <td>37.800550</td>\n",
       "      <td>-122.404330</td>\n",
       "    </tr>\n",
       "    <tr>\n",
       "      <th>46</th>\n",
       "      <td>Oceanview</td>\n",
       "      <td>37.719930</td>\n",
       "      <td>-122.465950</td>\n",
       "    </tr>\n",
       "    <tr>\n",
       "      <th>47</th>\n",
       "      <td>Outer Mission</td>\n",
       "      <td>37.722800</td>\n",
       "      <td>-122.438690</td>\n",
       "    </tr>\n",
       "    <tr>\n",
       "      <th>48</th>\n",
       "      <td>Outer Parkside</td>\n",
       "      <td>37.751700</td>\n",
       "      <td>-122.446000</td>\n",
       "    </tr>\n",
       "    <tr>\n",
       "      <th>49</th>\n",
       "      <td>Outer Richmond</td>\n",
       "      <td>37.769110</td>\n",
       "      <td>-122.483570</td>\n",
       "    </tr>\n",
       "    <tr>\n",
       "      <th>50</th>\n",
       "      <td>Outer Sunset</td>\n",
       "      <td>37.749610</td>\n",
       "      <td>-122.489990</td>\n",
       "    </tr>\n",
       "    <tr>\n",
       "      <th>51</th>\n",
       "      <td>Pacific Heights</td>\n",
       "      <td>37.792980</td>\n",
       "      <td>-122.435790</td>\n",
       "    </tr>\n",
       "    <tr>\n",
       "      <th>52</th>\n",
       "      <td>Park North</td>\n",
       "      <td>37.728380</td>\n",
       "      <td>-122.478510</td>\n",
       "    </tr>\n",
       "    <tr>\n",
       "      <th>53</th>\n",
       "      <td>Parkside</td>\n",
       "      <td>37.749610</td>\n",
       "      <td>-122.489990</td>\n",
       "    </tr>\n",
       "    <tr>\n",
       "      <th>54</th>\n",
       "      <td>Parnassus/Ashbury Heights</td>\n",
       "      <td>37.763550</td>\n",
       "      <td>-122.457650</td>\n",
       "    </tr>\n",
       "    <tr>\n",
       "      <th>55</th>\n",
       "      <td>Portola</td>\n",
       "      <td>37.734670</td>\n",
       "      <td>-122.401060</td>\n",
       "    </tr>\n",
       "    <tr>\n",
       "      <th>56</th>\n",
       "      <td>Potrero Hill</td>\n",
       "      <td>37.731960</td>\n",
       "      <td>-122.383240</td>\n",
       "    </tr>\n",
       "    <tr>\n",
       "      <th>57</th>\n",
       "      <td>Presidio Heights</td>\n",
       "      <td>37.785530</td>\n",
       "      <td>-122.456000</td>\n",
       "    </tr>\n",
       "    <tr>\n",
       "      <th>58</th>\n",
       "      <td>Russian Hill</td>\n",
       "      <td>37.792980</td>\n",
       "      <td>-122.435790</td>\n",
       "    </tr>\n",
       "    <tr>\n",
       "      <th>59</th>\n",
       "      <td>Silver Terrace</td>\n",
       "      <td>37.734670</td>\n",
       "      <td>-122.401060</td>\n",
       "    </tr>\n",
       "    <tr>\n",
       "      <th>60</th>\n",
       "      <td>South Beach</td>\n",
       "      <td>37.783230</td>\n",
       "      <td>-122.400650</td>\n",
       "    </tr>\n",
       "    <tr>\n",
       "      <th>61</th>\n",
       "      <td>South of Market</td>\n",
       "      <td>37.791010</td>\n",
       "      <td>-122.402100</td>\n",
       "    </tr>\n",
       "    <tr>\n",
       "      <th>62</th>\n",
       "      <td>Sunnyside</td>\n",
       "      <td>37.734150</td>\n",
       "      <td>-122.457000</td>\n",
       "    </tr>\n",
       "    <tr>\n",
       "      <th>63</th>\n",
       "      <td>Telegraph Hill</td>\n",
       "      <td>37.800550</td>\n",
       "      <td>-122.404330</td>\n",
       "    </tr>\n",
       "    <tr>\n",
       "      <th>64</th>\n",
       "      <td>Twin Peaks</td>\n",
       "      <td>37.753311</td>\n",
       "      <td>-122.447029</td>\n",
       "    </tr>\n",
       "    <tr>\n",
       "      <th>65</th>\n",
       "      <td>Union Square District</td>\n",
       "      <td>37.791010</td>\n",
       "      <td>-122.402100</td>\n",
       "    </tr>\n",
       "    <tr>\n",
       "      <th>66</th>\n",
       "      <td>Van Ness/ Civic Center</td>\n",
       "      <td>37.779510</td>\n",
       "      <td>-122.420220</td>\n",
       "    </tr>\n",
       "    <tr>\n",
       "      <th>67</th>\n",
       "      <td>Visitacion Valley</td>\n",
       "      <td>37.728740</td>\n",
       "      <td>-122.410980</td>\n",
       "    </tr>\n",
       "    <tr>\n",
       "      <th>68</th>\n",
       "      <td>West Portal</td>\n",
       "      <td>37.740260</td>\n",
       "      <td>-122.463880</td>\n",
       "    </tr>\n",
       "    <tr>\n",
       "      <th>69</th>\n",
       "      <td>Western Addition</td>\n",
       "      <td>37.792980</td>\n",
       "      <td>-122.435790</td>\n",
       "    </tr>\n",
       "    <tr>\n",
       "      <th>70</th>\n",
       "      <td>Westwood Highlands</td>\n",
       "      <td>37.734700</td>\n",
       "      <td>-122.456854</td>\n",
       "    </tr>\n",
       "    <tr>\n",
       "      <th>71</th>\n",
       "      <td>Westwood Park</td>\n",
       "      <td>37.734150</td>\n",
       "      <td>-122.457000</td>\n",
       "    </tr>\n",
       "    <tr>\n",
       "      <th>72</th>\n",
       "      <td>Yerba Buena</td>\n",
       "      <td>37.792980</td>\n",
       "      <td>-122.396360</td>\n",
       "    </tr>\n",
       "  </tbody>\n",
       "</table>\n",
       "<p>73 rows × 3 columns</p>\n",
       "</div>"
      ],
      "text/plain": [
       "                     Neighborhood        Lat         Lon\n",
       "0                    Alamo Square  37.791012 -122.402100\n",
       "1                      Anza Vista  37.779598 -122.443451\n",
       "2                         Bayview  37.734670 -122.401060\n",
       "3                 Bayview Heights  37.728740 -122.410980\n",
       "4                  Bernal Heights  37.728630 -122.443050\n",
       "5                Buena Vista Park  37.768160 -122.439330\n",
       "6                Central Richmond  37.777890 -122.445170\n",
       "7                  Central Sunset  37.749610 -122.489990\n",
       "8               Clarendon Heights  37.753310 -122.447030\n",
       "9                  Corona Heights  37.785530 -122.456000\n",
       "10                     Cow Hollow  37.792980 -122.435790\n",
       "11                  Croker Amazon  37.722800 -122.438690\n",
       "12                Diamond Heights  37.728630 -122.443050\n",
       "13                       Downtown  37.791010 -122.402100\n",
       "14                Duboce Triangle  37.769640 -122.426110\n",
       "15  Eureka Valley/Dolores Heights  37.755540 -122.437790\n",
       "16                      Excelsior  37.728740 -122.410980\n",
       "17       Financial District North  37.791010 -122.402100\n",
       "18       Financial District South  37.791010 -122.402100\n",
       "19                  Forest Knolls  37.757060 -122.455090\n",
       "20                      Glen Park  37.728630 -122.443050\n",
       "21            Golden Gate Heights  37.757912 -122.464020\n",
       "22                 Haight Ashbury  37.765250 -122.435960\n",
       "23                   Hayes Valley  37.765250 -122.435960\n",
       "24                  Hunters Point  37.725510 -122.371780\n",
       "25                      Ingleside  37.721161 -122.487068\n",
       "26              Ingleside Heights  37.721160 -122.487070\n",
       "27                  Inner Mission  37.754160 -122.419470\n",
       "28                 Inner Parkside  37.749610 -122.489990\n",
       "29                 Inner Richmond  37.769112 -122.483566\n",
       "..                            ...        ...         ...\n",
       "43                     Noe Valley  37.753310 -122.447030\n",
       "44                    North Beach  37.800550 -122.404330\n",
       "45               North Waterfront  37.800550 -122.404330\n",
       "46                      Oceanview  37.719930 -122.465950\n",
       "47                  Outer Mission  37.722800 -122.438690\n",
       "48                 Outer Parkside  37.751700 -122.446000\n",
       "49                 Outer Richmond  37.769110 -122.483570\n",
       "50                   Outer Sunset  37.749610 -122.489990\n",
       "51                Pacific Heights  37.792980 -122.435790\n",
       "52                     Park North  37.728380 -122.478510\n",
       "53                       Parkside  37.749610 -122.489990\n",
       "54      Parnassus/Ashbury Heights  37.763550 -122.457650\n",
       "55                        Portola  37.734670 -122.401060\n",
       "56                   Potrero Hill  37.731960 -122.383240\n",
       "57               Presidio Heights  37.785530 -122.456000\n",
       "58                   Russian Hill  37.792980 -122.435790\n",
       "59                 Silver Terrace  37.734670 -122.401060\n",
       "60                    South Beach  37.783230 -122.400650\n",
       "61                South of Market  37.791010 -122.402100\n",
       "62                      Sunnyside  37.734150 -122.457000\n",
       "63                 Telegraph Hill  37.800550 -122.404330\n",
       "64                     Twin Peaks  37.753311 -122.447029\n",
       "65          Union Square District  37.791010 -122.402100\n",
       "66         Van Ness/ Civic Center  37.779510 -122.420220\n",
       "67              Visitacion Valley  37.728740 -122.410980\n",
       "68                    West Portal  37.740260 -122.463880\n",
       "69               Western Addition  37.792980 -122.435790\n",
       "70             Westwood Highlands  37.734700 -122.456854\n",
       "71                  Westwood Park  37.734150 -122.457000\n",
       "72                    Yerba Buena  37.792980 -122.396360\n",
       "\n",
       "[73 rows x 3 columns]"
      ]
     },
     "execution_count": 74,
     "metadata": {},
     "output_type": "execute_result"
    }
   ],
   "source": [
    "# Load neighborhoods coordinates data\n",
    "file_path = Path(\"Data/neighborhoods_coordinates.csv\")\n",
    "df_neighborhood_locations = pd.read_csv(file_path)\n",
    "df_neighborhood_locations"
   ]
  },
  {
   "cell_type": "markdown",
   "metadata": {},
   "source": [
    "### Data Preparation\n",
    "\n",
    "You will need to join the location data with the mean prices per neighborhood\n",
    "\n",
    "1. Calculate the mean values for each neighborhood\n",
    "2. Join the average values with the neighborhood locations"
   ]
  },
  {
   "cell_type": "code",
   "execution_count": 77,
   "metadata": {},
   "outputs": [
    {
     "data": {
      "text/html": [
       "<div>\n",
       "<style scoped>\n",
       "    .dataframe tbody tr th:only-of-type {\n",
       "        vertical-align: middle;\n",
       "    }\n",
       "\n",
       "    .dataframe tbody tr th {\n",
       "        vertical-align: top;\n",
       "    }\n",
       "\n",
       "    .dataframe thead th {\n",
       "        text-align: right;\n",
       "    }\n",
       "</style>\n",
       "<table border=\"1\" class=\"dataframe\">\n",
       "  <thead>\n",
       "    <tr style=\"text-align: right;\">\n",
       "      <th></th>\n",
       "      <th>neighborhood</th>\n",
       "      <th>sale_price_sqr_foot</th>\n",
       "      <th>housing_units</th>\n",
       "      <th>gross_rent</th>\n",
       "    </tr>\n",
       "  </thead>\n",
       "  <tbody>\n",
       "    <tr>\n",
       "      <th>0</th>\n",
       "      <td>Alamo Square</td>\n",
       "      <td>366.020712</td>\n",
       "      <td>378401.00</td>\n",
       "      <td>2817.285714</td>\n",
       "    </tr>\n",
       "    <tr>\n",
       "      <th>1</th>\n",
       "      <td>Anza Vista</td>\n",
       "      <td>373.382198</td>\n",
       "      <td>379050.00</td>\n",
       "      <td>3031.833333</td>\n",
       "    </tr>\n",
       "    <tr>\n",
       "      <th>2</th>\n",
       "      <td>Bayview</td>\n",
       "      <td>204.588623</td>\n",
       "      <td>376454.00</td>\n",
       "      <td>2318.400000</td>\n",
       "    </tr>\n",
       "    <tr>\n",
       "      <th>3</th>\n",
       "      <td>Bayview Heights</td>\n",
       "      <td>590.792839</td>\n",
       "      <td>382295.00</td>\n",
       "      <td>3739.000000</td>\n",
       "    </tr>\n",
       "    <tr>\n",
       "      <th>4</th>\n",
       "      <td>Bernal Heights</td>\n",
       "      <td>576.746488</td>\n",
       "      <td>379374.50</td>\n",
       "      <td>3080.333333</td>\n",
       "    </tr>\n",
       "    <tr>\n",
       "      <th>5</th>\n",
       "      <td>Buena Vista Park</td>\n",
       "      <td>452.680591</td>\n",
       "      <td>378076.50</td>\n",
       "      <td>2698.833333</td>\n",
       "    </tr>\n",
       "    <tr>\n",
       "      <th>6</th>\n",
       "      <td>Central Richmond</td>\n",
       "      <td>394.422399</td>\n",
       "      <td>378401.00</td>\n",
       "      <td>2817.285714</td>\n",
       "    </tr>\n",
       "    <tr>\n",
       "      <th>7</th>\n",
       "      <td>Central Sunset</td>\n",
       "      <td>423.687928</td>\n",
       "      <td>378401.00</td>\n",
       "      <td>2817.285714</td>\n",
       "    </tr>\n",
       "    <tr>\n",
       "      <th>8</th>\n",
       "      <td>Clarendon Heights</td>\n",
       "      <td>487.244886</td>\n",
       "      <td>376454.00</td>\n",
       "      <td>2250.500000</td>\n",
       "    </tr>\n",
       "    <tr>\n",
       "      <th>9</th>\n",
       "      <td>Corona Heights</td>\n",
       "      <td>587.539067</td>\n",
       "      <td>377232.80</td>\n",
       "      <td>2472.000000</td>\n",
       "    </tr>\n",
       "    <tr>\n",
       "      <th>10</th>\n",
       "      <td>Cow Hollow</td>\n",
       "      <td>665.964042</td>\n",
       "      <td>378401.00</td>\n",
       "      <td>2817.285714</td>\n",
       "    </tr>\n",
       "    <tr>\n",
       "      <th>11</th>\n",
       "      <td>Croker Amazon</td>\n",
       "      <td>303.004184</td>\n",
       "      <td>378076.50</td>\n",
       "      <td>2698.833333</td>\n",
       "    </tr>\n",
       "    <tr>\n",
       "      <th>12</th>\n",
       "      <td>Diamond Heights</td>\n",
       "      <td>434.991739</td>\n",
       "      <td>375480.50</td>\n",
       "      <td>2016.000000</td>\n",
       "    </tr>\n",
       "    <tr>\n",
       "      <th>13</th>\n",
       "      <td>Downtown</td>\n",
       "      <td>391.434378</td>\n",
       "      <td>378401.00</td>\n",
       "      <td>2817.285714</td>\n",
       "    </tr>\n",
       "    <tr>\n",
       "      <th>14</th>\n",
       "      <td>Duboce Triangle</td>\n",
       "      <td>502.599156</td>\n",
       "      <td>378401.00</td>\n",
       "      <td>2780.250000</td>\n",
       "    </tr>\n",
       "    <tr>\n",
       "      <th>15</th>\n",
       "      <td>Eureka Valley/Dolores Heights</td>\n",
       "      <td>642.248671</td>\n",
       "      <td>378401.00</td>\n",
       "      <td>2817.285714</td>\n",
       "    </tr>\n",
       "    <tr>\n",
       "      <th>16</th>\n",
       "      <td>Excelsior</td>\n",
       "      <td>388.765927</td>\n",
       "      <td>379050.00</td>\n",
       "      <td>3031.833333</td>\n",
       "    </tr>\n",
       "    <tr>\n",
       "      <th>17</th>\n",
       "      <td>Financial District North</td>\n",
       "      <td>391.362533</td>\n",
       "      <td>378401.00</td>\n",
       "      <td>2817.285714</td>\n",
       "    </tr>\n",
       "    <tr>\n",
       "      <th>18</th>\n",
       "      <td>Financial District South</td>\n",
       "      <td>455.836212</td>\n",
       "      <td>377232.80</td>\n",
       "      <td>2472.000000</td>\n",
       "    </tr>\n",
       "    <tr>\n",
       "      <th>19</th>\n",
       "      <td>Forest Knolls</td>\n",
       "      <td>321.840837</td>\n",
       "      <td>374507.00</td>\n",
       "      <td>1781.500000</td>\n",
       "    </tr>\n",
       "    <tr>\n",
       "      <th>20</th>\n",
       "      <td>Glen Park</td>\n",
       "      <td>623.826178</td>\n",
       "      <td>378725.50</td>\n",
       "      <td>2899.500000</td>\n",
       "    </tr>\n",
       "    <tr>\n",
       "      <th>21</th>\n",
       "      <td>Golden Gate Heights</td>\n",
       "      <td>639.393557</td>\n",
       "      <td>377622.20</td>\n",
       "      <td>2601.400000</td>\n",
       "    </tr>\n",
       "    <tr>\n",
       "      <th>22</th>\n",
       "      <td>Haight Ashbury</td>\n",
       "      <td>449.544762</td>\n",
       "      <td>378401.00</td>\n",
       "      <td>2817.285714</td>\n",
       "    </tr>\n",
       "    <tr>\n",
       "      <th>23</th>\n",
       "      <td>Hayes Valley</td>\n",
       "      <td>355.932828</td>\n",
       "      <td>378401.00</td>\n",
       "      <td>2817.285714</td>\n",
       "    </tr>\n",
       "    <tr>\n",
       "      <th>24</th>\n",
       "      <td>Hunters Point</td>\n",
       "      <td>170.624920</td>\n",
       "      <td>377427.50</td>\n",
       "      <td>2489.000000</td>\n",
       "    </tr>\n",
       "    <tr>\n",
       "      <th>25</th>\n",
       "      <td>Ingleside</td>\n",
       "      <td>367.895144</td>\n",
       "      <td>377427.50</td>\n",
       "      <td>2509.000000</td>\n",
       "    </tr>\n",
       "    <tr>\n",
       "      <th>26</th>\n",
       "      <td>Ingleside Heights</td>\n",
       "      <td>384.797928</td>\n",
       "      <td>379374.50</td>\n",
       "      <td>2960.000000</td>\n",
       "    </tr>\n",
       "    <tr>\n",
       "      <th>27</th>\n",
       "      <td>Inner Mission</td>\n",
       "      <td>397.673715</td>\n",
       "      <td>378401.00</td>\n",
       "      <td>2817.285714</td>\n",
       "    </tr>\n",
       "    <tr>\n",
       "      <th>28</th>\n",
       "      <td>Inner Parkside</td>\n",
       "      <td>519.385604</td>\n",
       "      <td>379861.25</td>\n",
       "      <td>3224.000000</td>\n",
       "    </tr>\n",
       "    <tr>\n",
       "      <th>29</th>\n",
       "      <td>Inner Richmond</td>\n",
       "      <td>378.594314</td>\n",
       "      <td>378401.00</td>\n",
       "      <td>2817.285714</td>\n",
       "    </tr>\n",
       "    <tr>\n",
       "      <th>...</th>\n",
       "      <td>...</td>\n",
       "      <td>...</td>\n",
       "      <td>...</td>\n",
       "      <td>...</td>\n",
       "    </tr>\n",
       "    <tr>\n",
       "      <th>43</th>\n",
       "      <td>Noe Valley</td>\n",
       "      <td>542.442913</td>\n",
       "      <td>378401.00</td>\n",
       "      <td>2817.285714</td>\n",
       "    </tr>\n",
       "    <tr>\n",
       "      <th>44</th>\n",
       "      <td>North Beach</td>\n",
       "      <td>411.646876</td>\n",
       "      <td>379179.80</td>\n",
       "      <td>2990.800000</td>\n",
       "    </tr>\n",
       "    <tr>\n",
       "      <th>45</th>\n",
       "      <td>North Waterfront</td>\n",
       "      <td>498.269755</td>\n",
       "      <td>378401.00</td>\n",
       "      <td>2818.400000</td>\n",
       "    </tr>\n",
       "    <tr>\n",
       "      <th>46</th>\n",
       "      <td>Oceanview</td>\n",
       "      <td>330.097385</td>\n",
       "      <td>377103.00</td>\n",
       "      <td>2434.000000</td>\n",
       "    </tr>\n",
       "    <tr>\n",
       "      <th>47</th>\n",
       "      <td>Outer Mission</td>\n",
       "      <td>242.370952</td>\n",
       "      <td>379374.50</td>\n",
       "      <td>2995.750000</td>\n",
       "    </tr>\n",
       "    <tr>\n",
       "      <th>48</th>\n",
       "      <td>Outer Parkside</td>\n",
       "      <td>485.027013</td>\n",
       "      <td>378401.00</td>\n",
       "      <td>2817.285714</td>\n",
       "    </tr>\n",
       "    <tr>\n",
       "      <th>49</th>\n",
       "      <td>Outer Richmond</td>\n",
       "      <td>473.900773</td>\n",
       "      <td>378401.00</td>\n",
       "      <td>2817.285714</td>\n",
       "    </tr>\n",
       "    <tr>\n",
       "      <th>50</th>\n",
       "      <td>Outer Sunset</td>\n",
       "      <td>394.219032</td>\n",
       "      <td>378401.00</td>\n",
       "      <td>2817.285714</td>\n",
       "    </tr>\n",
       "    <tr>\n",
       "      <th>51</th>\n",
       "      <td>Pacific Heights</td>\n",
       "      <td>689.555817</td>\n",
       "      <td>378401.00</td>\n",
       "      <td>2817.285714</td>\n",
       "    </tr>\n",
       "    <tr>\n",
       "      <th>52</th>\n",
       "      <td>Park North</td>\n",
       "      <td>373.732856</td>\n",
       "      <td>378401.00</td>\n",
       "      <td>2817.285714</td>\n",
       "    </tr>\n",
       "    <tr>\n",
       "      <th>53</th>\n",
       "      <td>Parkside</td>\n",
       "      <td>336.172661</td>\n",
       "      <td>377427.50</td>\n",
       "      <td>2555.166667</td>\n",
       "    </tr>\n",
       "    <tr>\n",
       "      <th>54</th>\n",
       "      <td>Parnassus/Ashbury Heights</td>\n",
       "      <td>632.740454</td>\n",
       "      <td>378401.00</td>\n",
       "      <td>2817.285714</td>\n",
       "    </tr>\n",
       "    <tr>\n",
       "      <th>55</th>\n",
       "      <td>Portola</td>\n",
       "      <td>327.113925</td>\n",
       "      <td>376454.00</td>\n",
       "      <td>2318.400000</td>\n",
       "    </tr>\n",
       "    <tr>\n",
       "      <th>56</th>\n",
       "      <td>Potrero Hill</td>\n",
       "      <td>662.013613</td>\n",
       "      <td>378401.00</td>\n",
       "      <td>2817.285714</td>\n",
       "    </tr>\n",
       "    <tr>\n",
       "      <th>57</th>\n",
       "      <td>Presidio Heights</td>\n",
       "      <td>675.350212</td>\n",
       "      <td>378401.00</td>\n",
       "      <td>2817.285714</td>\n",
       "    </tr>\n",
       "    <tr>\n",
       "      <th>58</th>\n",
       "      <td>Russian Hill</td>\n",
       "      <td>608.983217</td>\n",
       "      <td>378401.00</td>\n",
       "      <td>2817.285714</td>\n",
       "    </tr>\n",
       "    <tr>\n",
       "      <th>59</th>\n",
       "      <td>Silver Terrace</td>\n",
       "      <td>170.292549</td>\n",
       "      <td>380348.00</td>\n",
       "      <td>3528.000000</td>\n",
       "    </tr>\n",
       "    <tr>\n",
       "      <th>60</th>\n",
       "      <td>South Beach</td>\n",
       "      <td>650.124479</td>\n",
       "      <td>375805.00</td>\n",
       "      <td>2099.000000</td>\n",
       "    </tr>\n",
       "    <tr>\n",
       "      <th>61</th>\n",
       "      <td>South of Market</td>\n",
       "      <td>570.271427</td>\n",
       "      <td>378401.00</td>\n",
       "      <td>2817.285714</td>\n",
       "    </tr>\n",
       "    <tr>\n",
       "      <th>62</th>\n",
       "      <td>Sunnyside</td>\n",
       "      <td>528.318332</td>\n",
       "      <td>378725.50</td>\n",
       "      <td>2899.500000</td>\n",
       "    </tr>\n",
       "    <tr>\n",
       "      <th>63</th>\n",
       "      <td>Telegraph Hill</td>\n",
       "      <td>676.506578</td>\n",
       "      <td>378401.00</td>\n",
       "      <td>2817.285714</td>\n",
       "    </tr>\n",
       "    <tr>\n",
       "      <th>64</th>\n",
       "      <td>Twin Peaks</td>\n",
       "      <td>469.398626</td>\n",
       "      <td>378401.00</td>\n",
       "      <td>2817.285714</td>\n",
       "    </tr>\n",
       "    <tr>\n",
       "      <th>65</th>\n",
       "      <td>Union Square District</td>\n",
       "      <td>903.993258</td>\n",
       "      <td>377427.50</td>\n",
       "      <td>2555.166667</td>\n",
       "    </tr>\n",
       "    <tr>\n",
       "      <th>66</th>\n",
       "      <td>Van Ness/ Civic Center</td>\n",
       "      <td>404.150180</td>\n",
       "      <td>378401.00</td>\n",
       "      <td>2817.285714</td>\n",
       "    </tr>\n",
       "    <tr>\n",
       "      <th>67</th>\n",
       "      <td>Visitacion Valley</td>\n",
       "      <td>301.466180</td>\n",
       "      <td>381321.50</td>\n",
       "      <td>3657.000000</td>\n",
       "    </tr>\n",
       "    <tr>\n",
       "      <th>68</th>\n",
       "      <td>West Portal</td>\n",
       "      <td>498.488485</td>\n",
       "      <td>376940.75</td>\n",
       "      <td>2515.500000</td>\n",
       "    </tr>\n",
       "    <tr>\n",
       "      <th>69</th>\n",
       "      <td>Western Addition</td>\n",
       "      <td>307.562201</td>\n",
       "      <td>377427.50</td>\n",
       "      <td>2555.166667</td>\n",
       "    </tr>\n",
       "    <tr>\n",
       "      <th>70</th>\n",
       "      <td>Westwood Highlands</td>\n",
       "      <td>533.703935</td>\n",
       "      <td>376454.00</td>\n",
       "      <td>2250.500000</td>\n",
       "    </tr>\n",
       "    <tr>\n",
       "      <th>71</th>\n",
       "      <td>Westwood Park</td>\n",
       "      <td>687.087575</td>\n",
       "      <td>382295.00</td>\n",
       "      <td>3959.000000</td>\n",
       "    </tr>\n",
       "    <tr>\n",
       "      <th>72</th>\n",
       "      <td>Yerba Buena</td>\n",
       "      <td>576.709848</td>\n",
       "      <td>377427.50</td>\n",
       "      <td>2555.166667</td>\n",
       "    </tr>\n",
       "  </tbody>\n",
       "</table>\n",
       "<p>73 rows × 4 columns</p>\n",
       "</div>"
      ],
      "text/plain": [
       "                     neighborhood  sale_price_sqr_foot  housing_units  \\\n",
       "0                    Alamo Square           366.020712      378401.00   \n",
       "1                      Anza Vista           373.382198      379050.00   \n",
       "2                         Bayview           204.588623      376454.00   \n",
       "3                 Bayview Heights           590.792839      382295.00   \n",
       "4                 Bernal Heights            576.746488      379374.50   \n",
       "5                Buena Vista Park           452.680591      378076.50   \n",
       "6                Central Richmond           394.422399      378401.00   \n",
       "7                  Central Sunset           423.687928      378401.00   \n",
       "8               Clarendon Heights           487.244886      376454.00   \n",
       "9                  Corona Heights           587.539067      377232.80   \n",
       "10                     Cow Hollow           665.964042      378401.00   \n",
       "11                  Croker Amazon           303.004184      378076.50   \n",
       "12                Diamond Heights           434.991739      375480.50   \n",
       "13                      Downtown            391.434378      378401.00   \n",
       "14                Duboce Triangle           502.599156      378401.00   \n",
       "15  Eureka Valley/Dolores Heights           642.248671      378401.00   \n",
       "16                      Excelsior           388.765927      379050.00   \n",
       "17       Financial District North           391.362533      378401.00   \n",
       "18       Financial District South           455.836212      377232.80   \n",
       "19                  Forest Knolls           321.840837      374507.00   \n",
       "20                      Glen Park           623.826178      378725.50   \n",
       "21            Golden Gate Heights           639.393557      377622.20   \n",
       "22                 Haight Ashbury           449.544762      378401.00   \n",
       "23                   Hayes Valley           355.932828      378401.00   \n",
       "24                  Hunters Point           170.624920      377427.50   \n",
       "25                     Ingleside            367.895144      377427.50   \n",
       "26              Ingleside Heights           384.797928      379374.50   \n",
       "27                  Inner Mission           397.673715      378401.00   \n",
       "28                 Inner Parkside           519.385604      379861.25   \n",
       "29                 Inner Richmond           378.594314      378401.00   \n",
       "..                            ...                  ...            ...   \n",
       "43                     Noe Valley           542.442913      378401.00   \n",
       "44                    North Beach           411.646876      379179.80   \n",
       "45               North Waterfront           498.269755      378401.00   \n",
       "46                      Oceanview           330.097385      377103.00   \n",
       "47                  Outer Mission           242.370952      379374.50   \n",
       "48                 Outer Parkside           485.027013      378401.00   \n",
       "49                Outer Richmond            473.900773      378401.00   \n",
       "50                   Outer Sunset           394.219032      378401.00   \n",
       "51                Pacific Heights           689.555817      378401.00   \n",
       "52                     Park North           373.732856      378401.00   \n",
       "53                       Parkside           336.172661      377427.50   \n",
       "54      Parnassus/Ashbury Heights           632.740454      378401.00   \n",
       "55                        Portola           327.113925      376454.00   \n",
       "56                   Potrero Hill           662.013613      378401.00   \n",
       "57               Presidio Heights           675.350212      378401.00   \n",
       "58                   Russian Hill           608.983217      378401.00   \n",
       "59                 Silver Terrace           170.292549      380348.00   \n",
       "60                    South Beach           650.124479      375805.00   \n",
       "61                South of Market           570.271427      378401.00   \n",
       "62                      Sunnyside           528.318332      378725.50   \n",
       "63                 Telegraph Hill           676.506578      378401.00   \n",
       "64                     Twin Peaks           469.398626      378401.00   \n",
       "65          Union Square District           903.993258      377427.50   \n",
       "66         Van Ness/ Civic Center           404.150180      378401.00   \n",
       "67              Visitacion Valley           301.466180      381321.50   \n",
       "68                    West Portal           498.488485      376940.75   \n",
       "69               Western Addition           307.562201      377427.50   \n",
       "70             Westwood Highlands           533.703935      376454.00   \n",
       "71                  Westwood Park           687.087575      382295.00   \n",
       "72                    Yerba Buena           576.709848      377427.50   \n",
       "\n",
       "     gross_rent  \n",
       "0   2817.285714  \n",
       "1   3031.833333  \n",
       "2   2318.400000  \n",
       "3   3739.000000  \n",
       "4   3080.333333  \n",
       "5   2698.833333  \n",
       "6   2817.285714  \n",
       "7   2817.285714  \n",
       "8   2250.500000  \n",
       "9   2472.000000  \n",
       "10  2817.285714  \n",
       "11  2698.833333  \n",
       "12  2016.000000  \n",
       "13  2817.285714  \n",
       "14  2780.250000  \n",
       "15  2817.285714  \n",
       "16  3031.833333  \n",
       "17  2817.285714  \n",
       "18  2472.000000  \n",
       "19  1781.500000  \n",
       "20  2899.500000  \n",
       "21  2601.400000  \n",
       "22  2817.285714  \n",
       "23  2817.285714  \n",
       "24  2489.000000  \n",
       "25  2509.000000  \n",
       "26  2960.000000  \n",
       "27  2817.285714  \n",
       "28  3224.000000  \n",
       "29  2817.285714  \n",
       "..          ...  \n",
       "43  2817.285714  \n",
       "44  2990.800000  \n",
       "45  2818.400000  \n",
       "46  2434.000000  \n",
       "47  2995.750000  \n",
       "48  2817.285714  \n",
       "49  2817.285714  \n",
       "50  2817.285714  \n",
       "51  2817.285714  \n",
       "52  2817.285714  \n",
       "53  2555.166667  \n",
       "54  2817.285714  \n",
       "55  2318.400000  \n",
       "56  2817.285714  \n",
       "57  2817.285714  \n",
       "58  2817.285714  \n",
       "59  3528.000000  \n",
       "60  2099.000000  \n",
       "61  2817.285714  \n",
       "62  2899.500000  \n",
       "63  2817.285714  \n",
       "64  2817.285714  \n",
       "65  2555.166667  \n",
       "66  2817.285714  \n",
       "67  3657.000000  \n",
       "68  2515.500000  \n",
       "69  2555.166667  \n",
       "70  2250.500000  \n",
       "71  3959.000000  \n",
       "72  2555.166667  \n",
       "\n",
       "[73 rows x 4 columns]"
      ]
     },
     "execution_count": 77,
     "metadata": {},
     "output_type": "execute_result"
    }
   ],
   "source": [
    "# Calculate the mean values for each neighborhood\n",
    "sfo_year_hood_mean = sfo_data.groupby([\"neighborhood\"]).mean()\n",
    "sfo_year_hood_mean.reset_index(inplace=True)\n",
    "sfo_year_hood_mean"
   ]
  },
  {
   "cell_type": "code",
   "execution_count": 79,
   "metadata": {},
   "outputs": [
    {
     "data": {
      "text/html": [
       "<div>\n",
       "<style scoped>\n",
       "    .dataframe tbody tr th:only-of-type {\n",
       "        vertical-align: middle;\n",
       "    }\n",
       "\n",
       "    .dataframe tbody tr th {\n",
       "        vertical-align: top;\n",
       "    }\n",
       "\n",
       "    .dataframe thead th {\n",
       "        text-align: right;\n",
       "    }\n",
       "</style>\n",
       "<table border=\"1\" class=\"dataframe\">\n",
       "  <thead>\n",
       "    <tr style=\"text-align: right;\">\n",
       "      <th></th>\n",
       "      <th>index</th>\n",
       "      <th>neighborhood</th>\n",
       "      <th>sale_price_sqr_foot</th>\n",
       "      <th>gross_rent</th>\n",
       "      <th>Lat</th>\n",
       "      <th>Lon</th>\n",
       "    </tr>\n",
       "  </thead>\n",
       "  <tbody>\n",
       "    <tr>\n",
       "      <th>0</th>\n",
       "      <td>0</td>\n",
       "      <td>Alamo Square</td>\n",
       "      <td>366.020712</td>\n",
       "      <td>2817.285714</td>\n",
       "      <td>37.791012</td>\n",
       "      <td>-122.402100</td>\n",
       "    </tr>\n",
       "    <tr>\n",
       "      <th>1</th>\n",
       "      <td>1</td>\n",
       "      <td>Anza Vista</td>\n",
       "      <td>373.382198</td>\n",
       "      <td>3031.833333</td>\n",
       "      <td>37.779598</td>\n",
       "      <td>-122.443451</td>\n",
       "    </tr>\n",
       "    <tr>\n",
       "      <th>2</th>\n",
       "      <td>2</td>\n",
       "      <td>Bayview</td>\n",
       "      <td>204.588623</td>\n",
       "      <td>2318.400000</td>\n",
       "      <td>37.734670</td>\n",
       "      <td>-122.401060</td>\n",
       "    </tr>\n",
       "    <tr>\n",
       "      <th>3</th>\n",
       "      <td>3</td>\n",
       "      <td>Bayview Heights</td>\n",
       "      <td>590.792839</td>\n",
       "      <td>3739.000000</td>\n",
       "      <td>37.728740</td>\n",
       "      <td>-122.410980</td>\n",
       "    </tr>\n",
       "    <tr>\n",
       "      <th>4</th>\n",
       "      <td>4</td>\n",
       "      <td>Bernal Heights</td>\n",
       "      <td>576.746488</td>\n",
       "      <td>3080.333333</td>\n",
       "      <td>37.728630</td>\n",
       "      <td>-122.443050</td>\n",
       "    </tr>\n",
       "    <tr>\n",
       "      <th>5</th>\n",
       "      <td>5</td>\n",
       "      <td>Buena Vista Park</td>\n",
       "      <td>452.680591</td>\n",
       "      <td>2698.833333</td>\n",
       "      <td>37.768160</td>\n",
       "      <td>-122.439330</td>\n",
       "    </tr>\n",
       "    <tr>\n",
       "      <th>6</th>\n",
       "      <td>6</td>\n",
       "      <td>Central Richmond</td>\n",
       "      <td>394.422399</td>\n",
       "      <td>2817.285714</td>\n",
       "      <td>37.777890</td>\n",
       "      <td>-122.445170</td>\n",
       "    </tr>\n",
       "    <tr>\n",
       "      <th>7</th>\n",
       "      <td>7</td>\n",
       "      <td>Central Sunset</td>\n",
       "      <td>423.687928</td>\n",
       "      <td>2817.285714</td>\n",
       "      <td>37.749610</td>\n",
       "      <td>-122.489990</td>\n",
       "    </tr>\n",
       "    <tr>\n",
       "      <th>8</th>\n",
       "      <td>8</td>\n",
       "      <td>Clarendon Heights</td>\n",
       "      <td>487.244886</td>\n",
       "      <td>2250.500000</td>\n",
       "      <td>37.753310</td>\n",
       "      <td>-122.447030</td>\n",
       "    </tr>\n",
       "    <tr>\n",
       "      <th>9</th>\n",
       "      <td>9</td>\n",
       "      <td>Corona Heights</td>\n",
       "      <td>587.539067</td>\n",
       "      <td>2472.000000</td>\n",
       "      <td>37.785530</td>\n",
       "      <td>-122.456000</td>\n",
       "    </tr>\n",
       "    <tr>\n",
       "      <th>10</th>\n",
       "      <td>10</td>\n",
       "      <td>Cow Hollow</td>\n",
       "      <td>665.964042</td>\n",
       "      <td>2817.285714</td>\n",
       "      <td>37.792980</td>\n",
       "      <td>-122.435790</td>\n",
       "    </tr>\n",
       "    <tr>\n",
       "      <th>11</th>\n",
       "      <td>11</td>\n",
       "      <td>Croker Amazon</td>\n",
       "      <td>303.004184</td>\n",
       "      <td>2698.833333</td>\n",
       "      <td>37.722800</td>\n",
       "      <td>-122.438690</td>\n",
       "    </tr>\n",
       "    <tr>\n",
       "      <th>12</th>\n",
       "      <td>12</td>\n",
       "      <td>Diamond Heights</td>\n",
       "      <td>434.991739</td>\n",
       "      <td>2016.000000</td>\n",
       "      <td>37.728630</td>\n",
       "      <td>-122.443050</td>\n",
       "    </tr>\n",
       "    <tr>\n",
       "      <th>13</th>\n",
       "      <td>13</td>\n",
       "      <td>Downtown</td>\n",
       "      <td>391.434378</td>\n",
       "      <td>2817.285714</td>\n",
       "      <td>37.791010</td>\n",
       "      <td>-122.402100</td>\n",
       "    </tr>\n",
       "    <tr>\n",
       "      <th>14</th>\n",
       "      <td>14</td>\n",
       "      <td>Duboce Triangle</td>\n",
       "      <td>502.599156</td>\n",
       "      <td>2780.250000</td>\n",
       "      <td>37.769640</td>\n",
       "      <td>-122.426110</td>\n",
       "    </tr>\n",
       "    <tr>\n",
       "      <th>15</th>\n",
       "      <td>15</td>\n",
       "      <td>Eureka Valley/Dolores Heights</td>\n",
       "      <td>642.248671</td>\n",
       "      <td>2817.285714</td>\n",
       "      <td>37.755540</td>\n",
       "      <td>-122.437790</td>\n",
       "    </tr>\n",
       "    <tr>\n",
       "      <th>16</th>\n",
       "      <td>16</td>\n",
       "      <td>Excelsior</td>\n",
       "      <td>388.765927</td>\n",
       "      <td>3031.833333</td>\n",
       "      <td>37.728740</td>\n",
       "      <td>-122.410980</td>\n",
       "    </tr>\n",
       "    <tr>\n",
       "      <th>17</th>\n",
       "      <td>17</td>\n",
       "      <td>Financial District North</td>\n",
       "      <td>391.362533</td>\n",
       "      <td>2817.285714</td>\n",
       "      <td>37.791010</td>\n",
       "      <td>-122.402100</td>\n",
       "    </tr>\n",
       "    <tr>\n",
       "      <th>18</th>\n",
       "      <td>18</td>\n",
       "      <td>Financial District South</td>\n",
       "      <td>455.836212</td>\n",
       "      <td>2472.000000</td>\n",
       "      <td>37.791010</td>\n",
       "      <td>-122.402100</td>\n",
       "    </tr>\n",
       "    <tr>\n",
       "      <th>19</th>\n",
       "      <td>19</td>\n",
       "      <td>Forest Knolls</td>\n",
       "      <td>321.840837</td>\n",
       "      <td>1781.500000</td>\n",
       "      <td>37.757060</td>\n",
       "      <td>-122.455090</td>\n",
       "    </tr>\n",
       "    <tr>\n",
       "      <th>20</th>\n",
       "      <td>20</td>\n",
       "      <td>Glen Park</td>\n",
       "      <td>623.826178</td>\n",
       "      <td>2899.500000</td>\n",
       "      <td>37.728630</td>\n",
       "      <td>-122.443050</td>\n",
       "    </tr>\n",
       "    <tr>\n",
       "      <th>21</th>\n",
       "      <td>21</td>\n",
       "      <td>Golden Gate Heights</td>\n",
       "      <td>639.393557</td>\n",
       "      <td>2601.400000</td>\n",
       "      <td>37.757912</td>\n",
       "      <td>-122.464020</td>\n",
       "    </tr>\n",
       "    <tr>\n",
       "      <th>22</th>\n",
       "      <td>22</td>\n",
       "      <td>Haight Ashbury</td>\n",
       "      <td>449.544762</td>\n",
       "      <td>2817.285714</td>\n",
       "      <td>37.765250</td>\n",
       "      <td>-122.435960</td>\n",
       "    </tr>\n",
       "    <tr>\n",
       "      <th>23</th>\n",
       "      <td>23</td>\n",
       "      <td>Hayes Valley</td>\n",
       "      <td>355.932828</td>\n",
       "      <td>2817.285714</td>\n",
       "      <td>37.765250</td>\n",
       "      <td>-122.435960</td>\n",
       "    </tr>\n",
       "    <tr>\n",
       "      <th>24</th>\n",
       "      <td>24</td>\n",
       "      <td>Hunters Point</td>\n",
       "      <td>170.624920</td>\n",
       "      <td>2489.000000</td>\n",
       "      <td>37.725510</td>\n",
       "      <td>-122.371780</td>\n",
       "    </tr>\n",
       "    <tr>\n",
       "      <th>25</th>\n",
       "      <td>25</td>\n",
       "      <td>Ingleside</td>\n",
       "      <td>367.895144</td>\n",
       "      <td>2509.000000</td>\n",
       "      <td>37.721161</td>\n",
       "      <td>-122.487068</td>\n",
       "    </tr>\n",
       "    <tr>\n",
       "      <th>26</th>\n",
       "      <td>26</td>\n",
       "      <td>Ingleside Heights</td>\n",
       "      <td>384.797928</td>\n",
       "      <td>2960.000000</td>\n",
       "      <td>37.721160</td>\n",
       "      <td>-122.487070</td>\n",
       "    </tr>\n",
       "    <tr>\n",
       "      <th>27</th>\n",
       "      <td>27</td>\n",
       "      <td>Inner Mission</td>\n",
       "      <td>397.673715</td>\n",
       "      <td>2817.285714</td>\n",
       "      <td>37.754160</td>\n",
       "      <td>-122.419470</td>\n",
       "    </tr>\n",
       "    <tr>\n",
       "      <th>28</th>\n",
       "      <td>28</td>\n",
       "      <td>Inner Parkside</td>\n",
       "      <td>519.385604</td>\n",
       "      <td>3224.000000</td>\n",
       "      <td>37.749610</td>\n",
       "      <td>-122.489990</td>\n",
       "    </tr>\n",
       "    <tr>\n",
       "      <th>29</th>\n",
       "      <td>29</td>\n",
       "      <td>Inner Richmond</td>\n",
       "      <td>378.594314</td>\n",
       "      <td>2817.285714</td>\n",
       "      <td>37.769112</td>\n",
       "      <td>-122.483566</td>\n",
       "    </tr>\n",
       "    <tr>\n",
       "      <th>...</th>\n",
       "      <td>...</td>\n",
       "      <td>...</td>\n",
       "      <td>...</td>\n",
       "      <td>...</td>\n",
       "      <td>...</td>\n",
       "      <td>...</td>\n",
       "    </tr>\n",
       "    <tr>\n",
       "      <th>43</th>\n",
       "      <td>43</td>\n",
       "      <td>Noe Valley</td>\n",
       "      <td>542.442913</td>\n",
       "      <td>2817.285714</td>\n",
       "      <td>37.753310</td>\n",
       "      <td>-122.447030</td>\n",
       "    </tr>\n",
       "    <tr>\n",
       "      <th>44</th>\n",
       "      <td>44</td>\n",
       "      <td>North Beach</td>\n",
       "      <td>411.646876</td>\n",
       "      <td>2990.800000</td>\n",
       "      <td>37.800550</td>\n",
       "      <td>-122.404330</td>\n",
       "    </tr>\n",
       "    <tr>\n",
       "      <th>45</th>\n",
       "      <td>45</td>\n",
       "      <td>North Waterfront</td>\n",
       "      <td>498.269755</td>\n",
       "      <td>2818.400000</td>\n",
       "      <td>37.800550</td>\n",
       "      <td>-122.404330</td>\n",
       "    </tr>\n",
       "    <tr>\n",
       "      <th>46</th>\n",
       "      <td>46</td>\n",
       "      <td>Oceanview</td>\n",
       "      <td>330.097385</td>\n",
       "      <td>2434.000000</td>\n",
       "      <td>37.719930</td>\n",
       "      <td>-122.465950</td>\n",
       "    </tr>\n",
       "    <tr>\n",
       "      <th>47</th>\n",
       "      <td>47</td>\n",
       "      <td>Outer Mission</td>\n",
       "      <td>242.370952</td>\n",
       "      <td>2995.750000</td>\n",
       "      <td>37.722800</td>\n",
       "      <td>-122.438690</td>\n",
       "    </tr>\n",
       "    <tr>\n",
       "      <th>48</th>\n",
       "      <td>48</td>\n",
       "      <td>Outer Parkside</td>\n",
       "      <td>485.027013</td>\n",
       "      <td>2817.285714</td>\n",
       "      <td>37.751700</td>\n",
       "      <td>-122.446000</td>\n",
       "    </tr>\n",
       "    <tr>\n",
       "      <th>49</th>\n",
       "      <td>49</td>\n",
       "      <td>Outer Richmond</td>\n",
       "      <td>473.900773</td>\n",
       "      <td>2817.285714</td>\n",
       "      <td>37.769110</td>\n",
       "      <td>-122.483570</td>\n",
       "    </tr>\n",
       "    <tr>\n",
       "      <th>50</th>\n",
       "      <td>50</td>\n",
       "      <td>Outer Sunset</td>\n",
       "      <td>394.219032</td>\n",
       "      <td>2817.285714</td>\n",
       "      <td>37.749610</td>\n",
       "      <td>-122.489990</td>\n",
       "    </tr>\n",
       "    <tr>\n",
       "      <th>51</th>\n",
       "      <td>51</td>\n",
       "      <td>Pacific Heights</td>\n",
       "      <td>689.555817</td>\n",
       "      <td>2817.285714</td>\n",
       "      <td>37.792980</td>\n",
       "      <td>-122.435790</td>\n",
       "    </tr>\n",
       "    <tr>\n",
       "      <th>52</th>\n",
       "      <td>52</td>\n",
       "      <td>Park North</td>\n",
       "      <td>373.732856</td>\n",
       "      <td>2817.285714</td>\n",
       "      <td>37.728380</td>\n",
       "      <td>-122.478510</td>\n",
       "    </tr>\n",
       "    <tr>\n",
       "      <th>53</th>\n",
       "      <td>53</td>\n",
       "      <td>Parkside</td>\n",
       "      <td>336.172661</td>\n",
       "      <td>2555.166667</td>\n",
       "      <td>37.749610</td>\n",
       "      <td>-122.489990</td>\n",
       "    </tr>\n",
       "    <tr>\n",
       "      <th>54</th>\n",
       "      <td>54</td>\n",
       "      <td>Parnassus/Ashbury Heights</td>\n",
       "      <td>632.740454</td>\n",
       "      <td>2817.285714</td>\n",
       "      <td>37.763550</td>\n",
       "      <td>-122.457650</td>\n",
       "    </tr>\n",
       "    <tr>\n",
       "      <th>55</th>\n",
       "      <td>55</td>\n",
       "      <td>Portola</td>\n",
       "      <td>327.113925</td>\n",
       "      <td>2318.400000</td>\n",
       "      <td>37.734670</td>\n",
       "      <td>-122.401060</td>\n",
       "    </tr>\n",
       "    <tr>\n",
       "      <th>56</th>\n",
       "      <td>56</td>\n",
       "      <td>Potrero Hill</td>\n",
       "      <td>662.013613</td>\n",
       "      <td>2817.285714</td>\n",
       "      <td>37.731960</td>\n",
       "      <td>-122.383240</td>\n",
       "    </tr>\n",
       "    <tr>\n",
       "      <th>57</th>\n",
       "      <td>57</td>\n",
       "      <td>Presidio Heights</td>\n",
       "      <td>675.350212</td>\n",
       "      <td>2817.285714</td>\n",
       "      <td>37.785530</td>\n",
       "      <td>-122.456000</td>\n",
       "    </tr>\n",
       "    <tr>\n",
       "      <th>58</th>\n",
       "      <td>58</td>\n",
       "      <td>Russian Hill</td>\n",
       "      <td>608.983217</td>\n",
       "      <td>2817.285714</td>\n",
       "      <td>37.792980</td>\n",
       "      <td>-122.435790</td>\n",
       "    </tr>\n",
       "    <tr>\n",
       "      <th>59</th>\n",
       "      <td>59</td>\n",
       "      <td>Silver Terrace</td>\n",
       "      <td>170.292549</td>\n",
       "      <td>3528.000000</td>\n",
       "      <td>37.734670</td>\n",
       "      <td>-122.401060</td>\n",
       "    </tr>\n",
       "    <tr>\n",
       "      <th>60</th>\n",
       "      <td>60</td>\n",
       "      <td>South Beach</td>\n",
       "      <td>650.124479</td>\n",
       "      <td>2099.000000</td>\n",
       "      <td>37.783230</td>\n",
       "      <td>-122.400650</td>\n",
       "    </tr>\n",
       "    <tr>\n",
       "      <th>61</th>\n",
       "      <td>61</td>\n",
       "      <td>South of Market</td>\n",
       "      <td>570.271427</td>\n",
       "      <td>2817.285714</td>\n",
       "      <td>37.791010</td>\n",
       "      <td>-122.402100</td>\n",
       "    </tr>\n",
       "    <tr>\n",
       "      <th>62</th>\n",
       "      <td>62</td>\n",
       "      <td>Sunnyside</td>\n",
       "      <td>528.318332</td>\n",
       "      <td>2899.500000</td>\n",
       "      <td>37.734150</td>\n",
       "      <td>-122.457000</td>\n",
       "    </tr>\n",
       "    <tr>\n",
       "      <th>63</th>\n",
       "      <td>63</td>\n",
       "      <td>Telegraph Hill</td>\n",
       "      <td>676.506578</td>\n",
       "      <td>2817.285714</td>\n",
       "      <td>37.800550</td>\n",
       "      <td>-122.404330</td>\n",
       "    </tr>\n",
       "    <tr>\n",
       "      <th>64</th>\n",
       "      <td>64</td>\n",
       "      <td>Twin Peaks</td>\n",
       "      <td>469.398626</td>\n",
       "      <td>2817.285714</td>\n",
       "      <td>37.753311</td>\n",
       "      <td>-122.447029</td>\n",
       "    </tr>\n",
       "    <tr>\n",
       "      <th>65</th>\n",
       "      <td>65</td>\n",
       "      <td>Union Square District</td>\n",
       "      <td>903.993258</td>\n",
       "      <td>2555.166667</td>\n",
       "      <td>37.791010</td>\n",
       "      <td>-122.402100</td>\n",
       "    </tr>\n",
       "    <tr>\n",
       "      <th>66</th>\n",
       "      <td>66</td>\n",
       "      <td>Van Ness/ Civic Center</td>\n",
       "      <td>404.150180</td>\n",
       "      <td>2817.285714</td>\n",
       "      <td>37.779510</td>\n",
       "      <td>-122.420220</td>\n",
       "    </tr>\n",
       "    <tr>\n",
       "      <th>67</th>\n",
       "      <td>67</td>\n",
       "      <td>Visitacion Valley</td>\n",
       "      <td>301.466180</td>\n",
       "      <td>3657.000000</td>\n",
       "      <td>37.728740</td>\n",
       "      <td>-122.410980</td>\n",
       "    </tr>\n",
       "    <tr>\n",
       "      <th>68</th>\n",
       "      <td>68</td>\n",
       "      <td>West Portal</td>\n",
       "      <td>498.488485</td>\n",
       "      <td>2515.500000</td>\n",
       "      <td>37.740260</td>\n",
       "      <td>-122.463880</td>\n",
       "    </tr>\n",
       "    <tr>\n",
       "      <th>69</th>\n",
       "      <td>69</td>\n",
       "      <td>Western Addition</td>\n",
       "      <td>307.562201</td>\n",
       "      <td>2555.166667</td>\n",
       "      <td>37.792980</td>\n",
       "      <td>-122.435790</td>\n",
       "    </tr>\n",
       "    <tr>\n",
       "      <th>70</th>\n",
       "      <td>70</td>\n",
       "      <td>Westwood Highlands</td>\n",
       "      <td>533.703935</td>\n",
       "      <td>2250.500000</td>\n",
       "      <td>37.734700</td>\n",
       "      <td>-122.456854</td>\n",
       "    </tr>\n",
       "    <tr>\n",
       "      <th>71</th>\n",
       "      <td>71</td>\n",
       "      <td>Westwood Park</td>\n",
       "      <td>687.087575</td>\n",
       "      <td>3959.000000</td>\n",
       "      <td>37.734150</td>\n",
       "      <td>-122.457000</td>\n",
       "    </tr>\n",
       "    <tr>\n",
       "      <th>72</th>\n",
       "      <td>72</td>\n",
       "      <td>Yerba Buena</td>\n",
       "      <td>576.709848</td>\n",
       "      <td>2555.166667</td>\n",
       "      <td>37.792980</td>\n",
       "      <td>-122.396360</td>\n",
       "    </tr>\n",
       "  </tbody>\n",
       "</table>\n",
       "<p>73 rows × 6 columns</p>\n",
       "</div>"
      ],
      "text/plain": [
       "    index                   neighborhood  sale_price_sqr_foot   gross_rent  \\\n",
       "0       0                   Alamo Square           366.020712  2817.285714   \n",
       "1       1                     Anza Vista           373.382198  3031.833333   \n",
       "2       2                        Bayview           204.588623  2318.400000   \n",
       "3       3                Bayview Heights           590.792839  3739.000000   \n",
       "4       4                Bernal Heights            576.746488  3080.333333   \n",
       "5       5               Buena Vista Park           452.680591  2698.833333   \n",
       "6       6               Central Richmond           394.422399  2817.285714   \n",
       "7       7                 Central Sunset           423.687928  2817.285714   \n",
       "8       8              Clarendon Heights           487.244886  2250.500000   \n",
       "9       9                 Corona Heights           587.539067  2472.000000   \n",
       "10     10                     Cow Hollow           665.964042  2817.285714   \n",
       "11     11                  Croker Amazon           303.004184  2698.833333   \n",
       "12     12                Diamond Heights           434.991739  2016.000000   \n",
       "13     13                      Downtown            391.434378  2817.285714   \n",
       "14     14                Duboce Triangle           502.599156  2780.250000   \n",
       "15     15  Eureka Valley/Dolores Heights           642.248671  2817.285714   \n",
       "16     16                      Excelsior           388.765927  3031.833333   \n",
       "17     17       Financial District North           391.362533  2817.285714   \n",
       "18     18       Financial District South           455.836212  2472.000000   \n",
       "19     19                  Forest Knolls           321.840837  1781.500000   \n",
       "20     20                      Glen Park           623.826178  2899.500000   \n",
       "21     21            Golden Gate Heights           639.393557  2601.400000   \n",
       "22     22                 Haight Ashbury           449.544762  2817.285714   \n",
       "23     23                   Hayes Valley           355.932828  2817.285714   \n",
       "24     24                  Hunters Point           170.624920  2489.000000   \n",
       "25     25                     Ingleside            367.895144  2509.000000   \n",
       "26     26              Ingleside Heights           384.797928  2960.000000   \n",
       "27     27                  Inner Mission           397.673715  2817.285714   \n",
       "28     28                 Inner Parkside           519.385604  3224.000000   \n",
       "29     29                 Inner Richmond           378.594314  2817.285714   \n",
       "..    ...                            ...                  ...          ...   \n",
       "43     43                     Noe Valley           542.442913  2817.285714   \n",
       "44     44                    North Beach           411.646876  2990.800000   \n",
       "45     45               North Waterfront           498.269755  2818.400000   \n",
       "46     46                      Oceanview           330.097385  2434.000000   \n",
       "47     47                  Outer Mission           242.370952  2995.750000   \n",
       "48     48                 Outer Parkside           485.027013  2817.285714   \n",
       "49     49                Outer Richmond            473.900773  2817.285714   \n",
       "50     50                   Outer Sunset           394.219032  2817.285714   \n",
       "51     51                Pacific Heights           689.555817  2817.285714   \n",
       "52     52                     Park North           373.732856  2817.285714   \n",
       "53     53                       Parkside           336.172661  2555.166667   \n",
       "54     54      Parnassus/Ashbury Heights           632.740454  2817.285714   \n",
       "55     55                        Portola           327.113925  2318.400000   \n",
       "56     56                   Potrero Hill           662.013613  2817.285714   \n",
       "57     57               Presidio Heights           675.350212  2817.285714   \n",
       "58     58                   Russian Hill           608.983217  2817.285714   \n",
       "59     59                 Silver Terrace           170.292549  3528.000000   \n",
       "60     60                    South Beach           650.124479  2099.000000   \n",
       "61     61                South of Market           570.271427  2817.285714   \n",
       "62     62                      Sunnyside           528.318332  2899.500000   \n",
       "63     63                 Telegraph Hill           676.506578  2817.285714   \n",
       "64     64                     Twin Peaks           469.398626  2817.285714   \n",
       "65     65          Union Square District           903.993258  2555.166667   \n",
       "66     66         Van Ness/ Civic Center           404.150180  2817.285714   \n",
       "67     67              Visitacion Valley           301.466180  3657.000000   \n",
       "68     68                    West Portal           498.488485  2515.500000   \n",
       "69     69               Western Addition           307.562201  2555.166667   \n",
       "70     70             Westwood Highlands           533.703935  2250.500000   \n",
       "71     71                  Westwood Park           687.087575  3959.000000   \n",
       "72     72                    Yerba Buena           576.709848  2555.166667   \n",
       "\n",
       "          Lat         Lon  \n",
       "0   37.791012 -122.402100  \n",
       "1   37.779598 -122.443451  \n",
       "2   37.734670 -122.401060  \n",
       "3   37.728740 -122.410980  \n",
       "4   37.728630 -122.443050  \n",
       "5   37.768160 -122.439330  \n",
       "6   37.777890 -122.445170  \n",
       "7   37.749610 -122.489990  \n",
       "8   37.753310 -122.447030  \n",
       "9   37.785530 -122.456000  \n",
       "10  37.792980 -122.435790  \n",
       "11  37.722800 -122.438690  \n",
       "12  37.728630 -122.443050  \n",
       "13  37.791010 -122.402100  \n",
       "14  37.769640 -122.426110  \n",
       "15  37.755540 -122.437790  \n",
       "16  37.728740 -122.410980  \n",
       "17  37.791010 -122.402100  \n",
       "18  37.791010 -122.402100  \n",
       "19  37.757060 -122.455090  \n",
       "20  37.728630 -122.443050  \n",
       "21  37.757912 -122.464020  \n",
       "22  37.765250 -122.435960  \n",
       "23  37.765250 -122.435960  \n",
       "24  37.725510 -122.371780  \n",
       "25  37.721161 -122.487068  \n",
       "26  37.721160 -122.487070  \n",
       "27  37.754160 -122.419470  \n",
       "28  37.749610 -122.489990  \n",
       "29  37.769112 -122.483566  \n",
       "..        ...         ...  \n",
       "43  37.753310 -122.447030  \n",
       "44  37.800550 -122.404330  \n",
       "45  37.800550 -122.404330  \n",
       "46  37.719930 -122.465950  \n",
       "47  37.722800 -122.438690  \n",
       "48  37.751700 -122.446000  \n",
       "49  37.769110 -122.483570  \n",
       "50  37.749610 -122.489990  \n",
       "51  37.792980 -122.435790  \n",
       "52  37.728380 -122.478510  \n",
       "53  37.749610 -122.489990  \n",
       "54  37.763550 -122.457650  \n",
       "55  37.734670 -122.401060  \n",
       "56  37.731960 -122.383240  \n",
       "57  37.785530 -122.456000  \n",
       "58  37.792980 -122.435790  \n",
       "59  37.734670 -122.401060  \n",
       "60  37.783230 -122.400650  \n",
       "61  37.791010 -122.402100  \n",
       "62  37.734150 -122.457000  \n",
       "63  37.800550 -122.404330  \n",
       "64  37.753311 -122.447029  \n",
       "65  37.791010 -122.402100  \n",
       "66  37.779510 -122.420220  \n",
       "67  37.728740 -122.410980  \n",
       "68  37.740260 -122.463880  \n",
       "69  37.792980 -122.435790  \n",
       "70  37.734700 -122.456854  \n",
       "71  37.734150 -122.457000  \n",
       "72  37.792980 -122.396360  \n",
       "\n",
       "[73 rows x 6 columns]"
      ]
     },
     "execution_count": 79,
     "metadata": {},
     "output_type": "execute_result"
    }
   ],
   "source": [
    "# Join the average values with the neighborhood locations\n",
    "hood_location = pd.concat([sfo_year_hood_mean, df_neighborhood_locations], axis=1)\n",
    "hood_location = hood_location.drop(columns=[\"housing_units\", \"Neighborhood\"], axis=1)\n",
    "hood_location.reset_index(inplace=True)\n",
    "hood_location"
   ]
  },
  {
   "cell_type": "markdown",
   "metadata": {},
   "source": [
    "### Mapbox Visualization\n",
    "\n",
    "Plot the aveage values per neighborhood with a plotly express scatter_mapbox visualization."
   ]
  },
  {
   "cell_type": "code",
   "execution_count": 87,
   "metadata": {
    "scrolled": false
   },
   "outputs": [
    {
     "data": {
      "application/vnd.plotly.v1+json": {
       "config": {
        "plotlyServerURL": "https://plot.ly"
       },
       "data": [
        {
         "hovertemplate": "gross_rent=%{marker.color}<br>Lat=%{lat}<br>Lon=%{lon}<extra></extra>",
         "lat": [
          37.791012,
          37.779598,
          37.73467,
          37.72874,
          37.728629999999995,
          37.768159999999995,
          37.77789,
          37.74961,
          37.75331,
          37.78553,
          37.79298,
          37.7228,
          37.728629999999995,
          37.79101,
          37.76964,
          37.75554,
          37.72874,
          37.79101,
          37.79101,
          37.757059999999996,
          37.728629999999995,
          37.757912,
          37.76525,
          37.76525,
          37.72551,
          37.721160999999995,
          37.72116,
          37.75416,
          37.74961,
          37.769112,
          37.74961,
          37.78553,
          37.801520000000004,
          37.7789,
          37.79298,
          37.79972,
          37.71993,
          37.75331,
          37.73415,
          37.783229999999996,
          37.75184,
          37.728629999999995,
          37.79298,
          37.75331,
          37.80055,
          37.80055,
          37.71993,
          37.7228,
          37.7517,
          37.76911,
          37.74961,
          37.79298,
          37.72838,
          37.74961,
          37.76355,
          37.73467,
          37.73196,
          37.78553,
          37.79298,
          37.73467,
          37.783229999999996,
          37.79101,
          37.73415,
          37.80055,
          37.753311,
          37.79101,
          37.779509999999995,
          37.72874,
          37.74026,
          37.79298,
          37.7347,
          37.73415,
          37.79298
         ],
         "legendgroup": "",
         "lon": [
          -122.4021,
          -122.443451,
          -122.40106000000002,
          -122.41098000000001,
          -122.44305,
          -122.43933,
          -122.44516999999999,
          -122.48998999999999,
          -122.44703,
          -122.456,
          -122.43579,
          -122.43869,
          -122.44305,
          -122.4021,
          -122.42611000000001,
          -122.43778999999999,
          -122.41098000000001,
          -122.4021,
          -122.4021,
          -122.45508999999998,
          -122.44305,
          -122.46401999999999,
          -122.43596000000001,
          -122.43596000000001,
          -122.37178,
          -122.487068,
          -122.48706999999999,
          -122.41946999999999,
          -122.48998999999999,
          -122.483566,
          -122.48997,
          -122.456,
          -122.45456999999999,
          -122.45496000000001,
          -122.43579,
          -122.46688999999999,
          -122.46595,
          -122.44703,
          -122.45700000000001,
          -122.40065,
          -122.42522,
          -122.44305,
          -122.43579,
          -122.44703,
          -122.40433,
          -122.40433,
          -122.46595,
          -122.43869,
          -122.446,
          -122.48357,
          -122.48998999999999,
          -122.43579,
          -122.47851000000001,
          -122.48998999999999,
          -122.45765,
          -122.40106000000002,
          -122.38323999999999,
          -122.456,
          -122.43579,
          -122.40106000000002,
          -122.40065,
          -122.4021,
          -122.45700000000001,
          -122.40433,
          -122.447029,
          -122.4021,
          -122.42022,
          -122.41098000000001,
          -122.46388,
          -122.43579,
          -122.456854,
          -122.45700000000001,
          -122.39636000000002
         ],
         "marker": {
          "color": [
           2817.285714285714,
           3031.8333333333335,
           2318.4,
           3739,
           3080.3333333333335,
           2698.8333333333335,
           2817.285714285714,
           2817.285714285714,
           2250.5,
           2472,
           2817.285714285714,
           2698.8333333333335,
           2016,
           2817.285714285714,
           2780.25,
           2817.285714285714,
           3031.8333333333335,
           2817.285714285714,
           2472,
           1781.5,
           2899.5,
           2601.4,
           2817.285714285714,
           2817.285714285714,
           2489,
           2509,
           2960,
           2817.285714285714,
           3224,
           2817.285714285714,
           2817.285714285714,
           2817.285714285714,
           2555.1666666666665,
           2555.1666666666665,
           2817.285714285714,
           2817.285714285714,
           3414,
           2647.5,
           2155.25,
           2663.6666666666665,
           2555.1666666666665,
           3173.4,
           2817.285714285714,
           2817.285714285714,
           2990.8,
           2818.4,
           2434,
           2995.75,
           2817.285714285714,
           2817.285714285714,
           2817.285714285714,
           2817.285714285714,
           2817.285714285714,
           2555.1666666666665,
           2817.285714285714,
           2318.4,
           2817.285714285714,
           2817.285714285714,
           2817.285714285714,
           3528,
           2099,
           2817.285714285714,
           2899.5,
           2817.285714285714,
           2817.285714285714,
           2555.1666666666665,
           2817.285714285714,
           3657,
           2515.5,
           2555.1666666666665,
           2250.5,
           3959,
           2555.1666666666665
          ],
          "coloraxis": "coloraxis",
          "size": [
           2817.285714285714,
           3031.8333333333335,
           2318.4,
           3739,
           3080.3333333333335,
           2698.8333333333335,
           2817.285714285714,
           2817.285714285714,
           2250.5,
           2472,
           2817.285714285714,
           2698.8333333333335,
           2016,
           2817.285714285714,
           2780.25,
           2817.285714285714,
           3031.8333333333335,
           2817.285714285714,
           2472,
           1781.5,
           2899.5,
           2601.4,
           2817.285714285714,
           2817.285714285714,
           2489,
           2509,
           2960,
           2817.285714285714,
           3224,
           2817.285714285714,
           2817.285714285714,
           2817.285714285714,
           2555.1666666666665,
           2555.1666666666665,
           2817.285714285714,
           2817.285714285714,
           3414,
           2647.5,
           2155.25,
           2663.6666666666665,
           2555.1666666666665,
           3173.4,
           2817.285714285714,
           2817.285714285714,
           2990.8,
           2818.4,
           2434,
           2995.75,
           2817.285714285714,
           2817.285714285714,
           2817.285714285714,
           2817.285714285714,
           2817.285714285714,
           2555.1666666666665,
           2817.285714285714,
           2318.4,
           2817.285714285714,
           2817.285714285714,
           2817.285714285714,
           3528,
           2099,
           2817.285714285714,
           2899.5,
           2817.285714285714,
           2817.285714285714,
           2555.1666666666665,
           2817.285714285714,
           3657,
           2515.5,
           2555.1666666666665,
           2250.5,
           3959,
           2555.1666666666665
          ],
          "sizemode": "area",
          "sizeref": 9.8975
         },
         "mode": "markers",
         "name": "",
         "showlegend": false,
         "subplot": "mapbox",
         "type": "scattermapbox"
        }
       ],
       "layout": {
        "coloraxis": {
         "colorbar": {
          "title": {
           "text": "gross_rent"
          }
         },
         "colorscale": [
          [
           0,
           "#000000"
          ],
          [
           0.0625,
           "#001f4d"
          ],
          [
           0.125,
           "#003786"
          ],
          [
           0.1875,
           "#0e58a8"
          ],
          [
           0.25,
           "#217eb8"
          ],
          [
           0.3125,
           "#30a4ca"
          ],
          [
           0.375,
           "#54c8df"
          ],
          [
           0.4375,
           "#9be4ef"
          ],
          [
           0.5,
           "#e1e9d1"
          ],
          [
           0.5625,
           "#f3d573"
          ],
          [
           0.625,
           "#e7b000"
          ],
          [
           0.6875,
           "#da8200"
          ],
          [
           0.75,
           "#c65400"
          ],
          [
           0.8125,
           "#ac2301"
          ],
          [
           0.875,
           "#820000"
          ],
          [
           0.9375,
           "#4c0000"
          ],
          [
           1,
           "#000000"
          ]
         ]
        },
        "legend": {
         "itemsizing": "constant",
         "tracegroupgap": 0
        },
        "mapbox": {
         "accesstoken": "pk.eyJ1IjoicmEyc3VtbmUiLCJhIjoiY2tnbGY3cmlmMGJxYzJzcDBjeGhmYjl3OSJ9.x50EMmczTrmekc40p7EGCQ",
         "center": {
          "lat": 37.76019350684932,
          "lon": -122.43912380821916
         },
         "domain": {
          "x": [
           0,
           1
          ],
          "y": [
           0,
           1
          ]
         },
         "zoom": 10.5
        },
        "template": {
         "data": {
          "bar": [
           {
            "error_x": {
             "color": "#2a3f5f"
            },
            "error_y": {
             "color": "#2a3f5f"
            },
            "marker": {
             "line": {
              "color": "#E5ECF6",
              "width": 0.5
             }
            },
            "type": "bar"
           }
          ],
          "barpolar": [
           {
            "marker": {
             "line": {
              "color": "#E5ECF6",
              "width": 0.5
             }
            },
            "type": "barpolar"
           }
          ],
          "carpet": [
           {
            "aaxis": {
             "endlinecolor": "#2a3f5f",
             "gridcolor": "white",
             "linecolor": "white",
             "minorgridcolor": "white",
             "startlinecolor": "#2a3f5f"
            },
            "baxis": {
             "endlinecolor": "#2a3f5f",
             "gridcolor": "white",
             "linecolor": "white",
             "minorgridcolor": "white",
             "startlinecolor": "#2a3f5f"
            },
            "type": "carpet"
           }
          ],
          "choropleth": [
           {
            "colorbar": {
             "outlinewidth": 0,
             "ticks": ""
            },
            "type": "choropleth"
           }
          ],
          "contour": [
           {
            "colorbar": {
             "outlinewidth": 0,
             "ticks": ""
            },
            "colorscale": [
             [
              0,
              "#0d0887"
             ],
             [
              0.1111111111111111,
              "#46039f"
             ],
             [
              0.2222222222222222,
              "#7201a8"
             ],
             [
              0.3333333333333333,
              "#9c179e"
             ],
             [
              0.4444444444444444,
              "#bd3786"
             ],
             [
              0.5555555555555556,
              "#d8576b"
             ],
             [
              0.6666666666666666,
              "#ed7953"
             ],
             [
              0.7777777777777778,
              "#fb9f3a"
             ],
             [
              0.8888888888888888,
              "#fdca26"
             ],
             [
              1,
              "#f0f921"
             ]
            ],
            "type": "contour"
           }
          ],
          "contourcarpet": [
           {
            "colorbar": {
             "outlinewidth": 0,
             "ticks": ""
            },
            "type": "contourcarpet"
           }
          ],
          "heatmap": [
           {
            "colorbar": {
             "outlinewidth": 0,
             "ticks": ""
            },
            "colorscale": [
             [
              0,
              "#0d0887"
             ],
             [
              0.1111111111111111,
              "#46039f"
             ],
             [
              0.2222222222222222,
              "#7201a8"
             ],
             [
              0.3333333333333333,
              "#9c179e"
             ],
             [
              0.4444444444444444,
              "#bd3786"
             ],
             [
              0.5555555555555556,
              "#d8576b"
             ],
             [
              0.6666666666666666,
              "#ed7953"
             ],
             [
              0.7777777777777778,
              "#fb9f3a"
             ],
             [
              0.8888888888888888,
              "#fdca26"
             ],
             [
              1,
              "#f0f921"
             ]
            ],
            "type": "heatmap"
           }
          ],
          "heatmapgl": [
           {
            "colorbar": {
             "outlinewidth": 0,
             "ticks": ""
            },
            "colorscale": [
             [
              0,
              "#0d0887"
             ],
             [
              0.1111111111111111,
              "#46039f"
             ],
             [
              0.2222222222222222,
              "#7201a8"
             ],
             [
              0.3333333333333333,
              "#9c179e"
             ],
             [
              0.4444444444444444,
              "#bd3786"
             ],
             [
              0.5555555555555556,
              "#d8576b"
             ],
             [
              0.6666666666666666,
              "#ed7953"
             ],
             [
              0.7777777777777778,
              "#fb9f3a"
             ],
             [
              0.8888888888888888,
              "#fdca26"
             ],
             [
              1,
              "#f0f921"
             ]
            ],
            "type": "heatmapgl"
           }
          ],
          "histogram": [
           {
            "marker": {
             "colorbar": {
              "outlinewidth": 0,
              "ticks": ""
             }
            },
            "type": "histogram"
           }
          ],
          "histogram2d": [
           {
            "colorbar": {
             "outlinewidth": 0,
             "ticks": ""
            },
            "colorscale": [
             [
              0,
              "#0d0887"
             ],
             [
              0.1111111111111111,
              "#46039f"
             ],
             [
              0.2222222222222222,
              "#7201a8"
             ],
             [
              0.3333333333333333,
              "#9c179e"
             ],
             [
              0.4444444444444444,
              "#bd3786"
             ],
             [
              0.5555555555555556,
              "#d8576b"
             ],
             [
              0.6666666666666666,
              "#ed7953"
             ],
             [
              0.7777777777777778,
              "#fb9f3a"
             ],
             [
              0.8888888888888888,
              "#fdca26"
             ],
             [
              1,
              "#f0f921"
             ]
            ],
            "type": "histogram2d"
           }
          ],
          "histogram2dcontour": [
           {
            "colorbar": {
             "outlinewidth": 0,
             "ticks": ""
            },
            "colorscale": [
             [
              0,
              "#0d0887"
             ],
             [
              0.1111111111111111,
              "#46039f"
             ],
             [
              0.2222222222222222,
              "#7201a8"
             ],
             [
              0.3333333333333333,
              "#9c179e"
             ],
             [
              0.4444444444444444,
              "#bd3786"
             ],
             [
              0.5555555555555556,
              "#d8576b"
             ],
             [
              0.6666666666666666,
              "#ed7953"
             ],
             [
              0.7777777777777778,
              "#fb9f3a"
             ],
             [
              0.8888888888888888,
              "#fdca26"
             ],
             [
              1,
              "#f0f921"
             ]
            ],
            "type": "histogram2dcontour"
           }
          ],
          "mesh3d": [
           {
            "colorbar": {
             "outlinewidth": 0,
             "ticks": ""
            },
            "type": "mesh3d"
           }
          ],
          "parcoords": [
           {
            "line": {
             "colorbar": {
              "outlinewidth": 0,
              "ticks": ""
             }
            },
            "type": "parcoords"
           }
          ],
          "pie": [
           {
            "automargin": true,
            "type": "pie"
           }
          ],
          "scatter": [
           {
            "marker": {
             "colorbar": {
              "outlinewidth": 0,
              "ticks": ""
             }
            },
            "type": "scatter"
           }
          ],
          "scatter3d": [
           {
            "line": {
             "colorbar": {
              "outlinewidth": 0,
              "ticks": ""
             }
            },
            "marker": {
             "colorbar": {
              "outlinewidth": 0,
              "ticks": ""
             }
            },
            "type": "scatter3d"
           }
          ],
          "scattercarpet": [
           {
            "marker": {
             "colorbar": {
              "outlinewidth": 0,
              "ticks": ""
             }
            },
            "type": "scattercarpet"
           }
          ],
          "scattergeo": [
           {
            "marker": {
             "colorbar": {
              "outlinewidth": 0,
              "ticks": ""
             }
            },
            "type": "scattergeo"
           }
          ],
          "scattergl": [
           {
            "marker": {
             "colorbar": {
              "outlinewidth": 0,
              "ticks": ""
             }
            },
            "type": "scattergl"
           }
          ],
          "scattermapbox": [
           {
            "marker": {
             "colorbar": {
              "outlinewidth": 0,
              "ticks": ""
             }
            },
            "type": "scattermapbox"
           }
          ],
          "scatterpolar": [
           {
            "marker": {
             "colorbar": {
              "outlinewidth": 0,
              "ticks": ""
             }
            },
            "type": "scatterpolar"
           }
          ],
          "scatterpolargl": [
           {
            "marker": {
             "colorbar": {
              "outlinewidth": 0,
              "ticks": ""
             }
            },
            "type": "scatterpolargl"
           }
          ],
          "scatterternary": [
           {
            "marker": {
             "colorbar": {
              "outlinewidth": 0,
              "ticks": ""
             }
            },
            "type": "scatterternary"
           }
          ],
          "surface": [
           {
            "colorbar": {
             "outlinewidth": 0,
             "ticks": ""
            },
            "colorscale": [
             [
              0,
              "#0d0887"
             ],
             [
              0.1111111111111111,
              "#46039f"
             ],
             [
              0.2222222222222222,
              "#7201a8"
             ],
             [
              0.3333333333333333,
              "#9c179e"
             ],
             [
              0.4444444444444444,
              "#bd3786"
             ],
             [
              0.5555555555555556,
              "#d8576b"
             ],
             [
              0.6666666666666666,
              "#ed7953"
             ],
             [
              0.7777777777777778,
              "#fb9f3a"
             ],
             [
              0.8888888888888888,
              "#fdca26"
             ],
             [
              1,
              "#f0f921"
             ]
            ],
            "type": "surface"
           }
          ],
          "table": [
           {
            "cells": {
             "fill": {
              "color": "#EBF0F8"
             },
             "line": {
              "color": "white"
             }
            },
            "header": {
             "fill": {
              "color": "#C8D4E3"
             },
             "line": {
              "color": "white"
             }
            },
            "type": "table"
           }
          ]
         },
         "layout": {
          "annotationdefaults": {
           "arrowcolor": "#2a3f5f",
           "arrowhead": 0,
           "arrowwidth": 1
          },
          "coloraxis": {
           "colorbar": {
            "outlinewidth": 0,
            "ticks": ""
           }
          },
          "colorscale": {
           "diverging": [
            [
             0,
             "#8e0152"
            ],
            [
             0.1,
             "#c51b7d"
            ],
            [
             0.2,
             "#de77ae"
            ],
            [
             0.3,
             "#f1b6da"
            ],
            [
             0.4,
             "#fde0ef"
            ],
            [
             0.5,
             "#f7f7f7"
            ],
            [
             0.6,
             "#e6f5d0"
            ],
            [
             0.7,
             "#b8e186"
            ],
            [
             0.8,
             "#7fbc41"
            ],
            [
             0.9,
             "#4d9221"
            ],
            [
             1,
             "#276419"
            ]
           ],
           "sequential": [
            [
             0,
             "#0d0887"
            ],
            [
             0.1111111111111111,
             "#46039f"
            ],
            [
             0.2222222222222222,
             "#7201a8"
            ],
            [
             0.3333333333333333,
             "#9c179e"
            ],
            [
             0.4444444444444444,
             "#bd3786"
            ],
            [
             0.5555555555555556,
             "#d8576b"
            ],
            [
             0.6666666666666666,
             "#ed7953"
            ],
            [
             0.7777777777777778,
             "#fb9f3a"
            ],
            [
             0.8888888888888888,
             "#fdca26"
            ],
            [
             1,
             "#f0f921"
            ]
           ],
           "sequentialminus": [
            [
             0,
             "#0d0887"
            ],
            [
             0.1111111111111111,
             "#46039f"
            ],
            [
             0.2222222222222222,
             "#7201a8"
            ],
            [
             0.3333333333333333,
             "#9c179e"
            ],
            [
             0.4444444444444444,
             "#bd3786"
            ],
            [
             0.5555555555555556,
             "#d8576b"
            ],
            [
             0.6666666666666666,
             "#ed7953"
            ],
            [
             0.7777777777777778,
             "#fb9f3a"
            ],
            [
             0.8888888888888888,
             "#fdca26"
            ],
            [
             1,
             "#f0f921"
            ]
           ]
          },
          "colorway": [
           "#636efa",
           "#EF553B",
           "#00cc96",
           "#ab63fa",
           "#FFA15A",
           "#19d3f3",
           "#FF6692",
           "#B6E880",
           "#FF97FF",
           "#FECB52"
          ],
          "font": {
           "color": "#2a3f5f"
          },
          "geo": {
           "bgcolor": "white",
           "lakecolor": "white",
           "landcolor": "#E5ECF6",
           "showlakes": true,
           "showland": true,
           "subunitcolor": "white"
          },
          "hoverlabel": {
           "align": "left"
          },
          "hovermode": "closest",
          "mapbox": {
           "style": "light"
          },
          "paper_bgcolor": "white",
          "plot_bgcolor": "#E5ECF6",
          "polar": {
           "angularaxis": {
            "gridcolor": "white",
            "linecolor": "white",
            "ticks": ""
           },
           "bgcolor": "#E5ECF6",
           "radialaxis": {
            "gridcolor": "white",
            "linecolor": "white",
            "ticks": ""
           }
          },
          "scene": {
           "xaxis": {
            "backgroundcolor": "#E5ECF6",
            "gridcolor": "white",
            "gridwidth": 2,
            "linecolor": "white",
            "showbackground": true,
            "ticks": "",
            "zerolinecolor": "white"
           },
           "yaxis": {
            "backgroundcolor": "#E5ECF6",
            "gridcolor": "white",
            "gridwidth": 2,
            "linecolor": "white",
            "showbackground": true,
            "ticks": "",
            "zerolinecolor": "white"
           },
           "zaxis": {
            "backgroundcolor": "#E5ECF6",
            "gridcolor": "white",
            "gridwidth": 2,
            "linecolor": "white",
            "showbackground": true,
            "ticks": "",
            "zerolinecolor": "white"
           }
          },
          "shapedefaults": {
           "line": {
            "color": "#2a3f5f"
           }
          },
          "ternary": {
           "aaxis": {
            "gridcolor": "white",
            "linecolor": "white",
            "ticks": ""
           },
           "baxis": {
            "gridcolor": "white",
            "linecolor": "white",
            "ticks": ""
           },
           "bgcolor": "#E5ECF6",
           "caxis": {
            "gridcolor": "white",
            "linecolor": "white",
            "ticks": ""
           }
          },
          "title": {
           "x": 0.05
          },
          "xaxis": {
           "automargin": true,
           "gridcolor": "white",
           "linecolor": "white",
           "ticks": "",
           "title": {
            "standoff": 15
           },
           "zerolinecolor": "white",
           "zerolinewidth": 2
          },
          "yaxis": {
           "automargin": true,
           "gridcolor": "white",
           "linecolor": "white",
           "ticks": "",
           "title": {
            "standoff": 15
           },
           "zerolinecolor": "white",
           "zerolinewidth": 2
          }
         }
        },
        "title": {
         "text": "Average Sale Price Per Square Foot and Gross Rent in San Francisco"
        },
        "width": 1000
       }
      },
      "text/html": [
       "<div>                            <div id=\"0f7b5d71-51cd-4dd6-b08c-5641cda90d94\" class=\"plotly-graph-div\" style=\"height:525px; width:1000px;\"></div>            <script type=\"text/javascript\">                require([\"plotly\"], function(Plotly) {                    window.PLOTLYENV=window.PLOTLYENV || {};                                    if (document.getElementById(\"0f7b5d71-51cd-4dd6-b08c-5641cda90d94\")) {                    Plotly.newPlot(                        \"0f7b5d71-51cd-4dd6-b08c-5641cda90d94\",                        [{\"hovertemplate\": \"gross_rent=%{marker.color}<br>Lat=%{lat}<br>Lon=%{lon}<extra></extra>\", \"lat\": [37.791012, 37.779598, 37.73467, 37.72874, 37.728629999999995, 37.768159999999995, 37.77789, 37.74961, 37.75331, 37.78553, 37.79298, 37.7228, 37.728629999999995, 37.79101, 37.76964, 37.75554, 37.72874, 37.79101, 37.79101, 37.757059999999996, 37.728629999999995, 37.757912, 37.76525, 37.76525, 37.72551, 37.721160999999995, 37.72116, 37.75416, 37.74961, 37.769112, 37.74961, 37.78553, 37.801520000000004, 37.7789, 37.79298, 37.79972, 37.71993, 37.75331, 37.73415, 37.783229999999996, 37.75184, 37.728629999999995, 37.79298, 37.75331, 37.80055, 37.80055, 37.71993, 37.7228, 37.7517, 37.76911, 37.74961, 37.79298, 37.72838, 37.74961, 37.76355, 37.73467, 37.73196, 37.78553, 37.79298, 37.73467, 37.783229999999996, 37.79101, 37.73415, 37.80055, 37.753311, 37.79101, 37.779509999999995, 37.72874, 37.74026, 37.79298, 37.7347, 37.73415, 37.79298], \"legendgroup\": \"\", \"lon\": [-122.4021, -122.443451, -122.40106000000002, -122.41098000000001, -122.44305, -122.43933, -122.44516999999999, -122.48998999999999, -122.44703, -122.456, -122.43579, -122.43869, -122.44305, -122.4021, -122.42611000000001, -122.43778999999999, -122.41098000000001, -122.4021, -122.4021, -122.45508999999998, -122.44305, -122.46401999999999, -122.43596000000001, -122.43596000000001, -122.37178, -122.487068, -122.48706999999999, -122.41946999999999, -122.48998999999999, -122.483566, -122.48997, -122.456, -122.45456999999999, -122.45496000000001, -122.43579, -122.46688999999999, -122.46595, -122.44703, -122.45700000000001, -122.40065, -122.42522, -122.44305, -122.43579, -122.44703, -122.40433, -122.40433, -122.46595, -122.43869, -122.446, -122.48357, -122.48998999999999, -122.43579, -122.47851000000001, -122.48998999999999, -122.45765, -122.40106000000002, -122.38323999999999, -122.456, -122.43579, -122.40106000000002, -122.40065, -122.4021, -122.45700000000001, -122.40433, -122.447029, -122.4021, -122.42022, -122.41098000000001, -122.46388, -122.43579, -122.456854, -122.45700000000001, -122.39636000000002], \"marker\": {\"color\": [2817.285714285714, 3031.8333333333335, 2318.4, 3739.0, 3080.3333333333335, 2698.8333333333335, 2817.285714285714, 2817.285714285714, 2250.5, 2472.0, 2817.285714285714, 2698.8333333333335, 2016.0, 2817.285714285714, 2780.25, 2817.285714285714, 3031.8333333333335, 2817.285714285714, 2472.0, 1781.5, 2899.5, 2601.4, 2817.285714285714, 2817.285714285714, 2489.0, 2509.0, 2960.0, 2817.285714285714, 3224.0, 2817.285714285714, 2817.285714285714, 2817.285714285714, 2555.1666666666665, 2555.1666666666665, 2817.285714285714, 2817.285714285714, 3414.0, 2647.5, 2155.25, 2663.6666666666665, 2555.1666666666665, 3173.4, 2817.285714285714, 2817.285714285714, 2990.8, 2818.4, 2434.0, 2995.75, 2817.285714285714, 2817.285714285714, 2817.285714285714, 2817.285714285714, 2817.285714285714, 2555.1666666666665, 2817.285714285714, 2318.4, 2817.285714285714, 2817.285714285714, 2817.285714285714, 3528.0, 2099.0, 2817.285714285714, 2899.5, 2817.285714285714, 2817.285714285714, 2555.1666666666665, 2817.285714285714, 3657.0, 2515.5, 2555.1666666666665, 2250.5, 3959.0, 2555.1666666666665], \"coloraxis\": \"coloraxis\", \"size\": [2817.285714285714, 3031.8333333333335, 2318.4, 3739.0, 3080.3333333333335, 2698.8333333333335, 2817.285714285714, 2817.285714285714, 2250.5, 2472.0, 2817.285714285714, 2698.8333333333335, 2016.0, 2817.285714285714, 2780.25, 2817.285714285714, 3031.8333333333335, 2817.285714285714, 2472.0, 1781.5, 2899.5, 2601.4, 2817.285714285714, 2817.285714285714, 2489.0, 2509.0, 2960.0, 2817.285714285714, 3224.0, 2817.285714285714, 2817.285714285714, 2817.285714285714, 2555.1666666666665, 2555.1666666666665, 2817.285714285714, 2817.285714285714, 3414.0, 2647.5, 2155.25, 2663.6666666666665, 2555.1666666666665, 3173.4, 2817.285714285714, 2817.285714285714, 2990.8, 2818.4, 2434.0, 2995.75, 2817.285714285714, 2817.285714285714, 2817.285714285714, 2817.285714285714, 2817.285714285714, 2555.1666666666665, 2817.285714285714, 2318.4, 2817.285714285714, 2817.285714285714, 2817.285714285714, 3528.0, 2099.0, 2817.285714285714, 2899.5, 2817.285714285714, 2817.285714285714, 2555.1666666666665, 2817.285714285714, 3657.0, 2515.5, 2555.1666666666665, 2250.5, 3959.0, 2555.1666666666665], \"sizemode\": \"area\", \"sizeref\": 9.8975}, \"mode\": \"markers\", \"name\": \"\", \"showlegend\": false, \"subplot\": \"mapbox\", \"type\": \"scattermapbox\"}],                        {\"coloraxis\": {\"colorbar\": {\"title\": {\"text\": \"gross_rent\"}}, \"colorscale\": [[0.0, \"#000000\"], [0.0625, \"#001f4d\"], [0.125, \"#003786\"], [0.1875, \"#0e58a8\"], [0.25, \"#217eb8\"], [0.3125, \"#30a4ca\"], [0.375, \"#54c8df\"], [0.4375, \"#9be4ef\"], [0.5, \"#e1e9d1\"], [0.5625, \"#f3d573\"], [0.625, \"#e7b000\"], [0.6875, \"#da8200\"], [0.75, \"#c65400\"], [0.8125, \"#ac2301\"], [0.875, \"#820000\"], [0.9375, \"#4c0000\"], [1.0, \"#000000\"]]}, \"legend\": {\"itemsizing\": \"constant\", \"tracegroupgap\": 0}, \"mapbox\": {\"accesstoken\": \"pk.eyJ1IjoicmEyc3VtbmUiLCJhIjoiY2tnbGY3cmlmMGJxYzJzcDBjeGhmYjl3OSJ9.x50EMmczTrmekc40p7EGCQ\", \"center\": {\"lat\": 37.76019350684932, \"lon\": -122.43912380821916}, \"domain\": {\"x\": [0.0, 1.0], \"y\": [0.0, 1.0]}, \"zoom\": 10.5}, \"template\": {\"data\": {\"bar\": [{\"error_x\": {\"color\": \"#2a3f5f\"}, \"error_y\": {\"color\": \"#2a3f5f\"}, \"marker\": {\"line\": {\"color\": \"#E5ECF6\", \"width\": 0.5}}, \"type\": \"bar\"}], \"barpolar\": [{\"marker\": {\"line\": {\"color\": \"#E5ECF6\", \"width\": 0.5}}, \"type\": \"barpolar\"}], \"carpet\": [{\"aaxis\": {\"endlinecolor\": \"#2a3f5f\", \"gridcolor\": \"white\", \"linecolor\": \"white\", \"minorgridcolor\": \"white\", \"startlinecolor\": \"#2a3f5f\"}, \"baxis\": {\"endlinecolor\": \"#2a3f5f\", \"gridcolor\": \"white\", \"linecolor\": \"white\", \"minorgridcolor\": \"white\", \"startlinecolor\": \"#2a3f5f\"}, \"type\": \"carpet\"}], \"choropleth\": [{\"colorbar\": {\"outlinewidth\": 0, \"ticks\": \"\"}, \"type\": \"choropleth\"}], \"contour\": [{\"colorbar\": {\"outlinewidth\": 0, \"ticks\": \"\"}, \"colorscale\": [[0.0, \"#0d0887\"], [0.1111111111111111, \"#46039f\"], [0.2222222222222222, \"#7201a8\"], [0.3333333333333333, \"#9c179e\"], [0.4444444444444444, \"#bd3786\"], [0.5555555555555556, \"#d8576b\"], [0.6666666666666666, \"#ed7953\"], [0.7777777777777778, \"#fb9f3a\"], [0.8888888888888888, \"#fdca26\"], [1.0, \"#f0f921\"]], \"type\": \"contour\"}], \"contourcarpet\": [{\"colorbar\": {\"outlinewidth\": 0, \"ticks\": \"\"}, \"type\": \"contourcarpet\"}], \"heatmap\": [{\"colorbar\": {\"outlinewidth\": 0, \"ticks\": \"\"}, \"colorscale\": [[0.0, \"#0d0887\"], [0.1111111111111111, \"#46039f\"], [0.2222222222222222, \"#7201a8\"], [0.3333333333333333, \"#9c179e\"], [0.4444444444444444, \"#bd3786\"], [0.5555555555555556, \"#d8576b\"], [0.6666666666666666, \"#ed7953\"], [0.7777777777777778, \"#fb9f3a\"], [0.8888888888888888, \"#fdca26\"], [1.0, \"#f0f921\"]], \"type\": \"heatmap\"}], \"heatmapgl\": [{\"colorbar\": {\"outlinewidth\": 0, \"ticks\": \"\"}, \"colorscale\": [[0.0, \"#0d0887\"], [0.1111111111111111, \"#46039f\"], [0.2222222222222222, \"#7201a8\"], [0.3333333333333333, \"#9c179e\"], [0.4444444444444444, \"#bd3786\"], [0.5555555555555556, \"#d8576b\"], [0.6666666666666666, \"#ed7953\"], [0.7777777777777778, \"#fb9f3a\"], [0.8888888888888888, \"#fdca26\"], [1.0, \"#f0f921\"]], \"type\": \"heatmapgl\"}], \"histogram\": [{\"marker\": {\"colorbar\": {\"outlinewidth\": 0, \"ticks\": \"\"}}, \"type\": \"histogram\"}], \"histogram2d\": [{\"colorbar\": {\"outlinewidth\": 0, \"ticks\": \"\"}, \"colorscale\": [[0.0, \"#0d0887\"], [0.1111111111111111, \"#46039f\"], [0.2222222222222222, \"#7201a8\"], [0.3333333333333333, \"#9c179e\"], [0.4444444444444444, \"#bd3786\"], [0.5555555555555556, \"#d8576b\"], [0.6666666666666666, \"#ed7953\"], [0.7777777777777778, \"#fb9f3a\"], [0.8888888888888888, \"#fdca26\"], [1.0, \"#f0f921\"]], \"type\": \"histogram2d\"}], \"histogram2dcontour\": [{\"colorbar\": {\"outlinewidth\": 0, \"ticks\": \"\"}, \"colorscale\": [[0.0, \"#0d0887\"], [0.1111111111111111, \"#46039f\"], [0.2222222222222222, \"#7201a8\"], [0.3333333333333333, \"#9c179e\"], [0.4444444444444444, \"#bd3786\"], [0.5555555555555556, \"#d8576b\"], [0.6666666666666666, \"#ed7953\"], [0.7777777777777778, \"#fb9f3a\"], [0.8888888888888888, \"#fdca26\"], [1.0, \"#f0f921\"]], \"type\": \"histogram2dcontour\"}], \"mesh3d\": [{\"colorbar\": {\"outlinewidth\": 0, \"ticks\": \"\"}, \"type\": \"mesh3d\"}], \"parcoords\": [{\"line\": {\"colorbar\": {\"outlinewidth\": 0, \"ticks\": \"\"}}, \"type\": \"parcoords\"}], \"pie\": [{\"automargin\": true, \"type\": \"pie\"}], \"scatter\": [{\"marker\": {\"colorbar\": {\"outlinewidth\": 0, \"ticks\": \"\"}}, \"type\": \"scatter\"}], \"scatter3d\": [{\"line\": {\"colorbar\": {\"outlinewidth\": 0, \"ticks\": \"\"}}, \"marker\": {\"colorbar\": {\"outlinewidth\": 0, \"ticks\": \"\"}}, \"type\": \"scatter3d\"}], \"scattercarpet\": [{\"marker\": {\"colorbar\": {\"outlinewidth\": 0, \"ticks\": \"\"}}, \"type\": \"scattercarpet\"}], \"scattergeo\": [{\"marker\": {\"colorbar\": {\"outlinewidth\": 0, \"ticks\": \"\"}}, \"type\": \"scattergeo\"}], \"scattergl\": [{\"marker\": {\"colorbar\": {\"outlinewidth\": 0, \"ticks\": \"\"}}, \"type\": \"scattergl\"}], \"scattermapbox\": [{\"marker\": {\"colorbar\": {\"outlinewidth\": 0, \"ticks\": \"\"}}, \"type\": \"scattermapbox\"}], \"scatterpolar\": [{\"marker\": {\"colorbar\": {\"outlinewidth\": 0, \"ticks\": \"\"}}, \"type\": \"scatterpolar\"}], \"scatterpolargl\": [{\"marker\": {\"colorbar\": {\"outlinewidth\": 0, \"ticks\": \"\"}}, \"type\": \"scatterpolargl\"}], \"scatterternary\": [{\"marker\": {\"colorbar\": {\"outlinewidth\": 0, \"ticks\": \"\"}}, \"type\": \"scatterternary\"}], \"surface\": [{\"colorbar\": {\"outlinewidth\": 0, \"ticks\": \"\"}, \"colorscale\": [[0.0, \"#0d0887\"], [0.1111111111111111, \"#46039f\"], [0.2222222222222222, \"#7201a8\"], [0.3333333333333333, \"#9c179e\"], [0.4444444444444444, \"#bd3786\"], [0.5555555555555556, \"#d8576b\"], [0.6666666666666666, \"#ed7953\"], [0.7777777777777778, \"#fb9f3a\"], [0.8888888888888888, \"#fdca26\"], [1.0, \"#f0f921\"]], \"type\": \"surface\"}], \"table\": [{\"cells\": {\"fill\": {\"color\": \"#EBF0F8\"}, \"line\": {\"color\": \"white\"}}, \"header\": {\"fill\": {\"color\": \"#C8D4E3\"}, \"line\": {\"color\": \"white\"}}, \"type\": \"table\"}]}, \"layout\": {\"annotationdefaults\": {\"arrowcolor\": \"#2a3f5f\", \"arrowhead\": 0, \"arrowwidth\": 1}, \"coloraxis\": {\"colorbar\": {\"outlinewidth\": 0, \"ticks\": \"\"}}, \"colorscale\": {\"diverging\": [[0, \"#8e0152\"], [0.1, \"#c51b7d\"], [0.2, \"#de77ae\"], [0.3, \"#f1b6da\"], [0.4, \"#fde0ef\"], [0.5, \"#f7f7f7\"], [0.6, \"#e6f5d0\"], [0.7, \"#b8e186\"], [0.8, \"#7fbc41\"], [0.9, \"#4d9221\"], [1, \"#276419\"]], \"sequential\": [[0.0, \"#0d0887\"], [0.1111111111111111, \"#46039f\"], [0.2222222222222222, \"#7201a8\"], [0.3333333333333333, \"#9c179e\"], [0.4444444444444444, \"#bd3786\"], [0.5555555555555556, \"#d8576b\"], [0.6666666666666666, \"#ed7953\"], [0.7777777777777778, \"#fb9f3a\"], [0.8888888888888888, \"#fdca26\"], [1.0, \"#f0f921\"]], \"sequentialminus\": [[0.0, \"#0d0887\"], [0.1111111111111111, \"#46039f\"], [0.2222222222222222, \"#7201a8\"], [0.3333333333333333, \"#9c179e\"], [0.4444444444444444, \"#bd3786\"], [0.5555555555555556, \"#d8576b\"], [0.6666666666666666, \"#ed7953\"], [0.7777777777777778, \"#fb9f3a\"], [0.8888888888888888, \"#fdca26\"], [1.0, \"#f0f921\"]]}, \"colorway\": [\"#636efa\", \"#EF553B\", \"#00cc96\", \"#ab63fa\", \"#FFA15A\", \"#19d3f3\", \"#FF6692\", \"#B6E880\", \"#FF97FF\", \"#FECB52\"], \"font\": {\"color\": \"#2a3f5f\"}, \"geo\": {\"bgcolor\": \"white\", \"lakecolor\": \"white\", \"landcolor\": \"#E5ECF6\", \"showlakes\": true, \"showland\": true, \"subunitcolor\": \"white\"}, \"hoverlabel\": {\"align\": \"left\"}, \"hovermode\": \"closest\", \"mapbox\": {\"style\": \"light\"}, \"paper_bgcolor\": \"white\", \"plot_bgcolor\": \"#E5ECF6\", \"polar\": {\"angularaxis\": {\"gridcolor\": \"white\", \"linecolor\": \"white\", \"ticks\": \"\"}, \"bgcolor\": \"#E5ECF6\", \"radialaxis\": {\"gridcolor\": \"white\", \"linecolor\": \"white\", \"ticks\": \"\"}}, \"scene\": {\"xaxis\": {\"backgroundcolor\": \"#E5ECF6\", \"gridcolor\": \"white\", \"gridwidth\": 2, \"linecolor\": \"white\", \"showbackground\": true, \"ticks\": \"\", \"zerolinecolor\": \"white\"}, \"yaxis\": {\"backgroundcolor\": \"#E5ECF6\", \"gridcolor\": \"white\", \"gridwidth\": 2, \"linecolor\": \"white\", \"showbackground\": true, \"ticks\": \"\", \"zerolinecolor\": \"white\"}, \"zaxis\": {\"backgroundcolor\": \"#E5ECF6\", \"gridcolor\": \"white\", \"gridwidth\": 2, \"linecolor\": \"white\", \"showbackground\": true, \"ticks\": \"\", \"zerolinecolor\": \"white\"}}, \"shapedefaults\": {\"line\": {\"color\": \"#2a3f5f\"}}, \"ternary\": {\"aaxis\": {\"gridcolor\": \"white\", \"linecolor\": \"white\", \"ticks\": \"\"}, \"baxis\": {\"gridcolor\": \"white\", \"linecolor\": \"white\", \"ticks\": \"\"}, \"bgcolor\": \"#E5ECF6\", \"caxis\": {\"gridcolor\": \"white\", \"linecolor\": \"white\", \"ticks\": \"\"}}, \"title\": {\"x\": 0.05}, \"xaxis\": {\"automargin\": true, \"gridcolor\": \"white\", \"linecolor\": \"white\", \"ticks\": \"\", \"title\": {\"standoff\": 15}, \"zerolinecolor\": \"white\", \"zerolinewidth\": 2}, \"yaxis\": {\"automargin\": true, \"gridcolor\": \"white\", \"linecolor\": \"white\", \"ticks\": \"\", \"title\": {\"standoff\": 15}, \"zerolinecolor\": \"white\", \"zerolinewidth\": 2}}}, \"title\": {\"text\": \"Average Sale Price Per Square Foot and Gross Rent in San Francisco\"}, \"width\": 1000},                        {\"responsive\": true}                    ).then(function(){\n",
       "                            \n",
       "var gd = document.getElementById('0f7b5d71-51cd-4dd6-b08c-5641cda90d94');\n",
       "var x = new MutationObserver(function (mutations, observer) {{\n",
       "        var display = window.getComputedStyle(gd).display;\n",
       "        if (!display || display === 'none') {{\n",
       "            console.log([gd, 'removed!']);\n",
       "            Plotly.purge(gd);\n",
       "            observer.disconnect();\n",
       "        }}\n",
       "}});\n",
       "\n",
       "// Listen for the removal of the full notebook cells\n",
       "var notebookContainer = gd.closest('#notebook-container');\n",
       "if (notebookContainer) {{\n",
       "    x.observe(notebookContainer, {childList: true});\n",
       "}}\n",
       "\n",
       "// Listen for the clearing of the current output cell\n",
       "var outputEl = gd.closest('.output');\n",
       "if (outputEl) {{\n",
       "    x.observe(outputEl, {childList: true});\n",
       "}}\n",
       "\n",
       "                        })                };                });            </script>        </div>"
      ]
     },
     "metadata": {},
     "output_type": "display_data"
    }
   ],
   "source": [
    "# Create a scatter mapbox to analyze neighborhood info\n",
    "neighborhood_scatter = px.scatter_mapbox(\n",
    "    hood_location,\n",
    "    lat=\"Lat\",\n",
    "    lon=\"Lon\",\n",
    "    size=\"gross_rent\",\n",
    "    color=\"gross_rent\",\n",
    "    color_continuous_scale=px.colors.cyclical.IceFire,\n",
    "    title=\"Average Sale Price Per Square Foot and Gross Rent in San Francisco\",\n",
    "    zoom=10.5,\n",
    "    width=1000,\n",
    ")\n",
    "\n",
    "neighborhood_scatter"
   ]
  },
  {
   "cell_type": "code",
   "execution_count": null,
   "metadata": {},
   "outputs": [],
   "source": []
  }
 ],
 "metadata": {
  "file_extension": ".py",
  "kernelspec": {
   "display_name": "Python [conda env:pyvizenv] *",
   "language": "python",
   "name": "conda-env-pyvizenv-py"
  },
  "language_info": {
   "codemirror_mode": {
    "name": "ipython",
    "version": 3
   },
   "file_extension": ".py",
   "mimetype": "text/x-python",
   "name": "python",
   "nbconvert_exporter": "python",
   "pygments_lexer": "ipython3",
   "version": "3.7.7"
  },
  "mimetype": "text/x-python",
  "name": "python",
  "npconvert_exporter": "python",
  "pygments_lexer": "ipython3",
  "version": 3
 },
 "nbformat": 4,
 "nbformat_minor": 4
}
